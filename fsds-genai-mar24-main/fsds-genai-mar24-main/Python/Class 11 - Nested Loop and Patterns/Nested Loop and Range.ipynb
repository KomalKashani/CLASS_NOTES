{
 "cells": [
  {
   "cell_type": "markdown",
   "id": "fb0e0f59-c39d-4339-a28f-d5c90463dfa1",
   "metadata": {},
   "source": [
    "# Write a program to accept a name from the user and output it back by removing all vowels in it"
   ]
  },
  {
   "cell_type": "code",
   "execution_count": 2,
   "id": "464fcbdd-fe8d-4c2c-9b50-f6be27407642",
   "metadata": {
    "tags": []
   },
   "outputs": [
    {
     "name": "stdin",
     "output_type": "stream",
     "text": [
      "enter your name mayank\n"
     ]
    },
    {
     "data": {
      "text/plain": [
       "[1, 2, 3, 4]"
      ]
     },
     "execution_count": 2,
     "metadata": {},
     "output_type": "execute_result"
    }
   ],
   "source": [
    "name = input(\"enter your name\")\n",
    "\n",
    "\n",
    "\"mayank\"\n",
    "[1,2,3,4]\n"
   ]
  },
  {
   "cell_type": "code",
   "execution_count": 3,
   "id": "6d985f82-81f9-4d7a-aecd-b2cdf046a6ec",
   "metadata": {
    "tags": []
   },
   "outputs": [
    {
     "data": {
      "text/plain": [
       "'mynk'"
      ]
     },
     "execution_count": 3,
     "metadata": {},
     "output_type": "execute_result"
    }
   ],
   "source": [
    "ans = \"\"\n",
    "\n",
    "for alphabet in name:\n",
    "    if alphabet in \"aeiou\" or alphabet in \"AEIOU\":\n",
    "        continue\n",
    "    ans = ans + alphabet\n",
    "    \n",
    "\n",
    "ans"
   ]
  },
  {
   "cell_type": "code",
   "execution_count": null,
   "id": "d10a7668-1438-4941-a340-798547eed7bf",
   "metadata": {},
   "outputs": [],
   "source": []
  },
  {
   "cell_type": "code",
   "execution_count": null,
   "id": "796d5a65-538a-4cf9-ad7d-495f347504b7",
   "metadata": {},
   "outputs": [],
   "source": []
  },
  {
   "cell_type": "markdown",
   "id": "7c7b0698-29ec-4e2d-b43a-59e7f14b3fb3",
   "metadata": {
    "tags": []
   },
   "source": [
    "# write a program to take a positive number from user and find the sum of natural numbers till that number (included)"
   ]
  },
  {
   "cell_type": "code",
   "execution_count": 7,
   "id": "4783bfa4-136a-4b39-bf6a-dd12f536b9bb",
   "metadata": {
    "tags": []
   },
   "outputs": [
    {
     "name": "stdin",
     "output_type": "stream",
     "text": [
      "Enter the number::  10\n"
     ]
    },
    {
     "name": "stdout",
     "output_type": "stream",
     "text": [
      "sum is 55\n"
     ]
    }
   ],
   "source": [
    "# Saurav\n",
    "\n",
    "num = int(input(\"Enter the number:: \"))\n",
    "result = 0\n",
    "\n",
    "for i in range(1, num+1):\n",
    "    result += i\n",
    "    \n",
    "print(f\"sum is {result}\")\n",
    "\n"
   ]
  },
  {
   "cell_type": "code",
   "execution_count": 17,
   "id": "99323bdf-a523-487b-bca7-48337eb11ecf",
   "metadata": {
    "tags": []
   },
   "outputs": [
    {
     "name": "stdin",
     "output_type": "stream",
     "text": [
      "Enter a number:  6\n"
     ]
    },
    {
     "name": "stdout",
     "output_type": "stream",
     "text": [
      "The sum of first n natural numbers is 22\n"
     ]
    }
   ],
   "source": [
    "n=int(input(\"Enter a number: \"))\n",
    "sum1 = 1\n",
    "while(n > 0):\n",
    "    sum1=sum1+n\n",
    "    n=n-1\n",
    "print(\"The sum of first n natural numbers is\",sum1)\n",
    "\n",
    "\n"
   ]
  },
  {
   "cell_type": "code",
   "execution_count": 12,
   "id": "7351ae0b-da47-4f24-afbb-3c6757c2eb53",
   "metadata": {
    "tags": []
   },
   "outputs": [
    {
     "data": {
      "text/plain": [
       "55"
      ]
     },
     "execution_count": 12,
     "metadata": {},
     "output_type": "execute_result"
    }
   ],
   "source": [
    "start = 1\n",
    "\n",
    "ans = 0\n",
    "n = 10\n",
    "\n",
    "\n",
    "while(start !=n+1):\n",
    "    ans += start\n",
    "    start = start + 1\n",
    "    \n",
    "ans"
   ]
  },
  {
   "cell_type": "markdown",
   "id": "40963d71-10c4-4162-bf8c-c5a065a57683",
   "metadata": {},
   "source": [
    "# take an input string from the user and check if its a palindrome"
   ]
  },
  {
   "cell_type": "code",
   "execution_count": 13,
   "id": "01e02139-cc78-41ef-869b-e45dd48a33de",
   "metadata": {
    "tags": []
   },
   "outputs": [
    {
     "name": "stdin",
     "output_type": "stream",
     "text": [
      "Enter a name nitin\n"
     ]
    },
    {
     "name": "stdout",
     "output_type": "stream",
     "text": [
      "Its a palindrome\n"
     ]
    }
   ],
   "source": [
    "# Geetha\n",
    "\n",
    "name = input(\"Enter a name\")\n",
    "start = 0\n",
    "end = len(name) - 1\n",
    "is_palindrome = 1\n",
    "\n",
    "while (start < end):\n",
    "    if name[start] != name[end]:\n",
    "        is_palindrome = 0\n",
    "        break\n",
    "    start += 1\n",
    "    end -= 1\n",
    "\n",
    "    \n",
    "    \n",
    "if is_palindrome == 0:\n",
    "    print(\"Not a palindrome\")\n",
    "else:\n",
    "    print(\"Its a palindrome\")"
   ]
  },
  {
   "cell_type": "code",
   "execution_count": null,
   "id": "81c04d65-8852-479a-8bf8-60385cf248e0",
   "metadata": {},
   "outputs": [],
   "source": []
  },
  {
   "cell_type": "code",
   "execution_count": null,
   "id": "574b781b-d896-485d-abaa-131aa16fe2ed",
   "metadata": {},
   "outputs": [],
   "source": [
    "# write a program to take a number from user and find its factorial\n",
    "\n",
    "4 = 1* 2* 3 * 4 = 24\n",
    "\n",
    "3 = 3* 2* 1= 6"
   ]
  },
  {
   "cell_type": "code",
   "execution_count": 14,
   "id": "4fa6acb6-ece1-4eaf-b8d7-63dda5b561fe",
   "metadata": {
    "tags": []
   },
   "outputs": [
    {
     "name": "stdin",
     "output_type": "stream",
     "text": [
      "Enter a integer 5\n"
     ]
    },
    {
     "name": "stdout",
     "output_type": "stream",
     "text": [
      "The factorial of 5 is 120\n"
     ]
    }
   ],
   "source": [
    "number = int(input('Enter a integer'))\n",
    "tempNumber = number\n",
    "fact = 1\n",
    "\n",
    "while tempNumber > 0 :\n",
    "    fact *= tempNumber\n",
    "    tempNumber = tempNumber - 1\n",
    "    \n",
    "print('The factorial of {} is {}'.format(number,fact))"
   ]
  },
  {
   "cell_type": "code",
   "execution_count": null,
   "id": "75f67fb2-a5fe-4d5d-a565-4b20a38bdf68",
   "metadata": {},
   "outputs": [],
   "source": []
  },
  {
   "cell_type": "code",
   "execution_count": null,
   "id": "b927972d-e1f0-44bd-90c8-ed2a7901878b",
   "metadata": {},
   "outputs": [],
   "source": []
  },
  {
   "cell_type": "code",
   "execution_count": 18,
   "id": "8c8e05d0-b9f6-4058-a725-8a45b39134ce",
   "metadata": {
    "tags": []
   },
   "outputs": [
    {
     "data": {
      "text/plain": [
       "120"
      ]
     },
     "execution_count": 18,
     "metadata": {},
     "output_type": "execute_result"
    }
   ],
   "source": [
    "number = 5\n",
    "\n",
    "start = 1\n",
    "ans = 1\n",
    "\n",
    "while (start <=number):\n",
    "    ans= ans*start\n",
    "    start +=1\n",
    "\n",
    "ans"
   ]
  },
  {
   "cell_type": "code",
   "execution_count": null,
   "id": "ae55a4db-c5cb-4905-930f-c06697c93f97",
   "metadata": {},
   "outputs": [],
   "source": []
  },
  {
   "cell_type": "code",
   "execution_count": null,
   "id": "dd46aea6-9395-45e9-95dd-f7199095949f",
   "metadata": {},
   "outputs": [],
   "source": [
    "# For loop "
   ]
  },
  {
   "cell_type": "code",
   "execution_count": null,
   "id": "b1a07b7b-a13e-463d-a086-2678d735a704",
   "metadata": {},
   "outputs": [],
   "source": [
    "# Iterable / Sequence"
   ]
  },
  {
   "cell_type": "code",
   "execution_count": 19,
   "id": "d8cb4776-5d18-4385-adf4-039870ef04d4",
   "metadata": {
    "tags": []
   },
   "outputs": [],
   "source": [
    "\n",
    "\n",
    "str1 = \"mayank\"  # string   sequence\n",
    "l1 = ['m','a','y','a','n','k'] # list        sequence\n",
    "t1 = ('m','a','y','a','n','k') # tuple       sequence\n",
    "\n",
    "s1 = {'m','a','y','a','n','k'}  # set   is not a sequence but it is a iterable\n"
   ]
  },
  {
   "cell_type": "code",
   "execution_count": 24,
   "id": "7b44a20f-bf8f-45c5-8a52-d60fbcca9667",
   "metadata": {
    "tags": []
   },
   "outputs": [
    {
     "name": "stdout",
     "output_type": "stream",
     "text": [
      "m\n",
      "a\n",
      "y\n",
      "a\n",
      "n\n",
      "k\n"
     ]
    }
   ],
   "source": [
    "for eachElem in str1 :\n",
    "    print (eachElem)"
   ]
  },
  {
   "cell_type": "code",
   "execution_count": 25,
   "id": "498ed119-6e4f-4452-9d42-80fb718ea502",
   "metadata": {
    "tags": []
   },
   "outputs": [
    {
     "name": "stdout",
     "output_type": "stream",
     "text": [
      "m\n",
      "a\n",
      "y\n",
      "a\n",
      "n\n",
      "k\n"
     ]
    }
   ],
   "source": [
    "for eachElem in t1 :\n",
    "    print (eachElem)"
   ]
  },
  {
   "cell_type": "code",
   "execution_count": 26,
   "id": "2a3a2edb-e4e5-40fd-9958-f60390232791",
   "metadata": {
    "tags": []
   },
   "outputs": [
    {
     "name": "stdout",
     "output_type": "stream",
     "text": [
      "m\n",
      "a\n",
      "y\n",
      "a\n",
      "n\n",
      "k\n"
     ]
    }
   ],
   "source": [
    "for eachElem in l1 :\n",
    "    print (eachElem)"
   ]
  },
  {
   "cell_type": "code",
   "execution_count": 27,
   "id": "6b0be72d-e158-49a5-9def-59252f277e3b",
   "metadata": {
    "tags": []
   },
   "outputs": [
    {
     "name": "stdout",
     "output_type": "stream",
     "text": [
      "y\n",
      "n\n",
      "a\n",
      "m\n",
      "k\n"
     ]
    }
   ],
   "source": [
    "for eachElem in s1 :\n",
    "    print (eachElem)"
   ]
  },
  {
   "cell_type": "code",
   "execution_count": null,
   "id": "b3dc8b9e-b089-4e66-bf72-ab93a4c4a934",
   "metadata": {},
   "outputs": [],
   "source": []
  },
  {
   "cell_type": "code",
   "execution_count": null,
   "id": "e3ee8567-1d3f-4c21-b56f-b06654c9c1b7",
   "metadata": {},
   "outputs": [],
   "source": []
  },
  {
   "cell_type": "markdown",
   "id": "d7413548-058e-406c-956d-3d16f5d23103",
   "metadata": {},
   "source": [
    "# Range Function"
   ]
  },
  {
   "cell_type": "code",
   "execution_count": 28,
   "id": "e671f8ee-3ab4-40a4-b2df-5afcc2e219f8",
   "metadata": {
    "tags": []
   },
   "outputs": [],
   "source": [
    "# range with 1 argument"
   ]
  },
  {
   "cell_type": "code",
   "execution_count": 45,
   "id": "fc080c53-bbc5-40cb-87b2-fdc146a78c9e",
   "metadata": {
    "tags": []
   },
   "outputs": [
    {
     "data": {
      "text/plain": [
       "range(0, 5)"
      ]
     },
     "execution_count": 45,
     "metadata": {},
     "output_type": "execute_result"
    }
   ],
   "source": [
    "\n",
    "\n",
    "'''\n",
    "\n",
    "Return an object that produces a sequence of integers from start (inclusive)\n",
    "to stop (exclusive) by step.  range(i, j) produces i, i+1, i+2, ..., j-1.\n",
    "start defaults to 0, and stop is omitted!  range(4) produces 0, 1, 2, 3.\n",
    "These are exactly the valid indices for a list of 4 elements.\n",
    "When step is given, it specifies the increment (or decrement).\n",
    "\n",
    "'''\n",
    "\n",
    "# start by default is 0\n",
    "# step by default is 1\n",
    "\n",
    "range(5)"
   ]
  },
  {
   "cell_type": "code",
   "execution_count": 30,
   "id": "f138c97d-1270-439e-8b07-f948df9b9265",
   "metadata": {
    "tags": []
   },
   "outputs": [
    {
     "data": {
      "text/plain": [
       "[0, 1, 2, 3, 4]"
      ]
     },
     "execution_count": 30,
     "metadata": {},
     "output_type": "execute_result"
    }
   ],
   "source": [
    "list(range(5))"
   ]
  },
  {
   "cell_type": "code",
   "execution_count": 34,
   "id": "2f2a4200-ac21-4d13-bce8-51a68e8baab8",
   "metadata": {
    "tags": []
   },
   "outputs": [
    {
     "data": {
      "text/plain": [
       "(0, 1, 2, 3, 4)"
      ]
     },
     "execution_count": 34,
     "metadata": {},
     "output_type": "execute_result"
    }
   ],
   "source": [
    "tuple(range(5))"
   ]
  },
  {
   "cell_type": "code",
   "execution_count": 31,
   "id": "ef378535-e382-4a16-94c3-38795cabcf9b",
   "metadata": {
    "tags": []
   },
   "outputs": [
    {
     "data": {
      "text/plain": [
       "[0, 1, 2, 3, 4]"
      ]
     },
     "execution_count": 31,
     "metadata": {},
     "output_type": "execute_result"
    }
   ],
   "source": [
    "list(range(0,5,1))\n",
    "\n",
    "# range(5) ==== range(0,5,1)"
   ]
  },
  {
   "cell_type": "code",
   "execution_count": 35,
   "id": "e3f4fb51-46f4-4a57-b6f7-fbbaa70e690e",
   "metadata": {
    "tags": []
   },
   "outputs": [
    {
     "data": {
      "text/plain": [
       "range(0, 4, 2)"
      ]
     },
     "execution_count": 35,
     "metadata": {},
     "output_type": "execute_result"
    }
   ],
   "source": [
    "range(0,4,2)"
   ]
  },
  {
   "cell_type": "code",
   "execution_count": 36,
   "id": "d75822c8-a5af-4a8d-8cee-e0f582f13484",
   "metadata": {
    "tags": []
   },
   "outputs": [
    {
     "data": {
      "text/plain": [
       "[0, 2]"
      ]
     },
     "execution_count": 36,
     "metadata": {},
     "output_type": "execute_result"
    }
   ],
   "source": [
    "list(range(0,4,2))"
   ]
  },
  {
   "cell_type": "code",
   "execution_count": 37,
   "id": "b2194f28-146d-495f-b313-37110a11bbbc",
   "metadata": {
    "tags": []
   },
   "outputs": [
    {
     "data": {
      "text/plain": [
       "[0, 1, 2]"
      ]
     },
     "execution_count": 37,
     "metadata": {},
     "output_type": "execute_result"
    }
   ],
   "source": [
    "list(range(3))"
   ]
  },
  {
   "cell_type": "code",
   "execution_count": 39,
   "id": "49ef1b62-0169-4d73-9b7e-52000b70bb84",
   "metadata": {
    "tags": []
   },
   "outputs": [
    {
     "data": {
      "text/plain": [
       "range(0, -3)"
      ]
     },
     "execution_count": 39,
     "metadata": {},
     "output_type": "execute_result"
    }
   ],
   "source": [
    "range(-3)"
   ]
  },
  {
   "cell_type": "code",
   "execution_count": 38,
   "id": "3208ee0b-46f3-4c83-8f8e-cdb36c4cb4a2",
   "metadata": {
    "tags": []
   },
   "outputs": [
    {
     "data": {
      "text/plain": [
       "[]"
      ]
     },
     "execution_count": 38,
     "metadata": {},
     "output_type": "execute_result"
    }
   ],
   "source": [
    "list(range(-3))"
   ]
  },
  {
   "cell_type": "code",
   "execution_count": null,
   "id": "32a40eac-ede8-46ad-80a6-b2531f6e9add",
   "metadata": {},
   "outputs": [],
   "source": []
  },
  {
   "cell_type": "code",
   "execution_count": 40,
   "id": "1be2eca3-750d-496b-bf19-4ffa4f4a3efa",
   "metadata": {
    "tags": []
   },
   "outputs": [
    {
     "data": {
      "text/plain": [
       "[5, 6, 7]"
      ]
     },
     "execution_count": 40,
     "metadata": {},
     "output_type": "execute_result"
    }
   ],
   "source": [
    "list(range(5,8))"
   ]
  },
  {
   "cell_type": "code",
   "execution_count": 41,
   "id": "aceab851-12cf-4ee3-a335-a254fb6ac5fc",
   "metadata": {
    "tags": []
   },
   "outputs": [
    {
     "data": {
      "text/plain": [
       "[-7, -6]"
      ]
     },
     "execution_count": 41,
     "metadata": {},
     "output_type": "execute_result"
    }
   ],
   "source": [
    "list(range(-7,-5))"
   ]
  },
  {
   "cell_type": "code",
   "execution_count": 42,
   "id": "ea3b69c8-e5c6-49dc-84fe-7552a8bc36dc",
   "metadata": {
    "tags": []
   },
   "outputs": [
    {
     "data": {
      "text/plain": [
       "[]"
      ]
     },
     "execution_count": 42,
     "metadata": {},
     "output_type": "execute_result"
    }
   ],
   "source": [
    "list(range(10,1))"
   ]
  },
  {
   "cell_type": "code",
   "execution_count": 43,
   "id": "b15b4d63-334d-43c7-a4fc-cd7c82309e29",
   "metadata": {
    "tags": []
   },
   "outputs": [
    {
     "data": {
      "text/plain": [
       "[-2, -1, 0, 1]"
      ]
     },
     "execution_count": 43,
     "metadata": {},
     "output_type": "execute_result"
    }
   ],
   "source": [
    "list(range(-2,2))"
   ]
  },
  {
   "cell_type": "code",
   "execution_count": null,
   "id": "644147d3-eb6e-4f0b-a1ba-79724dd0c3ce",
   "metadata": {},
   "outputs": [],
   "source": []
  },
  {
   "cell_type": "code",
   "execution_count": 47,
   "id": "9cde793e-c3f3-4c71-add4-99e9bca8ae4b",
   "metadata": {
    "tags": []
   },
   "outputs": [
    {
     "data": {
      "text/plain": [
       "[1, 3, 5, 7, 9]"
      ]
     },
     "execution_count": 47,
     "metadata": {},
     "output_type": "execute_result"
    }
   ],
   "source": [
    "list(range(1,10,2))"
   ]
  },
  {
   "cell_type": "code",
   "execution_count": 46,
   "id": "7cd2db65-198a-4414-8062-1c88769841b0",
   "metadata": {
    "tags": []
   },
   "outputs": [
    {
     "name": "stdout",
     "output_type": "stream",
     "text": [
      "0\n",
      "2\n",
      "4\n",
      "6\n",
      "8\n"
     ]
    }
   ],
   "source": [
    "for num in range(0,10,2):\n",
    "    print(num)"
   ]
  },
  {
   "cell_type": "code",
   "execution_count": 48,
   "id": "d1a63585-c212-44f6-9966-1fe7e51e3a3a",
   "metadata": {
    "tags": []
   },
   "outputs": [
    {
     "data": {
      "text/plain": [
       "[7, 5, 3]"
      ]
     },
     "execution_count": 48,
     "metadata": {},
     "output_type": "execute_result"
    }
   ],
   "source": [
    "list(range(7,1,-2))"
   ]
  },
  {
   "cell_type": "code",
   "execution_count": 49,
   "id": "1c6f87cf-9a69-46ae-84f9-a346d7a920b1",
   "metadata": {
    "tags": []
   },
   "outputs": [
    {
     "data": {
      "text/plain": [
       "[5]"
      ]
     },
     "execution_count": 49,
     "metadata": {},
     "output_type": "execute_result"
    }
   ],
   "source": [
    "list(range(5,10,20))"
   ]
  },
  {
   "cell_type": "code",
   "execution_count": 54,
   "id": "1e288732-e1c6-4a1c-bfe5-2ca362893d8b",
   "metadata": {
    "tags": []
   },
   "outputs": [
    {
     "data": {
      "text/plain": [
       "[1, 2, 3, 4]"
      ]
     },
     "execution_count": 54,
     "metadata": {},
     "output_type": "execute_result"
    }
   ],
   "source": [
    "list(range(1,5))"
   ]
  },
  {
   "cell_type": "code",
   "execution_count": null,
   "id": "86b84157-26ef-4b02-ae3e-3bfbee16473d",
   "metadata": {},
   "outputs": [],
   "source": []
  },
  {
   "cell_type": "code",
   "execution_count": 59,
   "id": "686b2ab2-f9f3-4069-b632-0980c00ec6f8",
   "metadata": {
    "tags": []
   },
   "outputs": [
    {
     "name": "stdout",
     "output_type": "stream",
     "text": [
      "1\n",
      "2\n",
      "3\n",
      "4\n",
      "5\n",
      "15\n",
      "120\n"
     ]
    }
   ],
   "source": [
    "s =0 \n",
    "n = 5\n",
    "fact = 1\n",
    "\n",
    "for i in range(1,n+1):\n",
    "    print(i)\n",
    "    \n",
    "    s = i+s\n",
    "    fact = fact * (i)\n",
    "    \n",
    "print(s)\n",
    "print(fact)"
   ]
  },
  {
   "cell_type": "code",
   "execution_count": null,
   "id": "47088a0a-68cb-458c-a99b-62491e281153",
   "metadata": {},
   "outputs": [],
   "source": []
  },
  {
   "cell_type": "code",
   "execution_count": null,
   "id": "8897e39a-389c-422b-9da6-26b892a1920d",
   "metadata": {},
   "outputs": [],
   "source": []
  },
  {
   "cell_type": "code",
   "execution_count": null,
   "id": "4f381456-f7ad-4784-9bb9-c5be4dad3fc5",
   "metadata": {},
   "outputs": [],
   "source": []
  },
  {
   "cell_type": "code",
   "execution_count": null,
   "id": "81175073-ead1-4186-97a1-b9cf300ec6db",
   "metadata": {},
   "outputs": [],
   "source": [
    "# how to do palindrome problem using range function"
   ]
  },
  {
   "cell_type": "code",
   "execution_count": null,
   "id": "4987da3e-7d7b-415f-a18d-f5519524654b",
   "metadata": {},
   "outputs": [],
   "source": [
    "# You have to take a input from the user and print out a * pattern\n",
    "\n",
    "\n",
    "\n",
    "\n",
    "n = 3\n",
    "\n",
    "***\n",
    "***\n",
    "***\n",
    "\n",
    "n = 4\n",
    "\n",
    "****\n",
    "****\n",
    "****\n",
    "****\n"
   ]
  },
  {
   "cell_type": "markdown",
   "id": "e40c2f96-fc64-405d-acf1-540b16dcbb5f",
   "metadata": {},
   "source": [
    "# Nested Loop"
   ]
  },
  {
   "cell_type": "code",
   "execution_count": 60,
   "id": "a203ce99-299a-4c73-ac6c-8da7d4a71f85",
   "metadata": {
    "tags": []
   },
   "outputs": [
    {
     "name": "stdout",
     "output_type": "stream",
     "text": [
      "O\n",
      "O2\n",
      "O\n",
      "O2\n",
      "O\n",
      "O2\n"
     ]
    }
   ],
   "source": [
    "\n",
    "\n",
    "for outerLoop in range(3):\n",
    "    print(\"O\")\n",
    "    print(\"O2\")\n",
    "\n",
    "\n"
   ]
  },
  {
   "cell_type": "code",
   "execution_count": 61,
   "id": "d22b3d6b-6e1f-4692-918b-c9eb6eb26cba",
   "metadata": {
    "tags": []
   },
   "outputs": [
    {
     "name": "stdout",
     "output_type": "stream",
     "text": [
      "O\n",
      "I\n",
      "I\n",
      "O2\n",
      "O\n",
      "I\n",
      "I\n",
      "O2\n",
      "O\n",
      "I\n",
      "I\n",
      "O2\n"
     ]
    }
   ],
   "source": [
    "for outerLoop in range(3):\n",
    "    print(\"O\") # outer statement\n",
    "    for innerLoop in range(2):\n",
    "        print(\"I\") # inner statement\n",
    "    print(\"O2\")  # outer statement 2"
   ]
  },
  {
   "cell_type": "code",
   "execution_count": 63,
   "id": "915430b3-29b1-4c3c-a137-a188e96c8746",
   "metadata": {
    "tags": []
   },
   "outputs": [
    {
     "name": "stdout",
     "output_type": "stream",
     "text": [
      "hello\n",
      "hello2\n"
     ]
    }
   ],
   "source": [
    "print (\"hello\")\n",
    "\n",
    "print(\"hello2\")"
   ]
  },
  {
   "cell_type": "code",
   "execution_count": null,
   "id": "e05a8b91-1d53-4722-bd27-f5462d517449",
   "metadata": {},
   "outputs": [],
   "source": []
  },
  {
   "cell_type": "code",
   "execution_count": null,
   "id": "effd1a95-2e56-42ee-adf4-a5f39db89bf1",
   "metadata": {},
   "outputs": [],
   "source": [
    "# You have to take a input from the user and print out a * pattern\n",
    "\n",
    "\n",
    "\n",
    "\n",
    "n = 3\n",
    "\n",
    "***\n",
    "***\n",
    "***\n"
   ]
  },
  {
   "cell_type": "code",
   "execution_count": null,
   "id": "2f5ad1f1-c7d8-4384-9604-a00b62bf1ca3",
   "metadata": {},
   "outputs": [],
   "source": []
  },
  {
   "cell_type": "code",
   "execution_count": 68,
   "id": "7c7b6998-7754-4e5b-95a7-1ee6657f7dbc",
   "metadata": {
    "tags": []
   },
   "outputs": [
    {
     "name": "stdout",
     "output_type": "stream",
     "text": [
      "***"
     ]
    }
   ],
   "source": [
    "for j in range(3):\n",
    "    print('*',end=\"\")"
   ]
  },
  {
   "cell_type": "code",
   "execution_count": null,
   "id": "d476216e-9b48-4a8f-a9ef-3a4b1903c590",
   "metadata": {},
   "outputs": [],
   "source": []
  },
  {
   "cell_type": "code",
   "execution_count": 88,
   "id": "ff24d027-14ab-4b2d-9d8f-e2fdf4ca42c0",
   "metadata": {
    "tags": []
   },
   "outputs": [
    {
     "name": "stdout",
     "output_type": "stream",
     "text": [
      "1\n",
      "22\n",
      "333\n"
     ]
    }
   ],
   "source": [
    "n = 3\n",
    "\n",
    "for i in range(n):    # number of lines\n",
    "    for j in range(i+1):\n",
    "        print(i+1,end=\"\")\n",
    "    print(\"\")"
   ]
  },
  {
   "cell_type": "code",
   "execution_count": null,
   "id": "9a939f48-89c9-4cab-9a65-4740cc5fff75",
   "metadata": {},
   "outputs": [],
   "source": [
    "\n",
    "n=3\n",
    "111\n",
    "222\n",
    "333\n",
    "\n",
    "\n",
    "n=4\n",
    "1111\n",
    "2222\n",
    "3333\n",
    "4444"
   ]
  },
  {
   "cell_type": "code",
   "execution_count": 72,
   "id": "9942b1a1-7f2f-497f-870c-50f8de5d4bdb",
   "metadata": {
    "tags": []
   },
   "outputs": [
    {
     "name": "stdout",
     "output_type": "stream",
     "text": [
      "1111\n",
      "2222\n",
      "3333\n",
      "4444\n"
     ]
    }
   ],
   "source": [
    "n=4\n",
    "\n",
    "for outerLoop in range(n):\n",
    "    for innerLoop in range(n):\n",
    "        print(outerLoop+1,end=\"\")\n",
    "    print(\"\")"
   ]
  },
  {
   "cell_type": "code",
   "execution_count": 74,
   "id": "c7eb9222-e449-4ecd-955f-211e5439e2c2",
   "metadata": {
    "tags": []
   },
   "outputs": [
    {
     "name": "stdout",
     "output_type": "stream",
     "text": [
      "1111\n",
      "2222\n",
      "3333\n",
      "4444\n"
     ]
    }
   ],
   "source": [
    "n=4\n",
    "\n",
    "for outerLoop in range(n):\n",
    "    print(str(outerLoop+1) * n) \n",
    "    \n"
   ]
  },
  {
   "cell_type": "code",
   "execution_count": null,
   "id": "d73581d5-7848-4785-8c6c-1b07ca5535f5",
   "metadata": {},
   "outputs": [],
   "source": []
  },
  {
   "cell_type": "code",
   "execution_count": null,
   "id": "7511af51-84a0-4d48-bd30-576850f90a6f",
   "metadata": {},
   "outputs": [],
   "source": [
    "1  \n",
    "2 2  \n",
    "3 3 3  \n",
    "4 4 4 4  "
   ]
  },
  {
   "cell_type": "code",
   "execution_count": 75,
   "id": "a4601064-8d11-4292-a2b2-14b428c0c395",
   "metadata": {
    "tags": []
   },
   "outputs": [
    {
     "name": "stdout",
     "output_type": "stream",
     "text": [
      "1\n",
      "22\n",
      "333\n",
      "4444\n"
     ]
    }
   ],
   "source": [
    "n=4\n",
    "\n",
    "for outerLoop in range(n):\n",
    "    for innerLoop in range(outerLoop + 1):  # range(n)\n",
    "        print(outerLoop+1,end=\"\")\n",
    "    \n",
    "    print()"
   ]
  },
  {
   "cell_type": "code",
   "execution_count": null,
   "id": "48e73905-d065-4c56-9fad-f16b928fe880",
   "metadata": {},
   "outputs": [],
   "source": []
  },
  {
   "cell_type": "code",
   "execution_count": null,
   "id": "9de2d3b1-7991-45e0-96bc-3d2f458bfbfd",
   "metadata": {},
   "outputs": [],
   "source": [
    "1 1 1 1 1 \n",
    "2 2 2 2 \n",
    "3 3 3 \n",
    "4 4 \n",
    "5\n"
   ]
  },
  {
   "cell_type": "code",
   "execution_count": 99,
   "id": "e0a74a8f-81b1-4b6f-98ea-6ff54ca21539",
   "metadata": {
    "tags": []
   },
   "outputs": [
    {
     "name": "stdout",
     "output_type": "stream",
     "text": [
      "11111\n",
      "2222\n",
      "333\n",
      "44\n",
      "5\n"
     ]
    }
   ],
   "source": [
    "n=5\n",
    "\n",
    "for outerLoop in range(n):\n",
    "    for innerLoop in range(n-outerLoop):\n",
    "        print(outerLoop+1,end=\"\")\n",
    "    print()"
   ]
  },
  {
   "cell_type": "code",
   "execution_count": 101,
   "id": "55119ce1-72f5-4ba2-ad06-f084924f0b2e",
   "metadata": {
    "tags": []
   },
   "outputs": [
    {
     "name": "stdout",
     "output_type": "stream",
     "text": [
      "55555\n",
      "5555\n",
      "555\n",
      "55\n",
      "5\n"
     ]
    }
   ],
   "source": [
    "n=5\n",
    "\n",
    "for outerLoop in range(n):\n",
    "    for innerLoop in range(n-outerLoop):\n",
    "        print(n,end=\"\")\n",
    "    print()"
   ]
  },
  {
   "cell_type": "code",
   "execution_count": null,
   "id": "afbbfed5-858a-4f43-b656-12f291026814",
   "metadata": {},
   "outputs": [],
   "source": []
  },
  {
   "cell_type": "code",
   "execution_count": null,
   "id": "1d4cb2dc-6e8a-4182-a279-cf623035437a",
   "metadata": {},
   "outputs": [],
   "source": [
    "1 \n",
    "3 3 \n",
    "5 5 5 \n",
    "7 7 7 7 \n",
    "9 9 9 9 9"
   ]
  },
  {
   "cell_type": "code",
   "execution_count": 109,
   "id": "11226aa4-bacf-4cf3-8c95-0f6ab7919494",
   "metadata": {
    "tags": []
   },
   "outputs": [
    {
     "name": "stdout",
     "output_type": "stream",
     "text": [
      "1\n",
      "33\n",
      "555\n",
      "7777\n",
      "99999\n"
     ]
    }
   ],
   "source": [
    "n=5\n",
    "\n",
    "odd = 1\n",
    "\n",
    "for outerLoop in range(n):\n",
    "    for innerLoop in range(outerLoop+1):\n",
    "        print(odd,sep =' ',end=\"\")\n",
    "    odd = odd+2\n",
    "    print()"
   ]
  },
  {
   "cell_type": "code",
   "execution_count": null,
   "id": "50b19eaf-e9ab-43ed-b0de-8b947f7a4def",
   "metadata": {},
   "outputs": [],
   "source": []
  },
  {
   "cell_type": "code",
   "execution_count": null,
   "id": "97e4edf1-cb23-416a-bb12-baca78c2b36f",
   "metadata": {},
   "outputs": [],
   "source": []
  },
  {
   "cell_type": "code",
   "execution_count": null,
   "id": "4dc7ce92-c722-411d-a397-80db8f0fee4d",
   "metadata": {},
   "outputs": [],
   "source": []
  },
  {
   "cell_type": "code",
   "execution_count": 111,
   "id": "4d1c057f-b244-4fad-96e5-00f7a912db09",
   "metadata": {
    "tags": []
   },
   "outputs": [
    {
     "name": "stdin",
     "output_type": "stream",
     "text": [
      " 4\n"
     ]
    },
    {
     "name": "stdout",
     "output_type": "stream",
     "text": [
      "****"
     ]
    }
   ],
   "source": [
    "s=0\n",
    "inte=int(input())\n"
   ]
  },
  {
   "cell_type": "code",
   "execution_count": 115,
   "id": "2e80f40b-fa99-4c89-a483-799b445c310d",
   "metadata": {
    "tags": []
   },
   "outputs": [],
   "source": [
    "inte = 5\n",
    "\n",
    "for i in range(1,inte+1):\n",
    "    if s<inte:\n",
    "        print(\"*\",end=\"\")"
   ]
  },
  {
   "cell_type": "code",
   "execution_count": 116,
   "id": "3533788e-792d-41aa-b014-b58a11067b08",
   "metadata": {
    "tags": []
   },
   "outputs": [
    {
     "name": "stdout",
     "output_type": "stream",
     "text": [
      "1\n",
      "3\n",
      "6\n",
      "10\n"
     ]
    }
   ],
   "source": [
    "s =0 \n",
    "n = 5\n",
    "fact =1\n",
    "\n",
    "\n",
    "for i in range(1,n):\n",
    "    #print(i)\n",
    "    s = i + s\n",
    "    print(s)"
   ]
  },
  {
   "cell_type": "code",
   "execution_count": 117,
   "id": "7c6f5735-a549-4791-8a5f-c9e74fe491ea",
   "metadata": {
    "tags": []
   },
   "outputs": [
    {
     "name": "stdout",
     "output_type": "stream",
     "text": [
      "0\n",
      "120\n"
     ]
    }
   ],
   "source": [
    "s =0 \n",
    "n = 5\n",
    "fact =1\n",
    "\n",
    "\n",
    "for i in range(1,n):\n",
    "    #print(i)\n",
    "    fact = fact*(i+1)\n",
    "    \n",
    "print(s)\n",
    "print(fact)"
   ]
  }
 ],
 "metadata": {
  "kernelspec": {
   "display_name": "Python 3 (ipykernel)",
   "language": "python",
   "name": "python3"
  },
  "language_info": {
   "codemirror_mode": {
    "name": "ipython",
    "version": 3
   },
   "file_extension": ".py",
   "mimetype": "text/x-python",
   "name": "python",
   "nbconvert_exporter": "python",
   "pygments_lexer": "ipython3",
   "version": "3.11.5"
  }
 },
 "nbformat": 4,
 "nbformat_minor": 5
}
