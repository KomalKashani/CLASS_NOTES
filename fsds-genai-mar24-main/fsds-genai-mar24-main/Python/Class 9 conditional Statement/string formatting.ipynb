{
 "cells": [
  {
   "cell_type": "code",
   "execution_count": null,
   "id": "5bda8ee5-8bd1-477a-b6b5-41270c01b955",
   "metadata": {},
   "outputs": [],
   "source": [
    "# Write a program to take two numbers from user and add and subtract them.\n",
    "\n",
    "# WAP :- Write a program"
   ]
  },
  {
   "cell_type": "code",
   "execution_count": null,
   "id": "e850a353-0ed4-4d02-9ae7-4ddef7a89fda",
   "metadata": {},
   "outputs": [],
   "source": []
  },
  {
   "cell_type": "code",
   "execution_count": 1,
   "id": "11808432-fc9e-4622-a876-355fd9dbb602",
   "metadata": {
    "tags": []
   },
   "outputs": [
    {
     "name": "stdin",
     "output_type": "stream",
     "text": [
      "enter first number 5\n",
      "enter first number 10\n"
     ]
    }
   ],
   "source": [
    "a = input('enter first number') # Take input as a string\n",
    "b = input('enter first number')"
   ]
  },
  {
   "cell_type": "code",
   "execution_count": 2,
   "id": "212c64f9-f36a-4e65-bc71-f047d6b71c2a",
   "metadata": {
    "tags": []
   },
   "outputs": [
    {
     "data": {
      "text/plain": [
       "('5', '10')"
      ]
     },
     "execution_count": 2,
     "metadata": {},
     "output_type": "execute_result"
    }
   ],
   "source": [
    "a,b"
   ]
  },
  {
   "cell_type": "code",
   "execution_count": 3,
   "id": "8bf29420-7ee2-4301-8a95-ae52365b3f78",
   "metadata": {
    "tags": []
   },
   "outputs": [
    {
     "name": "stdout",
     "output_type": "stream",
     "text": [
      "510\n"
     ]
    }
   ],
   "source": [
    "print(a+b)"
   ]
  },
  {
   "cell_type": "code",
   "execution_count": 4,
   "id": "21857cec-846d-4259-90de-dcbfdca1bd22",
   "metadata": {
    "tags": []
   },
   "outputs": [
    {
     "ename": "TypeError",
     "evalue": "unsupported operand type(s) for -: 'str' and 'str'",
     "output_type": "error",
     "traceback": [
      "\u001b[0;31m---------------------------------------------------------------------------\u001b[0m",
      "\u001b[0;31mTypeError\u001b[0m                                 Traceback (most recent call last)",
      "Cell \u001b[0;32mIn[4], line 1\u001b[0m\n\u001b[0;32m----> 1\u001b[0m \u001b[38;5;28mprint\u001b[39m(a\u001b[38;5;241m-\u001b[39mb)\n",
      "\u001b[0;31mTypeError\u001b[0m: unsupported operand type(s) for -: 'str' and 'str'"
     ]
    }
   ],
   "source": [
    "print(a-b)"
   ]
  },
  {
   "cell_type": "code",
   "execution_count": null,
   "id": "c30e3d60-0f9c-40d2-8aac-7468294e8f1d",
   "metadata": {},
   "outputs": [],
   "source": []
  },
  {
   "cell_type": "code",
   "execution_count": 5,
   "id": "fb9689f2-0d61-48a4-b199-ea66b884fde8",
   "metadata": {
    "tags": []
   },
   "outputs": [
    {
     "name": "stdin",
     "output_type": "stream",
     "text": [
      "enter first number 5 10\n"
     ]
    },
    {
     "ename": "ValueError",
     "evalue": "invalid literal for int() with base 10: '5 10'",
     "output_type": "error",
     "traceback": [
      "\u001b[0;31m---------------------------------------------------------------------------\u001b[0m",
      "\u001b[0;31mValueError\u001b[0m                                Traceback (most recent call last)",
      "Cell \u001b[0;32mIn[5], line 1\u001b[0m\n\u001b[0;32m----> 1\u001b[0m a \u001b[38;5;241m=\u001b[39m \u001b[38;5;28mint\u001b[39m(\u001b[38;5;28minput\u001b[39m(\u001b[38;5;124m'\u001b[39m\u001b[38;5;124menter first number\u001b[39m\u001b[38;5;124m'\u001b[39m)) \u001b[38;5;66;03m# Take input as a string\u001b[39;00m\n\u001b[1;32m      2\u001b[0m b \u001b[38;5;241m=\u001b[39m \u001b[38;5;28mint\u001b[39m(\u001b[38;5;28minput\u001b[39m(\u001b[38;5;124m'\u001b[39m\u001b[38;5;124menter first number\u001b[39m\u001b[38;5;124m'\u001b[39m))\n",
      "\u001b[0;31mValueError\u001b[0m: invalid literal for int() with base 10: '5 10'"
     ]
    }
   ],
   "source": [
    "a = int(input('enter first number')) # Take input as a string\n",
    "b = int(input('enter first number'))"
   ]
  },
  {
   "cell_type": "code",
   "execution_count": 6,
   "id": "aac37ab2-3c5e-427d-a979-ce40bbe79376",
   "metadata": {
    "tags": []
   },
   "outputs": [
    {
     "name": "stdin",
     "output_type": "stream",
     "text": [
      "give first Number 5 10\n",
      "give second Number \n"
     ]
    }
   ],
   "source": [
    "first = input(\"give first Number\")\n",
    "second = input(\"give second Number\")"
   ]
  },
  {
   "cell_type": "code",
   "execution_count": 8,
   "id": "9539626c-42cf-401f-b5f0-403e8f4b6f23",
   "metadata": {
    "tags": []
   },
   "outputs": [
    {
     "data": {
      "text/plain": [
       "('5 10', '')"
      ]
     },
     "execution_count": 8,
     "metadata": {},
     "output_type": "execute_result"
    }
   ],
   "source": [
    "first,second"
   ]
  },
  {
   "cell_type": "code",
   "execution_count": 10,
   "id": "b99102f2-5360-40a2-8831-68c75e184dc7",
   "metadata": {
    "tags": []
   },
   "outputs": [
    {
     "data": {
      "text/plain": [
       "['5', '10']"
      ]
     },
     "execution_count": 10,
     "metadata": {},
     "output_type": "execute_result"
    }
   ],
   "source": [
    "first.split()"
   ]
  },
  {
   "cell_type": "code",
   "execution_count": 11,
   "id": "cbb4b99b-6312-4919-adfe-cb3270854b8e",
   "metadata": {
    "tags": []
   },
   "outputs": [
    {
     "name": "stdin",
     "output_type": "stream",
     "text": [
      "give number in one line 5@6@7\n"
     ]
    }
   ],
   "source": [
    "first2 = input(\"give number in one line\")"
   ]
  },
  {
   "cell_type": "code",
   "execution_count": 12,
   "id": "bfacf081-8365-433d-b7f7-b650fe7b58a3",
   "metadata": {
    "tags": []
   },
   "outputs": [
    {
     "data": {
      "text/plain": [
       "'5@6@7'"
      ]
     },
     "execution_count": 12,
     "metadata": {},
     "output_type": "execute_result"
    }
   ],
   "source": [
    "first2"
   ]
  },
  {
   "cell_type": "code",
   "execution_count": 19,
   "id": "7f5fd1cd-9579-405e-b78e-2f6a7fe2e78d",
   "metadata": {
    "tags": []
   },
   "outputs": [],
   "source": [
    "c,d,e = first2.split('@')"
   ]
  },
  {
   "cell_type": "code",
   "execution_count": 20,
   "id": "867da91b-cc2f-48e0-9b5c-9fb2968b29a3",
   "metadata": {
    "tags": []
   },
   "outputs": [
    {
     "data": {
      "text/plain": [
       "('5', '6', '7')"
      ]
     },
     "execution_count": 20,
     "metadata": {},
     "output_type": "execute_result"
    }
   ],
   "source": [
    "c,d,e"
   ]
  },
  {
   "cell_type": "code",
   "execution_count": 21,
   "id": "03440d74-aba2-4749-85c6-e88ed69b323a",
   "metadata": {
    "tags": []
   },
   "outputs": [
    {
     "ename": "ValueError",
     "evalue": "too many values to unpack (expected 2)",
     "output_type": "error",
     "traceback": [
      "\u001b[0;31m---------------------------------------------------------------------------\u001b[0m",
      "\u001b[0;31mValueError\u001b[0m                                Traceback (most recent call last)",
      "Cell \u001b[0;32mIn[21], line 1\u001b[0m\n\u001b[0;32m----> 1\u001b[0m c,d \u001b[38;5;241m=\u001b[39m first2\u001b[38;5;241m.\u001b[39msplit(\u001b[38;5;124m'\u001b[39m\u001b[38;5;124m@\u001b[39m\u001b[38;5;124m'\u001b[39m)\n",
      "\u001b[0;31mValueError\u001b[0m: too many values to unpack (expected 2)"
     ]
    }
   ],
   "source": [
    "c,d = first2.split('@')"
   ]
  },
  {
   "cell_type": "code",
   "execution_count": 15,
   "id": "ef0aa68b-6f6f-4d57-bb34-139a3c9672ec",
   "metadata": {
    "tags": []
   },
   "outputs": [
    {
     "name": "stdin",
     "output_type": "stream",
     "text": [
      "enter 1st num 5\n",
      "enter 2nd num 10\n"
     ]
    },
    {
     "name": "stdout",
     "output_type": "stream",
     "text": [
      "15\n"
     ]
    }
   ],
   "source": [
    "a=int(input(\"enter 1st num\"))      \n",
    "b=int(input(\"enter 2nd num\"))    \n",
    "sum=a+b     \n",
    "print(sum)"
   ]
  },
  {
   "cell_type": "code",
   "execution_count": 17,
   "id": "0d46b584-7a06-410a-9c5f-975194f1c30e",
   "metadata": {
    "tags": []
   },
   "outputs": [
    {
     "name": "stdin",
     "output_type": "stream",
     "text": [
      "Enter the A value 5\n",
      "Enter the  B value 10\n"
     ]
    },
    {
     "name": "stdout",
     "output_type": "stream",
     "text": [
      "Sum of two number =  15 \n",
      "\n"
     ]
    }
   ],
   "source": [
    "a = int(input(\"Enter the A value\"))\n",
    "b = int(input(\"Enter the  B value\"))\n",
    "add_part=int(a+b)\n",
    "print(\"Sum of two number = \",add_part,'\\n')"
   ]
  },
  {
   "cell_type": "code",
   "execution_count": 18,
   "id": "ad4a33e2-9d12-404e-840a-38685c26f8ac",
   "metadata": {
    "tags": []
   },
   "outputs": [
    {
     "name": "stdin",
     "output_type": "stream",
     "text": [
      " 5\n",
      " 10\n"
     ]
    },
    {
     "name": "stdout",
     "output_type": "stream",
     "text": [
      "15\n"
     ]
    }
   ],
   "source": [
    "a = int(input())\n",
    "b = int(input())\n",
    "print(a+b)"
   ]
  },
  {
   "cell_type": "code",
   "execution_count": null,
   "id": "a0bdc4a7-573e-46ac-81b0-a5910e432611",
   "metadata": {},
   "outputs": [],
   "source": []
  },
  {
   "cell_type": "code",
   "execution_count": null,
   "id": "b15a5235-d2e1-4808-9dc5-8af2ff574e4d",
   "metadata": {},
   "outputs": [],
   "source": []
  },
  {
   "cell_type": "markdown",
   "id": "43b51c4f-a52d-44a8-a717-7c733063afb6",
   "metadata": {
    "tags": []
   },
   "source": [
    "# WAP to take input from user his age,name and marks and show output as \n",
    "\n",
    "1. name in opposite direction ( reversed)\n",
    "2. age as how many years left in turning 100\n",
    "3. marks as how much are they out of 100 ( percentage )\n"
   ]
  },
  {
   "cell_type": "code",
   "execution_count": null,
   "id": "7c3baca5-a08b-42ca-ac18-ce90f14e18f4",
   "metadata": {},
   "outputs": [],
   "source": []
  },
  {
   "cell_type": "code",
   "execution_count": 28,
   "id": "3e6a133c-ca21-4128-9216-b677d6344800",
   "metadata": {
    "tags": []
   },
   "outputs": [
    {
     "name": "stdin",
     "output_type": "stream",
     "text": [
      " mayank\n",
      " 5\n",
      " 15\n"
     ]
    },
    {
     "name": "stdout",
     "output_type": "stream",
     "text": [
      "knayam\n",
      "95\n",
      "0.15\n"
     ]
    }
   ],
   "source": [
    "a = input()\n",
    "b = int(input())\n",
    "c = int(input())\n",
    "\n",
    "print(a[::-1])\n",
    "print(100-b)\n",
    "print(c/100)"
   ]
  },
  {
   "cell_type": "code",
   "execution_count": null,
   "id": "951ca65b-b8a0-4bbd-bdb4-f76515fcac97",
   "metadata": {},
   "outputs": [],
   "source": []
  },
  {
   "cell_type": "code",
   "execution_count": 30,
   "id": "180be3d4-b500-4ca4-9361-c88eae9ac0e9",
   "metadata": {
    "tags": []
   },
   "outputs": [
    {
     "name": "stdout",
     "output_type": "stream",
     "text": [
      "age out of 100 is 5\n"
     ]
    }
   ],
   "source": [
    "print(\"age out of 100 is \" + str(b))"
   ]
  },
  {
   "cell_type": "markdown",
   "id": "c95c5516-04a1-42bb-b5d3-7b9e76f621bf",
   "metadata": {
    "tags": []
   },
   "source": [
    "\n",
    "# Format Specifier"
   ]
  },
  {
   "cell_type": "code",
   "execution_count": 32,
   "id": "6675016a-9371-411e-a207-6a00f2b5155e",
   "metadata": {
    "tags": []
   },
   "outputs": [],
   "source": [
    "name = \"mayank\"\n",
    "age = 15"
   ]
  },
  {
   "cell_type": "code",
   "execution_count": 35,
   "id": "3a1eb00d-70e0-4688-b113-23eab16e6af5",
   "metadata": {
    "tags": []
   },
   "outputs": [
    {
     "name": "stdout",
     "output_type": "stream",
     "text": [
      "name is mayank and age is 15\n"
     ]
    }
   ],
   "source": [
    "print(\"name is %s and age is %d\" %(name,age))"
   ]
  },
  {
   "cell_type": "code",
   "execution_count": 36,
   "id": "dbf9555e-8087-408d-9dd7-da0ac479c14e",
   "metadata": {
    "tags": []
   },
   "outputs": [
    {
     "ename": "TypeError",
     "evalue": "not enough arguments for format string",
     "output_type": "error",
     "traceback": [
      "\u001b[0;31m---------------------------------------------------------------------------\u001b[0m",
      "\u001b[0;31mTypeError\u001b[0m                                 Traceback (most recent call last)",
      "Cell \u001b[0;32mIn[36], line 1\u001b[0m\n\u001b[0;32m----> 1\u001b[0m \u001b[38;5;28mprint\u001b[39m(\u001b[38;5;124m\"\u001b[39m\u001b[38;5;124mname is \u001b[39m\u001b[38;5;132;01m%s\u001b[39;00m\u001b[38;5;124m and age is \u001b[39m\u001b[38;5;132;01m%d\u001b[39;00m\u001b[38;5;124m\"\u001b[39m \u001b[38;5;241m%\u001b[39m(name))\n",
      "\u001b[0;31mTypeError\u001b[0m: not enough arguments for format string"
     ]
    }
   ],
   "source": [
    "print(\"name is %s and age is %d\" %(name))"
   ]
  },
  {
   "cell_type": "code",
   "execution_count": 37,
   "id": "fc980436-7561-4137-8a6d-b805524c072f",
   "metadata": {
    "tags": []
   },
   "outputs": [
    {
     "name": "stdout",
     "output_type": "stream",
     "text": [
      "name is mayank and age is 15\n"
     ]
    }
   ],
   "source": [
    "print(\"name is %s and age is %s\" %(name,age))"
   ]
  },
  {
   "cell_type": "code",
   "execution_count": 38,
   "id": "fc0342a4-d17c-495d-956b-4164c60e811d",
   "metadata": {
    "tags": []
   },
   "outputs": [
    {
     "ename": "TypeError",
     "evalue": "%d format: a real number is required, not str",
     "output_type": "error",
     "traceback": [
      "\u001b[0;31m---------------------------------------------------------------------------\u001b[0m",
      "\u001b[0;31mTypeError\u001b[0m                                 Traceback (most recent call last)",
      "Cell \u001b[0;32mIn[38], line 1\u001b[0m\n\u001b[0;32m----> 1\u001b[0m \u001b[38;5;28mprint\u001b[39m(\u001b[38;5;124m\"\u001b[39m\u001b[38;5;124mname is \u001b[39m\u001b[38;5;132;01m%d\u001b[39;00m\u001b[38;5;124m and age is \u001b[39m\u001b[38;5;132;01m%d\u001b[39;00m\u001b[38;5;124m\"\u001b[39m \u001b[38;5;241m%\u001b[39m(name,age))\n",
      "\u001b[0;31mTypeError\u001b[0m: %d format: a real number is required, not str"
     ]
    }
   ],
   "source": [
    "print(\"name is %d and age is %d\" %(name,age))"
   ]
  },
  {
   "cell_type": "code",
   "execution_count": null,
   "id": "0914f6de-7b1c-4bc0-be87-965ec6c0a875",
   "metadata": {},
   "outputs": [],
   "source": []
  },
  {
   "cell_type": "code",
   "execution_count": 39,
   "id": "5f525075-a648-4e2a-ae0d-38c0ce4a60b4",
   "metadata": {
    "tags": []
   },
   "outputs": [],
   "source": [
    "decNumber = 5.66463264"
   ]
  },
  {
   "cell_type": "code",
   "execution_count": 40,
   "id": "79267cc2-1df8-4eb8-a7df-e19141854c9e",
   "metadata": {
    "tags": []
   },
   "outputs": [
    {
     "name": "stdout",
     "output_type": "stream",
     "text": [
      "number is 5\n"
     ]
    }
   ],
   "source": [
    "print(\"number is %d\" %(decNumber))"
   ]
  },
  {
   "cell_type": "code",
   "execution_count": 41,
   "id": "01dc6fe8-0d94-45b1-b876-f5daffcf744e",
   "metadata": {
    "tags": []
   },
   "outputs": [
    {
     "name": "stdout",
     "output_type": "stream",
     "text": [
      "number is 5.664633\n"
     ]
    }
   ],
   "source": [
    "print(\"number is %f\" %(decNumber))"
   ]
  },
  {
   "cell_type": "code",
   "execution_count": 42,
   "id": "4d8f0d6a-8dee-4194-85a4-ce9a01328690",
   "metadata": {
    "tags": []
   },
   "outputs": [
    {
     "name": "stdout",
     "output_type": "stream",
     "text": [
      "number is 5.66463264\n"
     ]
    }
   ],
   "source": [
    "print(\"number is %s\" %(decNumber))"
   ]
  },
  {
   "cell_type": "code",
   "execution_count": 44,
   "id": "c2c9b357-3150-4f30-86e8-ebd7c26c8048",
   "metadata": {
    "tags": []
   },
   "outputs": [
    {
     "name": "stdout",
     "output_type": "stream",
     "text": [
      "number is 5.665\n"
     ]
    }
   ],
   "source": [
    "print(\"number is %0.3f\" %(decNumber))"
   ]
  },
  {
   "cell_type": "code",
   "execution_count": null,
   "id": "9b79fba9-8b15-439a-962b-ec10f95d8bbb",
   "metadata": {},
   "outputs": [],
   "source": []
  },
  {
   "cell_type": "markdown",
   "id": "c7520811-025e-4024-856b-b732ff100ff7",
   "metadata": {},
   "source": [
    "# Format Argument"
   ]
  },
  {
   "cell_type": "code",
   "execution_count": 45,
   "id": "4d343ee7-5523-4d88-a0b8-1d53645bbbcf",
   "metadata": {
    "tags": []
   },
   "outputs": [
    {
     "name": "stdout",
     "output_type": "stream",
     "text": [
      "my name is mayank and age is 15\n"
     ]
    }
   ],
   "source": [
    "print(\"my name is {} and age is {}\".format(name,age))"
   ]
  },
  {
   "cell_type": "code",
   "execution_count": 46,
   "id": "69e41dd5-2175-4aec-a87d-a175975449c8",
   "metadata": {
    "tags": []
   },
   "outputs": [
    {
     "name": "stdout",
     "output_type": "stream",
     "text": [
      "my name is mayank and age is 15\n"
     ]
    }
   ],
   "source": [
    "print(\"my name is {0} and age is {1}\".format(name,age))"
   ]
  },
  {
   "cell_type": "code",
   "execution_count": 47,
   "id": "cb380895-a465-4ed7-9383-f89ab8f1418d",
   "metadata": {
    "tags": []
   },
   "outputs": [
    {
     "name": "stdout",
     "output_type": "stream",
     "text": [
      "my name is mayank and age is mayank\n"
     ]
    }
   ],
   "source": [
    "print(\"my name is {0} and age is {0}\".format(name,age))"
   ]
  },
  {
   "cell_type": "code",
   "execution_count": 49,
   "id": "f2b309b2-922f-467b-8bb7-f39c6830418a",
   "metadata": {
    "tags": []
   },
   "outputs": [
    {
     "ename": "ValueError",
     "evalue": "cannot switch from automatic field numbering to manual field specification",
     "output_type": "error",
     "traceback": [
      "\u001b[0;31m---------------------------------------------------------------------------\u001b[0m",
      "\u001b[0;31mValueError\u001b[0m                                Traceback (most recent call last)",
      "Cell \u001b[0;32mIn[49], line 1\u001b[0m\n\u001b[0;32m----> 1\u001b[0m \u001b[38;5;28mprint\u001b[39m(\u001b[38;5;124m\"\u001b[39m\u001b[38;5;124mmy name is \u001b[39m\u001b[38;5;132;01m{}\u001b[39;00m\u001b[38;5;124m and age is \u001b[39m\u001b[38;5;132;01m{0}\u001b[39;00m\u001b[38;5;124m\"\u001b[39m\u001b[38;5;241m.\u001b[39mformat(name,age))\n",
      "\u001b[0;31mValueError\u001b[0m: cannot switch from automatic field numbering to manual field specification"
     ]
    }
   ],
   "source": [
    "print(\"my name is {} and age is {0}\".format(name,age)) # either all empty or all full"
   ]
  },
  {
   "cell_type": "code",
   "execution_count": 50,
   "id": "fab07ffa-32a2-43a7-a6fc-225629e878ab",
   "metadata": {
    "tags": []
   },
   "outputs": [
    {
     "ename": "IndexError",
     "evalue": "Replacement index 1 out of range for positional args tuple",
     "output_type": "error",
     "traceback": [
      "\u001b[0;31m---------------------------------------------------------------------------\u001b[0m",
      "\u001b[0;31mIndexError\u001b[0m                                Traceback (most recent call last)",
      "Cell \u001b[0;32mIn[50], line 1\u001b[0m\n\u001b[0;32m----> 1\u001b[0m \u001b[38;5;28mprint\u001b[39m(\u001b[38;5;124m\"\u001b[39m\u001b[38;5;124mmy name is \u001b[39m\u001b[38;5;132;01m{0}\u001b[39;00m\u001b[38;5;124m and age is \u001b[39m\u001b[38;5;132;01m{1}\u001b[39;00m\u001b[38;5;124m\"\u001b[39m\u001b[38;5;241m.\u001b[39mformat(name,))\n",
      "\u001b[0;31mIndexError\u001b[0m: Replacement index 1 out of range for positional args tuple"
     ]
    }
   ],
   "source": [
    "print(\"my name is {0} and age is {1}\".format(name,))"
   ]
  },
  {
   "cell_type": "code",
   "execution_count": null,
   "id": "cea594fd-a706-4792-bfb1-9ccd35bd5424",
   "metadata": {},
   "outputs": [],
   "source": []
  },
  {
   "cell_type": "code",
   "execution_count": null,
   "id": "cc8eb5d1-b3ca-471a-9da7-d7307db09c6d",
   "metadata": {},
   "outputs": [],
   "source": []
  },
  {
   "cell_type": "code",
   "execution_count": 51,
   "id": "539a4e48-d341-4f20-add1-a659e40552e4",
   "metadata": {
    "tags": []
   },
   "outputs": [
    {
     "name": "stdout",
     "output_type": "stream",
     "text": [
      "my name is mayank and age is 15\n"
     ]
    }
   ],
   "source": [
    "print(\"my name is {name} and age is {age}\".format(name= name,age= age))"
   ]
  },
  {
   "cell_type": "code",
   "execution_count": 52,
   "id": "9f33e941-2edc-479e-8820-4e4d6ad3cdd8",
   "metadata": {
    "tags": []
   },
   "outputs": [
    {
     "name": "stdout",
     "output_type": "stream",
     "text": [
      "my name is mayank and age is 15\n"
     ]
    }
   ],
   "source": [
    "print(\"my name is {a} and age is {b}\".format(a= name,b= age))"
   ]
  }
 ],
 "metadata": {
  "kernelspec": {
   "display_name": "Python 3 (ipykernel)",
   "language": "python",
   "name": "python3"
  },
  "language_info": {
   "codemirror_mode": {
    "name": "ipython",
    "version": 3
   },
   "file_extension": ".py",
   "mimetype": "text/x-python",
   "name": "python",
   "nbconvert_exporter": "python",
   "pygments_lexer": "ipython3",
   "version": "3.11.5"
  }
 },
 "nbformat": 4,
 "nbformat_minor": 5
}
