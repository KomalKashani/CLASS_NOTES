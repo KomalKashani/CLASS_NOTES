{
 "cells": [
  {
   "cell_type": "code",
   "execution_count": 1,
   "id": "caf4dcc0-f653-4618-a0da-d08c55f46e62",
   "metadata": {
    "tags": []
   },
   "outputs": [],
   "source": [
    "a = 5\n",
    "b= 10\n",
    "add = a+b"
   ]
  },
  {
   "cell_type": "code",
   "execution_count": 2,
   "id": "28de9dc4-4846-4438-8c77-277eb9bd25f1",
   "metadata": {
    "tags": []
   },
   "outputs": [
    {
     "name": "stdout",
     "output_type": "stream",
     "text": [
      "15\n"
     ]
    }
   ],
   "source": [
    "print(add)"
   ]
  },
  {
   "cell_type": "code",
   "execution_count": 3,
   "id": "d5e77403-ec0f-490c-ad61-278bfbdf81bd",
   "metadata": {
    "tags": []
   },
   "outputs": [
    {
     "ename": "TypeError",
     "evalue": "can only concatenate str (not \"int\") to str",
     "output_type": "error",
     "traceback": [
      "\u001b[0;31m---------------------------------------------------------------------------\u001b[0m",
      "\u001b[0;31mTypeError\u001b[0m                                 Traceback (most recent call last)",
      "Cell \u001b[0;32mIn[3], line 1\u001b[0m\n\u001b[0;32m----> 1\u001b[0m \u001b[38;5;28mprint\u001b[39m(\u001b[38;5;124m\"\u001b[39m\u001b[38;5;124mThe result is \u001b[39m\u001b[38;5;124m\"\u001b[39m \u001b[38;5;241m+\u001b[39m add)\n",
      "\u001b[0;31mTypeError\u001b[0m: can only concatenate str (not \"int\") to str"
     ]
    }
   ],
   "source": [
    "print(\"The result is \" + add)"
   ]
  },
  {
   "cell_type": "code",
   "execution_count": 4,
   "id": "bf1927b2-64ce-4b8b-9614-5da35c6aab3c",
   "metadata": {
    "tags": []
   },
   "outputs": [
    {
     "name": "stdout",
     "output_type": "stream",
     "text": [
      "The result is 15\n"
     ]
    }
   ],
   "source": [
    "print(\"The result is \" + str(add))"
   ]
  },
  {
   "cell_type": "code",
   "execution_count": null,
   "id": "89d3ef95-5502-4971-a379-26655499a378",
   "metadata": {},
   "outputs": [],
   "source": []
  },
  {
   "cell_type": "code",
   "execution_count": 5,
   "id": "dd55ed55-7e93-4388-b4fe-b8ad2e2dc4b7",
   "metadata": {
    "tags": []
   },
   "outputs": [],
   "source": [
    "a1 = \" mayank\"\n",
    "a2 = \"9531\"\n",
    "a3 = 45\n",
    "a4 = 95\n",
    "a5 = 9.6432"
   ]
  },
  {
   "cell_type": "code",
   "execution_count": 6,
   "id": "0c7b7aec-cd81-40c8-b937-cfc35cea7d9a",
   "metadata": {
    "tags": []
   },
   "outputs": [
    {
     "name": "stdout",
     "output_type": "stream",
     "text": [
      " THe name is  mayank the number is 9531\n"
     ]
    }
   ],
   "source": [
    "print(\" THe name is \" + str(a1) + \" the number is \" + (a2))"
   ]
  },
  {
   "cell_type": "code",
   "execution_count": 7,
   "id": "0b2958bd-b1aa-4437-a29d-6642725a2a70",
   "metadata": {
    "tags": []
   },
   "outputs": [
    {
     "ename": "TypeError",
     "evalue": "can only concatenate str (not \"int\") to str",
     "output_type": "error",
     "traceback": [
      "\u001b[0;31m---------------------------------------------------------------------------\u001b[0m",
      "\u001b[0;31mTypeError\u001b[0m                                 Traceback (most recent call last)",
      "Cell \u001b[0;32mIn[7], line 1\u001b[0m\n\u001b[0;32m----> 1\u001b[0m \u001b[38;5;28mprint\u001b[39m(\u001b[38;5;124m\"\u001b[39m\u001b[38;5;124m THe name is \u001b[39m\u001b[38;5;124m\"\u001b[39m \u001b[38;5;241m+\u001b[39m (a3) \u001b[38;5;241m+\u001b[39m \u001b[38;5;124m\"\u001b[39m\u001b[38;5;124m the number is \u001b[39m\u001b[38;5;124m\"\u001b[39m \u001b[38;5;241m+\u001b[39m (a2))\n",
      "\u001b[0;31mTypeError\u001b[0m: can only concatenate str (not \"int\") to str"
     ]
    }
   ],
   "source": [
    "print(\" THe name is \" + (a3) + \" the number is \" + (a2))"
   ]
  },
  {
   "cell_type": "code",
   "execution_count": null,
   "id": "2b574302-db7c-45ab-a68c-6f4a1bb08119",
   "metadata": {},
   "outputs": [],
   "source": []
  },
  {
   "cell_type": "code",
   "execution_count": 12,
   "id": "09b642b6-4024-4b0a-8ff4-f3fea196e4d4",
   "metadata": {
    "tags": []
   },
   "outputs": [
    {
     "name": "stdout",
     "output_type": "stream",
     "text": [
      "The name is  mayank and the age is 45 and marks are 9.643200 and 95\n"
     ]
    }
   ],
   "source": [
    "print( \"The name is %s and the age is %d and marks are %f and %i\" %(a1,a3,a5,a4))"
   ]
  },
  {
   "cell_type": "code",
   "execution_count": 13,
   "id": "78ae5e78-b715-4223-ae33-84c99f6503de",
   "metadata": {
    "tags": []
   },
   "outputs": [
    {
     "ename": "TypeError",
     "evalue": "%d format: a real number is required, not str",
     "output_type": "error",
     "traceback": [
      "\u001b[0;31m---------------------------------------------------------------------------\u001b[0m",
      "\u001b[0;31mTypeError\u001b[0m                                 Traceback (most recent call last)",
      "Cell \u001b[0;32mIn[13], line 1\u001b[0m\n\u001b[0;32m----> 1\u001b[0m \u001b[38;5;28mprint\u001b[39m( \u001b[38;5;124m\"\u001b[39m\u001b[38;5;124mThe name is \u001b[39m\u001b[38;5;132;01m%s\u001b[39;00m\u001b[38;5;124m and the age is \u001b[39m\u001b[38;5;132;01m%d\u001b[39;00m\u001b[38;5;124m and marks are \u001b[39m\u001b[38;5;132;01m%f\u001b[39;00m\u001b[38;5;124m and \u001b[39m\u001b[38;5;132;01m%i\u001b[39;00m\u001b[38;5;124m\"\u001b[39m \u001b[38;5;241m%\u001b[39m(a1,a1,a1,a1))\n",
      "\u001b[0;31mTypeError\u001b[0m: %d format: a real number is required, not str"
     ]
    }
   ],
   "source": [
    "print( \"The name is %s and the age is %d and marks are %f and %i\" %(a1,a1,a1,a1))"
   ]
  },
  {
   "cell_type": "code",
   "execution_count": 14,
   "id": "0b25fee9-be4c-48a7-9150-22097d1b87cf",
   "metadata": {
    "tags": []
   },
   "outputs": [
    {
     "ename": "TypeError",
     "evalue": "not enough arguments for format string",
     "output_type": "error",
     "traceback": [
      "\u001b[0;31m---------------------------------------------------------------------------\u001b[0m",
      "\u001b[0;31mTypeError\u001b[0m                                 Traceback (most recent call last)",
      "Cell \u001b[0;32mIn[14], line 1\u001b[0m\n\u001b[0;32m----> 1\u001b[0m \u001b[38;5;28mprint\u001b[39m( \u001b[38;5;124m\"\u001b[39m\u001b[38;5;124mThe name is \u001b[39m\u001b[38;5;132;01m%s\u001b[39;00m\u001b[38;5;124m and the age is \u001b[39m\u001b[38;5;132;01m%d\u001b[39;00m\u001b[38;5;124m and marks are \u001b[39m\u001b[38;5;132;01m%f\u001b[39;00m\u001b[38;5;124m and \u001b[39m\u001b[38;5;132;01m%i\u001b[39;00m\u001b[38;5;124m\"\u001b[39m \u001b[38;5;241m%\u001b[39m(a1,a3,a5))\n",
      "\u001b[0;31mTypeError\u001b[0m: not enough arguments for format string"
     ]
    }
   ],
   "source": [
    "print( \"The name is %s and the age is %d and marks are %f and %i\" %(a1,a3,a5))"
   ]
  },
  {
   "cell_type": "code",
   "execution_count": 35,
   "id": "0427531e-c2ff-4d17-934f-876b5d2763c0",
   "metadata": {
    "tags": []
   },
   "outputs": [
    {
     "name": "stdout",
     "output_type": "stream",
     "text": [
      "The name is  mayank and the age is 45 and marks are 9.64 and 9\n"
     ]
    }
   ],
   "source": [
    "print( \"The name is %s and the age is %d and marks are %0.2f and %i\" %(a1,a3,a5,a5))"
   ]
  },
  {
   "cell_type": "code",
   "execution_count": null,
   "id": "af087bff-3da1-416b-b81a-3d2dfaf1c119",
   "metadata": {},
   "outputs": [],
   "source": []
  },
  {
   "cell_type": "code",
   "execution_count": 39,
   "id": "45813a17-3a09-4e32-b107-0c53c6155363",
   "metadata": {
    "tags": []
   },
   "outputs": [],
   "source": [
    "decimalNum = 3.32451"
   ]
  },
  {
   "cell_type": "code",
   "execution_count": 40,
   "id": "4d841f81-cb7c-449c-822c-5ada3e5d521b",
   "metadata": {
    "tags": []
   },
   "outputs": [
    {
     "name": "stdout",
     "output_type": "stream",
     "text": [
      " the number is 3.324510\n"
     ]
    }
   ],
   "source": [
    "print(\" the number is %f\" %(decimalNum))"
   ]
  },
  {
   "cell_type": "code",
   "execution_count": 41,
   "id": "0c842685-109c-4dd2-9446-0b885d4dadc1",
   "metadata": {
    "tags": []
   },
   "outputs": [
    {
     "name": "stdout",
     "output_type": "stream",
     "text": [
      " the number is 3.32\n"
     ]
    }
   ],
   "source": [
    "print(\" the number is %0.2f\" %(decimalNum))"
   ]
  },
  {
   "cell_type": "markdown",
   "id": "be20ca11-9536-441d-b03e-cc750fb64fae",
   "metadata": {},
   "source": [
    "# .format method"
   ]
  },
  {
   "cell_type": "code",
   "execution_count": 15,
   "id": "a79ebe98-9f0a-42e3-bf8e-2f879f6169a6",
   "metadata": {
    "tags": []
   },
   "outputs": [
    {
     "name": "stdout",
     "output_type": "stream",
     "text": [
      " The name is  mayank and the age is 45 and marks are 9.6432 and 95\n"
     ]
    }
   ],
   "source": [
    "print(\" The name is {a1} and the age is {a3} and marks are {a5} and {a4}\".format(a1=a1,a3=a3,a5=a5,a4=a4))"
   ]
  },
  {
   "cell_type": "code",
   "execution_count": 22,
   "id": "f147b4fe-7ab0-4977-af48-006c7477aeb5",
   "metadata": {
    "tags": []
   },
   "outputs": [
    {
     "name": "stdout",
     "output_type": "stream",
     "text": [
      " The name is  mayank and the age is 45 and marks are 9.6432 and 95\n"
     ]
    }
   ],
   "source": [
    "print(\" The name is {name} and the age is {age} and marks are {marks1} and {marks2}\".format(name=a1,age=a3,marks1=a5,marks2=a4))"
   ]
  },
  {
   "cell_type": "code",
   "execution_count": 20,
   "id": "8dbe20fa-e5d5-4c9b-bd6b-b217483685ce",
   "metadata": {
    "tags": []
   },
   "outputs": [
    {
     "ename": "IndexError",
     "evalue": "Replacement index 3 out of range for positional args tuple",
     "output_type": "error",
     "traceback": [
      "\u001b[0;31m---------------------------------------------------------------------------\u001b[0m",
      "\u001b[0;31mIndexError\u001b[0m                                Traceback (most recent call last)",
      "Cell \u001b[0;32mIn[20], line 1\u001b[0m\n\u001b[0;32m----> 1\u001b[0m \u001b[38;5;28mprint\u001b[39m(\u001b[38;5;124m\"\u001b[39m\u001b[38;5;124m The name is \u001b[39m\u001b[38;5;132;01m{0}\u001b[39;00m\u001b[38;5;124m and the age is \u001b[39m\u001b[38;5;132;01m{1}\u001b[39;00m\u001b[38;5;124m and marks are \u001b[39m\u001b[38;5;132;01m{2}\u001b[39;00m\u001b[38;5;124m and \u001b[39m\u001b[38;5;132;01m{3}\u001b[39;00m\u001b[38;5;124m\"\u001b[39m\u001b[38;5;241m.\u001b[39mformat(a1,a3,a5))\n",
      "\u001b[0;31mIndexError\u001b[0m: Replacement index 3 out of range for positional args tuple"
     ]
    }
   ],
   "source": [
    "print(\" The name is {0} and the age is {1} and marks are {2} and {3}\".format(a1,a3,a5))"
   ]
  },
  {
   "cell_type": "code",
   "execution_count": 21,
   "id": "eaf5131d-daa0-4ee6-8d4e-00619f536b89",
   "metadata": {
    "tags": []
   },
   "outputs": [
    {
     "name": "stdout",
     "output_type": "stream",
     "text": [
      " The name is  mayank and the age is 45 and marks are 9.6432 and 9.6432\n"
     ]
    }
   ],
   "source": [
    "print(\" The name is {0} and the age is {1} and marks are {2} and {2}\".format(a1,a3,a5))"
   ]
  },
  {
   "cell_type": "code",
   "execution_count": 24,
   "id": "05416935-0f6c-4541-a965-f799dc852ac1",
   "metadata": {
    "tags": []
   },
   "outputs": [
    {
     "name": "stdout",
     "output_type": "stream",
     "text": [
      " The name is  mayank and the age is 45 and marks are 9.6432 and 95\n"
     ]
    }
   ],
   "source": [
    "print(\" The name is {} and the age is {} and marks are {} and {}\".format(a1,a3,a5,a4))"
   ]
  },
  {
   "cell_type": "code",
   "execution_count": 25,
   "id": "ae915703-1eac-4def-a1a7-9d1619817649",
   "metadata": {
    "tags": []
   },
   "outputs": [
    {
     "name": "stdout",
     "output_type": "stream",
     "text": [
      " The name is  mayank and the age is  mayank and marks are  mayank and  mayank\n"
     ]
    }
   ],
   "source": [
    "print(\" The name is {} and the age is {} and marks are {} and {}\".format(a1,a1,a1,a1))"
   ]
  },
  {
   "cell_type": "code",
   "execution_count": 26,
   "id": "db4806e2-2ded-4f24-a31c-85e4419042e1",
   "metadata": {
    "tags": []
   },
   "outputs": [
    {
     "ename": "IndexError",
     "evalue": "Replacement index 3 out of range for positional args tuple",
     "output_type": "error",
     "traceback": [
      "\u001b[0;31m---------------------------------------------------------------------------\u001b[0m",
      "\u001b[0;31mIndexError\u001b[0m                                Traceback (most recent call last)",
      "Cell \u001b[0;32mIn[26], line 1\u001b[0m\n\u001b[0;32m----> 1\u001b[0m \u001b[38;5;28mprint\u001b[39m(\u001b[38;5;124m\"\u001b[39m\u001b[38;5;124m The name is \u001b[39m\u001b[38;5;132;01m{}\u001b[39;00m\u001b[38;5;124m and the age is \u001b[39m\u001b[38;5;132;01m{}\u001b[39;00m\u001b[38;5;124m and marks are \u001b[39m\u001b[38;5;132;01m{}\u001b[39;00m\u001b[38;5;124m and \u001b[39m\u001b[38;5;132;01m{}\u001b[39;00m\u001b[38;5;124m\"\u001b[39m\u001b[38;5;241m.\u001b[39mformat(a1,a1,a1))\n",
      "\u001b[0;31mIndexError\u001b[0m: Replacement index 3 out of range for positional args tuple"
     ]
    }
   ],
   "source": [
    "print(\" The name is {} and the age is {} and marks are {} and {}\".format(a1,a1,a1))"
   ]
  },
  {
   "cell_type": "code",
   "execution_count": 28,
   "id": "34d3ea5f-2b80-4260-a405-f56ae7e39355",
   "metadata": {
    "tags": []
   },
   "outputs": [
    {
     "name": "stdout",
     "output_type": "stream",
     "text": [
      " The name is  mayank and the age is  mayank and marks are  mayank and 9.6432\n"
     ]
    }
   ],
   "source": [
    "print(\" The name is {} and the age is {} and marks are {} and {}\".format(a1,a1,a1,a5,a1))"
   ]
  },
  {
   "cell_type": "code",
   "execution_count": null,
   "id": "e93f1950-806a-42ca-8f1b-413b4bede671",
   "metadata": {},
   "outputs": [],
   "source": []
  },
  {
   "cell_type": "code",
   "execution_count": null,
   "id": "6762c641-7483-4392-89ee-7ef78c614bc8",
   "metadata": {},
   "outputs": [],
   "source": []
  },
  {
   "cell_type": "markdown",
   "id": "581da6a9-4c76-4fc2-9da5-a96e83c91a76",
   "metadata": {
    "tags": []
   },
   "source": [
    "# F-Format"
   ]
  },
  {
   "cell_type": "code",
   "execution_count": 30,
   "id": "0aab7a39-b2da-40f6-adec-3dfcb63564ce",
   "metadata": {
    "tags": []
   },
   "outputs": [],
   "source": [
    "a1 = \" mayank\"\n",
    "a2 = \"9531\"\n",
    "a3 = 45\n",
    "a4 = 95\n",
    "a5 = 9.6432"
   ]
  },
  {
   "cell_type": "code",
   "execution_count": 47,
   "id": "5e99a6e0-477e-4e99-a5fa-8c090ddb2a51",
   "metadata": {
    "tags": []
   },
   "outputs": [
    {
     "name": "stdout",
     "output_type": "stream",
     "text": [
      "The name is  mayank and the age is 9531 and marks are 9.64 and 95\n"
     ]
    }
   ],
   "source": [
    "print(f\"The name is {a1} and the age is {a2} and marks are {a5:0.2f} and {a4}\")"
   ]
  },
  {
   "cell_type": "code",
   "execution_count": 32,
   "id": "67b43a77-c537-4235-9e49-bf6fcfdef88c",
   "metadata": {
    "tags": []
   },
   "outputs": [
    {
     "name": "stdout",
     "output_type": "stream",
     "text": [
      "The name is  mayank and the age is  mayank and marks are  mayank and 9531\n"
     ]
    }
   ],
   "source": [
    "print(f\"The name is {a1} and the age is {a1} and marks are {a1} and {a2}\")"
   ]
  },
  {
   "cell_type": "code",
   "execution_count": null,
   "id": "318c7243-4141-43d0-97bb-cfe78daa8d55",
   "metadata": {},
   "outputs": [],
   "source": []
  },
  {
   "cell_type": "code",
   "execution_count": 33,
   "id": "67a37c19-2414-471e-b51e-84477911ae13",
   "metadata": {
    "tags": []
   },
   "outputs": [
    {
     "ename": "NameError",
     "evalue": "name 'a10' is not defined",
     "output_type": "error",
     "traceback": [
      "\u001b[0;31m---------------------------------------------------------------------------\u001b[0m",
      "\u001b[0;31mNameError\u001b[0m                                 Traceback (most recent call last)",
      "Cell \u001b[0;32mIn[33], line 1\u001b[0m\n\u001b[0;32m----> 1\u001b[0m \u001b[38;5;28mprint\u001b[39m (\u001b[38;5;124mf\u001b[39m\u001b[38;5;124m\"\u001b[39m\u001b[38;5;124m the name is \u001b[39m\u001b[38;5;132;01m{\u001b[39;00ma10\u001b[38;5;132;01m}\u001b[39;00m\u001b[38;5;124m\"\u001b[39m)\n",
      "\u001b[0;31mNameError\u001b[0m: name 'a10' is not defined"
     ]
    }
   ],
   "source": [
    "print (f\" the name is {a10}\")"
   ]
  },
  {
   "cell_type": "code",
   "execution_count": 42,
   "id": "d8f3023d-ce40-41bf-af2a-be07268c835c",
   "metadata": {
    "tags": []
   },
   "outputs": [
    {
     "name": "stdout",
     "output_type": "stream",
     "text": [
      " the name is 9.64\n"
     ]
    }
   ],
   "source": [
    "print (f\" the name is {a5:.2f}\")"
   ]
  },
  {
   "cell_type": "code",
   "execution_count": null,
   "id": "78dca98d-b768-4d6a-9383-627df5365bd2",
   "metadata": {},
   "outputs": [],
   "source": [
    "3.3456\n",
    "\n",
    "3.35"
   ]
  },
  {
   "cell_type": "code",
   "execution_count": null,
   "id": "4b7c4808-eae3-4fc0-8593-d4657b45851b",
   "metadata": {},
   "outputs": [],
   "source": []
  },
  {
   "cell_type": "code",
   "execution_count": 43,
   "id": "93beff72-68f5-41d2-8e99-e9c6efe1870a",
   "metadata": {
    "tags": []
   },
   "outputs": [],
   "source": [
    "decimalNum = 3.32451"
   ]
  },
  {
   "cell_type": "code",
   "execution_count": 45,
   "id": "29dce1d0-bbc2-4e52-8314-0355fe4b0576",
   "metadata": {
    "tags": []
   },
   "outputs": [
    {
     "name": "stdout",
     "output_type": "stream",
     "text": [
      " The number is 3.32451\n"
     ]
    }
   ],
   "source": [
    "print(f\" The number is {decimalNum}\")"
   ]
  },
  {
   "cell_type": "code",
   "execution_count": 46,
   "id": "a11c7d38-b135-4865-952d-ab322707eee8",
   "metadata": {
    "tags": []
   },
   "outputs": [
    {
     "name": "stdout",
     "output_type": "stream",
     "text": [
      " The number is 3.32\n"
     ]
    }
   ],
   "source": [
    "print(f\" The number is {decimalNum:0.2f}\")"
   ]
  },
  {
   "cell_type": "code",
   "execution_count": null,
   "id": "a1acc47d-c320-4375-9692-d5c0e70546f5",
   "metadata": {},
   "outputs": [],
   "source": []
  }
 ],
 "metadata": {
  "kernelspec": {
   "display_name": "Python 3 (ipykernel)",
   "language": "python",
   "name": "python3"
  },
  "language_info": {
   "codemirror_mode": {
    "name": "ipython",
    "version": 3
   },
   "file_extension": ".py",
   "mimetype": "text/x-python",
   "name": "python",
   "nbconvert_exporter": "python",
   "pygments_lexer": "ipython3",
   "version": "3.11.5"
  }
 },
 "nbformat": 4,
 "nbformat_minor": 5
}
