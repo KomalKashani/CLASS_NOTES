{
 "cells": [
  {
   "cell_type": "markdown",
   "id": "45d13f41-6d55-47ad-bc76-a8b4e04bf5ea",
   "metadata": {},
   "source": [
    "# Decision Control"
   ]
  },
  {
   "cell_type": "code",
   "execution_count": null,
   "id": "c2f3cd3a-623f-484d-87e9-eaa8b98aa7e9",
   "metadata": {},
   "outputs": [],
   "source": []
  },
  {
   "cell_type": "markdown",
   "id": "4a3cd2e2-a120-4e98-9043-f5b982c90fd1",
   "metadata": {
    "tags": []
   },
   "source": [
    "# If statement"
   ]
  },
  {
   "cell_type": "code",
   "execution_count": 2,
   "id": "e0626091-98de-4758-9bcf-adfedcc22965",
   "metadata": {
    "tags": []
   },
   "outputs": [],
   "source": [
    "hungry = True"
   ]
  },
  {
   "cell_type": "code",
   "execution_count": 7,
   "id": "843b3ee7-037d-43f1-b1c0-329b1315c899",
   "metadata": {
    "tags": []
   },
   "outputs": [
    {
     "name": "stdout",
     "output_type": "stream",
     "text": [
      "eat it\n"
     ]
    }
   ],
   "source": [
    "hungry = 0\n",
    "\n",
    "if hungry :\n",
    "    print(\"order Biryani\")\n",
    "\n",
    "print(\"eat it\")\n",
    "          \n",
    "\n",
    "\n",
    "\n"
   ]
  },
  {
   "cell_type": "code",
   "execution_count": 16,
   "id": "516755e1-587b-4e56-9eb4-30dbdd9245b0",
   "metadata": {
    "tags": []
   },
   "outputs": [],
   "source": [
    "hungry = False\n",
    "\n",
    "# Tab or 4 spaces\n",
    "\n",
    "if (hungry) :\n",
    "    print(\"order Biryani\")\n",
    "    print(\"eat it\")\n",
    "    print(\"now I am not hungry\")\n",
    "          \n",
    "\n",
    "\n",
    "\n"
   ]
  },
  {
   "cell_type": "code",
   "execution_count": 9,
   "id": "420d38b2-ee84-4241-a554-a571ff4b0129",
   "metadata": {
    "tags": []
   },
   "outputs": [
    {
     "ename": "SyntaxError",
     "evalue": "expected ':' (239767061.py, line 1)",
     "output_type": "error",
     "traceback": [
      "\u001b[0;36m  Cell \u001b[0;32mIn[9], line 1\u001b[0;36m\u001b[0m\n\u001b[0;31m    if hungry\u001b[0m\n\u001b[0m             ^\u001b[0m\n\u001b[0;31mSyntaxError\u001b[0m\u001b[0;31m:\u001b[0m expected ':'\n"
     ]
    }
   ],
   "source": [
    "if hungry\n",
    "    print(\"order\")"
   ]
  },
  {
   "cell_type": "code",
   "execution_count": null,
   "id": "8541b10d-9a4c-4d4e-936a-930fa66dc8e7",
   "metadata": {},
   "outputs": [],
   "source": []
  },
  {
   "cell_type": "markdown",
   "id": "eb1e152d-06b5-4b32-b369-619941b3f5ce",
   "metadata": {},
   "source": [
    "# WAP to take a number and check if it is even or not"
   ]
  },
  {
   "cell_type": "code",
   "execution_count": null,
   "id": "1948b034-a654-4e85-b0de-1e44f0b692c4",
   "metadata": {},
   "outputs": [],
   "source": []
  },
  {
   "cell_type": "code",
   "execution_count": 17,
   "id": "d48a38b9-b88e-4219-8424-fffd8b82e25b",
   "metadata": {
    "tags": []
   },
   "outputs": [
    {
     "name": "stdin",
     "output_type": "stream",
     "text": [
      " 5\n"
     ]
    }
   ],
   "source": [
    "number = int(input())"
   ]
  },
  {
   "cell_type": "code",
   "execution_count": 21,
   "id": "25b82974-83b3-4a1a-adc3-c2e025cff1ee",
   "metadata": {
    "tags": []
   },
   "outputs": [
    {
     "name": "stdout",
     "output_type": "stream",
     "text": [
      "number is odd\n"
     ]
    }
   ],
   "source": [
    "\n",
    "number = 115   # 0 is even\n",
    "\n",
    "if (number % 2 ==0) :\n",
    "    print(\"Number is Even\")\n",
    "\n",
    "if (number%2!=0):\n",
    "    print(\"number is odd\")"
   ]
  },
  {
   "cell_type": "code",
   "execution_count": null,
   "id": "2e556afa-aa1d-4951-a4b7-c526e25987dc",
   "metadata": {},
   "outputs": [],
   "source": []
  },
  {
   "cell_type": "code",
   "execution_count": 22,
   "id": "43613104-d654-4066-a053-bcaeb3b7ceb7",
   "metadata": {
    "tags": []
   },
   "outputs": [],
   "source": [
    "# WAP to ask user if he is hungry and order food if he is else order desert"
   ]
  },
  {
   "cell_type": "code",
   "execution_count": 23,
   "id": "397589b8-b182-4df3-aeaf-23230016839c",
   "metadata": {
    "tags": []
   },
   "outputs": [
    {
     "name": "stdin",
     "output_type": "stream",
     "text": [
      " True\n"
     ]
    }
   ],
   "source": [
    "hungry = input()"
   ]
  },
  {
   "cell_type": "code",
   "execution_count": 26,
   "id": "3be3e4e8-cd52-4970-9541-aad36bf647c8",
   "metadata": {
    "tags": []
   },
   "outputs": [
    {
     "name": "stdout",
     "output_type": "stream",
     "text": [
      "Okay you are not hungry\n",
      "we will order desserts\n"
     ]
    }
   ],
   "source": [
    "hungry = False\n",
    "\n",
    "\n",
    "if hungry:\n",
    "    print(\"ok you are hungry\")\n",
    "    print(\"let us order something for you\")\n",
    "    \n",
    "if not hungry:\n",
    "    print(\"Okay you are not hungry\")\n",
    "    print(\"we will order desserts\")"
   ]
  },
  {
   "cell_type": "code",
   "execution_count": null,
   "id": "90d8a763-3f38-4cdc-a4f1-65021bd99e70",
   "metadata": {},
   "outputs": [],
   "source": []
  },
  {
   "cell_type": "code",
   "execution_count": null,
   "id": "17bfd6a6-4b67-4c81-8b11-16ddb63784f0",
   "metadata": {},
   "outputs": [],
   "source": []
  },
  {
   "cell_type": "markdown",
   "id": "c636e4b6-4910-476d-bd96-901fbecaa4c1",
   "metadata": {},
   "source": [
    "# If- ELSE"
   ]
  },
  {
   "cell_type": "code",
   "execution_count": 29,
   "id": "4ab360eb-ca53-4822-9bb8-4889a9552603",
   "metadata": {
    "tags": []
   },
   "outputs": [
    {
     "name": "stdin",
     "output_type": "stream",
     "text": [
      " True\n"
     ]
    }
   ],
   "source": [
    "hungry = input()"
   ]
  },
  {
   "cell_type": "code",
   "execution_count": 30,
   "id": "7e3e32b9-f656-459f-99e5-2a51c6928c39",
   "metadata": {
    "tags": []
   },
   "outputs": [
    {
     "data": {
      "text/plain": [
       "'True'"
      ]
     },
     "execution_count": 30,
     "metadata": {},
     "output_type": "execute_result"
    }
   ],
   "source": [
    "hungry"
   ]
  },
  {
   "cell_type": "code",
   "execution_count": null,
   "id": "090e8475-2919-45ce-bb0f-55da3ad86c01",
   "metadata": {},
   "outputs": [],
   "source": [
    "''"
   ]
  },
  {
   "cell_type": "code",
   "execution_count": 28,
   "id": "114505f9-071a-4450-b2d5-87266ac2dd5a",
   "metadata": {
    "tags": []
   },
   "outputs": [
    {
     "name": "stdout",
     "output_type": "stream",
     "text": [
      "ok you are hungry\n",
      "let us order something for you\n"
     ]
    }
   ],
   "source": [
    "hungry = True\n",
    "\n",
    "\n",
    "if hungry:\n",
    "    print(\"ok you are hungry\")\n",
    "    print(\"let us order something for you\")\n",
    "    \n",
    "    \n",
    "if not hungry:\n",
    "    print(\"Okay you are not hungry\")\n",
    "    print(\"we will order desserts\")"
   ]
  },
  {
   "cell_type": "code",
   "execution_count": null,
   "id": "0d346601-2f7b-4a44-86e9-8ee220548e56",
   "metadata": {},
   "outputs": [],
   "source": []
  },
  {
   "cell_type": "code",
   "execution_count": null,
   "id": "26c6b8c7-37d5-4222-b37d-c08c06090e2d",
   "metadata": {},
   "outputs": [],
   "source": []
  },
  {
   "cell_type": "code",
   "execution_count": null,
   "id": "9cebc6df-31d6-41af-8117-961c09a5a90b",
   "metadata": {},
   "outputs": [],
   "source": []
  },
  {
   "cell_type": "code",
   "execution_count": null,
   "id": "adf38c1b-021f-4b1a-bff9-d121f5d48bdd",
   "metadata": {},
   "outputs": [],
   "source": []
  },
  {
   "cell_type": "code",
   "execution_count": null,
   "id": "3d331141-96c7-4095-afb1-617608302755",
   "metadata": {},
   "outputs": [],
   "source": []
  },
  {
   "cell_type": "markdown",
   "id": "c4086420-33fa-46c5-8040-60c27fc147bd",
   "metadata": {},
   "source": [
    "# IF ELSE"
   ]
  },
  {
   "cell_type": "code",
   "execution_count": 92,
   "id": "a952d320-eac8-4415-b79a-484b5615b30d",
   "metadata": {
    "tags": []
   },
   "outputs": [
    {
     "ename": "SyntaxError",
     "evalue": "invalid syntax (1745979125.py, line 9)",
     "output_type": "error",
     "traceback": [
      "\u001b[0;36m  Cell \u001b[0;32mIn[92], line 9\u001b[0;36m\u001b[0m\n\u001b[0;31m    elif(number%3==0):\u001b[0m\n\u001b[0m    ^\u001b[0m\n\u001b[0;31mSyntaxError\u001b[0m\u001b[0;31m:\u001b[0m invalid syntax\n"
     ]
    }
   ],
   "source": [
    "number = 69\n",
    "\n",
    "remainder = number%2\n",
    "\n",
    "if(remainder == 0):\n",
    "    print(\"yo, your number is even\")\n",
    "elif(number%3==0):\n",
    "    print(\"number divisible by 3\")"
   ]
  },
  {
   "cell_type": "code",
   "execution_count": null,
   "id": "fd8c4699-c1f6-4777-95de-888d7515a7af",
   "metadata": {},
   "outputs": [],
   "source": []
  },
  {
   "cell_type": "code",
   "execution_count": 44,
   "id": "97c76bd7-518c-4133-aa22-d4838320a1b0",
   "metadata": {
    "tags": []
   },
   "outputs": [
    {
     "name": "stdout",
     "output_type": "stream",
     "text": [
      "your result is PASS\n",
      "you can eat biryani as you are pass\n"
     ]
    }
   ],
   "source": [
    "marks = 40\n",
    "passingMarks = 40\n",
    "\n",
    "if(marks >= passingMarks):\n",
    "    print(\"your result is PASS\")\n",
    "    print(\"you can eat biryani as you are pass\")\n",
    "else:\n",
    "    print(\"your result is FAIL\")\n"
   ]
  },
  {
   "cell_type": "code",
   "execution_count": null,
   "id": "d6fd689e-e39f-422e-9cf8-ea7ea48ee4d8",
   "metadata": {},
   "outputs": [],
   "source": []
  },
  {
   "cell_type": "code",
   "execution_count": null,
   "id": "e8d16712-2df7-4369-869e-e251582bdb07",
   "metadata": {},
   "outputs": [],
   "source": []
  },
  {
   "cell_type": "markdown",
   "id": "db21bc14-ec4f-4570-930f-2a444f2cf750",
   "metadata": {},
   "source": [
    "# WAP where we get students marks and give him the Grade. \n",
    "\n",
    "1. 80-100 'A'\n",
    "2. 60-80 'B'\n",
    "3. 50-60 'C'\n",
    "4. 40-50 'D'\n",
    "5. <40 'F'"
   ]
  },
  {
   "cell_type": "code",
   "execution_count": null,
   "id": "5055061e-a9f7-49dd-9d4d-6e5ed0055ef6",
   "metadata": {},
   "outputs": [],
   "source": []
  },
  {
   "cell_type": "code",
   "execution_count": 57,
   "id": "9c104d32-776f-447e-b03d-8b32d88ece7a",
   "metadata": {
    "tags": []
   },
   "outputs": [
    {
     "name": "stdout",
     "output_type": "stream",
     "text": [
      "your grade  is B\n",
      "you can eat cake as you are pass\n",
      "your grade  is c\n",
      "you can eat dal as you are pass\n"
     ]
    }
   ],
   "source": [
    "marks = 40\n",
    "\n",
    "\n",
    "if(marks >= 80):\n",
    "    print(\"your grade  is A\")\n",
    "    print(\"you can eat biryani as you are pass\")\n",
    "if (marks >=40 and marks <80):\n",
    "    print(\"your grade  is B\")\n",
    "    print(\"you can eat cake as you are pass\")\n",
    "if (marks >=30 and marks <60):\n",
    "    print(\"your grade  is c\")\n",
    "    print(\"you can eat dal as you are pass\")\n",
    "else:\n",
    "    print(\"your result is FAIL\")\n"
   ]
  },
  {
   "cell_type": "code",
   "execution_count": null,
   "id": "beeeb396-e751-4ed2-a29b-f8ae1041ef66",
   "metadata": {},
   "outputs": [],
   "source": [
    "marks = int(input())"
   ]
  },
  {
   "cell_type": "code",
   "execution_count": 59,
   "id": "c29d885f-9934-4496-b8f1-1bbb9f66e462",
   "metadata": {
    "tags": []
   },
   "outputs": [
    {
     "name": "stdout",
     "output_type": "stream",
     "text": [
      "your grade is D\n",
      "you can eat dal at home\n"
     ]
    }
   ],
   "source": [
    "marks = 40\n",
    "\n",
    "\n",
    "if (marks >= 80):\n",
    "    print(\"your grade  is A\")\n",
    "    print(\"you can eat biryani as you are pass\")\n",
    "elif (marks >=60 and marks <80):\n",
    "    print(\"your grade  is B\")\n",
    "    print(\"you can eat cake as you are pass\")\n",
    "elif (marks >=50 and marks <60):\n",
    "    print(\"your grade  is C\")\n",
    "    print(\"you can eat salad as you are pass\")\n",
    "elif marks >=40 and marks < 50 :\n",
    "    print(\"your grade is D\")\n",
    "    print(\"you can eat dal at home\")\n",
    "else :\n",
    "    print(\"your result is FAIL\")\n",
    "    print(\"you to drink water only\")\n"
   ]
  },
  {
   "cell_type": "markdown",
   "id": "e9355c12-19d5-4687-9963-aed17f82a70f",
   "metadata": {
    "tags": []
   },
   "source": [
    "# WAP a program to take a input a char from the user and show below.\n",
    "\n",
    "1. A-Z - Capital letter\n",
    "2. a-z - small letter\n",
    "3. 0-9 - number\n",
    "4. special character"
   ]
  },
  {
   "cell_type": "code",
   "execution_count": 61,
   "id": "a991a974-3b1c-46e2-aab4-7fb19753545f",
   "metadata": {
    "tags": []
   },
   "outputs": [
    {
     "name": "stdin",
     "output_type": "stream",
     "text": [
      " a\n"
     ]
    }
   ],
   "source": [
    "char =input()"
   ]
  },
  {
   "cell_type": "code",
   "execution_count": 64,
   "id": "c9631a02-c27c-46e4-bfb0-cecdcd0888fa",
   "metadata": {
    "tags": []
   },
   "outputs": [
    {
     "data": {
      "text/plain": [
       "97"
      ]
     },
     "execution_count": 64,
     "metadata": {},
     "output_type": "execute_result"
    }
   ],
   "source": [
    "ord('A')"
   ]
  },
  {
   "cell_type": "code",
   "execution_count": null,
   "id": "6abac475-8b0d-4cb2-bef5-c7096e0da1b9",
   "metadata": {},
   "outputs": [],
   "source": [
    "char = char[0:1]"
   ]
  },
  {
   "cell_type": "code",
   "execution_count": 71,
   "id": "f31c630b-6280-4c8f-acdd-407e83ea0641",
   "metadata": {
    "tags": []
   },
   "outputs": [
    {
     "name": "stdout",
     "output_type": "stream",
     "text": [
      "small letter\n"
     ]
    }
   ],
   "source": [
    "char = 'a'\n",
    "\n",
    "asciiValue = ord(char)\n",
    "\n",
    "\n",
    "if(asciiValue >=97 and asciiValue <= (122)):\n",
    "    print(\"small letter\")\n",
    "elif(asciiValue>=65 and asciiValue <= (90)):\n",
    "    print(\"capital character\")\n",
    "elif (asciiValue >=48 and asciiValue<=57):\n",
    "    print(\"its a digit\")\n",
    "else:\n",
    "    print(\"its a special character\")\n"
   ]
  },
  {
   "cell_type": "code",
   "execution_count": 91,
   "id": "6c17ac20-2522-4eac-adb0-ed3698e1f781",
   "metadata": {
    "tags": []
   },
   "outputs": [
    {
     "name": "stdout",
     "output_type": "stream",
     "text": [
      "capital character\n"
     ]
    }
   ],
   "source": [
    "char = 'Z'\n",
    "\n",
    "asciiValue = ord(char)\n",
    "\n",
    "\n",
    "if(char >='a' and char <= 'z' ):\n",
    "    print(\"small letter\")\n",
    "elif (asciiValue>=65 and asciiValue <= (90)):\n",
    "    print(\"capital character\")\n",
    "elif (asciiValue >=48 and asciiValue<=57):\n",
    "    print(\"its a digit\")\n"
   ]
  },
  {
   "cell_type": "code",
   "execution_count": 74,
   "id": "b10de5fb-2ad1-4719-83a5-a413d8fd5c83",
   "metadata": {
    "tags": []
   },
   "outputs": [
    {
     "name": "stdout",
     "output_type": "stream",
     "text": [
      "small letter\n",
      "its a special character\n"
     ]
    }
   ],
   "source": [
    "char = 'a'\n",
    "\n",
    "asciiValue = ord(char)\n",
    "\n",
    "# if we don't use elif with if then multiple conidtions can be printed or executed.\n",
    "\n",
    "\n",
    "if(asciiValue >=97 and asciiValue <= (122)):\n",
    "    print(\"small letter\")\n",
    "\n",
    "if(asciiValue>=65 and asciiValue <= 90):\n",
    "    print(\"capital character\")\n",
    "    \n",
    "if (asciiValue >=48 and asciiValue<=57):\n",
    "    print(\"its a digit\")\n",
    "else:\n",
    "    print(\"its a special character\")\n"
   ]
  },
  {
   "cell_type": "code",
   "execution_count": null,
   "id": "0985af87-cb5d-4c9b-92de-888962314e3d",
   "metadata": {},
   "outputs": [],
   "source": [
    "97 - a\n",
    "26 alphabet in english\n",
    "\n",
    "98 -b\n",
    "99 -c\n",
    "\n",
    "z = 97 + 26 -1"
   ]
  },
  {
   "cell_type": "code",
   "execution_count": null,
   "id": "fe7b748e-2209-4451-aeef-2974c3ec4afd",
   "metadata": {},
   "outputs": [],
   "source": []
  },
  {
   "cell_type": "code",
   "execution_count": null,
   "id": "88948127-f2b4-44f1-a59f-02b7f001b888",
   "metadata": {},
   "outputs": [],
   "source": []
  },
  {
   "cell_type": "code",
   "execution_count": null,
   "id": "094fe2e0-5fdd-4fb2-8466-3802c05df49a",
   "metadata": {},
   "outputs": [],
   "source": []
  },
  {
   "cell_type": "code",
   "execution_count": null,
   "id": "d4514c37-72e6-4807-b34f-2f908462af08",
   "metadata": {},
   "outputs": [],
   "source": [
    "hungry \n",
    "\n",
    "1. 500 + -> resturant\n",
    "2. 200<  < 400 -> order in\n",
    "3. 100 200  -> snack\n",
    "4. no money : will put a towel on stomach and sleep :'( \n",
    "\n",
    "not hungry \n",
    "sleep\n"
   ]
  },
  {
   "cell_type": "code",
   "execution_count": 90,
   "id": "a2c6b17f-53b5-40f3-ac37-49381dc4c3fd",
   "metadata": {
    "tags": []
   },
   "outputs": [
    {
     "name": "stdout",
     "output_type": "stream",
     "text": [
      "you are hungry\n",
      "order in\n",
      "you are out of if else conditions\n"
     ]
    }
   ],
   "source": [
    "hungry = True\n",
    "money = 250\n",
    "    \n",
    "if (hungry):\n",
    "    print(\"you are hungry\")\n",
    "    if money >= 400:\n",
    "        print(\"go to restro\")\n",
    "\n",
    "    elif money >= 200 and money <400:\n",
    "        print(\"order in\")\n",
    "    else:\n",
    "        print(\"will put a towel on stomach and sleep\")\n",
    "    \n",
    "else:\n",
    "    print(\"you are not hungry\")\n",
    "    if(money>0):\n",
    "        print(\"Invest it\")\n",
    "    else:\n",
    "        print(\"sleep\")\n",
    "    \n",
    "    \n",
    "print(\"you are out of if else conditions\")"
   ]
  },
  {
   "cell_type": "code",
   "execution_count": null,
   "id": "f3f5fab6-ef0a-4af0-abed-a3bf3071760b",
   "metadata": {},
   "outputs": [],
   "source": [
    "if (True):\n",
    "\n",
    "else:\n",
    "    \n",
    "elif:\n",
    "    "
   ]
  },
  {
   "cell_type": "code",
   "execution_count": null,
   "id": "72039a70-df36-4ce1-a646-a6ae52b64b67",
   "metadata": {},
   "outputs": [],
   "source": []
  },
  {
   "cell_type": "code",
   "execution_count": null,
   "id": "7ed3dff6-d5fe-4ec4-854d-79786ea8347d",
   "metadata": {},
   "outputs": [],
   "source": []
  },
  {
   "cell_type": "code",
   "execution_count": null,
   "id": "b0d3ea96-1a27-45ab-b750-c768ede29e93",
   "metadata": {},
   "outputs": [],
   "source": [
    "# What if the person is a vegetarian and we only have non vegetarian biryani."
   ]
  },
  {
   "cell_type": "code",
   "execution_count": 88,
   "id": "0f6f41c0-ae6c-4161-ab67-824b89b8fed1",
   "metadata": {
    "tags": []
   },
   "outputs": [
    {
     "name": "stdout",
     "output_type": "stream",
     "text": [
      "your grade is D\n",
      "you can eat biryani as you are pass\n"
     ]
    }
   ],
   "source": [
    "marks = 40\n",
    "\n",
    "dietVeg =  False\n",
    "\n",
    "\n",
    "\n",
    "if (marks >= 80):\n",
    "    print(\"your grade  is A\")\n",
    "    if(dietVeg):\n",
    "        print(\"order vegetable biryani\")\n",
    "    elif (True):\n",
    "        print(\"you can eat biryani as you are pass\")\n",
    "elif (marks >=60 and marks <80):\n",
    "    print(\"your grade  is B\")\n",
    "    if(dietVeg):\n",
    "        print(\"order vegetable cake\")\n",
    "    else:\n",
    "        print(\"you can eat cake as you are pass\")\n",
    "elif (marks >=50 and marks <60):\n",
    "    print(\"your grade  is C\")\n",
    "    if(dietVeg):\n",
    "        print(\"order vegetable dal roti\")\n",
    "    else:\n",
    "        print(\"you can eat non veg dal roti as you are pass\")\n",
    "elif marks >=40 and marks < 50 :\n",
    "    print(\"your grade is D\")\n",
    "    if(dietVeg):\n",
    "        print(\"order vegetable biryani\")\n",
    "    else:\n",
    "        print(\"you can eat biryani as you are pass\")\n",
    "else :\n",
    "    print(\"your result is FAIL\")\n",
    "    print(\"you to drink water only\")\n"
   ]
  },
  {
   "cell_type": "code",
   "execution_count": null,
   "id": "6e0e738c-26e4-4210-a655-71e9782b7731",
   "metadata": {},
   "outputs": [],
   "source": []
  },
  {
   "cell_type": "code",
   "execution_count": null,
   "id": "6165cff8-6762-4064-82cb-9a818d0cc859",
   "metadata": {},
   "outputs": [],
   "source": []
  },
  {
   "cell_type": "markdown",
   "id": "96cc7394-f433-49f3-8d2b-15cb7cd9c024",
   "metadata": {},
   "source": [
    "# WAP to input a year from user and check if it is a leap year"
   ]
  },
  {
   "cell_type": "markdown",
   "id": "265ce9be-d674-4446-b36d-7caed8fc3f2b",
   "metadata": {
    "tags": []
   },
   "source": [
    "2000 -> yes\n",
    "\n",
    "2001 -> no\n"
   ]
  },
  {
   "cell_type": "code",
   "execution_count": null,
   "id": "a0df4dd3-8f3e-4262-8bd2-1ced50cf0c2b",
   "metadata": {},
   "outputs": [],
   "source": []
  },
  {
   "cell_type": "code",
   "execution_count": 104,
   "id": "c7742ee3-44e6-44a7-803c-03e84b6410a6",
   "metadata": {
    "tags": []
   },
   "outputs": [
    {
     "data": {
      "text/plain": [
       "200"
      ]
     },
     "execution_count": 104,
     "metadata": {},
     "output_type": "execute_result"
    }
   ],
   "source": [
    "200 % 400"
   ]
  },
  {
   "cell_type": "code",
   "execution_count": 96,
   "id": "6e8c7651-89fd-4b7c-9a33-4a0ce36d393e",
   "metadata": {
    "tags": []
   },
   "outputs": [
    {
     "name": "stdout",
     "output_type": "stream",
     "text": [
      "not a leap year\n"
     ]
    }
   ],
   "source": [
    "year = 2100\n",
    "\n",
    "\n",
    "if (number % 2 == 0)\n",
    "\n",
    "\n",
    "if number % 400 ==0\n",
    "\n",
    "if (year %4==0):\n",
    "    if(year%100==0):\n",
    "        if (year%400==0):\n",
    "            print(\"leap year\")\n",
    "        else:\n",
    "            print(\"not a leap year\")\n",
    "    else :\n",
    "        print(\"not a leap year\")\n",
    "else:\n",
    "    print(\"not a leap year\")"
   ]
  },
  {
   "cell_type": "code",
   "execution_count": null,
   "id": "ff5846df-3fb6-4a23-8998-f0624e4ad1e7",
   "metadata": {},
   "outputs": [],
   "source": []
  },
  {
   "cell_type": "code",
   "execution_count": null,
   "id": "94c9248e-9fbd-47e9-82d1-88a5011161c8",
   "metadata": {},
   "outputs": [],
   "source": []
  },
  {
   "cell_type": "code",
   "execution_count": 97,
   "id": "147d9115-7fbf-4c46-8c2c-4fc2eadd0ff5",
   "metadata": {
    "tags": []
   },
   "outputs": [],
   "source": [
    "def suggest_destination(weather, budget):\n",
    "    if weather == \"sunny\":\n",
    "        if budget > 500:\n",
    "            return \"You can enjoy a beach destination.\"\n",
    "        else:\n",
    "            return \"You can visit a nearby park.\"\n",
    "    elif weather == \"rainy\":\n",
    "        return \"You can visit a museum.\"\n",
    "    elif weather == \"snowy\":\n",
    "        return \"You can visit a ski resort.\"\n"
   ]
  },
  {
   "cell_type": "code",
   "execution_count": null,
   "id": "023058ad-1b6e-4f45-ab42-3ea77873e65c",
   "metadata": {},
   "outputs": [],
   "source": []
  },
  {
   "cell_type": "code",
   "execution_count": 98,
   "id": "042b65ca-f893-4385-8274-962f3f0e25ba",
   "metadata": {
    "tags": []
   },
   "outputs": [
    {
     "name": "stdout",
     "output_type": "stream",
     "text": [
      "You can enjoy a beach destination.\n"
     ]
    }
   ],
   "source": [
    "print(suggest_destination(\"sunny\", 600))"
   ]
  },
  {
   "cell_type": "code",
   "execution_count": 99,
   "id": "c55d23dd-4dc9-4687-91da-95da4e141efa",
   "metadata": {
    "tags": []
   },
   "outputs": [
    {
     "name": "stdout",
     "output_type": "stream",
     "text": [
      "You can visit a nearby park.\n"
     ]
    }
   ],
   "source": [
    "print(suggest_destination(\"sunny\", 300))"
   ]
  },
  {
   "cell_type": "code",
   "execution_count": 100,
   "id": "b5d55c8e-03af-48e5-a927-ec7dd2b77ce4",
   "metadata": {
    "tags": []
   },
   "outputs": [
    {
     "name": "stdout",
     "output_type": "stream",
     "text": [
      "You can visit a ski resort.\n"
     ]
    }
   ],
   "source": [
    "print(suggest_destination(\"snowy\", 300))"
   ]
  },
  {
   "cell_type": "code",
   "execution_count": 103,
   "id": "ece95c48-3205-4de7-a6f4-f91d91e4d240",
   "metadata": {
    "tags": []
   },
   "outputs": [
    {
     "name": "stdout",
     "output_type": "stream",
     "text": [
      "None\n"
     ]
    }
   ],
   "source": [
    "print(suggest_destination(\"windy\", 300))"
   ]
  },
  {
   "cell_type": "code",
   "execution_count": null,
   "id": "ee1b4f9c-f972-497e-9138-bcd3fabd6840",
   "metadata": {},
   "outputs": [],
   "source": []
  },
  {
   "cell_type": "code",
   "execution_count": null,
   "id": "fd5fa416-b0ad-4cb3-bf00-3081333c0abe",
   "metadata": {},
   "outputs": [],
   "source": []
  },
  {
   "cell_type": "code",
   "execution_count": 102,
   "id": "e145d51f-1e8d-4114-b7ea-1282f999fc54",
   "metadata": {
    "tags": []
   },
   "outputs": [
    {
     "name": "stdout",
     "output_type": "stream",
     "text": [
      "you are out of if block\n"
     ]
    }
   ],
   "source": [
    "char = '%'\n",
    "\n",
    "asciiValue = ord(char)\n",
    "\n",
    "\n",
    "if(asciiValue >=97 and asciiValue <= (122)):\n",
    "    print(\"small letter\")\n",
    "elif(asciiValue>=65 and asciiValue <= (90)):\n",
    "    print(\"capital character\")\n",
    "elif (asciiValue >=48 and asciiValue<=57):\n",
    "    print(\"its a digit\")\n",
    "\n",
    "\n",
    "print(\"you are out of if block\")"
   ]
  },
  {
   "cell_type": "code",
   "execution_count": null,
   "id": "749f6568-b3bb-45f6-b9f3-44f501f63f00",
   "metadata": {},
   "outputs": [],
   "source": []
  },
  {
   "cell_type": "code",
   "execution_count": null,
   "id": "9f01a1f9-de91-49ed-a91e-4afd091222b2",
   "metadata": {},
   "outputs": [],
   "source": []
  },
  {
   "cell_type": "code",
   "execution_count": 110,
   "id": "7529e99d-55e0-4198-b547-384fb748a304",
   "metadata": {
    "tags": []
   },
   "outputs": [],
   "source": [
    "prime = \"prime number\""
   ]
  },
  {
   "cell_type": "code",
   "execution_count": 114,
   "id": "e45ecbed-f089-4962-b1e5-f58a86281acd",
   "metadata": {
    "tags": []
   },
   "outputs": [],
   "source": [
    "del(number)"
   ]
  },
  {
   "cell_type": "code",
   "execution_count": 118,
   "id": "45f9e367-2afa-40e4-8e5f-ae96c809eab9",
   "metadata": {
    "tags": []
   },
   "outputs": [
    {
     "name": "stdin",
     "output_type": "stream",
     "text": [
      "please tell me number type prime nunmber\n",
      "enter the prime nunmber 5\n"
     ]
    },
    {
     "name": "stdout",
     "output_type": "stream",
     "text": [
      "5\n"
     ]
    }
   ],
   "source": [
    "numberType = input(\"please tell me number type\")\n",
    "\n",
    "number = int(input(\"enter the {prime1}\".format(prime1=numberType)))\n",
    "\n",
    "print(number)"
   ]
  },
  {
   "cell_type": "code",
   "execution_count": 121,
   "id": "fe658a24-0f2d-4815-a916-896188b9746f",
   "metadata": {
    "tags": []
   },
   "outputs": [],
   "source": [
    "asciivalue = 98"
   ]
  },
  {
   "cell_type": "code",
   "execution_count": 119,
   "id": "8c7586d7-6fe0-44a2-9724-465e2d0807dd",
   "metadata": {
    "tags": []
   },
   "outputs": [
    {
     "data": {
      "text/plain": [
       "122"
      ]
     },
     "execution_count": 119,
     "metadata": {},
     "output_type": "execute_result"
    }
   ],
   "source": [
    "97 and 122"
   ]
  },
  {
   "cell_type": "code",
   "execution_count": 122,
   "id": "9f8c1d5b-b2c3-4b3d-918e-54e22b6ef223",
   "metadata": {
    "tags": []
   },
   "outputs": [
    {
     "data": {
      "text/plain": [
       "True"
      ]
     },
     "execution_count": 122,
     "metadata": {},
     "output_type": "execute_result"
    }
   ],
   "source": [
    "asciivalue >=97"
   ]
  },
  {
   "cell_type": "code",
   "execution_count": 123,
   "id": "b8d15c7f-336e-493d-8731-c57b15daf117",
   "metadata": {
    "tags": []
   },
   "outputs": [
    {
     "data": {
      "text/plain": [
       "True"
      ]
     },
     "execution_count": 123,
     "metadata": {},
     "output_type": "execute_result"
    }
   ],
   "source": [
    "asciivalue <= (122)"
   ]
  },
  {
   "cell_type": "code",
   "execution_count": null,
   "id": "1cbcee11-c3f5-4cff-b0ca-4e9ec3306bf2",
   "metadata": {},
   "outputs": [],
   "source": [
    "asciivalue >=97 and asciivalue <= (122) #means it prints second value right"
   ]
  },
  {
   "cell_type": "code",
   "execution_count": null,
   "id": "54f66960-8f94-4231-8a30-d7743e0144ac",
   "metadata": {},
   "outputs": [],
   "source": []
  },
  {
   "cell_type": "code",
   "execution_count": null,
   "id": "01608cd6-a017-4eee-bd37-04b47ed8d9bc",
   "metadata": {},
   "outputs": [],
   "source": []
  },
  {
   "cell_type": "code",
   "execution_count": 137,
   "id": "ae6e2f9c-ab84-4ac8-b1a4-3d46dda5a25e",
   "metadata": {
    "tags": []
   },
   "outputs": [],
   "source": [
    "import math\n",
    "\n",
    "def truncate(f, n):\n",
    "    return math.floor(f * 10 ** n) / 10 ** n"
   ]
  },
  {
   "cell_type": "code",
   "execution_count": 139,
   "id": "b9b9e233-693a-4abb-9ab3-f897e779adc2",
   "metadata": {
    "tags": []
   },
   "outputs": [
    {
     "data": {
      "text/plain": [
       "62.37"
      ]
     },
     "execution_count": 139,
     "metadata": {},
     "output_type": "execute_result"
    }
   ],
   "source": [
    "a1=62.376897 \n",
    "truncate(a1,2)\n",
    "#print(f\"my percentage is {a1}\")"
   ]
  },
  {
   "cell_type": "code",
   "execution_count": null,
   "id": "942b8561-3dfc-467e-b487-46269bb3cf06",
   "metadata": {},
   "outputs": [],
   "source": []
  },
  {
   "cell_type": "code",
   "execution_count": null,
   "id": "ab1cf658-1bdd-47c0-aa73-36db1446032b",
   "metadata": {},
   "outputs": [],
   "source": [
    "\"\""
   ]
  },
  {
   "cell_type": "code",
   "execution_count": 145,
   "id": "5c4a5956-df16-4875-97a0-a9aecbb39cdd",
   "metadata": {
    "tags": []
   },
   "outputs": [
    {
     "data": {
      "text/plain": [
       "True"
      ]
     },
     "execution_count": 145,
     "metadata": {},
     "output_type": "execute_result"
    }
   ],
   "source": [
    "bool(\"false\")"
   ]
  },
  {
   "cell_type": "code",
   "execution_count": 146,
   "id": "79ffd96a-8d86-4a4c-b678-0bd60dd32be8",
   "metadata": {
    "tags": []
   },
   "outputs": [
    {
     "name": "stdin",
     "output_type": "stream",
     "text": [
      "enter if you are hungry True or False False\n"
     ]
    },
    {
     "name": "stdout",
     "output_type": "stream",
     "text": [
      "True\n",
      "Ok, you are hungry\n",
      "let us order something for you\n"
     ]
    }
   ],
   "source": [
    "hungry = bool(input(\"enter if you are hungry True or False\"))\n",
    "print(hungry)\n",
    "if hungry:\n",
    "    print(\"Ok, you are hungry\")\n",
    "    print(\"let us order something for you\")\n",
    "if not hungry:\n",
    "    print(\"Ok, you are not hungry\")\n",
    "    print(\"let us order desserts for you\")"
   ]
  },
  {
   "cell_type": "code",
   "execution_count": null,
   "id": "a973d007-181c-4b50-ab2e-b1ef6ad7ff97",
   "metadata": {},
   "outputs": [],
   "source": [
    "boolinput = bool(input())"
   ]
  },
  {
   "cell_type": "code",
   "execution_count": null,
   "id": "29375c12-4056-4e28-a211-932355508143",
   "metadata": {},
   "outputs": [],
   "source": []
  },
  {
   "cell_type": "code",
   "execution_count": null,
   "id": "45942bf4-fc2e-432e-a5a8-ebf482bcff64",
   "metadata": {},
   "outputs": [],
   "source": []
  },
  {
   "cell_type": "code",
   "execution_count": 148,
   "id": "ea499803-e5d2-4cf9-8d88-f759a0e0cb00",
   "metadata": {
    "tags": []
   },
   "outputs": [
    {
     "name": "stdin",
     "output_type": "stream",
     "text": [
      "enter marks 80\n"
     ]
    },
    {
     "name": "stdout",
     "output_type": "stream",
     "text": [
      "Grade is A\n"
     ]
    }
   ],
   "source": [
    "marks = int(input(\"enter marks\"))\n",
    "\n",
    "\n",
    "if (marks >= 80):\n",
    "    print(\"Grade is A\")\n",
    "if (marks >= 60 and marks <80):\n",
    "    print(\"Grade is B\")\n",
    "if (marks >= 50 and marks <60):\n",
    "    print(\"Grade is C\")\n",
    "\n",
    "    \n",
    "    \n",
    "if (marks >= 40 and marks <50):\n",
    "    print(\"Grade is D\")\n",
    "else:\n",
    "    print(\"Grade is Fail\")"
   ]
  },
  {
   "cell_type": "code",
   "execution_count": null,
   "id": "76c2d2d2-356a-44dd-855d-3c20774fc582",
   "metadata": {},
   "outputs": [],
   "source": []
  },
  {
   "cell_type": "code",
   "execution_count": null,
   "id": "deda0e2e-1f13-4b03-b16d-86da241918a7",
   "metadata": {},
   "outputs": [],
   "source": []
  },
  {
   "cell_type": "code",
   "execution_count": null,
   "id": "e4a4b9cb-e118-48b2-8115-179ce9bfd96f",
   "metadata": {},
   "outputs": [],
   "source": []
  }
 ],
 "metadata": {
  "kernelspec": {
   "display_name": "Python 3 (ipykernel)",
   "language": "python",
   "name": "python3"
  },
  "language_info": {
   "codemirror_mode": {
    "name": "ipython",
    "version": 3
   },
   "file_extension": ".py",
   "mimetype": "text/x-python",
   "name": "python",
   "nbconvert_exporter": "python",
   "pygments_lexer": "ipython3",
   "version": "3.11.5"
  }
 },
 "nbformat": 4,
 "nbformat_minor": 5
}
