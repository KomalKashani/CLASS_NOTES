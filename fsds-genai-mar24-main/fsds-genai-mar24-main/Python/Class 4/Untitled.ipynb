{
 "cells": [
  {
   "cell_type": "markdown",
   "id": "4196d4b4-2fb6-4a06-a359-8723c9dbeb15",
   "metadata": {},
   "source": [
    "# Bools"
   ]
  },
  {
   "cell_type": "markdown",
   "id": "7c1e9911-4f79-4e97-bd11-24bef0857602",
   "metadata": {
    "tags": []
   },
   "source": [
    "# Comments in Python"
   ]
  },
  {
   "cell_type": "code",
   "execution_count": 4,
   "id": "c5fd77d2-eecf-4065-ac81-36ee6ccb3e70",
   "metadata": {
    "tags": []
   },
   "outputs": [],
   "source": [
    "# This is a single line comment"
   ]
  },
  {
   "cell_type": "code",
   "execution_count": 7,
   "id": "6eb32049-2d21-443c-9717-889dfbd2f02b",
   "metadata": {
    "tags": []
   },
   "outputs": [
    {
     "name": "stdout",
     "output_type": "stream",
     "text": [
      "hello\n"
     ]
    }
   ],
   "source": [
    "\"\"\"\n",
    "this \n",
    "is \n",
    "a multi \n",
    "line comment\n",
    "\"\"\"\n",
    "\n",
    "print(\"hello\")"
   ]
  },
  {
   "cell_type": "code",
   "execution_count": null,
   "id": "52825702-32e8-4302-bb4e-e489dadbb0dd",
   "metadata": {},
   "outputs": [],
   "source": []
  },
  {
   "cell_type": "code",
   "execution_count": 1,
   "id": "2006ac11-75af-4069-9d30-c09df2f80e5c",
   "metadata": {
    "tags": []
   },
   "outputs": [
    {
     "ename": "NameError",
     "evalue": "name 'true' is not defined",
     "output_type": "error",
     "traceback": [
      "\u001b[0;31m---------------------------------------------------------------------------\u001b[0m",
      "\u001b[0;31mNameError\u001b[0m                                 Traceback (most recent call last)",
      "Cell \u001b[0;32mIn[1], line 1\u001b[0m\n\u001b[0;32m----> 1\u001b[0m bool1 \u001b[38;5;241m=\u001b[39m true\n",
      "\u001b[0;31mNameError\u001b[0m: name 'true' is not defined"
     ]
    }
   ],
   "source": [
    "bool1 = true"
   ]
  },
  {
   "cell_type": "code",
   "execution_count": 2,
   "id": "9650f194-237e-4aa2-b348-a730b3a4ce9a",
   "metadata": {
    "tags": []
   },
   "outputs": [],
   "source": [
    "bool1 = True  # Should be case sensitive"
   ]
  },
  {
   "cell_type": "code",
   "execution_count": 9,
   "id": "b5506289-83c8-4f03-a7af-ba0edf875f16",
   "metadata": {
    "tags": []
   },
   "outputs": [],
   "source": [
    "bool2 = False"
   ]
  },
  {
   "cell_type": "code",
   "execution_count": null,
   "id": "2cbe422f-eb81-42ab-a840-4ce33bf13484",
   "metadata": {},
   "outputs": [],
   "source": []
  },
  {
   "cell_type": "code",
   "execution_count": 10,
   "id": "b2c3615d-3821-4885-8b67-31ea43cb7d26",
   "metadata": {
    "tags": []
   },
   "outputs": [],
   "source": [
    "a = 5\n",
    "b = 9"
   ]
  },
  {
   "cell_type": "code",
   "execution_count": 11,
   "id": "23c770c5-c09e-4c12-b9c0-3f3a6a4f6c51",
   "metadata": {
    "tags": []
   },
   "outputs": [
    {
     "data": {
      "text/plain": [
       "False"
      ]
     },
     "execution_count": 11,
     "metadata": {},
     "output_type": "execute_result"
    }
   ],
   "source": [
    "a > b # 5 > 9"
   ]
  },
  {
   "cell_type": "code",
   "execution_count": 12,
   "id": "97aa1b1e-9b60-4eb3-b445-36efc401390d",
   "metadata": {
    "tags": []
   },
   "outputs": [],
   "source": [
    "b1 = True\n",
    "b2 = True"
   ]
  },
  {
   "cell_type": "code",
   "execution_count": 13,
   "id": "e1b1bea9-4479-4e2c-b37e-d74cee59aa99",
   "metadata": {
    "tags": []
   },
   "outputs": [
    {
     "name": "stdout",
     "output_type": "stream",
     "text": [
      "2\n"
     ]
    }
   ],
   "source": [
    "print(b1+b2)"
   ]
  },
  {
   "cell_type": "code",
   "execution_count": 14,
   "id": "abf70d49-6b2a-4a56-b829-d61c316ffe92",
   "metadata": {
    "tags": []
   },
   "outputs": [
    {
     "name": "stdout",
     "output_type": "stream",
     "text": [
      "True\n"
     ]
    }
   ],
   "source": [
    "print(b1)"
   ]
  },
  {
   "cell_type": "code",
   "execution_count": 15,
   "id": "748f5679-d1fe-4876-8a66-4705967d16ad",
   "metadata": {
    "tags": []
   },
   "outputs": [],
   "source": [
    "b3 = False\n",
    "b4 =False\n"
   ]
  },
  {
   "cell_type": "code",
   "execution_count": 16,
   "id": "8e29c4f7-b7a4-4f15-9ec4-2228bda057e5",
   "metadata": {
    "tags": []
   },
   "outputs": [
    {
     "name": "stdout",
     "output_type": "stream",
     "text": [
      "0\n"
     ]
    }
   ],
   "source": [
    "print(b3+b4)"
   ]
  },
  {
   "cell_type": "code",
   "execution_count": 17,
   "id": "1a21073a-3d41-4cf3-a0c0-1c392f2e7449",
   "metadata": {
    "tags": []
   },
   "outputs": [],
   "source": [
    "b5 = True\n",
    "b6 = False"
   ]
  },
  {
   "cell_type": "code",
   "execution_count": 18,
   "id": "1a22f0d0-a3f5-4836-a1ae-075c2fcee9d4",
   "metadata": {
    "tags": []
   },
   "outputs": [
    {
     "name": "stdout",
     "output_type": "stream",
     "text": [
      "1\n"
     ]
    }
   ],
   "source": [
    "print(b5+b6)"
   ]
  },
  {
   "cell_type": "code",
   "execution_count": 19,
   "id": "e01f0ba2-2877-40da-8804-abae6d0d645a",
   "metadata": {
    "tags": []
   },
   "outputs": [
    {
     "data": {
      "text/plain": [
       "False"
      ]
     },
     "execution_count": 19,
     "metadata": {},
     "output_type": "execute_result"
    }
   ],
   "source": [
    "-1 == True"
   ]
  },
  {
   "cell_type": "code",
   "execution_count": 20,
   "id": "92c2800c-7279-4b83-a085-885c7e717506",
   "metadata": {
    "tags": []
   },
   "outputs": [
    {
     "data": {
      "text/plain": [
       "2"
      ]
     },
     "execution_count": 20,
     "metadata": {},
     "output_type": "execute_result"
    }
   ],
   "source": [
    "b1 + b2 + b3"
   ]
  },
  {
   "cell_type": "code",
   "execution_count": null,
   "id": "e7d55a5b-914a-4044-a508-4db7ddf80441",
   "metadata": {},
   "outputs": [],
   "source": []
  },
  {
   "cell_type": "code",
   "execution_count": null,
   "id": "548ad23f-e35b-445f-a66e-00860d55c6df",
   "metadata": {},
   "outputs": [],
   "source": []
  },
  {
   "cell_type": "code",
   "execution_count": null,
   "id": "e9d83738-c574-4453-8ea3-a4ffe9da8f12",
   "metadata": {},
   "outputs": [],
   "source": []
  },
  {
   "cell_type": "code",
   "execution_count": null,
   "id": "bf2bf54f-3a90-4a27-9f91-cd14ab99199a",
   "metadata": {},
   "outputs": [],
   "source": []
  },
  {
   "cell_type": "markdown",
   "id": "52f271cc-7536-4e3e-9b1e-d76054b11425",
   "metadata": {},
   "source": [
    "# Strings"
   ]
  },
  {
   "cell_type": "code",
   "execution_count": 21,
   "id": "f3b295ee-00f3-48e7-8b8d-848092407f1a",
   "metadata": {
    "tags": []
   },
   "outputs": [],
   "source": [
    "str1 = \"mayank\""
   ]
  },
  {
   "cell_type": "code",
   "execution_count": 22,
   "id": "e27d1bc6-3809-4494-841c-2edd48a24cc2",
   "metadata": {
    "tags": []
   },
   "outputs": [
    {
     "data": {
      "text/plain": [
       "str"
      ]
     },
     "execution_count": 22,
     "metadata": {},
     "output_type": "execute_result"
    }
   ],
   "source": [
    "type(str1)"
   ]
  },
  {
   "cell_type": "code",
   "execution_count": 23,
   "id": "8d7e0ca0-ff10-4461-8eb0-0e7ae273fa52",
   "metadata": {
    "tags": []
   },
   "outputs": [
    {
     "data": {
      "text/plain": [
       "str"
      ]
     },
     "execution_count": 23,
     "metadata": {},
     "output_type": "execute_result"
    }
   ],
   "source": [
    "str2 = \"m\"\n",
    "type(str2)"
   ]
  },
  {
   "cell_type": "code",
   "execution_count": null,
   "id": "4b13266d-68f0-4a53-a9a8-bc1c984893ea",
   "metadata": {},
   "outputs": [],
   "source": []
  },
  {
   "cell_type": "code",
   "execution_count": null,
   "id": "60706744-1df3-4627-b758-851f5ffdef19",
   "metadata": {},
   "outputs": [],
   "source": []
  },
  {
   "cell_type": "code",
   "execution_count": null,
   "id": "d6b244c6-232e-4229-9d62-ebf141f1adf9",
   "metadata": {},
   "outputs": [],
   "source": []
  },
  {
   "cell_type": "code",
   "execution_count": null,
   "id": "45a84c94-2c4f-4d65-a2f3-55acd82d3d32",
   "metadata": {},
   "outputs": [],
   "source": []
  },
  {
   "cell_type": "code",
   "execution_count": null,
   "id": "e60430c6-759d-4f9e-8343-5e3ffc3ae13f",
   "metadata": {},
   "outputs": [],
   "source": []
  },
  {
   "cell_type": "code",
   "execution_count": 24,
   "id": "d80c0043-5942-4be2-a89a-189408819aa8",
   "metadata": {
    "tags": []
   },
   "outputs": [],
   "source": [
    "str2 = 'mayank'\n",
    "str3 = \"mayank1\""
   ]
  },
  {
   "cell_type": "code",
   "execution_count": 25,
   "id": "82cda7d3-cf77-4907-b71e-4d2982dab3af",
   "metadata": {
    "tags": []
   },
   "outputs": [
    {
     "name": "stdout",
     "output_type": "stream",
     "text": [
      "mayank\n"
     ]
    }
   ],
   "source": [
    "print(str2)"
   ]
  },
  {
   "cell_type": "code",
   "execution_count": 26,
   "id": "688b6376-94de-4bd0-8f4e-dc0e473007ed",
   "metadata": {
    "tags": []
   },
   "outputs": [
    {
     "name": "stdout",
     "output_type": "stream",
     "text": [
      "mayank1\n"
     ]
    }
   ],
   "source": [
    "print(str3)"
   ]
  },
  {
   "cell_type": "code",
   "execution_count": 27,
   "id": "4bf74fda-38cb-4445-a550-14eb4f4cc6ab",
   "metadata": {
    "tags": []
   },
   "outputs": [
    {
     "data": {
      "text/plain": [
       "'mayank'"
      ]
     },
     "execution_count": 27,
     "metadata": {},
     "output_type": "execute_result"
    }
   ],
   "source": [
    "str2"
   ]
  },
  {
   "cell_type": "code",
   "execution_count": 28,
   "id": "a5e4a805-d9ea-4838-92f3-3764aae71035",
   "metadata": {
    "tags": []
   },
   "outputs": [
    {
     "data": {
      "text/plain": [
       "'mayank1'"
      ]
     },
     "execution_count": 28,
     "metadata": {},
     "output_type": "execute_result"
    }
   ],
   "source": [
    "str3"
   ]
  },
  {
   "cell_type": "code",
   "execution_count": 30,
   "id": "acd8940b-092e-4bae-8980-98dfeb31b506",
   "metadata": {
    "tags": []
   },
   "outputs": [],
   "source": [
    "str4 ='0'\n",
    "str5 = 0"
   ]
  },
  {
   "cell_type": "code",
   "execution_count": 31,
   "id": "603d09db-dade-441d-8e82-e758bfc7f9ee",
   "metadata": {
    "tags": []
   },
   "outputs": [
    {
     "data": {
      "text/plain": [
       "False"
      ]
     },
     "execution_count": 31,
     "metadata": {},
     "output_type": "execute_result"
    }
   ],
   "source": [
    "str4 == str5"
   ]
  },
  {
   "cell_type": "code",
   "execution_count": null,
   "id": "b58e67b1-98a0-4700-8050-e633e848ba61",
   "metadata": {},
   "outputs": [],
   "source": []
  },
  {
   "cell_type": "code",
   "execution_count": null,
   "id": "5c1ad2d9-c241-45c0-ba06-1ad385d2a4e0",
   "metadata": {},
   "outputs": [],
   "source": []
  },
  {
   "cell_type": "code",
   "execution_count": 32,
   "id": "cb445ee0-e23f-4a9f-b645-6c549d490ae4",
   "metadata": {
    "tags": []
   },
   "outputs": [
    {
     "data": {
      "text/plain": [
       "'yash'"
      ]
     },
     "execution_count": 32,
     "metadata": {},
     "output_type": "execute_result"
    }
   ],
   "source": [
    "str6 = \"yash\"\n",
    "str6"
   ]
  },
  {
   "cell_type": "code",
   "execution_count": 33,
   "id": "725f835b-9d3d-4945-b910-9758afdd945d",
   "metadata": {
    "tags": []
   },
   "outputs": [
    {
     "data": {
      "text/plain": [
       "'yash'"
      ]
     },
     "execution_count": 33,
     "metadata": {},
     "output_type": "execute_result"
    }
   ],
   "source": [
    "str7 = \"yash\"\n",
    "str7"
   ]
  },
  {
   "cell_type": "markdown",
   "id": "98662a7e-db28-4819-a392-94295dfe7ae7",
   "metadata": {
    "tags": []
   },
   "source": [
    "# Unicode way of storing my values"
   ]
  },
  {
   "cell_type": "code",
   "execution_count": 34,
   "id": "b646aebf-a7c4-47a5-bc55-a6c0688a13d9",
   "metadata": {
    "tags": []
   },
   "outputs": [
    {
     "data": {
      "text/plain": [
       "48"
      ]
     },
     "execution_count": 34,
     "metadata": {},
     "output_type": "execute_result"
    }
   ],
   "source": [
    "ord('0')"
   ]
  },
  {
   "cell_type": "code",
   "execution_count": 36,
   "id": "45d0cd0d-29bd-401c-b639-11699fd5956e",
   "metadata": {
    "tags": []
   },
   "outputs": [
    {
     "data": {
      "text/plain": [
       "65"
      ]
     },
     "execution_count": 36,
     "metadata": {},
     "output_type": "execute_result"
    }
   ],
   "source": [
    "ord('A')"
   ]
  },
  {
   "cell_type": "code",
   "execution_count": 37,
   "id": "24715375-34ef-4758-ab0f-6412a7815e1e",
   "metadata": {
    "tags": []
   },
   "outputs": [
    {
     "data": {
      "text/plain": [
       "42"
      ]
     },
     "execution_count": 37,
     "metadata": {},
     "output_type": "execute_result"
    }
   ],
   "source": [
    "ord('*')"
   ]
  },
  {
   "cell_type": "code",
   "execution_count": 38,
   "id": "4a51e43a-fc63-4919-89d5-48ec28aea966",
   "metadata": {
    "tags": []
   },
   "outputs": [
    {
     "ename": "TypeError",
     "evalue": "ord() expected a character, but string of length 2 found",
     "output_type": "error",
     "traceback": [
      "\u001b[0;31m---------------------------------------------------------------------------\u001b[0m",
      "\u001b[0;31mTypeError\u001b[0m                                 Traceback (most recent call last)",
      "Cell \u001b[0;32mIn[38], line 1\u001b[0m\n\u001b[0;32m----> 1\u001b[0m \u001b[38;5;28mord\u001b[39m(\u001b[38;5;124m'\u001b[39m\u001b[38;5;124mma\u001b[39m\u001b[38;5;124m'\u001b[39m)\n",
      "\u001b[0;31mTypeError\u001b[0m: ord() expected a character, but string of length 2 found"
     ]
    }
   ],
   "source": [
    "ord('ma')"
   ]
  },
  {
   "cell_type": "code",
   "execution_count": 39,
   "id": "819ebdee-0a0c-4ae7-8365-c0d6f862519c",
   "metadata": {
    "tags": []
   },
   "outputs": [
    {
     "data": {
      "text/plain": [
       "97"
      ]
     },
     "execution_count": 39,
     "metadata": {},
     "output_type": "execute_result"
    }
   ],
   "source": [
    "ord('a')"
   ]
  },
  {
   "cell_type": "code",
   "execution_count": null,
   "id": "21c4375b-d559-4acf-8ed9-f0376227015a",
   "metadata": {},
   "outputs": [],
   "source": []
  },
  {
   "cell_type": "code",
   "execution_count": null,
   "id": "fe2cee4c-0ec9-416f-88cb-680a0374d2d6",
   "metadata": {},
   "outputs": [],
   "source": [
    "# Give Python Code to save the below strings into a variable ?\n",
    "\n",
    "1. Mayank's Code\n",
    "\n",
    "2. Let us \"Code\"\n",
    "\n",
    "3. Let's \"Code\""
   ]
  },
  {
   "cell_type": "code",
   "execution_count": 41,
   "id": "2c690175-ecf0-4575-ba61-34969d6fc6c5",
   "metadata": {
    "tags": []
   },
   "outputs": [
    {
     "data": {
      "text/plain": [
       "'python'"
      ]
     },
     "execution_count": 41,
     "metadata": {},
     "output_type": "execute_result"
    }
   ],
   "source": []
  },
  {
   "cell_type": "code",
   "execution_count": 42,
   "id": "b14392ac-60db-47de-880f-8290c8d8b714",
   "metadata": {
    "tags": []
   },
   "outputs": [
    {
     "ename": "SyntaxError",
     "evalue": "unterminated string literal (detected at line 1) (3452353851.py, line 1)",
     "output_type": "error",
     "traceback": [
      "\u001b[0;36m  Cell \u001b[0;32mIn[42], line 1\u001b[0;36m\u001b[0m\n\u001b[0;31m    StrAns1 = 'Mayank's Code'\u001b[0m\n\u001b[0m                            ^\u001b[0m\n\u001b[0;31mSyntaxError\u001b[0m\u001b[0;31m:\u001b[0m unterminated string literal (detected at line 1)\n"
     ]
    }
   ],
   "source": [
    "StrAns1 = 'Mayank's Code'"
   ]
  },
  {
   "cell_type": "code",
   "execution_count": 43,
   "id": "36991a4d-9888-44f4-85ab-ec6f0d2069c1",
   "metadata": {
    "tags": []
   },
   "outputs": [],
   "source": [
    "StrAns1 = \"Mayank's Code\""
   ]
  },
  {
   "cell_type": "code",
   "execution_count": 50,
   "id": "27f6cfd6-2726-4f73-b60b-73fd6e101fce",
   "metadata": {
    "tags": []
   },
   "outputs": [
    {
     "name": "stdout",
     "output_type": "stream",
     "text": [
      "Mayank's Code\n"
     ]
    }
   ],
   "source": [
    "print(StrAns1)"
   ]
  },
  {
   "cell_type": "code",
   "execution_count": null,
   "id": "597de6af-a8ed-45ea-a865-9a5fa664bd01",
   "metadata": {},
   "outputs": [],
   "source": []
  },
  {
   "cell_type": "code",
   "execution_count": null,
   "id": "dec2cb6d-de27-49a4-a08a-c9e6d50d9e03",
   "metadata": {},
   "outputs": [],
   "source": []
  },
  {
   "cell_type": "code",
   "execution_count": null,
   "id": "e8790ff2-b349-4a25-90df-dc4e3396f862",
   "metadata": {},
   "outputs": [],
   "source": []
  },
  {
   "cell_type": "code",
   "execution_count": null,
   "id": "a87920a0-d57a-4e49-82d4-de5f5c5d9bd5",
   "metadata": {},
   "outputs": [],
   "source": []
  },
  {
   "cell_type": "code",
   "execution_count": 49,
   "id": "be0c9af5-5f4d-469f-a4e3-4e6704330d0d",
   "metadata": {
    "tags": []
   },
   "outputs": [
    {
     "ename": "SyntaxError",
     "evalue": "invalid syntax (4157227460.py, line 1)",
     "output_type": "error",
     "traceback": [
      "\u001b[0;36m  Cell \u001b[0;32mIn[49], line 1\u001b[0;36m\u001b[0m\n\u001b[0;31m    StrAns2 = \"Let us \"Code\"\"\u001b[0m\n\u001b[0m                       ^\u001b[0m\n\u001b[0;31mSyntaxError\u001b[0m\u001b[0;31m:\u001b[0m invalid syntax\n"
     ]
    }
   ],
   "source": [
    "StrAns2 = \"Let us \"Code\"\""
   ]
  },
  {
   "cell_type": "code",
   "execution_count": 48,
   "id": "000f33a9-ecbc-4ec4-8dcb-611968f4cc11",
   "metadata": {
    "tags": []
   },
   "outputs": [],
   "source": [
    "StrAns2 = 'Let us \"Code\"'"
   ]
  },
  {
   "cell_type": "code",
   "execution_count": 47,
   "id": "b1f66efd-351f-47f0-afe7-efe359469242",
   "metadata": {
    "tags": []
   },
   "outputs": [
    {
     "name": "stdout",
     "output_type": "stream",
     "text": [
      "Let us \"Code\" today\n"
     ]
    }
   ],
   "source": [
    "print(StrAns2)\n"
   ]
  },
  {
   "cell_type": "code",
   "execution_count": null,
   "id": "63aa48f8-5b98-4a52-862d-9e702cdf653a",
   "metadata": {},
   "outputs": [],
   "source": []
  },
  {
   "cell_type": "code",
   "execution_count": null,
   "id": "f62c0b07-a990-4370-a932-60339b58fae8",
   "metadata": {},
   "outputs": [],
   "source": [
    "3. Let's \"Code\""
   ]
  },
  {
   "cell_type": "markdown",
   "id": "427e61b5-b8ed-4137-aa99-35528ec71358",
   "metadata": {},
   "source": [
    "# Multi Line String "
   ]
  },
  {
   "cell_type": "code",
   "execution_count": 51,
   "id": "96c73edf-35bf-4d5e-ae31-454c4283f121",
   "metadata": {
    "tags": []
   },
   "outputs": [
    {
     "ename": "SyntaxError",
     "evalue": "unterminated string literal (detected at line 1) (418572649.py, line 1)",
     "output_type": "error",
     "traceback": [
      "\u001b[0;36m  Cell \u001b[0;32mIn[51], line 1\u001b[0;36m\u001b[0m\n\u001b[0;31m    MutiLineString = \" line 1\u001b[0m\n\u001b[0m                     ^\u001b[0m\n\u001b[0;31mSyntaxError\u001b[0m\u001b[0;31m:\u001b[0m unterminated string literal (detected at line 1)\n"
     ]
    }
   ],
   "source": [
    "MutiLineString = \" line 1\n",
    "line 2\n",
    "line 3\""
   ]
  },
  {
   "cell_type": "code",
   "execution_count": 52,
   "id": "2ee4501e-558f-4999-97ba-cd23cba7f9bf",
   "metadata": {
    "tags": []
   },
   "outputs": [
    {
     "ename": "SyntaxError",
     "evalue": "unterminated string literal (detected at line 1) (1581001890.py, line 1)",
     "output_type": "error",
     "traceback": [
      "\u001b[0;36m  Cell \u001b[0;32mIn[52], line 1\u001b[0;36m\u001b[0m\n\u001b[0;31m    MutiLineString = ' line 1\u001b[0m\n\u001b[0m                     ^\u001b[0m\n\u001b[0;31mSyntaxError\u001b[0m\u001b[0;31m:\u001b[0m unterminated string literal (detected at line 1)\n"
     ]
    }
   ],
   "source": [
    "MutiLineString = ' line 1\n",
    "line 2\n",
    "line 3'"
   ]
  },
  {
   "cell_type": "code",
   "execution_count": 54,
   "id": "15ac3f63-a7d3-4ce5-8f00-ed272a4ef2e1",
   "metadata": {
    "tags": []
   },
   "outputs": [],
   "source": [
    "multiLineString = ''' line 1\n",
    "line 2\n",
    "line 3 '''"
   ]
  },
  {
   "cell_type": "code",
   "execution_count": null,
   "id": "7d18faca-587f-4e5e-8344-43ad5acbe664",
   "metadata": {},
   "outputs": [],
   "source": []
  },
  {
   "cell_type": "code",
   "execution_count": 55,
   "id": "a60983d6-a8a0-468e-8494-0874c41c858a",
   "metadata": {
    "tags": []
   },
   "outputs": [
    {
     "name": "stdout",
     "output_type": "stream",
     "text": [
      " line 1\n",
      "line 2\n",
      "line 3 \n"
     ]
    }
   ],
   "source": [
    "print(multiLineString)"
   ]
  },
  {
   "cell_type": "code",
   "execution_count": 56,
   "id": "8a467c11-76fb-40a2-b68c-84e283ac084c",
   "metadata": {
    "tags": []
   },
   "outputs": [
    {
     "data": {
      "text/plain": [
       "' line 1\\nline 2\\nline 3 '"
      ]
     },
     "execution_count": 56,
     "metadata": {},
     "output_type": "execute_result"
    }
   ],
   "source": [
    "multiLineString"
   ]
  },
  {
   "cell_type": "code",
   "execution_count": 62,
   "id": "a6e82e01-1767-4f0e-afdd-39382e041e9b",
   "metadata": {
    "tags": []
   },
   "outputs": [],
   "source": [
    "StrAns3 = '''Let's \"Code\"'''"
   ]
  },
  {
   "cell_type": "code",
   "execution_count": 58,
   "id": "a8830f41-e199-4cf4-8139-169692c1f21b",
   "metadata": {
    "tags": []
   },
   "outputs": [
    {
     "name": "stdout",
     "output_type": "stream",
     "text": [
      "Let's \"Code\"\n"
     ]
    }
   ],
   "source": [
    "print(StrAns3)"
   ]
  },
  {
   "cell_type": "code",
   "execution_count": 59,
   "id": "e9e819e4-7f0a-4674-a0f6-3b839d2eaef4",
   "metadata": {
    "tags": []
   },
   "outputs": [
    {
     "ename": "SyntaxError",
     "evalue": "unterminated string literal (detected at line 1) (775127743.py, line 1)",
     "output_type": "error",
     "traceback": [
      "\u001b[0;36m  Cell \u001b[0;32mIn[59], line 1\u001b[0;36m\u001b[0m\n\u001b[0;31m    StrAns4 = \"\"\"Let's \"Code\"\"\"\"\u001b[0m\n\u001b[0m                               ^\u001b[0m\n\u001b[0;31mSyntaxError\u001b[0m\u001b[0;31m:\u001b[0m unterminated string literal (detected at line 1)\n"
     ]
    }
   ],
   "source": [
    "StrAns4 = \"\"\"Let's \"Code\"\"\"\""
   ]
  },
  {
   "cell_type": "code",
   "execution_count": 60,
   "id": "7736f040-dcc9-44a7-9b9c-c6c62cc1a039",
   "metadata": {
    "tags": []
   },
   "outputs": [],
   "source": [
    "StrAns4 = \"\"\"Let\"s 'Code'\"\"\""
   ]
  },
  {
   "cell_type": "code",
   "execution_count": 61,
   "id": "16e31995-28f4-42a9-b479-4a4d63c41be4",
   "metadata": {
    "tags": []
   },
   "outputs": [
    {
     "name": "stdout",
     "output_type": "stream",
     "text": [
      "Let\"s 'Code'\n"
     ]
    }
   ],
   "source": [
    "print(StrAns4)"
   ]
  },
  {
   "cell_type": "code",
   "execution_count": 63,
   "id": "7082967f-4748-4ca2-9e35-18fad374e55b",
   "metadata": {
    "tags": []
   },
   "outputs": [],
   "source": [
    "StrAns3 = '''Let's \n",
    "\"Code\"'''"
   ]
  },
  {
   "cell_type": "code",
   "execution_count": null,
   "id": "6cfe0fe7-f6bd-41e3-b936-e5a3133df0ae",
   "metadata": {},
   "outputs": [],
   "source": []
  },
  {
   "cell_type": "code",
   "execution_count": 64,
   "id": "28d4bbc2-c66a-4ac4-b448-2db029448f42",
   "metadata": {
    "tags": []
   },
   "outputs": [],
   "source": [
    "StrAns5 = 'Let\\'s \"Code\"'"
   ]
  },
  {
   "cell_type": "code",
   "execution_count": 65,
   "id": "8e0cb71f-a672-4964-8acc-bd9a21055568",
   "metadata": {
    "tags": []
   },
   "outputs": [
    {
     "name": "stdout",
     "output_type": "stream",
     "text": [
      "Let's \"Code\"\n"
     ]
    }
   ],
   "source": [
    "print(StrAns5)"
   ]
  },
  {
   "cell_type": "code",
   "execution_count": 66,
   "id": "61c328e8-87fd-4547-8321-c451c8835446",
   "metadata": {
    "tags": []
   },
   "outputs": [],
   "source": [
    "StrAns6 = \"Let\\\"s 'Code'\""
   ]
  },
  {
   "cell_type": "code",
   "execution_count": 67,
   "id": "19146c46-4d4f-4ac4-8dfd-7ade1e82185c",
   "metadata": {
    "tags": []
   },
   "outputs": [
    {
     "name": "stdout",
     "output_type": "stream",
     "text": [
      "Let\"s 'Code'\n"
     ]
    }
   ],
   "source": [
    "print(StrAns6)"
   ]
  },
  {
   "cell_type": "code",
   "execution_count": null,
   "id": "6ccdab53-5255-46a2-a6e9-479f9c7b5b2e",
   "metadata": {},
   "outputs": [],
   "source": [
    "can we use #@£&€$¢§ Symbols or //// also ?"
   ]
  },
  {
   "cell_type": "code",
   "execution_count": 73,
   "id": "1fc36679-d706-47a8-a83a-532e78746d9c",
   "metadata": {
    "tags": []
   },
   "outputs": [],
   "source": [
    "weirdString = \"#@£&€$¢§+-*/\"  + \"abc\""
   ]
  },
  {
   "cell_type": "code",
   "execution_count": 75,
   "id": "2b3a7f7b-592b-4133-9105-42a4086aa40b",
   "metadata": {
    "tags": []
   },
   "outputs": [
    {
     "name": "stdout",
     "output_type": "stream",
     "text": [
      "#@£&€$¢§+-*/abc\n"
     ]
    }
   ],
   "source": [
    "print(weirdString)\n"
   ]
  },
  {
   "cell_type": "code",
   "execution_count": null,
   "id": "2f852173-eec5-47e5-a341-b6ebe39973ef",
   "metadata": {},
   "outputs": [],
   "source": []
  },
  {
   "cell_type": "code",
   "execution_count": null,
   "id": "ba426b8a-9160-4e31-b92d-11b18c5325ab",
   "metadata": {},
   "outputs": [],
   "source": []
  },
  {
   "cell_type": "markdown",
   "id": "5448f75d-5627-4722-bbee-de9ffc5b0787",
   "metadata": {},
   "source": [
    "# Indexing"
   ]
  },
  {
   "cell_type": "code",
   "execution_count": null,
   "id": "f5cbc44a-04f1-4502-a8b8-2be9ba2c838c",
   "metadata": {},
   "outputs": [],
   "source": []
  },
  {
   "cell_type": "code",
   "execution_count": 76,
   "id": "3f28eec8-f6fa-4ae7-89e3-3014a4c76708",
   "metadata": {
    "tags": []
   },
   "outputs": [],
   "source": [
    "mystr = 'PYTHON'"
   ]
  },
  {
   "cell_type": "code",
   "execution_count": 77,
   "id": "ad3d7737-262a-42fd-b53c-4445bf27f688",
   "metadata": {
    "tags": []
   },
   "outputs": [
    {
     "data": {
      "text/plain": [
       "'P'"
      ]
     },
     "execution_count": 77,
     "metadata": {},
     "output_type": "execute_result"
    }
   ],
   "source": [
    "mystr[0]"
   ]
  },
  {
   "cell_type": "code",
   "execution_count": 79,
   "id": "7fd47915-68e3-4adc-b194-919e2aee7875",
   "metadata": {
    "tags": []
   },
   "outputs": [
    {
     "name": "stdout",
     "output_type": "stream",
     "text": [
      "Let's \n",
      "\"Code\"\n"
     ]
    }
   ],
   "source": [
    "print(StrAns3)"
   ]
  },
  {
   "cell_type": "code",
   "execution_count": 80,
   "id": "9a8afcd3-4a8d-4282-a004-30ce26434b4b",
   "metadata": {
    "tags": []
   },
   "outputs": [
    {
     "data": {
      "text/plain": [
       "'e'"
      ]
     },
     "execution_count": 80,
     "metadata": {},
     "output_type": "execute_result"
    }
   ],
   "source": [
    "StrAns3[1]"
   ]
  },
  {
   "cell_type": "code",
   "execution_count": 81,
   "id": "694c4163-f6d4-41b1-b8b9-df0a6c2c3bd3",
   "metadata": {
    "tags": []
   },
   "outputs": [],
   "source": [
    "myStr2 = \"HELLO WORLD\""
   ]
  },
  {
   "cell_type": "code",
   "execution_count": null,
   "id": "259a4f0c-4936-45b0-902d-aa302a3dba67",
   "metadata": {},
   "outputs": [],
   "source": []
  },
  {
   "cell_type": "code",
   "execution_count": 82,
   "id": "c10137dd-5ea9-4622-a0a8-956a81f2361f",
   "metadata": {
    "tags": []
   },
   "outputs": [
    {
     "data": {
      "text/plain": [
       "'H'"
      ]
     },
     "execution_count": 82,
     "metadata": {},
     "output_type": "execute_result"
    }
   ],
   "source": [
    "myStr2[0]"
   ]
  },
  {
   "cell_type": "code",
   "execution_count": 83,
   "id": "7130ff39-8e1b-43c1-9c62-63b1eb9465d4",
   "metadata": {
    "tags": []
   },
   "outputs": [
    {
     "data": {
      "text/plain": [
       "' '"
      ]
     },
     "execution_count": 83,
     "metadata": {},
     "output_type": "execute_result"
    }
   ],
   "source": [
    "myStr2[5]"
   ]
  },
  {
   "cell_type": "code",
   "execution_count": 84,
   "id": "930873cc-10cf-4091-aa2d-74437f44520e",
   "metadata": {
    "tags": []
   },
   "outputs": [
    {
     "data": {
      "text/plain": [
       "'D'"
      ]
     },
     "execution_count": 84,
     "metadata": {},
     "output_type": "execute_result"
    }
   ],
   "source": [
    "myStr2[10]"
   ]
  },
  {
   "cell_type": "code",
   "execution_count": 85,
   "id": "99e92744-62e5-4d15-ba68-9c48dc98e026",
   "metadata": {
    "tags": []
   },
   "outputs": [
    {
     "data": {
      "text/plain": [
       "'R'"
      ]
     },
     "execution_count": 85,
     "metadata": {},
     "output_type": "execute_result"
    }
   ],
   "source": [
    "myStr2[8]"
   ]
  },
  {
   "cell_type": "code",
   "execution_count": 86,
   "id": "3806a7e9-25f3-48ab-b983-446df2521fdc",
   "metadata": {
    "tags": []
   },
   "outputs": [
    {
     "ename": "IndexError",
     "evalue": "string index out of range",
     "output_type": "error",
     "traceback": [
      "\u001b[0;31m---------------------------------------------------------------------------\u001b[0m",
      "\u001b[0;31mIndexError\u001b[0m                                Traceback (most recent call last)",
      "Cell \u001b[0;32mIn[86], line 1\u001b[0m\n\u001b[0;32m----> 1\u001b[0m myStr2[\u001b[38;5;241m11\u001b[39m]\n",
      "\u001b[0;31mIndexError\u001b[0m: string index out of range"
     ]
    }
   ],
   "source": [
    "myStr2[11]"
   ]
  },
  {
   "cell_type": "code",
   "execution_count": 89,
   "id": "fe3d1015-3b93-4191-9aad-ff858db53a24",
   "metadata": {
    "tags": []
   },
   "outputs": [
    {
     "ename": "IndexError",
     "evalue": "string index out of range",
     "output_type": "error",
     "traceback": [
      "\u001b[0;31m---------------------------------------------------------------------------\u001b[0m",
      "\u001b[0;31mIndexError\u001b[0m                                Traceback (most recent call last)",
      "Cell \u001b[0;32mIn[89], line 1\u001b[0m\n\u001b[0;32m----> 1\u001b[0m myStr2[\u001b[38;5;241m100000\u001b[39m]\n",
      "\u001b[0;31mIndexError\u001b[0m: string index out of range"
     ]
    }
   ],
   "source": [
    "myStr2[100000]"
   ]
  },
  {
   "cell_type": "markdown",
   "id": "ceb2f1e4-8f8c-48a4-86b0-b6a99b329c03",
   "metadata": {},
   "source": [
    "# Negative Indexing"
   ]
  },
  {
   "cell_type": "code",
   "execution_count": 90,
   "id": "240c3a48-fd40-41c6-8895-23d688641d9d",
   "metadata": {
    "tags": []
   },
   "outputs": [
    {
     "data": {
      "text/plain": [
       "'PYTHON'"
      ]
     },
     "execution_count": 90,
     "metadata": {},
     "output_type": "execute_result"
    }
   ],
   "source": [
    "mystr"
   ]
  },
  {
   "cell_type": "code",
   "execution_count": null,
   "id": "ab1650e6-f813-4619-b6e6-afb1d539d1f2",
   "metadata": {},
   "outputs": [],
   "source": []
  },
  {
   "cell_type": "code",
   "execution_count": null,
   "id": "3072d6d9-0269-458d-9d29-adcddb8c94e1",
   "metadata": {},
   "outputs": [],
   "source": []
  },
  {
   "cell_type": "code",
   "execution_count": 91,
   "id": "f31ddb12-3121-42da-939e-f6e4383fac5c",
   "metadata": {
    "tags": []
   },
   "outputs": [
    {
     "data": {
      "text/plain": [
       "'N'"
      ]
     },
     "execution_count": 91,
     "metadata": {},
     "output_type": "execute_result"
    }
   ],
   "source": [
    "mystr[-1]"
   ]
  },
  {
   "cell_type": "code",
   "execution_count": 92,
   "id": "fb62bf84-e03e-4075-a801-232bbeb5e1d1",
   "metadata": {
    "tags": []
   },
   "outputs": [
    {
     "data": {
      "text/plain": [
       "'H'"
      ]
     },
     "execution_count": 92,
     "metadata": {},
     "output_type": "execute_result"
    }
   ],
   "source": [
    "mystr[-3]"
   ]
  },
  {
   "cell_type": "code",
   "execution_count": 93,
   "id": "9346a1fb-7845-41c3-b7ed-87d21ff388a6",
   "metadata": {
    "tags": []
   },
   "outputs": [
    {
     "data": {
      "text/plain": [
       "'T'"
      ]
     },
     "execution_count": 93,
     "metadata": {},
     "output_type": "execute_result"
    }
   ],
   "source": [
    "mystr[-4]"
   ]
  },
  {
   "cell_type": "code",
   "execution_count": 94,
   "id": "af453e8b-0278-4a52-be7c-d36a37aadf4e",
   "metadata": {
    "tags": []
   },
   "outputs": [
    {
     "data": {
      "text/plain": [
       "'P'"
      ]
     },
     "execution_count": 94,
     "metadata": {},
     "output_type": "execute_result"
    }
   ],
   "source": [
    "mystr[-6]"
   ]
  },
  {
   "cell_type": "code",
   "execution_count": 95,
   "id": "2eb69baa-7635-4586-a26b-79a53f19a43b",
   "metadata": {
    "tags": []
   },
   "outputs": [
    {
     "ename": "IndexError",
     "evalue": "string index out of range",
     "output_type": "error",
     "traceback": [
      "\u001b[0;31m---------------------------------------------------------------------------\u001b[0m",
      "\u001b[0;31mIndexError\u001b[0m                                Traceback (most recent call last)",
      "Cell \u001b[0;32mIn[95], line 1\u001b[0m\n\u001b[0;32m----> 1\u001b[0m mystr[\u001b[38;5;241m-\u001b[39m\u001b[38;5;241m7\u001b[39m]\n",
      "\u001b[0;31mIndexError\u001b[0m: string index out of range"
     ]
    }
   ],
   "source": [
    "mystr[-7]"
   ]
  },
  {
   "cell_type": "code",
   "execution_count": 96,
   "id": "913088bc-8016-4e27-85dc-08de066746e0",
   "metadata": {
    "tags": []
   },
   "outputs": [
    {
     "data": {
      "text/plain": [
       "6"
      ]
     },
     "execution_count": 96,
     "metadata": {},
     "output_type": "execute_result"
    }
   ],
   "source": [
    "len(mystr)"
   ]
  },
  {
   "cell_type": "code",
   "execution_count": null,
   "id": "64156f17-d507-4e72-b553-7f0bb23ef8a5",
   "metadata": {},
   "outputs": [],
   "source": []
  },
  {
   "cell_type": "code",
   "execution_count": 97,
   "id": "b3e9fcec-9e17-4ef9-9b71-6f4ba636f33a",
   "metadata": {
    "tags": []
   },
   "outputs": [
    {
     "data": {
      "text/plain": [
       "'N'"
      ]
     },
     "execution_count": 97,
     "metadata": {},
     "output_type": "execute_result"
    }
   ],
   "source": [
    "mystr[len(mystr)-1]"
   ]
  },
  {
   "cell_type": "code",
   "execution_count": 98,
   "id": "953d5cb6-ea46-4d40-a615-620bb590548e",
   "metadata": {
    "tags": []
   },
   "outputs": [
    {
     "ename": "IndexError",
     "evalue": "string index out of range",
     "output_type": "error",
     "traceback": [
      "\u001b[0;31m---------------------------------------------------------------------------\u001b[0m",
      "\u001b[0;31mIndexError\u001b[0m                                Traceback (most recent call last)",
      "Cell \u001b[0;32mIn[98], line 1\u001b[0m\n\u001b[0;32m----> 1\u001b[0m mystr[\u001b[38;5;28mlen\u001b[39m(mystr)]\n",
      "\u001b[0;31mIndexError\u001b[0m: string index out of range"
     ]
    }
   ],
   "source": [
    "mystr[len(mystr)]"
   ]
  },
  {
   "cell_type": "code",
   "execution_count": 99,
   "id": "14ed96ad-3194-4d8d-b68f-261b4da5ed0b",
   "metadata": {
    "tags": []
   },
   "outputs": [
    {
     "data": {
      "text/plain": [
       "'N'"
      ]
     },
     "execution_count": 99,
     "metadata": {},
     "output_type": "execute_result"
    }
   ],
   "source": [
    "mystr[-1]"
   ]
  },
  {
   "cell_type": "code",
   "execution_count": null,
   "id": "4343ab25-4439-4743-bb70-74dd314369ae",
   "metadata": {},
   "outputs": [],
   "source": []
  },
  {
   "cell_type": "code",
   "execution_count": null,
   "id": "4075e558-a74d-4de9-b300-793b97e0bf18",
   "metadata": {},
   "outputs": [],
   "source": [
    "# to get last charater why did we use len ?"
   ]
  },
  {
   "cell_type": "code",
   "execution_count": 100,
   "id": "9254abd3-9289-495a-b13c-4fed3c21d0f3",
   "metadata": {
    "tags": []
   },
   "outputs": [],
   "source": [
    "myLongStr = \"bakbgabglanipfgahpghaiogbwaiuvbpgfbgnasflgnoasngosargparbpeyiwgbryipgwabp\""
   ]
  },
  {
   "cell_type": "code",
   "execution_count": 101,
   "id": "dc733a0a-3b11-4c9d-b1ce-763fc916abf5",
   "metadata": {
    "tags": []
   },
   "outputs": [
    {
     "data": {
      "text/plain": [
       "57"
      ]
     },
     "execution_count": 101,
     "metadata": {},
     "output_type": "execute_result"
    }
   ],
   "source": [
    "len(myLongStr)"
   ]
  },
  {
   "cell_type": "code",
   "execution_count": 102,
   "id": "fd4969fe-3b5b-49ee-982f-31808a5ce25e",
   "metadata": {
    "tags": []
   },
   "outputs": [
    {
     "data": {
      "text/plain": [
       "'p'"
      ]
     },
     "execution_count": 102,
     "metadata": {},
     "output_type": "execute_result"
    }
   ],
   "source": [
    "myLongStr[56]"
   ]
  },
  {
   "cell_type": "code",
   "execution_count": 103,
   "id": "3e9849e9-5a14-49d1-a84e-1f8f2bfad431",
   "metadata": {
    "tags": []
   },
   "outputs": [
    {
     "ename": "IndexError",
     "evalue": "string index out of range",
     "output_type": "error",
     "traceback": [
      "\u001b[0;31m---------------------------------------------------------------------------\u001b[0m",
      "\u001b[0;31mIndexError\u001b[0m                                Traceback (most recent call last)",
      "Cell \u001b[0;32mIn[103], line 1\u001b[0m\n\u001b[0;32m----> 1\u001b[0m myLongStr[\u001b[38;5;241m57\u001b[39m]\n",
      "\u001b[0;31mIndexError\u001b[0m: string index out of range"
     ]
    }
   ],
   "source": [
    "myLongStr[57]"
   ]
  },
  {
   "cell_type": "code",
   "execution_count": 104,
   "id": "32c3aace-e8b3-4ae5-8bf6-84d0a3ffd63a",
   "metadata": {
    "tags": []
   },
   "outputs": [
    {
     "data": {
      "text/plain": [
       "'p'"
      ]
     },
     "execution_count": 104,
     "metadata": {},
     "output_type": "execute_result"
    }
   ],
   "source": [
    "myLongStr[len(myLongStr) -1]"
   ]
  },
  {
   "cell_type": "code",
   "execution_count": 105,
   "id": "69057798-12e9-4937-915e-d79054ae30c2",
   "metadata": {
    "tags": []
   },
   "outputs": [
    {
     "data": {
      "text/plain": [
       "'p'"
      ]
     },
     "execution_count": 105,
     "metadata": {},
     "output_type": "execute_result"
    }
   ],
   "source": [
    "myLongStr[-1]"
   ]
  },
  {
   "cell_type": "code",
   "execution_count": null,
   "id": "12c08b62-70da-46e3-b7e7-3b2e1c186e92",
   "metadata": {},
   "outputs": [],
   "source": []
  },
  {
   "cell_type": "code",
   "execution_count": 108,
   "id": "1165403d-2bd4-4e55-96a8-06fab062201d",
   "metadata": {
    "tags": []
   },
   "outputs": [
    {
     "data": {
      "text/plain": [
       "'PYTHON'"
      ]
     },
     "execution_count": 108,
     "metadata": {},
     "output_type": "execute_result"
    }
   ],
   "source": [
    "mystr"
   ]
  },
  {
   "cell_type": "code",
   "execution_count": 109,
   "id": "d79df864-c564-497c-b160-133ba061fb6f",
   "metadata": {
    "tags": []
   },
   "outputs": [
    {
     "data": {
      "text/plain": [
       "6"
      ]
     },
     "execution_count": 109,
     "metadata": {},
     "output_type": "execute_result"
    }
   ],
   "source": [
    "len(mystr)"
   ]
  },
  {
   "cell_type": "code",
   "execution_count": 110,
   "id": "ce397de7-4799-4067-a65a-b1e5b1fde1f3",
   "metadata": {
    "tags": []
   },
   "outputs": [
    {
     "data": {
      "text/plain": [
       "'N'"
      ]
     },
     "execution_count": 110,
     "metadata": {},
     "output_type": "execute_result"
    }
   ],
   "source": [
    "mystr[-1]"
   ]
  },
  {
   "cell_type": "code",
   "execution_count": 111,
   "id": "e7f559c5-fb6f-480d-984f-a77837f85f5d",
   "metadata": {
    "tags": []
   },
   "outputs": [
    {
     "data": {
      "text/plain": [
       "'N'"
      ]
     },
     "execution_count": 111,
     "metadata": {},
     "output_type": "execute_result"
    }
   ],
   "source": [
    "mystr[5]"
   ]
  },
  {
   "cell_type": "code",
   "execution_count": 112,
   "id": "562555fd-0a4b-4034-be38-02d700dad6b1",
   "metadata": {
    "tags": []
   },
   "outputs": [
    {
     "ename": "IndexError",
     "evalue": "string index out of range",
     "output_type": "error",
     "traceback": [
      "\u001b[0;31m---------------------------------------------------------------------------\u001b[0m",
      "\u001b[0;31mIndexError\u001b[0m                                Traceback (most recent call last)",
      "Cell \u001b[0;32mIn[112], line 1\u001b[0m\n\u001b[0;32m----> 1\u001b[0m mystr[\u001b[38;5;28mlen\u001b[39m(mystr)]\n",
      "\u001b[0;31mIndexError\u001b[0m: string index out of range"
     ]
    }
   ],
   "source": [
    "mystr[len(mystr)]"
   ]
  },
  {
   "cell_type": "code",
   "execution_count": 114,
   "id": "d305293d-3c51-4b7d-b48e-23620df7f796",
   "metadata": {
    "tags": []
   },
   "outputs": [
    {
     "data": {
      "text/plain": [
       "'N'"
      ]
     },
     "execution_count": 114,
     "metadata": {},
     "output_type": "execute_result"
    }
   ],
   "source": [
    "mystr[len(mystr)-1] # equivalent to mystr[-1]"
   ]
  },
  {
   "cell_type": "code",
   "execution_count": 115,
   "id": "564da9bb-9db5-4102-9e40-e2680095c0cf",
   "metadata": {
    "tags": []
   },
   "outputs": [
    {
     "data": {
      "text/plain": [
       "'PYTHON'"
      ]
     },
     "execution_count": 115,
     "metadata": {},
     "output_type": "execute_result"
    }
   ],
   "source": [
    "mystr"
   ]
  },
  {
   "cell_type": "code",
   "execution_count": 116,
   "id": "766ac544-f407-4ee1-81f8-3e84e2d0eafb",
   "metadata": {
    "tags": []
   },
   "outputs": [
    {
     "data": {
      "text/plain": [
       "'P'"
      ]
     },
     "execution_count": 116,
     "metadata": {},
     "output_type": "execute_result"
    }
   ],
   "source": [
    "mystr[0]"
   ]
  },
  {
   "cell_type": "code",
   "execution_count": 117,
   "id": "6b7ffe52-3d4a-444e-a5ec-21551bf61eb9",
   "metadata": {
    "tags": []
   },
   "outputs": [
    {
     "data": {
      "text/plain": [
       "'N'"
      ]
     },
     "execution_count": 117,
     "metadata": {},
     "output_type": "execute_result"
    }
   ],
   "source": [
    "mystr[6-1]"
   ]
  },
  {
   "cell_type": "code",
   "execution_count": 118,
   "id": "dbd32000-9ea0-429b-8a9c-910823c1ca3f",
   "metadata": {
    "tags": []
   },
   "outputs": [
    {
     "data": {
      "text/plain": [
       "'N'"
      ]
     },
     "execution_count": 118,
     "metadata": {},
     "output_type": "execute_result"
    }
   ],
   "source": [
    "mystr[-1]"
   ]
  },
  {
   "cell_type": "code",
   "execution_count": 119,
   "id": "4104e979-da86-4024-8077-ad2c54ec0377",
   "metadata": {
    "tags": []
   },
   "outputs": [
    {
     "data": {
      "text/plain": [
       "'P'"
      ]
     },
     "execution_count": 119,
     "metadata": {},
     "output_type": "execute_result"
    }
   ],
   "source": [
    "mystr[-6]"
   ]
  },
  {
   "cell_type": "code",
   "execution_count": 120,
   "id": "67be5f0a-ab94-4b33-9adf-50e1d4a5c904",
   "metadata": {
    "tags": []
   },
   "outputs": [
    {
     "data": {
      "text/plain": [
       "6"
      ]
     },
     "execution_count": 120,
     "metadata": {},
     "output_type": "execute_result"
    }
   ],
   "source": [
    "len(mystr)"
   ]
  },
  {
   "cell_type": "code",
   "execution_count": 121,
   "id": "0ba9890f-2f5c-4da2-a171-a2889dd7a1c3",
   "metadata": {
    "tags": []
   },
   "outputs": [
    {
     "ename": "SyntaxError",
     "evalue": "closing parenthesis ')' does not match opening parenthesis '[' (3154946344.py, line 1)",
     "output_type": "error",
     "traceback": [
      "\u001b[0;36m  Cell \u001b[0;32mIn[121], line 1\u001b[0;36m\u001b[0m\n\u001b[0;31m    mystr[(6-1) + 2)\u001b[0m\n\u001b[0m                   ^\u001b[0m\n\u001b[0;31mSyntaxError\u001b[0m\u001b[0;31m:\u001b[0m closing parenthesis ')' does not match opening parenthesis '['\n"
     ]
    }
   ],
   "source": [
    "mystr[(6-1) + 2)"
   ]
  },
  {
   "cell_type": "code",
   "execution_count": 122,
   "id": "dae74164-4a21-4910-8f48-5b508e4b536f",
   "metadata": {
    "tags": []
   },
   "outputs": [
    {
     "ename": "IndexError",
     "evalue": "string index out of range",
     "output_type": "error",
     "traceback": [
      "\u001b[0;31m---------------------------------------------------------------------------\u001b[0m",
      "\u001b[0;31mIndexError\u001b[0m                                Traceback (most recent call last)",
      "Cell \u001b[0;32mIn[122], line 1\u001b[0m\n\u001b[0;32m----> 1\u001b[0m mystr[\u001b[38;5;241m7\u001b[39m]\n",
      "\u001b[0;31mIndexError\u001b[0m: string index out of range"
     ]
    }
   ],
   "source": [
    "mystr[7]"
   ]
  },
  {
   "cell_type": "code",
   "execution_count": 123,
   "id": "2e6f0468-80bc-451d-a542-748c86ed7456",
   "metadata": {
    "tags": []
   },
   "outputs": [
    {
     "ename": "IndexError",
     "evalue": "string index out of range",
     "output_type": "error",
     "traceback": [
      "\u001b[0;31m---------------------------------------------------------------------------\u001b[0m",
      "\u001b[0;31mIndexError\u001b[0m                                Traceback (most recent call last)",
      "Cell \u001b[0;32mIn[123], line 1\u001b[0m\n\u001b[0;32m----> 1\u001b[0m mystr[\u001b[38;5;241m6\u001b[39m]\n",
      "\u001b[0;31mIndexError\u001b[0m: string index out of range"
     ]
    }
   ],
   "source": [
    "mystr[6]"
   ]
  },
  {
   "cell_type": "code",
   "execution_count": null,
   "id": "94402e64-f97e-4bf6-a01c-666306996ea0",
   "metadata": {},
   "outputs": [],
   "source": []
  },
  {
   "cell_type": "code",
   "execution_count": 124,
   "id": "54af0856-c84f-43f5-bceb-48316d09a5eb",
   "metadata": {
    "tags": []
   },
   "outputs": [
    {
     "data": {
      "text/plain": [
       "'P'"
      ]
     },
     "execution_count": 124,
     "metadata": {},
     "output_type": "execute_result"
    }
   ],
   "source": [
    "mystr[-6]"
   ]
  },
  {
   "cell_type": "code",
   "execution_count": null,
   "id": "423ba1ad-29f9-44a7-8c1d-80711e7e27a3",
   "metadata": {},
   "outputs": [],
   "source": [
    "mystr[-6]"
   ]
  },
  {
   "cell_type": "code",
   "execution_count": null,
   "id": "6ed44f49-cd4d-43f5-b92f-ec07fb1a371b",
   "metadata": {},
   "outputs": [],
   "source": []
  },
  {
   "cell_type": "code",
   "execution_count": null,
   "id": "c728a593-29ea-4574-97fc-937395b3a73e",
   "metadata": {},
   "outputs": [],
   "source": []
  },
  {
   "cell_type": "code",
   "execution_count": 125,
   "id": "4b434222-1308-4fbc-a8c0-405b2793eacb",
   "metadata": {
    "tags": []
   },
   "outputs": [
    {
     "data": {
      "text/plain": [
       "False"
      ]
     },
     "execution_count": 125,
     "metadata": {},
     "output_type": "execute_result"
    }
   ],
   "source": [
    "-7 > -6"
   ]
  },
  {
   "cell_type": "code",
   "execution_count": 126,
   "id": "6c37920c-0d9d-4bf8-b0b2-96b40c73ca34",
   "metadata": {
    "tags": []
   },
   "outputs": [
    {
     "data": {
      "text/plain": [
       "'PYTHON'"
      ]
     },
     "execution_count": 126,
     "metadata": {},
     "output_type": "execute_result"
    }
   ],
   "source": [
    "mystr"
   ]
  },
  {
   "cell_type": "code",
   "execution_count": 127,
   "id": "b6a751e6-f655-4a72-9337-627785137636",
   "metadata": {
    "tags": []
   },
   "outputs": [
    {
     "data": {
      "text/plain": [
       "True"
      ]
     },
     "execution_count": 127,
     "metadata": {},
     "output_type": "execute_result"
    }
   ],
   "source": [
    "mystr[-1] == mystr[-1 + len(mystr)]"
   ]
  },
  {
   "cell_type": "code",
   "execution_count": 128,
   "id": "608d3a4c-d56b-475a-97d3-cee03d1ee0de",
   "metadata": {
    "tags": []
   },
   "outputs": [
    {
     "data": {
      "text/plain": [
       "'N'"
      ]
     },
     "execution_count": 128,
     "metadata": {},
     "output_type": "execute_result"
    }
   ],
   "source": [
    "mystr[5]"
   ]
  },
  {
   "cell_type": "code",
   "execution_count": 129,
   "id": "226017ba-9849-407b-81ce-1075d80a0c3f",
   "metadata": {
    "tags": []
   },
   "outputs": [
    {
     "data": {
      "text/plain": [
       "True"
      ]
     },
     "execution_count": 129,
     "metadata": {},
     "output_type": "execute_result"
    }
   ],
   "source": [
    "mystr[5] == mystr[-1 + 6] # 6 is your length "
   ]
  },
  {
   "cell_type": "code",
   "execution_count": null,
   "id": "9da95fea-757b-4169-a371-157d266d76b9",
   "metadata": {},
   "outputs": [],
   "source": []
  },
  {
   "cell_type": "code",
   "execution_count": 132,
   "id": "46a081e6-0ab6-4e5c-9f56-4bfa8096528a",
   "metadata": {
    "tags": []
   },
   "outputs": [
    {
     "name": "stdout",
     "output_type": "stream",
     "text": [
      "2\n"
     ]
    }
   ],
   "source": [
    "print(True + True)"
   ]
  },
  {
   "cell_type": "code",
   "execution_count": 133,
   "id": "3405c676-ea68-45d8-9f9b-9252305a5a8d",
   "metadata": {
    "tags": []
   },
   "outputs": [],
   "source": [
    "mystrnumber = '34'"
   ]
  },
  {
   "cell_type": "code",
   "execution_count": 134,
   "id": "22df25ce-0fb5-4e9e-a696-9ef3d402445c",
   "metadata": {
    "tags": []
   },
   "outputs": [
    {
     "ename": "TypeError",
     "evalue": "can only concatenate str (not \"int\") to str",
     "output_type": "error",
     "traceback": [
      "\u001b[0;31m---------------------------------------------------------------------------\u001b[0m",
      "\u001b[0;31mTypeError\u001b[0m                                 Traceback (most recent call last)",
      "Cell \u001b[0;32mIn[134], line 1\u001b[0m\n\u001b[0;32m----> 1\u001b[0m mystrnumber \u001b[38;5;241m+\u001b[39m \u001b[38;5;241m5\u001b[39m\n",
      "\u001b[0;31mTypeError\u001b[0m: can only concatenate str (not \"int\") to str"
     ]
    }
   ],
   "source": [
    "mystrnumber + 5"
   ]
  },
  {
   "cell_type": "code",
   "execution_count": 135,
   "id": "3b9d15ea-7902-457e-97cf-916ec20498ba",
   "metadata": {
    "tags": []
   },
   "outputs": [
    {
     "data": {
      "text/plain": [
       "39"
      ]
     },
     "execution_count": 135,
     "metadata": {},
     "output_type": "execute_result"
    }
   ],
   "source": [
    "int(mystrnumber) + 5"
   ]
  },
  {
   "cell_type": "code",
   "execution_count": null,
   "id": "f2fa603f-d76b-4c9e-9583-2e6472f715ff",
   "metadata": {},
   "outputs": [],
   "source": []
  },
  {
   "cell_type": "code",
   "execution_count": 136,
   "id": "5d491055-636e-40a0-ba14-0b3023ce6474",
   "metadata": {
    "tags": []
   },
   "outputs": [
    {
     "data": {
      "text/plain": [
       "5.0"
      ]
     },
     "execution_count": 136,
     "metadata": {},
     "output_type": "execute_result"
    }
   ],
   "source": [
    "5.0"
   ]
  },
  {
   "cell_type": "code",
   "execution_count": 137,
   "id": "164c0d5d-d24f-414d-9c0f-5dd40a3d3679",
   "metadata": {
    "tags": []
   },
   "outputs": [
    {
     "data": {
      "text/plain": [
       "5"
      ]
     },
     "execution_count": 137,
     "metadata": {},
     "output_type": "execute_result"
    }
   ],
   "source": [
    "int(5.0)"
   ]
  },
  {
   "cell_type": "code",
   "execution_count": null,
   "id": "09b3ad4e-a3f6-4a06-9a85-b6d89e7f5026",
   "metadata": {},
   "outputs": [],
   "source": []
  },
  {
   "cell_type": "code",
   "execution_count": null,
   "id": "867ab7e6-757e-45b7-b46a-5e493789a789",
   "metadata": {},
   "outputs": [],
   "source": []
  },
  {
   "cell_type": "code",
   "execution_count": null,
   "id": "ab03b8e5-0453-4e37-bf51-1849c657b201",
   "metadata": {},
   "outputs": [],
   "source": []
  },
  {
   "cell_type": "code",
   "execution_count": 138,
   "id": "507fd74b-04cd-4e42-a58c-918a1ad90e1e",
   "metadata": {
    "tags": []
   },
   "outputs": [
    {
     "data": {
      "text/plain": [
       "97"
      ]
     },
     "execution_count": 138,
     "metadata": {},
     "output_type": "execute_result"
    }
   ],
   "source": [
    "# 'a' 'A'\n",
    "\n",
    "ord('a')"
   ]
  },
  {
   "cell_type": "code",
   "execution_count": 139,
   "id": "deaa2bdd-64ef-4e5e-b85c-bc926e88a009",
   "metadata": {
    "tags": []
   },
   "outputs": [
    {
     "data": {
      "text/plain": [
       "'a'"
      ]
     },
     "execution_count": 139,
     "metadata": {},
     "output_type": "execute_result"
    }
   ],
   "source": [
    "chr(97)"
   ]
  },
  {
   "cell_type": "code",
   "execution_count": 140,
   "id": "d6783786-c665-4215-8273-6d102e6b70cc",
   "metadata": {
    "tags": []
   },
   "outputs": [
    {
     "data": {
      "text/plain": [
       "'z'"
      ]
     },
     "execution_count": 140,
     "metadata": {},
     "output_type": "execute_result"
    }
   ],
   "source": [
    "chr(122)"
   ]
  }
 ],
 "metadata": {
  "kernelspec": {
   "display_name": "Python 3 (ipykernel)",
   "language": "python",
   "name": "python3"
  },
  "language_info": {
   "codemirror_mode": {
    "name": "ipython",
    "version": 3
   },
   "file_extension": ".py",
   "mimetype": "text/x-python",
   "name": "python",
   "nbconvert_exporter": "python",
   "pygments_lexer": "ipython3",
   "version": "3.11.5"
  }
 },
 "nbformat": 4,
 "nbformat_minor": 5
}
