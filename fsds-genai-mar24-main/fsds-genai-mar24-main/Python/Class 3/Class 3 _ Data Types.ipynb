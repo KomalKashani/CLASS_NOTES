{
 "cells": [
  {
   "cell_type": "markdown",
   "id": "ed5c3567-72bd-46ff-a60f-856ea427b7b1",
   "metadata": {
    "tags": []
   },
   "source": [
    "# Data Types in Python"
   ]
  },
  {
   "cell_type": "code",
   "execution_count": null,
   "id": "4235e790-f248-48da-9e1f-10a5a7daee01",
   "metadata": {},
   "outputs": [],
   "source": []
  },
  {
   "cell_type": "code",
   "execution_count": 3,
   "id": "14749be0-fb55-452a-822e-d365aba4f058",
   "metadata": {
    "tags": []
   },
   "outputs": [
    {
     "ename": "SyntaxError",
     "evalue": "invalid syntax (111284902.py, line 1)",
     "output_type": "error",
     "traceback": [
      "\u001b[0;36m  Cell \u001b[0;32mIn[3], line 1\u001b[0;36m\u001b[0m\n\u001b[0;31m    int a =5 # Python is dynamically Typed\u001b[0m\n\u001b[0m        ^\u001b[0m\n\u001b[0;31mSyntaxError\u001b[0m\u001b[0;31m:\u001b[0m invalid syntax\n"
     ]
    }
   ],
   "source": [
    "int a =5 # Python is dynamically Typed"
   ]
  },
  {
   "cell_type": "code",
   "execution_count": 5,
   "id": "9c5aff34-7bd6-40ba-b220-56b959dc8900",
   "metadata": {
    "tags": []
   },
   "outputs": [],
   "source": [
    "b = 5"
   ]
  },
  {
   "cell_type": "code",
   "execution_count": 7,
   "id": "7dacafe4-878d-4a0d-8ebe-cd7385630189",
   "metadata": {
    "tags": []
   },
   "outputs": [],
   "source": [
    "c = 10.5"
   ]
  },
  {
   "cell_type": "code",
   "execution_count": 8,
   "id": "14496020-7511-4802-b817-e6c64a4760e1",
   "metadata": {
    "tags": []
   },
   "outputs": [
    {
     "data": {
      "text/plain": [
       "int"
      ]
     },
     "execution_count": 8,
     "metadata": {},
     "output_type": "execute_result"
    }
   ],
   "source": [
    "type(b)"
   ]
  },
  {
   "cell_type": "code",
   "execution_count": 9,
   "id": "6ef44573-204e-4ddb-85ab-77a038692717",
   "metadata": {
    "tags": []
   },
   "outputs": [
    {
     "data": {
      "text/plain": [
       "float"
      ]
     },
     "execution_count": 9,
     "metadata": {},
     "output_type": "execute_result"
    }
   ],
   "source": [
    "type(c)"
   ]
  },
  {
   "cell_type": "code",
   "execution_count": 10,
   "id": "3c630de4-69c4-4b15-a3d4-3657c4a399cf",
   "metadata": {
    "tags": []
   },
   "outputs": [],
   "source": [
    "s = \"mayank\""
   ]
  },
  {
   "cell_type": "code",
   "execution_count": 11,
   "id": "c95dcdb4-f7fc-49e7-b354-542fcdb1f1d0",
   "metadata": {
    "tags": []
   },
   "outputs": [
    {
     "data": {
      "text/plain": [
       "str"
      ]
     },
     "execution_count": 11,
     "metadata": {},
     "output_type": "execute_result"
    }
   ],
   "source": [
    "type(s)"
   ]
  },
  {
   "cell_type": "code",
   "execution_count": 12,
   "id": "14598dda-2e42-498d-9de4-0a70002c0791",
   "metadata": {
    "tags": []
   },
   "outputs": [],
   "source": [
    "s2 = 'm'"
   ]
  },
  {
   "cell_type": "code",
   "execution_count": 13,
   "id": "a70b3aaa-facf-4278-88bf-f037354c8e02",
   "metadata": {
    "tags": []
   },
   "outputs": [
    {
     "data": {
      "text/plain": [
       "str"
      ]
     },
     "execution_count": 13,
     "metadata": {},
     "output_type": "execute_result"
    }
   ],
   "source": [
    "type(s2)"
   ]
  },
  {
   "cell_type": "code",
   "execution_count": null,
   "id": "c325b963-d241-4472-86ea-a1baf69e8fc0",
   "metadata": {},
   "outputs": [],
   "source": []
  },
  {
   "cell_type": "code",
   "execution_count": 14,
   "id": "d2fae838-1b11-4fa7-8e12-a972e522e9e6",
   "metadata": {
    "tags": []
   },
   "outputs": [
    {
     "ename": "SyntaxError",
     "evalue": "invalid syntax (3995261245.py, line 1)",
     "output_type": "error",
     "traceback": [
      "\u001b[0;36m  Cell \u001b[0;32mIn[14], line 1\u001b[0;36m\u001b[0m\n\u001b[0;31m    int a =5\u001b[0m\n\u001b[0m        ^\u001b[0m\n\u001b[0;31mSyntaxError\u001b[0m\u001b[0;31m:\u001b[0m invalid syntax\n"
     ]
    }
   ],
   "source": [
    "int a =5\n",
    "float b = 5.5"
   ]
  },
  {
   "cell_type": "code",
   "execution_count": 15,
   "id": "c01a3bca-f851-476a-b237-3fe56dcb2d0c",
   "metadata": {
    "tags": []
   },
   "outputs": [],
   "source": [
    "x= 5\n",
    "y= 5.5"
   ]
  },
  {
   "cell_type": "code",
   "execution_count": 16,
   "id": "616a768d-3eb8-4b52-bc16-d4b597a11a7e",
   "metadata": {
    "tags": []
   },
   "outputs": [
    {
     "data": {
      "text/plain": [
       "int"
      ]
     },
     "execution_count": 16,
     "metadata": {},
     "output_type": "execute_result"
    }
   ],
   "source": [
    "type(x)"
   ]
  },
  {
   "cell_type": "code",
   "execution_count": 17,
   "id": "85ff71e9-46fa-4b67-b9ee-94b151dc41a3",
   "metadata": {
    "tags": []
   },
   "outputs": [
    {
     "data": {
      "text/plain": [
       "float"
      ]
     },
     "execution_count": 17,
     "metadata": {},
     "output_type": "execute_result"
    }
   ],
   "source": [
    "type(y)"
   ]
  },
  {
   "cell_type": "code",
   "execution_count": null,
   "id": "684798c6-a277-41c9-a120-d81655272b01",
   "metadata": {},
   "outputs": [],
   "source": []
  },
  {
   "cell_type": "code",
   "execution_count": null,
   "id": "92751c71-cb6c-4f3c-9f74-f8ea119ae4ab",
   "metadata": {},
   "outputs": [],
   "source": []
  },
  {
   "cell_type": "markdown",
   "id": "d3d4c3ea-727a-4bcf-913c-b70a2c07f87d",
   "metadata": {},
   "source": [
    "# Dynamic Property of Data"
   ]
  },
  {
   "cell_type": "markdown",
   "id": "076c3a27-7999-4f7b-9f85-670a938e9be7",
   "metadata": {},
   "source": []
  },
  {
   "cell_type": "code",
   "execution_count": 18,
   "id": "1232d57a-08bb-43ab-be83-92ea52792759",
   "metadata": {
    "tags": []
   },
   "outputs": [],
   "source": [
    "a = 5\n"
   ]
  },
  {
   "cell_type": "code",
   "execution_count": 19,
   "id": "32bac9c2-d6b0-4064-a8d8-6e6a275f2e32",
   "metadata": {
    "tags": []
   },
   "outputs": [
    {
     "data": {
      "text/plain": [
       "int"
      ]
     },
     "execution_count": 19,
     "metadata": {},
     "output_type": "execute_result"
    }
   ],
   "source": [
    "type(a)"
   ]
  },
  {
   "cell_type": "code",
   "execution_count": 20,
   "id": "7ed60193-606e-41c8-97b1-62cb8d8d609a",
   "metadata": {
    "tags": []
   },
   "outputs": [],
   "source": [
    "a = \"mayank\""
   ]
  },
  {
   "cell_type": "code",
   "execution_count": 22,
   "id": "666628de-a782-4614-aede-1f4988e34f9e",
   "metadata": {
    "tags": []
   },
   "outputs": [
    {
     "data": {
      "text/plain": [
       "str"
      ]
     },
     "execution_count": 22,
     "metadata": {},
     "output_type": "execute_result"
    }
   ],
   "source": [
    "type(a)"
   ]
  },
  {
   "cell_type": "code",
   "execution_count": null,
   "id": "b141ed10-306f-4cd2-acd6-3185f83309ce",
   "metadata": {},
   "outputs": [],
   "source": [
    "\n"
   ]
  },
  {
   "cell_type": "markdown",
   "id": "a29712f4-b943-4dbe-941f-574cf94c488b",
   "metadata": {},
   "source": [
    "# Dynamicity of Size\n"
   ]
  },
  {
   "cell_type": "code",
   "execution_count": 23,
   "id": "12546e37-91e8-4151-bd72-3f6858ebd758",
   "metadata": {
    "tags": []
   },
   "outputs": [],
   "source": [
    "m = 4132"
   ]
  },
  {
   "cell_type": "code",
   "execution_count": 51,
   "id": "700c8d6f-e91a-4880-bdd3-b7de4c75c978",
   "metadata": {
    "tags": []
   },
   "outputs": [
    {
     "name": "stdout",
     "output_type": "stream",
     "text": [
      "28\n",
      "28\n"
     ]
    }
   ],
   "source": [
    "import sys\n",
    "\n",
    "# from sys import getsizeof\n",
    "\n",
    "print(getsizeof(m))\n",
    "print(sys.getsizeof(m))\n",
    "\n",
    "# Size of m variable is 28 bytes"
   ]
  },
  {
   "cell_type": "markdown",
   "id": "83f23ed2-104f-4541-b130-4f1fecaecfab",
   "metadata": {
    "tags": []
   },
   "source": [
    "# sir what is the need to write from sys import getsizeof.....when we have already written import sys"
   ]
  },
  {
   "cell_type": "code",
   "execution_count": 28,
   "id": "9486899b-a58c-4162-91f5-ac85dbbfaace",
   "metadata": {
    "tags": []
   },
   "outputs": [],
   "source": [
    "m = 573257926579235923753208\n"
   ]
  },
  {
   "cell_type": "code",
   "execution_count": 29,
   "id": "6cbe7a8b-66dc-4434-a261-0ce949fa6d6e",
   "metadata": {
    "tags": []
   },
   "outputs": [
    {
     "data": {
      "text/plain": [
       "int"
      ]
     },
     "execution_count": 29,
     "metadata": {},
     "output_type": "execute_result"
    }
   ],
   "source": [
    "type(m)"
   ]
  },
  {
   "cell_type": "code",
   "execution_count": 30,
   "id": "d2e7946d-61b4-4d11-b970-3daddc9f03d3",
   "metadata": {
    "tags": []
   },
   "outputs": [
    {
     "name": "stdout",
     "output_type": "stream",
     "text": [
      "36\n"
     ]
    }
   ],
   "source": [
    "print(getsizeof(m))"
   ]
  },
  {
   "cell_type": "code",
   "execution_count": 37,
   "id": "bf79d346-1010-4122-ba22-1cdfdae0eb5a",
   "metadata": {
    "tags": []
   },
   "outputs": [],
   "source": [
    "m = \"mayank\""
   ]
  },
  {
   "cell_type": "code",
   "execution_count": 32,
   "id": "55869bd5-d46a-42bb-8887-a8d53ee35965",
   "metadata": {
    "tags": []
   },
   "outputs": [
    {
     "data": {
      "text/plain": [
       "str"
      ]
     },
     "execution_count": 32,
     "metadata": {},
     "output_type": "execute_result"
    }
   ],
   "source": [
    "type(m)"
   ]
  },
  {
   "cell_type": "code",
   "execution_count": 38,
   "id": "f7255457-6272-44e8-ab6d-4277ad79f25a",
   "metadata": {
    "tags": []
   },
   "outputs": [
    {
     "name": "stdout",
     "output_type": "stream",
     "text": [
      "55\n"
     ]
    }
   ],
   "source": [
    "print(getsizeof(m))"
   ]
  },
  {
   "cell_type": "code",
   "execution_count": 34,
   "id": "4f4a7e8f-2017-4d9e-ba52-41f8af5d2414",
   "metadata": {
    "tags": []
   },
   "outputs": [],
   "source": [
    "m = \"maygnaojfnaobnaobaobagobagodbgodjabgoajank\""
   ]
  },
  {
   "cell_type": "code",
   "execution_count": 39,
   "id": "cd2b54e3-faac-4d48-ae3a-1064925a65e4",
   "metadata": {
    "tags": []
   },
   "outputs": [
    {
     "data": {
      "text/plain": [
       "str"
      ]
     },
     "execution_count": 39,
     "metadata": {},
     "output_type": "execute_result"
    }
   ],
   "source": [
    "type(m)"
   ]
  },
  {
   "cell_type": "code",
   "execution_count": 40,
   "id": "0011dc24-d428-4687-8257-f358f7da6df9",
   "metadata": {
    "tags": []
   },
   "outputs": [
    {
     "name": "stdout",
     "output_type": "stream",
     "text": [
      "55\n"
     ]
    }
   ],
   "source": [
    "print(getsizeof(m))"
   ]
  },
  {
   "cell_type": "code",
   "execution_count": null,
   "id": "62669d6f-b3ef-4c7f-bd0e-fa21d91d56b2",
   "metadata": {},
   "outputs": [],
   "source": [
    "example \n",
    "a=5 and then reassigned to \n",
    "a=\"mayank\"\n",
    "a is a string. \n",
    "\n",
    "(q1) Now can we rollback or undo and go back to a =5? \n",
    "(Q2) is there any function which records the history of values of the given identifier?"
   ]
  },
  {
   "cell_type": "code",
   "execution_count": 41,
   "id": "39a8522e-c11b-4ffb-9ca1-1109ab2a3080",
   "metadata": {
    "tags": []
   },
   "outputs": [
    {
     "data": {
      "text/plain": [
       "'mayank'"
      ]
     },
     "execution_count": 41,
     "metadata": {},
     "output_type": "execute_result"
    }
   ],
   "source": [
    "m"
   ]
  },
  {
   "cell_type": "code",
   "execution_count": 42,
   "id": "e5278d60-2ab3-4f4f-8b7c-5f4772c00737",
   "metadata": {
    "tags": []
   },
   "outputs": [
    {
     "data": {
      "text/plain": [
       "5"
      ]
     },
     "execution_count": 42,
     "metadata": {},
     "output_type": "execute_result"
    }
   ],
   "source": [
    "m =5\n",
    "m"
   ]
  },
  {
   "cell_type": "code",
   "execution_count": null,
   "id": "de01987a-1780-4a58-b7c4-f78b62753807",
   "metadata": {},
   "outputs": [],
   "source": []
  },
  {
   "cell_type": "markdown",
   "id": "339e2dd0-1a2f-47b6-ade9-5c3579f484b4",
   "metadata": {},
   "source": [
    "# I was trying to find getsizeof(True) and getsizeof(False), it printed way more than 1 byte, why is this inefficient? Since we can store in 1 byte as well."
   ]
  },
  {
   "cell_type": "code",
   "execution_count": 44,
   "id": "192dd8a0-b8fe-4680-b8da-2696935757c4",
   "metadata": {
    "tags": []
   },
   "outputs": [
    {
     "data": {
      "text/plain": [
       "28"
      ]
     },
     "execution_count": 44,
     "metadata": {},
     "output_type": "execute_result"
    }
   ],
   "source": [
    "t = True\n",
    "getsizeof(t)"
   ]
  },
  {
   "cell_type": "code",
   "execution_count": 46,
   "id": "7d4a1800-382a-4728-8f5c-7b025a5ad20c",
   "metadata": {
    "tags": []
   },
   "outputs": [
    {
     "data": {
      "text/plain": [
       "True"
      ]
     },
     "execution_count": 46,
     "metadata": {},
     "output_type": "execute_result"
    }
   ],
   "source": [
    "t==1"
   ]
  },
  {
   "cell_type": "code",
   "execution_count": 47,
   "id": "4f36649a-864d-4cf4-9652-7dc323e8275b",
   "metadata": {
    "tags": []
   },
   "outputs": [
    {
     "data": {
      "text/plain": [
       "28"
      ]
     },
     "execution_count": 47,
     "metadata": {},
     "output_type": "execute_result"
    }
   ],
   "source": [
    "a =1\n",
    "getsizeof(a)"
   ]
  },
  {
   "cell_type": "code",
   "execution_count": 48,
   "id": "68b8886b-6794-4824-80b5-f936ff49ab70",
   "metadata": {
    "tags": []
   },
   "outputs": [
    {
     "data": {
      "text/plain": [
       "bool"
      ]
     },
     "execution_count": 48,
     "metadata": {},
     "output_type": "execute_result"
    }
   ],
   "source": [
    "type(t)"
   ]
  },
  {
   "cell_type": "code",
   "execution_count": null,
   "id": "8eef78fc-d58b-4727-9e12-e240d1148051",
   "metadata": {},
   "outputs": [],
   "source": []
  },
  {
   "cell_type": "code",
   "execution_count": 52,
   "id": "15c14a77-6b8b-414c-97b4-633ef4c2d610",
   "metadata": {
    "tags": []
   },
   "outputs": [],
   "source": [
    "intVar= 2147483647"
   ]
  },
  {
   "cell_type": "code",
   "execution_count": 53,
   "id": "c2af34c6-020b-4a02-9cbc-696f769bde0d",
   "metadata": {
    "tags": []
   },
   "outputs": [
    {
     "data": {
      "text/plain": [
       "2147483647"
      ]
     },
     "execution_count": 53,
     "metadata": {},
     "output_type": "execute_result"
    }
   ],
   "source": [
    "intVar"
   ]
  },
  {
   "cell_type": "code",
   "execution_count": 54,
   "id": "343c756d-e8b1-477b-bcb8-173ae5a14ef1",
   "metadata": {
    "tags": []
   },
   "outputs": [],
   "source": [
    "intVar= 2147483649"
   ]
  },
  {
   "cell_type": "code",
   "execution_count": 55,
   "id": "42d771c3-d34e-44d3-a2e3-0616d381073f",
   "metadata": {
    "tags": []
   },
   "outputs": [
    {
     "data": {
      "text/plain": [
       "2147483649"
      ]
     },
     "execution_count": 55,
     "metadata": {},
     "output_type": "execute_result"
    }
   ],
   "source": [
    "intVar"
   ]
  },
  {
   "cell_type": "code",
   "execution_count": null,
   "id": "cf4490fa-2532-4233-9ffb-a7cba3ad1dda",
   "metadata": {},
   "outputs": [],
   "source": []
  },
  {
   "cell_type": "code",
   "execution_count": 64,
   "id": "e91686a4-87d5-4c7a-9605-84393d0d7e79",
   "metadata": {
    "tags": []
   },
   "outputs": [],
   "source": [
    "intVar= 214748364758315623786576239856239562832147483647583156237865762398562395628356285623782147483647583156237865762398562395628356285623785628562378"
   ]
  },
  {
   "cell_type": "code",
   "execution_count": 65,
   "id": "f5f19801-d0ec-4f99-9e52-b7d48bc25625",
   "metadata": {
    "tags": []
   },
   "outputs": [
    {
     "data": {
      "text/plain": [
       "214748364758315623786576239856239562832147483647583156237865762398562395628356285623782147483647583156237865762398562395628356285623785628562378"
      ]
     },
     "execution_count": 65,
     "metadata": {},
     "output_type": "execute_result"
    }
   ],
   "source": [
    "intVar"
   ]
  },
  {
   "cell_type": "code",
   "execution_count": 66,
   "id": "1a362120-aee5-40c3-b406-40194b6bce40",
   "metadata": {
    "tags": []
   },
   "outputs": [
    {
     "data": {
      "text/plain": [
       "88"
      ]
     },
     "execution_count": 66,
     "metadata": {},
     "output_type": "execute_result"
    }
   ],
   "source": [
    "getsizeof(intVar)"
   ]
  },
  {
   "cell_type": "code",
   "execution_count": null,
   "id": "2f0a3635-13df-4a5b-b1ba-79ac3e952944",
   "metadata": {},
   "outputs": [],
   "source": []
  },
  {
   "cell_type": "markdown",
   "id": "08d550dc-16bb-42cb-927e-0477cde0f4a4",
   "metadata": {},
   "source": [
    "# Numeric Data Types"
   ]
  },
  {
   "cell_type": "code",
   "execution_count": 68,
   "id": "9f4c8151-8310-416f-9185-21b02d13ce54",
   "metadata": {
    "tags": []
   },
   "outputs": [],
   "source": [
    "a = 553531"
   ]
  },
  {
   "cell_type": "code",
   "execution_count": 69,
   "id": "3a8d3f4b-976a-4d39-9879-ac8e8a70160c",
   "metadata": {
    "tags": []
   },
   "outputs": [
    {
     "data": {
      "text/plain": [
       "int"
      ]
     },
     "execution_count": 69,
     "metadata": {},
     "output_type": "execute_result"
    }
   ],
   "source": [
    "type(a)"
   ]
  },
  {
   "cell_type": "code",
   "execution_count": 70,
   "id": "aabf4e9e-700f-4af3-a773-23f5a5b8e750",
   "metadata": {
    "tags": []
   },
   "outputs": [],
   "source": [
    "a = 1e3"
   ]
  },
  {
   "cell_type": "code",
   "execution_count": 71,
   "id": "f498fad0-07f1-4525-9e7d-982d71c96602",
   "metadata": {
    "tags": []
   },
   "outputs": [
    {
     "data": {
      "text/plain": [
       "1000.0"
      ]
     },
     "execution_count": 71,
     "metadata": {},
     "output_type": "execute_result"
    }
   ],
   "source": [
    "a"
   ]
  },
  {
   "cell_type": "code",
   "execution_count": 72,
   "id": "8e8e0527-0e6c-4d61-90b4-139d1aeeffed",
   "metadata": {
    "tags": []
   },
   "outputs": [
    {
     "data": {
      "text/plain": [
       "1000"
      ]
     },
     "execution_count": 72,
     "metadata": {},
     "output_type": "execute_result"
    }
   ],
   "source": [
    "b = 1000\n",
    "b"
   ]
  },
  {
   "cell_type": "code",
   "execution_count": 73,
   "id": "e6eb019b-1c17-4164-a829-2ecf6b61504a",
   "metadata": {
    "tags": []
   },
   "outputs": [
    {
     "data": {
      "text/plain": [
       "True"
      ]
     },
     "execution_count": 73,
     "metadata": {},
     "output_type": "execute_result"
    }
   ],
   "source": [
    "a == b"
   ]
  },
  {
   "cell_type": "code",
   "execution_count": 76,
   "id": "fb506eb7-bf5b-42f4-a41a-e700b5079c1b",
   "metadata": {
    "tags": []
   },
   "outputs": [
    {
     "data": {
      "text/plain": [
       "200000.0"
      ]
     },
     "execution_count": 76,
     "metadata": {},
     "output_type": "execute_result"
    }
   ],
   "source": [
    "c = 2e5\n",
    "c"
   ]
  },
  {
   "cell_type": "code",
   "execution_count": 77,
   "id": "19d2b41c-288c-4443-9406-2effd192d674",
   "metadata": {
    "tags": []
   },
   "outputs": [
    {
     "data": {
      "text/plain": [
       "24"
      ]
     },
     "execution_count": 77,
     "metadata": {},
     "output_type": "execute_result"
    }
   ],
   "source": [
    "getsizeof(a)"
   ]
  },
  {
   "cell_type": "code",
   "execution_count": 78,
   "id": "184e6cf3-d6d3-4c0a-a67d-cb0f73662c1e",
   "metadata": {
    "tags": []
   },
   "outputs": [
    {
     "data": {
      "text/plain": [
       "28"
      ]
     },
     "execution_count": 78,
     "metadata": {},
     "output_type": "execute_result"
    }
   ],
   "source": [
    "getsizeof(b)"
   ]
  },
  {
   "cell_type": "code",
   "execution_count": null,
   "id": "b07b5bb3-0082-4a90-ad8f-053aa1d4027c",
   "metadata": {},
   "outputs": [],
   "source": []
  },
  {
   "cell_type": "markdown",
   "id": "3d24edcb-7f72-40a5-9211-dd5315a5eddb",
   "metadata": {},
   "source": [
    "# Float"
   ]
  },
  {
   "cell_type": "code",
   "execution_count": 79,
   "id": "49e0bb61-d3bb-4488-bb1d-4a3095fb8250",
   "metadata": {
    "tags": []
   },
   "outputs": [],
   "source": [
    "fl = 5.5"
   ]
  },
  {
   "cell_type": "code",
   "execution_count": 80,
   "id": "bf14cb5f-bac1-4f6f-b72f-96469b02fa48",
   "metadata": {
    "tags": []
   },
   "outputs": [
    {
     "data": {
      "text/plain": [
       "float"
      ]
     },
     "execution_count": 80,
     "metadata": {},
     "output_type": "execute_result"
    }
   ],
   "source": [
    "type(fl)"
   ]
  },
  {
   "cell_type": "code",
   "execution_count": 81,
   "id": "efcff3a3-b827-445d-8a63-7b7d00a6f878",
   "metadata": {
    "tags": []
   },
   "outputs": [],
   "source": [
    "fl2 = 1e-3"
   ]
  },
  {
   "cell_type": "code",
   "execution_count": 82,
   "id": "aba4e12b-6ebb-4641-8edf-cf74baf58ca0",
   "metadata": {
    "tags": []
   },
   "outputs": [
    {
     "data": {
      "text/plain": [
       "0.001"
      ]
     },
     "execution_count": 82,
     "metadata": {},
     "output_type": "execute_result"
    }
   ],
   "source": [
    "fl2"
   ]
  },
  {
   "cell_type": "code",
   "execution_count": 83,
   "id": "fd16eb0a-3ebc-45ed-8b7b-981d8e631c57",
   "metadata": {
    "tags": []
   },
   "outputs": [
    {
     "data": {
      "text/plain": [
       "float"
      ]
     },
     "execution_count": 83,
     "metadata": {},
     "output_type": "execute_result"
    }
   ],
   "source": [
    "type(fl2)"
   ]
  },
  {
   "cell_type": "code",
   "execution_count": 84,
   "id": "b1a99ffe-7991-4bc2-8186-7a55dfc295b0",
   "metadata": {
    "tags": []
   },
   "outputs": [],
   "source": [
    "fl3 = 1/3"
   ]
  },
  {
   "cell_type": "code",
   "execution_count": 85,
   "id": "e7557672-771c-456b-86de-de89c85a05cf",
   "metadata": {
    "tags": []
   },
   "outputs": [
    {
     "data": {
      "text/plain": [
       "0.3333333333333333"
      ]
     },
     "execution_count": 85,
     "metadata": {},
     "output_type": "execute_result"
    }
   ],
   "source": [
    "fl3"
   ]
  },
  {
   "cell_type": "code",
   "execution_count": 87,
   "id": "aac380a2-6131-49da-bdf0-2c246cb199cc",
   "metadata": {
    "tags": []
   },
   "outputs": [
    {
     "data": {
      "text/plain": [
       "0.3333333333333333"
      ]
     },
     "execution_count": 87,
     "metadata": {},
     "output_type": "execute_result"
    }
   ],
   "source": [
    "0.3333333333333333"
   ]
  },
  {
   "cell_type": "code",
   "execution_count": 88,
   "id": "f1028237-71f4-4957-8266-250d2ae033cd",
   "metadata": {
    "tags": []
   },
   "outputs": [
    {
     "ename": "TypeError",
     "evalue": "object of type 'float' has no len()",
     "output_type": "error",
     "traceback": [
      "\u001b[0;31m---------------------------------------------------------------------------\u001b[0m",
      "\u001b[0;31mTypeError\u001b[0m                                 Traceback (most recent call last)",
      "Cell \u001b[0;32mIn[88], line 1\u001b[0m\n\u001b[0;32m----> 1\u001b[0m \u001b[38;5;28mprint\u001b[39m(\u001b[38;5;28mlen\u001b[39m(fl3))\n",
      "\u001b[0;31mTypeError\u001b[0m: object of type 'float' has no len()"
     ]
    }
   ],
   "source": [
    "print(len(fl3))"
   ]
  },
  {
   "cell_type": "code",
   "execution_count": 89,
   "id": "303ac9a5-2312-46c9-93c1-24651a65b572",
   "metadata": {
    "tags": []
   },
   "outputs": [
    {
     "data": {
      "text/plain": [
       "1.6666666666666667"
      ]
     },
     "execution_count": 89,
     "metadata": {},
     "output_type": "execute_result"
    }
   ],
   "source": [
    "5/3"
   ]
  },
  {
   "cell_type": "code",
   "execution_count": 90,
   "id": "86f618b1-67f7-4bee-9352-d729752b24c8",
   "metadata": {
    "tags": []
   },
   "outputs": [
    {
     "data": {
      "text/plain": [
       "1"
      ]
     },
     "execution_count": 90,
     "metadata": {},
     "output_type": "execute_result"
    }
   ],
   "source": []
  },
  {
   "cell_type": "markdown",
   "id": "db57c15e-6db9-49b3-b6b1-b3d63f17a560",
   "metadata": {},
   "source": [
    "# Complex"
   ]
  },
  {
   "cell_type": "code",
   "execution_count": 91,
   "id": "e6420ff5-aa41-4957-93f2-3a1c81b79c9a",
   "metadata": {
    "tags": []
   },
   "outputs": [],
   "source": [
    "com1 = 3+2j"
   ]
  },
  {
   "cell_type": "code",
   "execution_count": 92,
   "id": "563f48fa-2858-443d-b457-2c810ebdee0e",
   "metadata": {
    "tags": []
   },
   "outputs": [
    {
     "data": {
      "text/plain": [
       "complex"
      ]
     },
     "execution_count": 92,
     "metadata": {},
     "output_type": "execute_result"
    }
   ],
   "source": [
    "type(com1)"
   ]
  },
  {
   "cell_type": "code",
   "execution_count": 93,
   "id": "33b6a6c4-835d-4ecb-9fc9-aa196ae00e34",
   "metadata": {
    "tags": []
   },
   "outputs": [
    {
     "data": {
      "text/plain": [
       "32"
      ]
     },
     "execution_count": 93,
     "metadata": {},
     "output_type": "execute_result"
    }
   ],
   "source": [
    "getsizeof(com1)"
   ]
  },
  {
   "cell_type": "code",
   "execution_count": 94,
   "id": "341b0c28-4ee0-4858-8b44-1002b3f24d51",
   "metadata": {
    "tags": []
   },
   "outputs": [
    {
     "ename": "SyntaxError",
     "evalue": "invalid decimal literal (362104235.py, line 1)",
     "output_type": "error",
     "traceback": [
      "\u001b[0;36m  Cell \u001b[0;32mIn[94], line 1\u001b[0;36m\u001b[0m\n\u001b[0;31m    com2 = 3+ 5i\u001b[0m\n\u001b[0m              ^\u001b[0m\n\u001b[0;31mSyntaxError\u001b[0m\u001b[0;31m:\u001b[0m invalid decimal literal\n"
     ]
    }
   ],
   "source": [
    "com2 = 3+ 5i"
   ]
  },
  {
   "cell_type": "code",
   "execution_count": 95,
   "id": "7a407585-fd34-47b9-b36a-ecbae7405b2e",
   "metadata": {
    "tags": []
   },
   "outputs": [],
   "source": [
    "com2 = 3+ 5J"
   ]
  },
  {
   "cell_type": "code",
   "execution_count": 96,
   "id": "2be9cf43-e577-4509-9f45-813fb21e0258",
   "metadata": {
    "tags": []
   },
   "outputs": [
    {
     "data": {
      "text/plain": [
       "complex"
      ]
     },
     "execution_count": 96,
     "metadata": {},
     "output_type": "execute_result"
    }
   ],
   "source": [
    "type(com2)"
   ]
  },
  {
   "cell_type": "code",
   "execution_count": 97,
   "id": "8b81b19a-21ae-43cd-b607-e466e5eaf480",
   "metadata": {
    "tags": []
   },
   "outputs": [
    {
     "data": {
      "text/plain": [
       "32"
      ]
     },
     "execution_count": 97,
     "metadata": {},
     "output_type": "execute_result"
    }
   ],
   "source": [
    "getsizeof(com2)"
   ]
  },
  {
   "cell_type": "code",
   "execution_count": 98,
   "id": "6fc3525e-f31d-43d0-bb34-860ace7e9789",
   "metadata": {
    "tags": []
   },
   "outputs": [
    {
     "data": {
      "text/plain": [
       "(6+7j)"
      ]
     },
     "execution_count": 98,
     "metadata": {},
     "output_type": "execute_result"
    }
   ],
   "source": [
    "com1 + com2"
   ]
  },
  {
   "cell_type": "code",
   "execution_count": 99,
   "id": "bcee87cf-d9a4-45a5-acc5-33b38a3df0f1",
   "metadata": {
    "tags": []
   },
   "outputs": [
    {
     "ename": "NameError",
     "evalue": "name 'j3' is not defined",
     "output_type": "error",
     "traceback": [
      "\u001b[0;31m---------------------------------------------------------------------------\u001b[0m",
      "\u001b[0;31mNameError\u001b[0m                                 Traceback (most recent call last)",
      "Cell \u001b[0;32mIn[99], line 1\u001b[0m\n\u001b[0;32m----> 1\u001b[0m com3 \u001b[38;5;241m=\u001b[39m \u001b[38;5;241m2\u001b[39m \u001b[38;5;241m+\u001b[39m j3\n",
      "\u001b[0;31mNameError\u001b[0m: name 'j3' is not defined"
     ]
    }
   ],
   "source": [
    "com3 = 2 + j3"
   ]
  },
  {
   "cell_type": "code",
   "execution_count": 100,
   "id": "a3461ba7-3577-488d-9aed-1f567ee03cc6",
   "metadata": {
    "tags": []
   },
   "outputs": [],
   "source": [
    "com4 = 6 + 4j"
   ]
  },
  {
   "cell_type": "code",
   "execution_count": 101,
   "id": "0b9dab57-4a3d-4b55-b35e-48c872c95db4",
   "metadata": {
    "tags": []
   },
   "outputs": [
    {
     "ename": "SyntaxError",
     "evalue": "invalid decimal literal (2521597964.py, line 1)",
     "output_type": "error",
     "traceback": [
      "\u001b[0;36m  Cell \u001b[0;32mIn[101], line 1\u001b[0;36m\u001b[0m\n\u001b[0;31m    com5 = 2 + 5i + 5j\u001b[0m\n\u001b[0m               ^\u001b[0m\n\u001b[0;31mSyntaxError\u001b[0m\u001b[0;31m:\u001b[0m invalid decimal literal\n"
     ]
    }
   ],
   "source": [
    "com5 = 2 + 5i + 5j"
   ]
  },
  {
   "cell_type": "code",
   "execution_count": null,
   "id": "06777811-2e5c-4cb2-9884-481dbec8a823",
   "metadata": {},
   "outputs": [],
   "source": []
  },
  {
   "cell_type": "code",
   "execution_count": 102,
   "id": "e3743308-90e7-4bd6-92c7-d5daaaefe361",
   "metadata": {
    "tags": []
   },
   "outputs": [],
   "source": [
    "import math\n"
   ]
  },
  {
   "cell_type": "code",
   "execution_count": 103,
   "id": "b8664c81-9557-42c8-8699-70145c004067",
   "metadata": {
    "tags": []
   },
   "outputs": [
    {
     "data": {
      "text/plain": [
       "['__doc__',\n",
       " '__file__',\n",
       " '__loader__',\n",
       " '__name__',\n",
       " '__package__',\n",
       " '__spec__',\n",
       " 'acos',\n",
       " 'acosh',\n",
       " 'asin',\n",
       " 'asinh',\n",
       " 'atan',\n",
       " 'atan2',\n",
       " 'atanh',\n",
       " 'cbrt',\n",
       " 'ceil',\n",
       " 'comb',\n",
       " 'copysign',\n",
       " 'cos',\n",
       " 'cosh',\n",
       " 'degrees',\n",
       " 'dist',\n",
       " 'e',\n",
       " 'erf',\n",
       " 'erfc',\n",
       " 'exp',\n",
       " 'exp2',\n",
       " 'expm1',\n",
       " 'fabs',\n",
       " 'factorial',\n",
       " 'floor',\n",
       " 'fmod',\n",
       " 'frexp',\n",
       " 'fsum',\n",
       " 'gamma',\n",
       " 'gcd',\n",
       " 'hypot',\n",
       " 'inf',\n",
       " 'isclose',\n",
       " 'isfinite',\n",
       " 'isinf',\n",
       " 'isnan',\n",
       " 'isqrt',\n",
       " 'lcm',\n",
       " 'ldexp',\n",
       " 'lgamma',\n",
       " 'log',\n",
       " 'log10',\n",
       " 'log1p',\n",
       " 'log2',\n",
       " 'modf',\n",
       " 'nan',\n",
       " 'nextafter',\n",
       " 'perm',\n",
       " 'pi',\n",
       " 'pow',\n",
       " 'prod',\n",
       " 'radians',\n",
       " 'remainder',\n",
       " 'sin',\n",
       " 'sinh',\n",
       " 'sqrt',\n",
       " 'tan',\n",
       " 'tanh',\n",
       " 'tau',\n",
       " 'trunc',\n",
       " 'ulp']"
      ]
     },
     "execution_count": 103,
     "metadata": {},
     "output_type": "execute_result"
    }
   ],
   "source": [
    "dir(math)"
   ]
  },
  {
   "cell_type": "code",
   "execution_count": null,
   "id": "d4039709-c567-4369-a4c5-6b4b65f5bf14",
   "metadata": {},
   "outputs": [],
   "source": [
    "   *\n",
    "  * * \n",
    " * * *\n",
    "* * * *"
   ]
  }
 ],
 "metadata": {
  "kernelspec": {
   "display_name": "Python 3 (ipykernel)",
   "language": "python",
   "name": "python3"
  },
  "language_info": {
   "codemirror_mode": {
    "name": "ipython",
    "version": 3
   },
   "file_extension": ".py",
   "mimetype": "text/x-python",
   "name": "python",
   "nbconvert_exporter": "python",
   "pygments_lexer": "ipython3",
   "version": "3.11.5"
  }
 },
 "nbformat": 4,
 "nbformat_minor": 5
}
