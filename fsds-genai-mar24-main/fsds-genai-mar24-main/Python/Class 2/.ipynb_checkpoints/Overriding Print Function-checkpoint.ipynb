{
 "cells": [
  {
   "cell_type": "code",
   "execution_count": 1,
   "id": "599a9c48-213b-49e8-b6fb-71452f833201",
   "metadata": {
    "tags": []
   },
   "outputs": [
    {
     "name": "stdin",
     "output_type": "stream",
     "text": [
      "What do you want me to search hello\n"
     ]
    }
   ],
   "source": []
  },
  {
   "cell_type": "code",
   "execution_count": 4,
   "id": "763eef02-a073-4857-a2a4-17f1fb6f067d",
   "metadata": {
    "tags": []
   },
   "outputs": [],
   "source": [
    "def test(a,b=9,c):\n",
    "    print(a,b,c)"
   ]
  },
  {
   "cell_type": "code",
   "execution_count": null,
   "id": "49b7f251-4ac4-40bd-b027-21de25cc16b8",
   "metadata": {},
   "outputs": [],
   "source": []
  },
  {
   "cell_type": "code",
   "execution_count": null,
   "id": "2d8c794f-43c9-4f55-a97b-8b92cee37a61",
   "metadata": {},
   "outputs": [],
   "source": []
  },
  {
   "cell_type": "code",
   "execution_count": null,
   "id": "80e0fc23-89ed-4854-bfcd-2431f917165a",
   "metadata": {},
   "outputs": [],
   "source": [
    "test(10,8)"
   ]
  },
  {
   "cell_type": "code",
   "execution_count": null,
   "id": "9f7713f4-e9f0-4a99-bdf5-5f038a90fcf2",
   "metadata": {},
   "outputs": [],
   "source": []
  },
  {
   "cell_type": "code",
   "execution_count": null,
   "id": "4ee33da0-4d3d-4c81-b937-0bcc1cfed657",
   "metadata": {},
   "outputs": [],
   "source": []
  },
  {
   "cell_type": "code",
   "execution_count": 7,
   "id": "217a39fb-e136-4f7c-aaa7-9bf3eb2b5769",
   "metadata": {
    "tags": []
   },
   "outputs": [],
   "source": [
    "def myPrintFunction(str1):\n",
    "    print(str1,\"Safi\",end=\"<>\",sep=\"123\")"
   ]
  },
  {
   "cell_type": "code",
   "execution_count": 8,
   "id": "a5d898e6-f1bf-4241-97eb-1e6b149f1ebc",
   "metadata": {
    "tags": []
   },
   "outputs": [
    {
     "name": "stdout",
     "output_type": "stream",
     "text": [
      "hello123Safi<>"
     ]
    }
   ],
   "source": [
    "myPrintFunction(\"hello\")"
   ]
  }
 ],
 "metadata": {
  "kernelspec": {
   "display_name": "Python 3 (ipykernel)",
   "language": "python",
   "name": "python3"
  },
  "language_info": {
   "codemirror_mode": {
    "name": "ipython",
    "version": 3
   },
   "file_extension": ".py",
   "mimetype": "text/x-python",
   "name": "python",
   "nbconvert_exporter": "python",
   "pygments_lexer": "ipython3",
   "version": "3.11.5"
  }
 },
 "nbformat": 4,
 "nbformat_minor": 5
}
