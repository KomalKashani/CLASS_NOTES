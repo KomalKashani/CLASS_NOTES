{
 "cells": [
  {
   "cell_type": "code",
   "execution_count": null,
   "id": "6e828301-4cbc-4e78-8bb3-cb89a55f2b0a",
   "metadata": {},
   "outputs": [],
   "source": []
  },
  {
   "cell_type": "code",
   "execution_count": 1,
   "id": "86120be3-dc00-43fb-bd16-5589b4edc7a3",
   "metadata": {
    "tags": []
   },
   "outputs": [],
   "source": [
    "s1 = \"ABC\"\n",
    "s2 = \"DEF\"\n",
    "s3 = \"ABC\""
   ]
  },
  {
   "cell_type": "code",
   "execution_count": 2,
   "id": "dea7269d-9e1a-4649-ad66-befeda3c9272",
   "metadata": {
    "tags": []
   },
   "outputs": [
    {
     "data": {
      "text/plain": [
       "False"
      ]
     },
     "execution_count": 2,
     "metadata": {},
     "output_type": "execute_result"
    }
   ],
   "source": [
    "s1 == s2"
   ]
  },
  {
   "cell_type": "code",
   "execution_count": 3,
   "id": "400c86c9-a594-4d6a-917a-9d4b1ff76668",
   "metadata": {
    "tags": []
   },
   "outputs": [
    {
     "data": {
      "text/plain": [
       "True"
      ]
     },
     "execution_count": 3,
     "metadata": {},
     "output_type": "execute_result"
    }
   ],
   "source": [
    "s1 == s3"
   ]
  },
  {
   "cell_type": "code",
   "execution_count": 4,
   "id": "2a2359d2-0731-4e6b-b883-2f3e3eb3ccad",
   "metadata": {
    "tags": []
   },
   "outputs": [
    {
     "data": {
      "text/plain": [
       "False"
      ]
     },
     "execution_count": 4,
     "metadata": {},
     "output_type": "execute_result"
    }
   ],
   "source": [
    "s1 == \"abc\""
   ]
  },
  {
   "cell_type": "code",
   "execution_count": 8,
   "id": "360638a5-6df7-43e0-b460-25d1ee54c971",
   "metadata": {
    "tags": []
   },
   "outputs": [
    {
     "data": {
      "text/plain": [
       "120"
      ]
     },
     "execution_count": 8,
     "metadata": {},
     "output_type": "execute_result"
    }
   ],
   "source": [
    "ord('x')"
   ]
  },
  {
   "cell_type": "code",
   "execution_count": null,
   "id": "975b13b7-4c87-4055-a061-270f95383359",
   "metadata": {},
   "outputs": [],
   "source": []
  },
  {
   "cell_type": "code",
   "execution_count": 5,
   "id": "1fd2cf09-ee61-49ee-ba87-a74e8aed3a90",
   "metadata": {
    "tags": []
   },
   "outputs": [
    {
     "data": {
      "text/plain": [
       "False"
      ]
     },
     "execution_count": 5,
     "metadata": {},
     "output_type": "execute_result"
    }
   ],
   "source": [
    "'abc' > 'x'"
   ]
  },
  {
   "cell_type": "code",
   "execution_count": 6,
   "id": "4a085cc5-a99b-4a3a-b96c-5de98502d476",
   "metadata": {
    "tags": []
   },
   "outputs": [
    {
     "data": {
      "text/plain": [
       "True"
      ]
     },
     "execution_count": 6,
     "metadata": {},
     "output_type": "execute_result"
    }
   ],
   "source": [
    "'abc' < 'x'"
   ]
  },
  {
   "cell_type": "code",
   "execution_count": null,
   "id": "2d72700c-d3aa-46fb-a659-6243b4bb0ec6",
   "metadata": {},
   "outputs": [],
   "source": []
  },
  {
   "cell_type": "code",
   "execution_count": 9,
   "id": "5d3bf3ae-5c7b-49a3-82c3-f841096b24ba",
   "metadata": {
    "tags": []
   },
   "outputs": [
    {
     "data": {
      "text/plain": [
       "True"
      ]
     },
     "execution_count": 9,
     "metadata": {},
     "output_type": "execute_result"
    }
   ],
   "source": [
    "\"abc\" < \"ade\""
   ]
  },
  {
   "cell_type": "code",
   "execution_count": 10,
   "id": "544aacda-3840-4725-8120-8002feabb363",
   "metadata": {
    "tags": []
   },
   "outputs": [
    {
     "data": {
      "text/plain": [
       "False"
      ]
     },
     "execution_count": 10,
     "metadata": {},
     "output_type": "execute_result"
    }
   ],
   "source": [
    "\"a\" > \"ab\""
   ]
  },
  {
   "cell_type": "code",
   "execution_count": 11,
   "id": "52df53d5-6a16-4817-b83f-01f80278dc09",
   "metadata": {
    "tags": []
   },
   "outputs": [
    {
     "data": {
      "text/plain": [
       "False"
      ]
     },
     "execution_count": 11,
     "metadata": {},
     "output_type": "execute_result"
    }
   ],
   "source": [
    "\"abc\" > \"abc\""
   ]
  },
  {
   "cell_type": "code",
   "execution_count": 12,
   "id": "1acf4d0a-d67f-4b38-af0b-41f422e8d5fd",
   "metadata": {
    "tags": []
   },
   "outputs": [
    {
     "data": {
      "text/plain": [
       "True"
      ]
     },
     "execution_count": 12,
     "metadata": {},
     "output_type": "execute_result"
    }
   ],
   "source": [
    "\"abc\" >= \"abc\""
   ]
  },
  {
   "cell_type": "code",
   "execution_count": 13,
   "id": "95920f92-ca66-41bd-a01f-fbbc25960022",
   "metadata": {
    "tags": []
   },
   "outputs": [
    {
     "data": {
      "text/plain": [
       "False"
      ]
     },
     "execution_count": 13,
     "metadata": {},
     "output_type": "execute_result"
    }
   ],
   "source": [
    "5 > 5"
   ]
  },
  {
   "cell_type": "code",
   "execution_count": 14,
   "id": "44262a08-b62e-4fea-a312-87d0a8339222",
   "metadata": {
    "tags": []
   },
   "outputs": [
    {
     "data": {
      "text/plain": [
       "True"
      ]
     },
     "execution_count": 14,
     "metadata": {},
     "output_type": "execute_result"
    }
   ],
   "source": [
    "5>=5"
   ]
  },
  {
   "cell_type": "code",
   "execution_count": 15,
   "id": "757e46dc-a908-4e24-9e99-ae928751bd5a",
   "metadata": {
    "tags": []
   },
   "outputs": [
    {
     "data": {
      "text/plain": [
       "True"
      ]
     },
     "execution_count": 15,
     "metadata": {},
     "output_type": "execute_result"
    }
   ],
   "source": [
    "\"xab\" > \"x\""
   ]
  },
  {
   "cell_type": "code",
   "execution_count": 16,
   "id": "1363272c-e4ae-443a-9714-1d090dccf198",
   "metadata": {
    "tags": []
   },
   "outputs": [
    {
     "data": {
      "text/plain": [
       "True"
      ]
     },
     "execution_count": 16,
     "metadata": {},
     "output_type": "execute_result"
    }
   ],
   "source": [
    "\"a\" > \"A\""
   ]
  },
  {
   "cell_type": "code",
   "execution_count": 17,
   "id": "bcd283be-8e81-4504-a762-1d54a74abd2a",
   "metadata": {
    "tags": []
   },
   "outputs": [
    {
     "data": {
      "text/plain": [
       "True"
      ]
     },
     "execution_count": 17,
     "metadata": {},
     "output_type": "execute_result"
    }
   ],
   "source": [
    "\"abc\" < \"cbd\""
   ]
  },
  {
   "cell_type": "code",
   "execution_count": null,
   "id": "331b858c-e7e6-4d5b-a091-26d708b0e733",
   "metadata": {},
   "outputs": [],
   "source": []
  },
  {
   "cell_type": "code",
   "execution_count": null,
   "id": "9b412f96-d520-40e3-9f58-e609852b20ce",
   "metadata": {},
   "outputs": [],
   "source": [
    "\"abc\" > \"x\""
   ]
  },
  {
   "cell_type": "code",
   "execution_count": null,
   "id": "b8f10122-5780-4310-9497-96f362f5dbf5",
   "metadata": {},
   "outputs": [],
   "source": []
  },
  {
   "cell_type": "code",
   "execution_count": 18,
   "id": "b4fe271e-2491-498b-a88d-dd1bfc738bca",
   "metadata": {
    "tags": []
   },
   "outputs": [
    {
     "data": {
      "text/plain": [
       "False"
      ]
     },
     "execution_count": 18,
     "metadata": {},
     "output_type": "execute_result"
    }
   ],
   "source": [
    "\"True\" > \"false\""
   ]
  },
  {
   "cell_type": "code",
   "execution_count": null,
   "id": "9ecfdfe3-7d20-479b-8dba-e369c150a379",
   "metadata": {},
   "outputs": [],
   "source": []
  },
  {
   "cell_type": "code",
   "execution_count": 19,
   "id": "7c993b75-6e89-4030-a2bd-d935f3d8409f",
   "metadata": {
    "tags": []
   },
   "outputs": [
    {
     "data": {
      "text/plain": [
       "True"
      ]
     },
     "execution_count": 19,
     "metadata": {},
     "output_type": "execute_result"
    }
   ],
   "source": [
    "True > False"
   ]
  },
  {
   "cell_type": "code",
   "execution_count": 21,
   "id": "ed172df5-e195-47f1-a480-df0560e51729",
   "metadata": {
    "tags": []
   },
   "outputs": [
    {
     "data": {
      "text/plain": [
       "True"
      ]
     },
     "execution_count": 21,
     "metadata": {},
     "output_type": "execute_result"
    }
   ],
   "source": [
    "\"true\" > \"false\""
   ]
  },
  {
   "cell_type": "code",
   "execution_count": 23,
   "id": "f82d6ed3-ef00-4efa-9936-b343902aa40a",
   "metadata": {
    "tags": []
   },
   "outputs": [
    {
     "data": {
      "text/plain": [
       "False"
      ]
     },
     "execution_count": 23,
     "metadata": {},
     "output_type": "execute_result"
    }
   ],
   "source": [
    "\"true\" == True"
   ]
  },
  {
   "cell_type": "code",
   "execution_count": null,
   "id": "8bab9464-a9b4-49b0-8d6a-c6f27e555eff",
   "metadata": {},
   "outputs": [],
   "source": []
  },
  {
   "cell_type": "code",
   "execution_count": 24,
   "id": "d226bada-f113-48e3-8aa7-1370fb4dac4a",
   "metadata": {
    "tags": []
   },
   "outputs": [
    {
     "data": {
      "text/plain": [
       "True"
      ]
     },
     "execution_count": 24,
     "metadata": {},
     "output_type": "execute_result"
    }
   ],
   "source": [
    "'f' != 'F'"
   ]
  },
  {
   "cell_type": "code",
   "execution_count": 25,
   "id": "bd31c9d0-5861-4253-a4e2-42a84a46b661",
   "metadata": {
    "tags": []
   },
   "outputs": [
    {
     "data": {
      "text/plain": [
       "True"
      ]
     },
     "execution_count": 25,
     "metadata": {},
     "output_type": "execute_result"
    }
   ],
   "source": [
    "'9' > '6+4'"
   ]
  },
  {
   "cell_type": "code",
   "execution_count": null,
   "id": "d96a523e-11b3-4d56-9b00-8132ea86e37f",
   "metadata": {},
   "outputs": [],
   "source": []
  },
  {
   "cell_type": "code",
   "execution_count": null,
   "id": "a4b50a33-0402-40a0-80d4-af2b611ec6bd",
   "metadata": {},
   "outputs": [],
   "source": []
  },
  {
   "cell_type": "code",
   "execution_count": 20,
   "id": "a75440a1-ba5f-432b-b1d9-0e36487dc10c",
   "metadata": {
    "tags": []
   },
   "outputs": [
    {
     "ename": "TypeError",
     "evalue": "'>' not supported between instances of 'str' and 'int'",
     "output_type": "error",
     "traceback": [
      "\u001b[0;31m---------------------------------------------------------------------------\u001b[0m",
      "\u001b[0;31mTypeError\u001b[0m                                 Traceback (most recent call last)",
      "Cell \u001b[0;32mIn[20], line 1\u001b[0m\n\u001b[0;32m----> 1\u001b[0m \u001b[38;5;124m\"\u001b[39m\u001b[38;5;124mabc\u001b[39m\u001b[38;5;124m\"\u001b[39m \u001b[38;5;241m>\u001b[39m \u001b[38;5;241m5\u001b[39m\n",
      "\u001b[0;31mTypeError\u001b[0m: '>' not supported between instances of 'str' and 'int'"
     ]
    }
   ],
   "source": [
    "\"abc\" > 5"
   ]
  },
  {
   "cell_type": "code",
   "execution_count": null,
   "id": "c2ec386a-7286-4b3f-a81e-0dff0a95c1d2",
   "metadata": {},
   "outputs": [],
   "source": []
  },
  {
   "cell_type": "code",
   "execution_count": 27,
   "id": "ada7d218-2cb7-43c0-9a1b-bcd5aa0df528",
   "metadata": {
    "tags": []
   },
   "outputs": [
    {
     "ename": "TypeError",
     "evalue": "'>' not supported between instances of 'str' and 'int'",
     "output_type": "error",
     "traceback": [
      "\u001b[0;31m---------------------------------------------------------------------------\u001b[0m",
      "\u001b[0;31mTypeError\u001b[0m                                 Traceback (most recent call last)",
      "Cell \u001b[0;32mIn[27], line 1\u001b[0m\n\u001b[0;32m----> 1\u001b[0m \u001b[38;5;124m'\u001b[39m\u001b[38;5;124mabc\u001b[39m\u001b[38;5;124m'\u001b[39m \u001b[38;5;241m>\u001b[39m \u001b[38;5;241m2\u001b[39m\n",
      "\u001b[0;31mTypeError\u001b[0m: '>' not supported between instances of 'str' and 'int'"
     ]
    }
   ],
   "source": [
    "\"abc\" > 2"
   ]
  },
  {
   "cell_type": "code",
   "execution_count": null,
   "id": "5bd7d4c3-468e-4d84-ba3a-5dd883515176",
   "metadata": {},
   "outputs": [],
   "source": [
    "'' \n",
    "2\n",
    "True\n",
    "3+5j"
   ]
  },
  {
   "cell_type": "code",
   "execution_count": 126,
   "id": "025336bd-2a67-4504-a939-54132e4aa0ea",
   "metadata": {
    "tags": []
   },
   "outputs": [
    {
     "ename": "TypeError",
     "evalue": "'>' not supported between instances of 'str' and 'int'",
     "output_type": "error",
     "traceback": [
      "\u001b[0;31m---------------------------------------------------------------------------\u001b[0m",
      "\u001b[0;31mTypeError\u001b[0m                                 Traceback (most recent call last)",
      "Cell \u001b[0;32mIn[126], line 1\u001b[0m\n\u001b[0;32m----> 1\u001b[0m \u001b[38;5;124m\"\u001b[39m\u001b[38;5;124mabc\u001b[39m\u001b[38;5;124m\"\u001b[39m \u001b[38;5;241m>\u001b[39m \u001b[38;5;241m2\u001b[39m\n",
      "\u001b[0;31mTypeError\u001b[0m: '>' not supported between instances of 'str' and 'int'"
     ]
    }
   ],
   "source": [
    "\"abc\" > 2"
   ]
  },
  {
   "cell_type": "code",
   "execution_count": null,
   "id": "838d0e4c-6085-4714-a779-7d08b3af253a",
   "metadata": {},
   "outputs": [],
   "source": [
    "# NESTING OF Relational Operator"
   ]
  },
  {
   "cell_type": "code",
   "execution_count": null,
   "id": "0a4ce495-b07d-4bb0-84d1-4ada8049b2c2",
   "metadata": {},
   "outputs": [],
   "source": []
  },
  {
   "cell_type": "code",
   "execution_count": 29,
   "id": "8192b9f0-8933-4461-96ec-3dee1aeef4c1",
   "metadata": {
    "tags": []
   },
   "outputs": [
    {
     "name": "stdout",
     "output_type": "stream",
     "text": [
      "True\n"
     ]
    }
   ],
   "source": [
    "print(7>6>5)"
   ]
  },
  {
   "cell_type": "code",
   "execution_count": 30,
   "id": "24f23884-843b-41a1-820a-c32cc3ccb1a9",
   "metadata": {
    "tags": []
   },
   "outputs": [
    {
     "name": "stdout",
     "output_type": "stream",
     "text": [
      "False\n"
     ]
    }
   ],
   "source": [
    "print(5<6>7)"
   ]
  },
  {
   "cell_type": "code",
   "execution_count": 31,
   "id": "c1c614a1-37b8-4332-b7de-7ad572cdc553",
   "metadata": {
    "tags": []
   },
   "outputs": [
    {
     "name": "stdout",
     "output_type": "stream",
     "text": [
      "False\n"
     ]
    }
   ],
   "source": [
    "print('a' > 'b' > 'c')"
   ]
  },
  {
   "cell_type": "code",
   "execution_count": null,
   "id": "da58f51a-2bac-45c6-bcb5-89300e09ec87",
   "metadata": {},
   "outputs": [],
   "source": []
  },
  {
   "cell_type": "code",
   "execution_count": 32,
   "id": "3a7ac8ad-007b-4777-acb2-206a6ad91340",
   "metadata": {
    "tags": []
   },
   "outputs": [
    {
     "name": "stdout",
     "output_type": "stream",
     "text": [
      "False\n"
     ]
    }
   ],
   "source": [
    "print('A' > 'a' > 'B')"
   ]
  },
  {
   "cell_type": "code",
   "execution_count": null,
   "id": "a537deb9-cae7-4855-9daa-c0b8d17a2e17",
   "metadata": {},
   "outputs": [],
   "source": []
  },
  {
   "cell_type": "code",
   "execution_count": null,
   "id": "449adac3-ad03-4bbd-84b5-ec46a659f7c0",
   "metadata": {},
   "outputs": [],
   "source": []
  },
  {
   "cell_type": "code",
   "execution_count": 33,
   "id": "c8f11333-f761-41c9-85ce-3c76607e03fc",
   "metadata": {
    "tags": []
   },
   "outputs": [
    {
     "data": {
      "text/plain": [
       "False"
      ]
     },
     "execution_count": 33,
     "metadata": {},
     "output_type": "execute_result"
    }
   ],
   "source": [
    "'5' == 5"
   ]
  },
  {
   "cell_type": "code",
   "execution_count": null,
   "id": "69dbe132-fc91-4af9-884d-ed9dccf3658d",
   "metadata": {},
   "outputs": [],
   "source": []
  },
  {
   "cell_type": "code",
   "execution_count": 36,
   "id": "5c3cbd05-441d-4c4e-820f-873171e33d53",
   "metadata": {
    "tags": []
   },
   "outputs": [
    {
     "data": {
      "text/plain": [
       "True"
      ]
     },
     "execution_count": 36,
     "metadata": {},
     "output_type": "execute_result"
    }
   ],
   "source": [
    "True == 1"
   ]
  },
  {
   "cell_type": "code",
   "execution_count": 37,
   "id": "d40f09f5-c5d1-407d-9a38-ff2fafd6ad4a",
   "metadata": {
    "tags": []
   },
   "outputs": [
    {
     "data": {
      "text/plain": [
       "True"
      ]
     },
     "execution_count": 37,
     "metadata": {},
     "output_type": "execute_result"
    }
   ],
   "source": [
    "False ==0"
   ]
  },
  {
   "cell_type": "code",
   "execution_count": 38,
   "id": "86ed9d71-7708-4651-b25f-85041d7d3558",
   "metadata": {
    "tags": []
   },
   "outputs": [
    {
     "data": {
      "text/plain": [
       "False"
      ]
     },
     "execution_count": 38,
     "metadata": {},
     "output_type": "execute_result"
    }
   ],
   "source": [
    "'1' == 1"
   ]
  },
  {
   "cell_type": "code",
   "execution_count": 39,
   "id": "2536c2c9-5194-45e0-87c3-185e27934421",
   "metadata": {
    "tags": []
   },
   "outputs": [
    {
     "data": {
      "text/plain": [
       "False"
      ]
     },
     "execution_count": 39,
     "metadata": {},
     "output_type": "execute_result"
    }
   ],
   "source": [
    "'3.5' == 3.5"
   ]
  },
  {
   "cell_type": "code",
   "execution_count": 40,
   "id": "5c6b6ff7-c707-4fd4-b87f-507a8f8efe2f",
   "metadata": {
    "tags": []
   },
   "outputs": [
    {
     "data": {
      "text/plain": [
       "True"
      ]
     },
     "execution_count": 40,
     "metadata": {},
     "output_type": "execute_result"
    }
   ],
   "source": [
    "3.0 == 3"
   ]
  },
  {
   "cell_type": "code",
   "execution_count": 41,
   "id": "79d8c9cc-7307-43c8-86fe-f966bdd73a06",
   "metadata": {
    "tags": []
   },
   "outputs": [
    {
     "data": {
      "text/plain": [
       "False"
      ]
     },
     "execution_count": 41,
     "metadata": {},
     "output_type": "execute_result"
    }
   ],
   "source": [
    "'A' == 65"
   ]
  },
  {
   "cell_type": "code",
   "execution_count": null,
   "id": "545d6842-8425-4ff4-a8b3-a25acfaf97b4",
   "metadata": {},
   "outputs": [],
   "source": []
  },
  {
   "cell_type": "code",
   "execution_count": 42,
   "id": "fe1dc55f-2f45-418f-ad75-c67b0f3214dc",
   "metadata": {
    "tags": []
   },
   "outputs": [
    {
     "data": {
      "text/plain": [
       "True"
      ]
     },
     "execution_count": 42,
     "metadata": {},
     "output_type": "execute_result"
    }
   ],
   "source": [
    "'A' == \"A\""
   ]
  },
  {
   "cell_type": "code",
   "execution_count": 43,
   "id": "d6573702-73da-479a-b26a-ef9a64548951",
   "metadata": {
    "tags": []
   },
   "outputs": [
    {
     "data": {
      "text/plain": [
       "False"
      ]
     },
     "execution_count": 43,
     "metadata": {},
     "output_type": "execute_result"
    }
   ],
   "source": [
    "\"A\" != \"A\""
   ]
  },
  {
   "cell_type": "code",
   "execution_count": null,
   "id": "9fec7e61-8bea-4f00-bc59-6cb475c5adfd",
   "metadata": {},
   "outputs": [],
   "source": []
  },
  {
   "cell_type": "code",
   "execution_count": 44,
   "id": "f645cdc9-a1cc-4228-8fa5-2e47c2cce8d5",
   "metadata": {
    "tags": []
   },
   "outputs": [
    {
     "data": {
      "text/plain": [
       "False"
      ]
     },
     "execution_count": 44,
     "metadata": {},
     "output_type": "execute_result"
    }
   ],
   "source": [
    "\"DEL\" == \"DELETE\""
   ]
  },
  {
   "cell_type": "code",
   "execution_count": 45,
   "id": "69ecc74e-7a4d-4a11-8ba8-f2177ef0b338",
   "metadata": {
    "tags": []
   },
   "outputs": [
    {
     "data": {
      "text/plain": [
       "False"
      ]
     },
     "execution_count": 45,
     "metadata": {},
     "output_type": "execute_result"
    }
   ],
   "source": [
    "\"OMW\" == \"ONMYWAY\""
   ]
  },
  {
   "cell_type": "code",
   "execution_count": null,
   "id": "0052775c-4d24-4ccb-b4cd-8dc246aa6a40",
   "metadata": {},
   "outputs": [],
   "source": []
  },
  {
   "cell_type": "code",
   "execution_count": 46,
   "id": "09c42369-2610-4c1e-9760-108f8cc3cece",
   "metadata": {
    "tags": []
   },
   "outputs": [
    {
     "data": {
      "text/plain": [
       "False"
      ]
     },
     "execution_count": 46,
     "metadata": {},
     "output_type": "execute_result"
    }
   ],
   "source": [
    "'a' == 97"
   ]
  },
  {
   "cell_type": "code",
   "execution_count": 47,
   "id": "2903de4a-acba-4ee5-8506-0b891da7418a",
   "metadata": {
    "tags": []
   },
   "outputs": [
    {
     "data": {
      "text/plain": [
       "True"
      ]
     },
     "execution_count": 47,
     "metadata": {},
     "output_type": "execute_result"
    }
   ],
   "source": [
    "ord('a') == 97 "
   ]
  },
  {
   "cell_type": "code",
   "execution_count": null,
   "id": "0954971b-40e0-40a9-9835-1c18378d8928",
   "metadata": {},
   "outputs": [],
   "source": []
  },
  {
   "cell_type": "code",
   "execution_count": null,
   "id": "1d77e7de-5b9d-4571-b17f-22ef7d292673",
   "metadata": {},
   "outputs": [],
   "source": []
  },
  {
   "cell_type": "markdown",
   "id": "097c3ba3-75b2-4488-b91e-f5c96e377ad8",
   "metadata": {},
   "source": [
    "# Logical operators "
   ]
  },
  {
   "cell_type": "markdown",
   "id": "b61ed8a9-a193-4c8d-848b-7e709f6eaa58",
   "metadata": {
    "tags": []
   },
   "source": [
    "# and"
   ]
  },
  {
   "cell_type": "code",
   "execution_count": 49,
   "id": "7570fe6e-5218-4964-add4-6601ba940bb7",
   "metadata": {
    "tags": []
   },
   "outputs": [
    {
     "data": {
      "text/plain": [
       "True"
      ]
     },
     "execution_count": 49,
     "metadata": {},
     "output_type": "execute_result"
    }
   ],
   "source": [
    "5 > 4 and 3 > 2"
   ]
  },
  {
   "cell_type": "code",
   "execution_count": 50,
   "id": "a4f22d57-8d94-4fed-aeef-daac8ba2cd86",
   "metadata": {
    "tags": []
   },
   "outputs": [
    {
     "data": {
      "text/plain": [
       "True"
      ]
     },
     "execution_count": 50,
     "metadata": {},
     "output_type": "execute_result"
    }
   ],
   "source": [
    "'a' > 'A' and 5>3 and True > False and 6.34 > 6.33"
   ]
  },
  {
   "cell_type": "code",
   "execution_count": null,
   "id": "58cad235-07e4-473c-89a0-1c985cab1177",
   "metadata": {},
   "outputs": [],
   "source": []
  },
  {
   "cell_type": "markdown",
   "id": "29235850-73c7-4e63-8b55-00cab52a0e65",
   "metadata": {},
   "source": [
    "# or"
   ]
  },
  {
   "cell_type": "code",
   "execution_count": 51,
   "id": "5f271863-988c-41c9-8992-8af026c02461",
   "metadata": {
    "tags": []
   },
   "outputs": [
    {
     "data": {
      "text/plain": [
       "True"
      ]
     },
     "execution_count": 51,
     "metadata": {},
     "output_type": "execute_result"
    }
   ],
   "source": [
    "5 > 3 or 'a' > 'x'"
   ]
  },
  {
   "cell_type": "code",
   "execution_count": 52,
   "id": "476d1b62-ed2e-4da7-ba1e-b2530dff1c7b",
   "metadata": {
    "tags": []
   },
   "outputs": [
    {
     "data": {
      "text/plain": [
       "False"
      ]
     },
     "execution_count": 52,
     "metadata": {},
     "output_type": "execute_result"
    }
   ],
   "source": [
    "not(5 > 3 or 'a' > 'x')"
   ]
  },
  {
   "cell_type": "markdown",
   "id": "6656bdc8-5857-4c2b-af35-0657018f8e3c",
   "metadata": {},
   "source": [
    "# not"
   ]
  },
  {
   "cell_type": "code",
   "execution_count": 53,
   "id": "8da47c56-a8f2-4d8d-8424-c27f9af483d6",
   "metadata": {
    "tags": []
   },
   "outputs": [
    {
     "data": {
      "text/plain": [
       "False"
      ]
     },
     "execution_count": 53,
     "metadata": {},
     "output_type": "execute_result"
    }
   ],
   "source": [
    "not ( True)"
   ]
  },
  {
   "cell_type": "code",
   "execution_count": 54,
   "id": "7d874096-fd5f-4049-b195-00d1a4e5b20e",
   "metadata": {
    "tags": []
   },
   "outputs": [
    {
     "data": {
      "text/plain": [
       "True"
      ]
     },
     "execution_count": 54,
     "metadata": {},
     "output_type": "execute_result"
    }
   ],
   "source": [
    "not False"
   ]
  },
  {
   "cell_type": "code",
   "execution_count": 55,
   "id": "5388d3e4-9c3c-4ecb-929d-759010d13c82",
   "metadata": {
    "tags": []
   },
   "outputs": [
    {
     "ename": "SyntaxError",
     "evalue": "invalid syntax (3252492825.py, line 1)",
     "output_type": "error",
     "traceback": [
      "\u001b[0;36m  Cell \u001b[0;32mIn[55], line 1\u001b[0;36m\u001b[0m\n\u001b[0;31m    3 > 2 && 1 >0\u001b[0m\n\u001b[0m           ^\u001b[0m\n\u001b[0;31mSyntaxError\u001b[0m\u001b[0;31m:\u001b[0m invalid syntax\n"
     ]
    }
   ],
   "source": []
  },
  {
   "cell_type": "code",
   "execution_count": 56,
   "id": "446c6133-98a3-483e-a3d0-502ac53efe62",
   "metadata": {
    "tags": []
   },
   "outputs": [
    {
     "ename": "SyntaxError",
     "evalue": "invalid syntax (2878224674.py, line 1)",
     "output_type": "error",
     "traceback": [
      "\u001b[0;36m  Cell \u001b[0;32mIn[56], line 1\u001b[0;36m\u001b[0m\n\u001b[0;31m    if ( person1.trips > 100 && person1. revenue > 20000 and person1.cancellation < 5 and not person1.isRobot)\u001b[0m\n\u001b[0m                              ^\u001b[0m\n\u001b[0;31mSyntaxError\u001b[0m\u001b[0;31m:\u001b[0m invalid syntax\n"
     ]
    }
   ],
   "source": [
    "if ( person1.trips > 100 && person1.revenue > 20000 and person1.cancellation < 5 and not person1.isRobot)"
   ]
  },
  {
   "cell_type": "code",
   "execution_count": null,
   "id": "7f58913d-e334-4a87-8bea-0cdecebc927c",
   "metadata": {},
   "outputs": [],
   "source": []
  },
  {
   "cell_type": "code",
   "execution_count": 57,
   "id": "18c340c9-89fa-4927-86a4-c5344cd75aad",
   "metadata": {
    "tags": []
   },
   "outputs": [
    {
     "data": {
      "text/plain": [
       "True"
      ]
     },
     "execution_count": 57,
     "metadata": {},
     "output_type": "execute_result"
    }
   ],
   "source": [
    "not ( 5 > 4 and 4 > 6)"
   ]
  },
  {
   "cell_type": "code",
   "execution_count": null,
   "id": "0213a3d7-e670-4e2f-9d1c-e3a880c96cb0",
   "metadata": {},
   "outputs": [],
   "source": []
  },
  {
   "cell_type": "code",
   "execution_count": 76,
   "id": "a2bc1b9f-9336-42b3-a7f9-a26a4e824543",
   "metadata": {
    "tags": []
   },
   "outputs": [
    {
     "data": {
      "text/plain": [
       "True"
      ]
     },
     "execution_count": 76,
     "metadata": {},
     "output_type": "execute_result"
    }
   ],
   "source": [
    "True or False"
   ]
  },
  {
   "cell_type": "code",
   "execution_count": null,
   "id": "d1550a6d-f982-4b97-b8aa-2fd06a5d19db",
   "metadata": {},
   "outputs": [],
   "source": []
  },
  {
   "cell_type": "code",
   "execution_count": null,
   "id": "a72ae60d-e013-412f-ba36-74a4a8a5f397",
   "metadata": {},
   "outputs": [],
   "source": [
    "5 and 4"
   ]
  },
  {
   "cell_type": "code",
   "execution_count": null,
   "id": "def0f6fd-fa96-4f1d-8dcd-ba3edcd844e1",
   "metadata": {},
   "outputs": [],
   "source": [
    "\"abc\" and \"def\""
   ]
  },
  {
   "cell_type": "code",
   "execution_count": null,
   "id": "6b69fe42-47d0-44e6-b437-13c9ce2d0cc0",
   "metadata": {},
   "outputs": [],
   "source": []
  },
  {
   "cell_type": "markdown",
   "id": "2480d30a-e6ca-4b59-a825-dcb91c822d3c",
   "metadata": {},
   "source": [
    "# Logical Operators on Non Boolean Value\n",
    "\n",
    "# AND"
   ]
  },
  {
   "cell_type": "code",
   "execution_count": null,
   "id": "1be5d5b8-45fa-4d42-b8b1-01601a09c2d8",
   "metadata": {},
   "outputs": [],
   "source": []
  },
  {
   "cell_type": "code",
   "execution_count": 58,
   "id": "350ede04-4067-422d-8d14-6e4f6be6e841",
   "metadata": {
    "tags": []
   },
   "outputs": [
    {
     "data": {
      "text/plain": [
       "0"
      ]
     },
     "execution_count": 58,
     "metadata": {},
     "output_type": "execute_result"
    }
   ],
   "source": [
    "0 and 5"
   ]
  },
  {
   "cell_type": "code",
   "execution_count": 60,
   "id": "72ab1bc9-b36a-414e-8d28-1f05be479d57",
   "metadata": {
    "tags": []
   },
   "outputs": [
    {
     "data": {
      "text/plain": [
       "'mayank'"
      ]
     },
     "execution_count": 60,
     "metadata": {},
     "output_type": "execute_result"
    }
   ],
   "source": [
    "5 and \"mayank\""
   ]
  },
  {
   "cell_type": "code",
   "execution_count": 61,
   "id": "ad27d71d-8b2d-4fea-ab35-2ba7e0cc8cbe",
   "metadata": {
    "tags": []
   },
   "outputs": [
    {
     "data": {
      "text/plain": [
       "0"
      ]
     },
     "execution_count": 61,
     "metadata": {},
     "output_type": "execute_result"
    }
   ],
   "source": [
    "5 and 0"
   ]
  },
  {
   "cell_type": "code",
   "execution_count": 62,
   "id": "d5ab9bd3-3def-4998-bb6f-3edff53aa12c",
   "metadata": {
    "tags": []
   },
   "outputs": [
    {
     "data": {
      "text/plain": [
       "'ineuron2'"
      ]
     },
     "execution_count": 62,
     "metadata": {},
     "output_type": "execute_result"
    }
   ],
   "source": [
    "\"ineuron\" and \"ineuron2\""
   ]
  },
  {
   "cell_type": "code",
   "execution_count": 63,
   "id": "a6f2f7da-8db0-41f2-a82a-d11beebeabe5",
   "metadata": {
    "tags": []
   },
   "outputs": [
    {
     "data": {
      "text/plain": [
       "7"
      ]
     },
     "execution_count": 63,
     "metadata": {},
     "output_type": "execute_result"
    }
   ],
   "source": [
    "5 and 7"
   ]
  },
  {
   "cell_type": "code",
   "execution_count": 85,
   "id": "0f90c4d6-14dd-4e50-afdf-ff7b6a87f98c",
   "metadata": {
    "tags": []
   },
   "outputs": [
    {
     "ename": "SyntaxError",
     "evalue": "invalid syntax (2379933793.py, line 1)",
     "output_type": "error",
     "traceback": [
      "\u001b[0;36m  Cell \u001b[0;32mIn[85], line 1\u001b[0;36m\u001b[0m\n\u001b[0;31m    0, 0.0 , False , 0+0j, None ,\"\", [] ,{}, () -> All False value in Python\u001b[0m\n\u001b[0m                                                ^\u001b[0m\n\u001b[0;31mSyntaxError\u001b[0m\u001b[0;31m:\u001b[0m invalid syntax\n"
     ]
    }
   ],
   "source": [
    "0, 0.0 , False , 0+0j, None ,\"\", [] ,{}, () -> All False value in Python\n",
    "\n",
    " -> Other all values are True"
   ]
  },
  {
   "cell_type": "code",
   "execution_count": null,
   "id": "16c15a0b-2821-4d0d-97a5-b12f8b022a29",
   "metadata": {},
   "outputs": [],
   "source": []
  },
  {
   "cell_type": "code",
   "execution_count": 78,
   "id": "148e2439-1001-48aa-add6-ba48d4aeb86d",
   "metadata": {
    "tags": []
   },
   "outputs": [],
   "source": [
    "# return 1st value if its false\n",
    "# else return 2nd value"
   ]
  },
  {
   "cell_type": "code",
   "execution_count": 68,
   "id": "7616b194-ddc2-4902-ba06-1f37b17d2ff9",
   "metadata": {
    "tags": []
   },
   "outputs": [
    {
     "data": {
      "text/plain": [
       "0.0"
      ]
     },
     "execution_count": 68,
     "metadata": {},
     "output_type": "execute_result"
    }
   ],
   "source": [
    "0.0 and \"anything\""
   ]
  },
  {
   "cell_type": "code",
   "execution_count": 69,
   "id": "fad341b3-9df4-415a-a028-9421d32c881d",
   "metadata": {
    "tags": []
   },
   "outputs": [
    {
     "data": {
      "text/plain": [
       "'something else'"
      ]
     },
     "execution_count": 69,
     "metadata": {},
     "output_type": "execute_result"
    }
   ],
   "source": [
    "0.1 and \"something else\""
   ]
  },
  {
   "cell_type": "code",
   "execution_count": 70,
   "id": "ce3a06ed-3110-49b4-8c68-fe0de2506652",
   "metadata": {
    "tags": []
   },
   "outputs": [
    {
     "data": {
      "text/plain": [
       "'abc'"
      ]
     },
     "execution_count": 70,
     "metadata": {},
     "output_type": "execute_result"
    }
   ],
   "source": [
    "\"mayank\" and \"abc\""
   ]
  },
  {
   "cell_type": "code",
   "execution_count": 72,
   "id": "0f67694f-6e4e-4413-b401-657a553ab6d4",
   "metadata": {
    "tags": []
   },
   "outputs": [
    {
     "data": {
      "text/plain": [
       "''"
      ]
     },
     "execution_count": 72,
     "metadata": {},
     "output_type": "execute_result"
    }
   ],
   "source": [
    "\"\" and \"1234\""
   ]
  },
  {
   "cell_type": "code",
   "execution_count": 75,
   "id": "845612e4-16e8-4f42-948c-d00d5573cb4f",
   "metadata": {
    "tags": []
   },
   "outputs": [
    {
     "name": "stdout",
     "output_type": "stream",
     "text": [
      "None\n"
     ]
    }
   ],
   "source": [
    "print(None and \"something else\")"
   ]
  },
  {
   "cell_type": "code",
   "execution_count": null,
   "id": "4446e78e-8326-4573-82d1-2a98965a7f92",
   "metadata": {},
   "outputs": [],
   "source": []
  },
  {
   "cell_type": "code",
   "execution_count": 89,
   "id": "e4465980-a7f5-4794-a75c-8a703b857658",
   "metadata": {
    "tags": []
   },
   "outputs": [
    {
     "data": {
      "text/plain": [
       "False"
      ]
     },
     "execution_count": 89,
     "metadata": {},
     "output_type": "execute_result"
    }
   ],
   "source": [
    "False and 0"
   ]
  },
  {
   "cell_type": "code",
   "execution_count": null,
   "id": "c6951067-1360-4dc4-9951-4b98b7a7125a",
   "metadata": {},
   "outputs": [],
   "source": []
  },
  {
   "cell_type": "code",
   "execution_count": null,
   "id": "68631dd7-4732-44c1-8952-72d490fdd4bd",
   "metadata": {},
   "outputs": [],
   "source": []
  },
  {
   "cell_type": "markdown",
   "id": "d828fd74-e2d9-4aa3-89fe-e417ff76903e",
   "metadata": {},
   "source": [
    "# OR"
   ]
  },
  {
   "cell_type": "code",
   "execution_count": 77,
   "id": "4275de4e-2469-4c84-bdd3-92833a7b9537",
   "metadata": {
    "tags": []
   },
   "outputs": [],
   "source": [
    "# return first value if its True \n",
    "\n",
    "# else return 2nd value\n",
    "\n",
    "\n",
    "\n",
    " 0 or None \n",
    "    \n",
    " 0 -> F / T"
   ]
  },
  {
   "cell_type": "code",
   "execution_count": 79,
   "id": "0e3a4f7f-58bb-427b-bd0f-f64e71710844",
   "metadata": {
    "tags": []
   },
   "outputs": [
    {
     "data": {
      "text/plain": [
       "'True'"
      ]
     },
     "execution_count": 79,
     "metadata": {},
     "output_type": "execute_result"
    }
   ],
   "source": [
    "\"True\" or \" some other thing\""
   ]
  },
  {
   "cell_type": "code",
   "execution_count": 81,
   "id": "a2d61fc6-44f3-4317-9f03-35a53b4ed561",
   "metadata": {
    "tags": []
   },
   "outputs": [
    {
     "data": {
      "text/plain": [
       "'something else'"
      ]
     },
     "execution_count": 81,
     "metadata": {},
     "output_type": "execute_result"
    }
   ],
   "source": [
    "False or \"something else\""
   ]
  },
  {
   "cell_type": "code",
   "execution_count": 83,
   "id": "924b0585-47e5-4157-b8c8-7917b104facd",
   "metadata": {
    "tags": []
   },
   "outputs": [
    {
     "data": {
      "text/plain": [
       "'my answer'"
      ]
     },
     "execution_count": 83,
     "metadata": {},
     "output_type": "execute_result"
    }
   ],
   "source": [
    "None or \"my answer\""
   ]
  },
  {
   "cell_type": "code",
   "execution_count": 84,
   "id": "e229ae1e-dadc-4e9b-9873-b5f286c6c25b",
   "metadata": {
    "tags": []
   },
   "outputs": [
    {
     "name": "stdout",
     "output_type": "stream",
     "text": [
      "None\n"
     ]
    }
   ],
   "source": [
    "print(0 or None)"
   ]
  },
  {
   "cell_type": "code",
   "execution_count": null,
   "id": "d6c9c825-67d7-49b0-a33a-0e89b5685547",
   "metadata": {},
   "outputs": [],
   "source": []
  },
  {
   "cell_type": "code",
   "execution_count": null,
   "id": "b1da3022-025e-416e-b1cc-7923bae128d3",
   "metadata": {},
   "outputs": [],
   "source": [
    "\"abc\" or None"
   ]
  },
  {
   "cell_type": "code",
   "execution_count": 86,
   "id": "b9ed4683-b09f-46bd-b13f-288a4d8f7c74",
   "metadata": {
    "tags": []
   },
   "outputs": [
    {
     "data": {
      "text/plain": [
       "''"
      ]
     },
     "execution_count": 86,
     "metadata": {},
     "output_type": "execute_result"
    }
   ],
   "source": [
    "0 or \"\""
   ]
  },
  {
   "cell_type": "code",
   "execution_count": 87,
   "id": "0b245abe-2bac-485a-a0fe-e6f5abec0972",
   "metadata": {
    "tags": []
   },
   "outputs": [
    {
     "data": {
      "text/plain": [
       "1"
      ]
     },
     "execution_count": 87,
     "metadata": {},
     "output_type": "execute_result"
    }
   ],
   "source": [
    "1 or \"\""
   ]
  },
  {
   "cell_type": "code",
   "execution_count": null,
   "id": "463a977b-e291-4df5-acfd-f16192a3783f",
   "metadata": {},
   "outputs": [],
   "source": []
  },
  {
   "cell_type": "code",
   "execution_count": 90,
   "id": "680455df-937c-48ed-bf3c-aafaa8155257",
   "metadata": {
    "tags": []
   },
   "outputs": [
    {
     "data": {
      "text/plain": [
       "'def'"
      ]
     },
     "execution_count": 90,
     "metadata": {},
     "output_type": "execute_result"
    }
   ],
   "source": [
    " \"abc\" and \"def\" or \"ghi\""
   ]
  },
  {
   "cell_type": "code",
   "execution_count": null,
   "id": "564f701d-7b9a-4ce9-82d3-2efe7fd60278",
   "metadata": {},
   "outputs": [],
   "source": []
  },
  {
   "cell_type": "markdown",
   "id": "0831bade-95ab-4f0f-ad8b-1977c071f76d",
   "metadata": {},
   "source": [
    "# not"
   ]
  },
  {
   "cell_type": "code",
   "execution_count": 98,
   "id": "99921987-b102-4927-a4e6-105c5eca7d32",
   "metadata": {
    "tags": []
   },
   "outputs": [
    {
     "data": {
      "text/plain": [
       "False"
      ]
     },
     "execution_count": 98,
     "metadata": {},
     "output_type": "execute_result"
    }
   ],
   "source": [
    "not \"mayank\""
   ]
  },
  {
   "cell_type": "code",
   "execution_count": null,
   "id": "604761eb-7b25-424a-a07a-ac4fc6a0b0c1",
   "metadata": {},
   "outputs": [],
   "source": []
  },
  {
   "cell_type": "code",
   "execution_count": null,
   "id": "bfd7fbd0-16c0-44af-bc9d-04a1c30dac28",
   "metadata": {},
   "outputs": [],
   "source": [
    "not  of all these values or any other value which is False is True :-> 0, 0.0 , False , 0+0j, None ,\"\", [] ,{}, ()"
   ]
  },
  {
   "cell_type": "code",
   "execution_count": 99,
   "id": "397d58e6-20a6-4c18-820a-25ba7a6cb590",
   "metadata": {
    "tags": []
   },
   "outputs": [
    {
     "data": {
      "text/plain": [
       "True"
      ]
     },
     "execution_count": 99,
     "metadata": {},
     "output_type": "execute_result"
    }
   ],
   "source": [
    "not None"
   ]
  },
  {
   "cell_type": "code",
   "execution_count": 100,
   "id": "751e472d-a68d-4614-9f81-47d125646f14",
   "metadata": {
    "tags": []
   },
   "outputs": [
    {
     "data": {
      "text/plain": [
       "False"
      ]
     },
     "execution_count": 100,
     "metadata": {},
     "output_type": "execute_result"
    }
   ],
   "source": [
    "not \"False\""
   ]
  },
  {
   "cell_type": "code",
   "execution_count": null,
   "id": "016eb8c3-6f5e-4760-89cc-22c6cbb189be",
   "metadata": {},
   "outputs": [],
   "source": []
  },
  {
   "cell_type": "markdown",
   "id": "5f2d6a68-ab1d-48ec-9c6f-f382adf7d777",
   "metadata": {},
   "source": [
    "# Assignment Operator"
   ]
  },
  {
   "cell_type": "code",
   "execution_count": 101,
   "id": "b98f79a7-f8df-494d-80f5-f29fb0ee8fb2",
   "metadata": {
    "tags": []
   },
   "outputs": [],
   "source": [
    "a =10"
   ]
  },
  {
   "cell_type": "code",
   "execution_count": 102,
   "id": "d85fa943-db80-464a-ae49-afc1333a2bd0",
   "metadata": {
    "tags": []
   },
   "outputs": [],
   "source": [
    "b = 20"
   ]
  },
  {
   "cell_type": "code",
   "execution_count": 105,
   "id": "73ea4e51-9274-4bca-acde-0c4e8ee9af69",
   "metadata": {
    "tags": []
   },
   "outputs": [],
   "source": [
    "e=c=d=5"
   ]
  },
  {
   "cell_type": "code",
   "execution_count": 104,
   "id": "dd1fb5ec-b054-4af7-a863-fc5e2f2bfd5e",
   "metadata": {
    "tags": []
   },
   "outputs": [
    {
     "data": {
      "text/plain": [
       "(5, 5)"
      ]
     },
     "execution_count": 104,
     "metadata": {},
     "output_type": "execute_result"
    }
   ],
   "source": [
    "c,d"
   ]
  },
  {
   "cell_type": "code",
   "execution_count": 106,
   "id": "5939e491-6b2a-4541-8f12-e8ba77d7978b",
   "metadata": {
    "tags": []
   },
   "outputs": [],
   "source": [
    "a,b,c = 2,4,6"
   ]
  },
  {
   "cell_type": "code",
   "execution_count": 107,
   "id": "3ff0a8a6-fc75-46a4-b07f-1e2e56b74487",
   "metadata": {
    "tags": []
   },
   "outputs": [
    {
     "ename": "ValueError",
     "evalue": "too many values to unpack (expected 2)",
     "output_type": "error",
     "traceback": [
      "\u001b[0;31m---------------------------------------------------------------------------\u001b[0m",
      "\u001b[0;31mValueError\u001b[0m                                Traceback (most recent call last)",
      "Cell \u001b[0;32mIn[107], line 1\u001b[0m\n\u001b[0;32m----> 1\u001b[0m a,b \u001b[38;5;241m=\u001b[39m \u001b[38;5;241m2\u001b[39m,\u001b[38;5;241m4\u001b[39m,\u001b[38;5;241m6\u001b[39m\n",
      "\u001b[0;31mValueError\u001b[0m: too many values to unpack (expected 2)"
     ]
    }
   ],
   "source": [
    "a,b = 2,4,6"
   ]
  },
  {
   "cell_type": "code",
   "execution_count": 108,
   "id": "152920ae-9dfc-4d38-ba13-2bdf442c422e",
   "metadata": {
    "tags": []
   },
   "outputs": [
    {
     "ename": "ValueError",
     "evalue": "not enough values to unpack (expected 4, got 3)",
     "output_type": "error",
     "traceback": [
      "\u001b[0;31m---------------------------------------------------------------------------\u001b[0m",
      "\u001b[0;31mValueError\u001b[0m                                Traceback (most recent call last)",
      "Cell \u001b[0;32mIn[108], line 1\u001b[0m\n\u001b[0;32m----> 1\u001b[0m a,b,c,d \u001b[38;5;241m=\u001b[39m \u001b[38;5;241m2\u001b[39m,\u001b[38;5;241m4\u001b[39m,\u001b[38;5;241m5\u001b[39m\n",
      "\u001b[0;31mValueError\u001b[0m: not enough values to unpack (expected 4, got 3)"
     ]
    }
   ],
   "source": [
    "a,b,c,d = 2,4,5"
   ]
  },
  {
   "cell_type": "code",
   "execution_count": null,
   "id": "a88acf79-f3e0-42fa-9a8b-0b13d0ad06d7",
   "metadata": {},
   "outputs": [],
   "source": []
  },
  {
   "cell_type": "markdown",
   "id": "196fed19-74da-473a-93e0-805534a73e5e",
   "metadata": {
    "tags": []
   },
   "source": [
    "# Compount Assignment Operator"
   ]
  },
  {
   "cell_type": "code",
   "execution_count": 110,
   "id": "08a28488-42a9-4103-9e5e-bc49252eac65",
   "metadata": {
    "tags": []
   },
   "outputs": [],
   "source": [
    "a= 5"
   ]
  },
  {
   "cell_type": "code",
   "execution_count": 111,
   "id": "2bad0343-9ff1-4cc1-ab4f-c2cb886bc63e",
   "metadata": {
    "tags": []
   },
   "outputs": [],
   "source": [
    "a+=5 # a = a+5"
   ]
  },
  {
   "cell_type": "code",
   "execution_count": 112,
   "id": "96e9cef0-54e2-4c9f-9b51-084918c1bd1c",
   "metadata": {
    "tags": []
   },
   "outputs": [
    {
     "data": {
      "text/plain": [
       "10"
      ]
     },
     "execution_count": 112,
     "metadata": {},
     "output_type": "execute_result"
    }
   ],
   "source": [
    "a"
   ]
  },
  {
   "cell_type": "code",
   "execution_count": 113,
   "id": "9b99847d-4377-47ed-8fd9-f9cf7e02cdec",
   "metadata": {
    "tags": []
   },
   "outputs": [
    {
     "data": {
      "text/plain": [
       "6"
      ]
     },
     "execution_count": 113,
     "metadata": {},
     "output_type": "execute_result"
    }
   ],
   "source": [
    "a-=4\n",
    "a"
   ]
  },
  {
   "cell_type": "code",
   "execution_count": 114,
   "id": "ea33485f-43d0-42d6-a235-d5e6ed535c67",
   "metadata": {
    "tags": []
   },
   "outputs": [
    {
     "ename": "SyntaxError",
     "evalue": "invalid syntax (1277751513.py, line 1)",
     "output_type": "error",
     "traceback": [
      "\u001b[0;36m  Cell \u001b[0;32mIn[114], line 1\u001b[0;36m\u001b[0m\n\u001b[0;31m    a++\u001b[0m\n\u001b[0m       ^\u001b[0m\n\u001b[0;31mSyntaxError\u001b[0m\u001b[0;31m:\u001b[0m invalid syntax\n"
     ]
    }
   ],
   "source": [
    "a++"
   ]
  },
  {
   "cell_type": "code",
   "execution_count": 115,
   "id": "0a9fe737-c148-4589-94a8-4cdd0f2565c0",
   "metadata": {
    "tags": []
   },
   "outputs": [
    {
     "ename": "SyntaxError",
     "evalue": "invalid syntax (1562500846.py, line 1)",
     "output_type": "error",
     "traceback": [
      "\u001b[0;36m  Cell \u001b[0;32mIn[115], line 1\u001b[0;36m\u001b[0m\n\u001b[0;31m    a--\u001b[0m\n\u001b[0m       ^\u001b[0m\n\u001b[0;31mSyntaxError\u001b[0m\u001b[0;31m:\u001b[0m invalid syntax\n"
     ]
    }
   ],
   "source": [
    "a--"
   ]
  },
  {
   "cell_type": "code",
   "execution_count": null,
   "id": "4ac1a9cd-67c1-4976-a8ab-d98bc360b2cc",
   "metadata": {},
   "outputs": [],
   "source": []
  },
  {
   "cell_type": "code",
   "execution_count": 116,
   "id": "23c1aa24-408e-4a15-9ff4-f5ff59314db3",
   "metadata": {
    "tags": []
   },
   "outputs": [],
   "source": [
    "b =5\n"
   ]
  },
  {
   "cell_type": "code",
   "execution_count": 117,
   "id": "f7f4865a-f906-46bb-b86a-e4f75ada14df",
   "metadata": {
    "tags": []
   },
   "outputs": [
    {
     "data": {
      "text/plain": [
       "15"
      ]
     },
     "execution_count": 117,
     "metadata": {},
     "output_type": "execute_result"
    }
   ],
   "source": [
    "b = b+10\n",
    "b"
   ]
  },
  {
   "cell_type": "code",
   "execution_count": 118,
   "id": "5e8ecee0-b416-4ebc-a62b-8e968081d90f",
   "metadata": {
    "tags": []
   },
   "outputs": [],
   "source": [
    "b =5\n"
   ]
  },
  {
   "cell_type": "code",
   "execution_count": 119,
   "id": "0975c7bb-1e00-4602-a865-801c04426f71",
   "metadata": {
    "tags": []
   },
   "outputs": [],
   "source": [
    "b+=10   # b= b+10"
   ]
  },
  {
   "cell_type": "code",
   "execution_count": null,
   "id": "5b108712-5c8e-4ba5-a562-1c1d45de6dc8",
   "metadata": {},
   "outputs": [],
   "source": []
  },
  {
   "cell_type": "code",
   "execution_count": 120,
   "id": "ff1591d7-caa8-48a3-b528-c6a5335054b8",
   "metadata": {
    "tags": []
   },
   "outputs": [
    {
     "data": {
      "text/plain": [
       "15"
      ]
     },
     "execution_count": 120,
     "metadata": {},
     "output_type": "execute_result"
    }
   ],
   "source": [
    "b"
   ]
  },
  {
   "cell_type": "code",
   "execution_count": 121,
   "id": "21d3d923-8475-44b7-a63e-ffabcf1c71fb",
   "metadata": {
    "tags": []
   },
   "outputs": [
    {
     "ename": "SyntaxError",
     "evalue": "invalid syntax (4075473561.py, line 1)",
     "output_type": "error",
     "traceback": [
      "\u001b[0;36m  Cell \u001b[0;32mIn[121], line 1\u001b[0;36m\u001b[0m\n\u001b[0;31m    b++\u001b[0m\n\u001b[0m        ^\u001b[0m\n\u001b[0;31mSyntaxError\u001b[0m\u001b[0;31m:\u001b[0m invalid syntax\n"
     ]
    }
   ],
   "source": [
    "b++  # b = b ++"
   ]
  },
  {
   "cell_type": "code",
   "execution_count": 122,
   "id": "8916b63a-52f3-4a05-8fc2-67792349f16d",
   "metadata": {
    "tags": []
   },
   "outputs": [
    {
     "ename": "SyntaxError",
     "evalue": "invalid syntax (405912404.py, line 1)",
     "output_type": "error",
     "traceback": [
      "\u001b[0;36m  Cell \u001b[0;32mIn[122], line 1\u001b[0;36m\u001b[0m\n\u001b[0;31m    b--\u001b[0m\n\u001b[0m       ^\u001b[0m\n\u001b[0;31mSyntaxError\u001b[0m\u001b[0;31m:\u001b[0m invalid syntax\n"
     ]
    }
   ],
   "source": [
    "b-- # b = b -"
   ]
  },
  {
   "cell_type": "code",
   "execution_count": null,
   "id": "62bf67aa-1c4e-4eb6-a77b-9f4af858ee43",
   "metadata": {},
   "outputs": [],
   "source": []
  },
  {
   "cell_type": "code",
   "execution_count": null,
   "id": "6c476075-923b-4ade-af97-0502c7be3bb9",
   "metadata": {},
   "outputs": [],
   "source": []
  },
  {
   "cell_type": "code",
   "execution_count": 123,
   "id": "11c0bb89-b7e1-4476-b0e9-644bd350bf0a",
   "metadata": {
    "tags": []
   },
   "outputs": [
    {
     "data": {
      "text/plain": [
       "10"
      ]
     },
     "execution_count": 123,
     "metadata": {},
     "output_type": "execute_result"
    }
   ],
   "source": [
    "a=10\n",
    "a++5\n",
    "a"
   ]
  },
  {
   "cell_type": "code",
   "execution_count": 124,
   "id": "420c57d6-b88c-4eb1-8093-8311f7585e14",
   "metadata": {
    "tags": []
   },
   "outputs": [
    {
     "data": {
      "text/plain": [
       "10"
      ]
     },
     "execution_count": 124,
     "metadata": {},
     "output_type": "execute_result"
    }
   ],
   "source": [
    "++a"
   ]
  },
  {
   "cell_type": "code",
   "execution_count": 125,
   "id": "07f2abe4-86eb-42cc-900b-2d9e441f719f",
   "metadata": {
    "tags": []
   },
   "outputs": [
    {
     "data": {
      "text/plain": [
       "-10"
      ]
     },
     "execution_count": 125,
     "metadata": {},
     "output_type": "execute_result"
    }
   ],
   "source": [
    "+-a"
   ]
  },
  {
   "cell_type": "code",
   "execution_count": null,
   "id": "cfa7f1cb-3f85-4ca8-9a37-5fd4f11138ef",
   "metadata": {},
   "outputs": [],
   "source": [
    "if True:\n",
    "    print\n",
    "    \n",
    "    "
   ]
  },
  {
   "cell_type": "code",
   "execution_count": null,
   "id": "8aa0fd60-aff6-4944-9a90-231a2f826579",
   "metadata": {},
   "outputs": [],
   "source": []
  },
  {
   "cell_type": "code",
   "execution_count": null,
   "id": "b7e3e195-492e-407d-8704-9a907f0947c5",
   "metadata": {},
   "outputs": [],
   "source": []
  }
 ],
 "metadata": {
  "kernelspec": {
   "display_name": "Python 3 (ipykernel)",
   "language": "python",
   "name": "python3"
  },
  "language_info": {
   "codemirror_mode": {
    "name": "ipython",
    "version": 3
   },
   "file_extension": ".py",
   "mimetype": "text/x-python",
   "name": "python",
   "nbconvert_exporter": "python",
   "pygments_lexer": "ipython3",
   "version": "3.11.5"
  }
 },
 "nbformat": 4,
 "nbformat_minor": 5
}
