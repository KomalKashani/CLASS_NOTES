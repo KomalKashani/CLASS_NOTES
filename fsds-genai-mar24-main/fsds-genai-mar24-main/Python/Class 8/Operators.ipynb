{
 "cells": [
  {
   "cell_type": "code",
   "execution_count": 1,
   "id": "09dd2432-4697-46e5-94ba-7f9edf56291c",
   "metadata": {
    "tags": []
   },
   "outputs": [
    {
     "data": {
      "text/plain": [
       "'H'"
      ]
     },
     "execution_count": 1,
     "metadata": {},
     "output_type": "execute_result"
    }
   ],
   "source": [
    "p= \"PYTHON\"\n",
    "p[-3:4]"
   ]
  },
  {
   "cell_type": "code",
   "execution_count": null,
   "id": "718c6e18-5d6c-41ca-a2e9-c278a5402990",
   "metadata": {},
   "outputs": [],
   "source": []
  },
  {
   "cell_type": "code",
   "execution_count": 2,
   "id": "daa7fd17-80d7-4122-a700-b32370bdca72",
   "metadata": {
    "tags": []
   },
   "outputs": [],
   "source": [
    "a = 10"
   ]
  },
  {
   "cell_type": "code",
   "execution_count": 3,
   "id": "e943bb79-ea2d-4dd2-8962-c18e6ed1cf29",
   "metadata": {
    "tags": []
   },
   "outputs": [
    {
     "ename": "SyntaxError",
     "evalue": "invalid syntax (1277751513.py, line 1)",
     "output_type": "error",
     "traceback": [
      "\u001b[0;36m  Cell \u001b[0;32mIn[3], line 1\u001b[0;36m\u001b[0m\n\u001b[0;31m    a++\u001b[0m\n\u001b[0m       ^\u001b[0m\n\u001b[0;31mSyntaxError\u001b[0m\u001b[0;31m:\u001b[0m invalid syntax\n"
     ]
    }
   ],
   "source": [
    "a++"
   ]
  },
  {
   "cell_type": "code",
   "execution_count": 4,
   "id": "a600f577-e3e7-4fe7-a7e0-bde63aa0f873",
   "metadata": {
    "tags": []
   },
   "outputs": [],
   "source": [
    "a+=1. # a = a+1"
   ]
  },
  {
   "cell_type": "code",
   "execution_count": 5,
   "id": "04488d41-1573-406b-9ec2-480f5f7224d4",
   "metadata": {
    "tags": []
   },
   "outputs": [
    {
     "data": {
      "text/plain": [
       "11.0"
      ]
     },
     "execution_count": 5,
     "metadata": {},
     "output_type": "execute_result"
    }
   ],
   "source": [
    "a"
   ]
  },
  {
   "cell_type": "code",
   "execution_count": 6,
   "id": "09f93667-6f22-4816-a8ef-df02140fffd4",
   "metadata": {
    "tags": []
   },
   "outputs": [
    {
     "data": {
      "text/plain": [
       "11.0"
      ]
     },
     "execution_count": 6,
     "metadata": {},
     "output_type": "execute_result"
    }
   ],
   "source": [
    "++a"
   ]
  },
  {
   "cell_type": "code",
   "execution_count": 7,
   "id": "94604216-83a7-42e3-a1a6-7fb7e847ab83",
   "metadata": {
    "tags": []
   },
   "outputs": [
    {
     "data": {
      "text/plain": [
       "11.0"
      ]
     },
     "execution_count": 7,
     "metadata": {},
     "output_type": "execute_result"
    }
   ],
   "source": [
    "a"
   ]
  },
  {
   "cell_type": "code",
   "execution_count": 8,
   "id": "a8d5197c-99e5-414d-9be5-ca61ae6a3d44",
   "metadata": {
    "tags": []
   },
   "outputs": [
    {
     "data": {
      "text/plain": [
       "-11.0"
      ]
     },
     "execution_count": 8,
     "metadata": {},
     "output_type": "execute_result"
    }
   ],
   "source": [
    "+-a"
   ]
  },
  {
   "cell_type": "code",
   "execution_count": 9,
   "id": "480b0833-5ade-4288-a6eb-039cdd14ccf5",
   "metadata": {
    "tags": []
   },
   "outputs": [
    {
     "data": {
      "text/plain": [
       "-11.0"
      ]
     },
     "execution_count": 9,
     "metadata": {},
     "output_type": "execute_result"
    }
   ],
   "source": [
    "-+a"
   ]
  },
  {
   "cell_type": "code",
   "execution_count": 10,
   "id": "9031fc57-c2ce-42f7-b4c9-81089d4e297c",
   "metadata": {
    "tags": []
   },
   "outputs": [],
   "source": [
    "b = 5"
   ]
  },
  {
   "cell_type": "code",
   "execution_count": null,
   "id": "2c9321b2-d4e6-4379-b4ec-a5c0c111d461",
   "metadata": {},
   "outputs": [],
   "source": [
    "++b"
   ]
  },
  {
   "cell_type": "code",
   "execution_count": null,
   "id": "8e4dd800-e906-4778-bf12-2c532387b020",
   "metadata": {},
   "outputs": [],
   "source": [
    "--b"
   ]
  },
  {
   "cell_type": "code",
   "execution_count": 11,
   "id": "2281f37e-1817-41dc-88d0-bbf4adb13abb",
   "metadata": {
    "tags": []
   },
   "outputs": [
    {
     "data": {
      "text/plain": [
       "-5"
      ]
     },
     "execution_count": 11,
     "metadata": {},
     "output_type": "execute_result"
    }
   ],
   "source": [
    "---b"
   ]
  },
  {
   "cell_type": "code",
   "execution_count": 13,
   "id": "bcc645e8-1ed3-4c3c-a61b-4f165fb9f27d",
   "metadata": {
    "tags": []
   },
   "outputs": [],
   "source": [
    "b +=1 #b = b+1"
   ]
  },
  {
   "cell_type": "code",
   "execution_count": 14,
   "id": "d92459f2-8995-48fb-8a30-5eaf0b6264ce",
   "metadata": {
    "tags": []
   },
   "outputs": [
    {
     "data": {
      "text/plain": [
       "6"
      ]
     },
     "execution_count": 14,
     "metadata": {},
     "output_type": "execute_result"
    }
   ],
   "source": [
    "b"
   ]
  },
  {
   "cell_type": "code",
   "execution_count": 15,
   "id": "d88a6ba4-9807-4c12-ac2c-2a7e61c8412d",
   "metadata": {
    "tags": []
   },
   "outputs": [
    {
     "ename": "SyntaxError",
     "evalue": "invalid syntax (2869132685.py, line 1)",
     "output_type": "error",
     "traceback": [
      "\u001b[0;36m  Cell \u001b[0;32mIn[15], line 1\u001b[0;36m\u001b[0m\n\u001b[0;31m    b++\u001b[0m\n\u001b[0m       ^\u001b[0m\n\u001b[0;31mSyntaxError\u001b[0m\u001b[0;31m:\u001b[0m invalid syntax\n"
     ]
    }
   ],
   "source": [
    "b++"
   ]
  },
  {
   "cell_type": "code",
   "execution_count": 16,
   "id": "eadd2479-f553-4bb2-a346-e9932c6e1a48",
   "metadata": {
    "tags": []
   },
   "outputs": [
    {
     "ename": "SyntaxError",
     "evalue": "invalid syntax (279450591.py, line 1)",
     "output_type": "error",
     "traceback": [
      "\u001b[0;36m  Cell \u001b[0;32mIn[16], line 1\u001b[0;36m\u001b[0m\n\u001b[0;31m    b+-\u001b[0m\n\u001b[0m       ^\u001b[0m\n\u001b[0;31mSyntaxError\u001b[0m\u001b[0;31m:\u001b[0m invalid syntax\n"
     ]
    }
   ],
   "source": [
    "b+-\n",
    "b-+\n",
    "b--"
   ]
  },
  {
   "cell_type": "code",
   "execution_count": 17,
   "id": "ddac0d2a-4302-4f80-a424-a3e9237cea38",
   "metadata": {
    "tags": []
   },
   "outputs": [
    {
     "data": {
      "text/plain": [
       "11"
      ]
     },
     "execution_count": 17,
     "metadata": {},
     "output_type": "execute_result"
    }
   ],
   "source": [
    "b++5"
   ]
  },
  {
   "cell_type": "code",
   "execution_count": 18,
   "id": "f21f8d41-98c7-4fd7-91d6-7f93d8f6f57c",
   "metadata": {
    "tags": []
   },
   "outputs": [
    {
     "data": {
      "text/plain": [
       "6"
      ]
     },
     "execution_count": 18,
     "metadata": {},
     "output_type": "execute_result"
    }
   ],
   "source": [
    "b"
   ]
  },
  {
   "cell_type": "code",
   "execution_count": 19,
   "id": "e11be66c-5fc0-4594-8df0-dfbaae190973",
   "metadata": {
    "tags": []
   },
   "outputs": [
    {
     "data": {
      "text/plain": [
       "1"
      ]
     },
     "execution_count": 19,
     "metadata": {},
     "output_type": "execute_result"
    }
   ],
   "source": [
    "b+-5"
   ]
  },
  {
   "cell_type": "code",
   "execution_count": 20,
   "id": "25dd6335-70ea-46d5-8225-fbedede80fee",
   "metadata": {
    "tags": []
   },
   "outputs": [
    {
     "data": {
      "text/plain": [
       "-6"
      ]
     },
     "execution_count": 20,
     "metadata": {},
     "output_type": "execute_result"
    }
   ],
   "source": [
    "+-b"
   ]
  },
  {
   "cell_type": "code",
   "execution_count": 21,
   "id": "1d14a805-1e7a-49e0-96bf-b27d0dcb8199",
   "metadata": {
    "tags": []
   },
   "outputs": [
    {
     "data": {
      "text/plain": [
       "6"
      ]
     },
     "execution_count": 21,
     "metadata": {},
     "output_type": "execute_result"
    }
   ],
   "source": [
    "b"
   ]
  },
  {
   "cell_type": "code",
   "execution_count": 22,
   "id": "302e3129-b5b7-4b05-b04c-0690a679c82f",
   "metadata": {
    "tags": []
   },
   "outputs": [],
   "source": [
    "# sir can we do this +-b+-1"
   ]
  },
  {
   "cell_type": "code",
   "execution_count": 23,
   "id": "8ac622e7-be6d-4bae-a955-50914947f257",
   "metadata": {
    "tags": []
   },
   "outputs": [
    {
     "data": {
      "text/plain": [
       "-7"
      ]
     },
     "execution_count": 23,
     "metadata": {},
     "output_type": "execute_result"
    }
   ],
   "source": [
    "+-b+-1"
   ]
  },
  {
   "cell_type": "code",
   "execution_count": null,
   "id": "8d53fee6-c0b9-412b-878d-2909089309fc",
   "metadata": {},
   "outputs": [],
   "source": []
  },
  {
   "cell_type": "code",
   "execution_count": 24,
   "id": "bb879baa-63a4-49f4-b13e-07507107a652",
   "metadata": {
    "tags": []
   },
   "outputs": [],
   "source": [
    "c = 5"
   ]
  },
  {
   "cell_type": "code",
   "execution_count": 25,
   "id": "79de2deb-97de-4e0b-958a-7d2d90741d9f",
   "metadata": {
    "tags": []
   },
   "outputs": [
    {
     "data": {
      "text/plain": [
       "int"
      ]
     },
     "execution_count": 25,
     "metadata": {},
     "output_type": "execute_result"
    }
   ],
   "source": [
    "type(c)"
   ]
  },
  {
   "cell_type": "code",
   "execution_count": 27,
   "id": "e2de478e-333a-419b-af2b-48bdd02699bf",
   "metadata": {
    "tags": []
   },
   "outputs": [
    {
     "data": {
      "text/plain": [
       "True"
      ]
     },
     "execution_count": 27,
     "metadata": {},
     "output_type": "execute_result"
    }
   ],
   "source": [
    "type(c) is int"
   ]
  },
  {
   "cell_type": "code",
   "execution_count": 28,
   "id": "ae9ae242-eb19-46ed-a8fc-9978d16ec8a5",
   "metadata": {
    "tags": []
   },
   "outputs": [],
   "source": [
    "totalValue = 6000.2\n"
   ]
  },
  {
   "cell_type": "code",
   "execution_count": 33,
   "id": "8b3e085b-308d-470b-90e2-05de1ff7a043",
   "metadata": {
    "tags": []
   },
   "outputs": [
    {
     "data": {
      "text/plain": [
       "float"
      ]
     },
     "execution_count": 33,
     "metadata": {},
     "output_type": "execute_result"
    }
   ],
   "source": [
    "type(totalValue)"
   ]
  },
  {
   "cell_type": "code",
   "execution_count": 29,
   "id": "6858145b-7ea4-48e7-a71b-faeef7d88512",
   "metadata": {
    "tags": []
   },
   "outputs": [
    {
     "data": {
      "text/plain": [
       "False"
      ]
     },
     "execution_count": 29,
     "metadata": {},
     "output_type": "execute_result"
    }
   ],
   "source": [
    "type(totalValue) is int"
   ]
  },
  {
   "cell_type": "code",
   "execution_count": 36,
   "id": "c1c21403-805d-4d8f-8472-515ebaf12539",
   "metadata": {
    "tags": []
   },
   "outputs": [],
   "source": [
    "mobile = \"96346ea\""
   ]
  },
  {
   "cell_type": "code",
   "execution_count": 38,
   "id": "9dee76aa-730f-4249-9ade-496a74b03d23",
   "metadata": {
    "tags": []
   },
   "outputs": [
    {
     "data": {
      "text/plain": [
       "True"
      ]
     },
     "execution_count": 38,
     "metadata": {},
     "output_type": "execute_result"
    }
   ],
   "source": [
    "type(mobile) is str"
   ]
  },
  {
   "cell_type": "code",
   "execution_count": 30,
   "id": "06be21f1-155e-4a58-b93b-86828593ba5f",
   "metadata": {
    "tags": []
   },
   "outputs": [
    {
     "data": {
      "text/plain": [
       "5"
      ]
     },
     "execution_count": 30,
     "metadata": {},
     "output_type": "execute_result"
    }
   ],
   "source": [
    "c"
   ]
  },
  {
   "cell_type": "code",
   "execution_count": 32,
   "id": "b50d2dc6-c5eb-4fe4-b0b7-3da5b6320b21",
   "metadata": {
    "tags": []
   },
   "outputs": [
    {
     "data": {
      "text/plain": [
       "True"
      ]
     },
     "execution_count": 32,
     "metadata": {},
     "output_type": "execute_result"
    }
   ],
   "source": [
    "type(c) is not str"
   ]
  },
  {
   "cell_type": "code",
   "execution_count": 34,
   "id": "110734f0-0eea-420a-9d3d-b886c40fbc7a",
   "metadata": {
    "tags": []
   },
   "outputs": [
    {
     "data": {
      "text/plain": [
       "int"
      ]
     },
     "execution_count": 34,
     "metadata": {},
     "output_type": "execute_result"
    }
   ],
   "source": [
    "type(c) "
   ]
  },
  {
   "cell_type": "code",
   "execution_count": 35,
   "id": "a8d227d0-726e-4416-b9c9-f66d9d314b02",
   "metadata": {
    "tags": []
   },
   "outputs": [
    {
     "data": {
      "text/plain": [
       "True"
      ]
     },
     "execution_count": 35,
     "metadata": {},
     "output_type": "execute_result"
    }
   ],
   "source": [
    "type(c) == int"
   ]
  },
  {
   "cell_type": "code",
   "execution_count": 39,
   "id": "0c25df9b-e708-4902-bf1e-43c5b3fc5431",
   "metadata": {
    "tags": []
   },
   "outputs": [
    {
     "data": {
      "text/plain": [
       "True"
      ]
     },
     "execution_count": 39,
     "metadata": {},
     "output_type": "execute_result"
    }
   ],
   "source": [
    "type(c) is int"
   ]
  },
  {
   "cell_type": "code",
   "execution_count": null,
   "id": "aa7d1434-cf12-404a-a0cb-60addb106911",
   "metadata": {},
   "outputs": [],
   "source": []
  },
  {
   "cell_type": "code",
   "execution_count": null,
   "id": "8e27dcfd-4e49-46fc-ad6d-b01102e5d833",
   "metadata": {},
   "outputs": [],
   "source": [
    "#restrting the kernel"
   ]
  },
  {
   "cell_type": "code",
   "execution_count": 2,
   "id": "017815af-fab8-4658-92c4-8ec9c6db7409",
   "metadata": {
    "tags": []
   },
   "outputs": [],
   "source": [
    "a = 5\n",
    "b =7"
   ]
  },
  {
   "cell_type": "code",
   "execution_count": 3,
   "id": "31588203-d33e-4325-8eba-ba5d02aa1b75",
   "metadata": {
    "tags": []
   },
   "outputs": [
    {
     "data": {
      "text/plain": [
       "False"
      ]
     },
     "execution_count": 3,
     "metadata": {},
     "output_type": "execute_result"
    }
   ],
   "source": [
    "a is b"
   ]
  },
  {
   "cell_type": "code",
   "execution_count": 6,
   "id": "3685e515-037e-4382-8286-0398a6a27e81",
   "metadata": {
    "tags": []
   },
   "outputs": [],
   "source": [
    "c = 5"
   ]
  },
  {
   "cell_type": "code",
   "execution_count": 7,
   "id": "ccf47d87-5a56-47cd-81c2-feab4471ea45",
   "metadata": {
    "tags": []
   },
   "outputs": [
    {
     "name": "stdout",
     "output_type": "stream",
     "text": [
      "True\n"
     ]
    }
   ],
   "source": [
    "print(a is c)"
   ]
  },
  {
   "cell_type": "code",
   "execution_count": 8,
   "id": "3ae23652-7d94-469f-83b0-0fd5753f0626",
   "metadata": {
    "tags": []
   },
   "outputs": [
    {
     "data": {
      "text/plain": [
       "(5, 7, 5)"
      ]
     },
     "execution_count": 8,
     "metadata": {},
     "output_type": "execute_result"
    }
   ],
   "source": [
    "a,b,c"
   ]
  },
  {
   "cell_type": "code",
   "execution_count": 9,
   "id": "43fe39eb-849c-4ea0-b0d2-bb294c0ae5c1",
   "metadata": {
    "tags": []
   },
   "outputs": [
    {
     "name": "stdout",
     "output_type": "stream",
     "text": [
      "4300547416\n"
     ]
    }
   ],
   "source": [
    "print(id(a))"
   ]
  },
  {
   "cell_type": "code",
   "execution_count": null,
   "id": "e969ae59-d28b-44eb-8077-f73a5033f5f9",
   "metadata": {},
   "outputs": [],
   "source": []
  },
  {
   "cell_type": "code",
   "execution_count": 10,
   "id": "d880450f-2a24-4a49-a48e-155182534409",
   "metadata": {
    "tags": []
   },
   "outputs": [
    {
     "name": "stdout",
     "output_type": "stream",
     "text": [
      "4300547480\n"
     ]
    }
   ],
   "source": [
    "print(id(b))"
   ]
  },
  {
   "cell_type": "code",
   "execution_count": 11,
   "id": "d07acfe8-268f-4c06-b731-c3d225e5a2e4",
   "metadata": {
    "tags": []
   },
   "outputs": [
    {
     "name": "stdout",
     "output_type": "stream",
     "text": [
      "4300547416\n"
     ]
    }
   ],
   "source": [
    "print(id(c))"
   ]
  },
  {
   "cell_type": "code",
   "execution_count": 12,
   "id": "18703fde-2d55-4729-bdcd-85ebaca167e2",
   "metadata": {
    "tags": []
   },
   "outputs": [],
   "source": [
    "a = 8"
   ]
  },
  {
   "cell_type": "code",
   "execution_count": 13,
   "id": "81bf9398-7f97-4b50-9d32-8ac456ac704d",
   "metadata": {
    "tags": []
   },
   "outputs": [
    {
     "data": {
      "text/plain": [
       "4300547512"
      ]
     },
     "execution_count": 13,
     "metadata": {},
     "output_type": "execute_result"
    }
   ],
   "source": [
    "id(a)"
   ]
  },
  {
   "cell_type": "code",
   "execution_count": 14,
   "id": "fc64e920-8494-414b-9c25-e31a01a4e7bb",
   "metadata": {
    "tags": []
   },
   "outputs": [],
   "source": [
    "str1,str2 = \"mayank\",\"mayank\""
   ]
  },
  {
   "cell_type": "code",
   "execution_count": 15,
   "id": "6bd7ff65-f7bd-4896-a2ad-04e7b4460a03",
   "metadata": {
    "tags": []
   },
   "outputs": [
    {
     "data": {
      "text/plain": [
       "4360989872"
      ]
     },
     "execution_count": 15,
     "metadata": {},
     "output_type": "execute_result"
    }
   ],
   "source": [
    "id(str1)"
   ]
  },
  {
   "cell_type": "code",
   "execution_count": 16,
   "id": "70e3e731-1bc6-4a0a-b4b8-763a7ff2ac2a",
   "metadata": {
    "tags": []
   },
   "outputs": [
    {
     "data": {
      "text/plain": [
       "4360989872"
      ]
     },
     "execution_count": 16,
     "metadata": {},
     "output_type": "execute_result"
    }
   ],
   "source": [
    "id(str2)"
   ]
  },
  {
   "cell_type": "code",
   "execution_count": 25,
   "id": "a3bbf4cd-8f8e-48c0-b807-ef86fc8edd9d",
   "metadata": {
    "tags": []
   },
   "outputs": [
    {
     "data": {
      "text/plain": [
       "False"
      ]
     },
     "execution_count": 25,
     "metadata": {},
     "output_type": "execute_result"
    }
   ],
   "source": [
    "str1 == str2"
   ]
  },
  {
   "cell_type": "code",
   "execution_count": 17,
   "id": "ef7eacfd-fcfb-43ae-a361-2a0fcb0df01a",
   "metadata": {
    "tags": []
   },
   "outputs": [],
   "source": [
    "str2 = \"mayank1\""
   ]
  },
  {
   "cell_type": "code",
   "execution_count": 18,
   "id": "0589461d-185d-4136-9bf0-30ae2e6f7d4a",
   "metadata": {
    "tags": []
   },
   "outputs": [
    {
     "data": {
      "text/plain": [
       "4368900464"
      ]
     },
     "execution_count": 18,
     "metadata": {},
     "output_type": "execute_result"
    }
   ],
   "source": [
    "id(str2)"
   ]
  },
  {
   "cell_type": "code",
   "execution_count": null,
   "id": "a65d6959-d1e5-4ed9-9f0f-9dc4c5835aec",
   "metadata": {},
   "outputs": [],
   "source": []
  },
  {
   "cell_type": "code",
   "execution_count": 19,
   "id": "ecf5da91-61cf-47eb-a5ab-1904e8beb548",
   "metadata": {
    "tags": []
   },
   "outputs": [],
   "source": [
    "a = 5\n",
    "c = a"
   ]
  },
  {
   "cell_type": "code",
   "execution_count": 20,
   "id": "c2b392fb-9b37-44c8-bff5-74794b64d88c",
   "metadata": {
    "tags": []
   },
   "outputs": [],
   "source": [
    "a = 8"
   ]
  },
  {
   "cell_type": "code",
   "execution_count": 21,
   "id": "cd53bb5f-893d-4716-8036-6c220312ef4c",
   "metadata": {
    "tags": []
   },
   "outputs": [
    {
     "data": {
      "text/plain": [
       "4300547512"
      ]
     },
     "execution_count": 21,
     "metadata": {},
     "output_type": "execute_result"
    }
   ],
   "source": [
    "id(a)"
   ]
  },
  {
   "cell_type": "code",
   "execution_count": 22,
   "id": "67cefd4d-1b2f-4725-97ee-6f32ccb06f70",
   "metadata": {
    "tags": []
   },
   "outputs": [
    {
     "data": {
      "text/plain": [
       "4300547416"
      ]
     },
     "execution_count": 22,
     "metadata": {},
     "output_type": "execute_result"
    }
   ],
   "source": [
    "id(c)"
   ]
  },
  {
   "cell_type": "code",
   "execution_count": 23,
   "id": "f80d2f0a-741e-4361-a83a-89ae7284a5dd",
   "metadata": {
    "tags": []
   },
   "outputs": [],
   "source": [
    "a,b,c = 4,4,4"
   ]
  },
  {
   "cell_type": "code",
   "execution_count": 24,
   "id": "ceaecbc9-01ee-4d42-85d9-42e3e7f27942",
   "metadata": {
    "tags": []
   },
   "outputs": [],
   "source": [
    "p,k,l = 4,4,4"
   ]
  },
  {
   "cell_type": "code",
   "execution_count": null,
   "id": "6979888c-b38e-4ce0-825a-bc445f455594",
   "metadata": {},
   "outputs": [],
   "source": []
  },
  {
   "cell_type": "code",
   "execution_count": null,
   "id": "26ae5547-ff85-4b49-aa66-47938e6f2d3f",
   "metadata": {},
   "outputs": [],
   "source": []
  },
  {
   "cell_type": "code",
   "execution_count": 26,
   "id": "7a208b64-4a5e-4faa-9106-2caf9bc899d7",
   "metadata": {
    "tags": []
   },
   "outputs": [],
   "source": [
    "str1 = \"mayank\"\n",
    "str2=\"mayank\""
   ]
  },
  {
   "cell_type": "code",
   "execution_count": 27,
   "id": "2b009d73-6492-474b-a766-b2e9de7768cd",
   "metadata": {
    "tags": []
   },
   "outputs": [
    {
     "data": {
      "text/plain": [
       "True"
      ]
     },
     "execution_count": 27,
     "metadata": {},
     "output_type": "execute_result"
    }
   ],
   "source": [
    "str1 is str2"
   ]
  },
  {
   "cell_type": "code",
   "execution_count": null,
   "id": "a4aa852e-20d4-4e51-b6b6-791da9e630c8",
   "metadata": {},
   "outputs": [],
   "source": [
    "# but sir here the str1 and str2 are different variables then how can they have same address?"
   ]
  },
  {
   "cell_type": "code",
   "execution_count": 28,
   "id": "6cd62cee-fe3e-4e6c-a14e-ac1da5222c56",
   "metadata": {
    "tags": []
   },
   "outputs": [
    {
     "data": {
      "text/plain": [
       "True"
      ]
     },
     "execution_count": 28,
     "metadata": {},
     "output_type": "execute_result"
    }
   ],
   "source": [
    "str1 == str2"
   ]
  },
  {
   "cell_type": "code",
   "execution_count": null,
   "id": "8a082438-749e-40d8-90c9-3d094971ec01",
   "metadata": {},
   "outputs": [],
   "source": []
  },
  {
   "cell_type": "code",
   "execution_count": null,
   "id": "a6f8239a-e0fb-491d-9870-a96db3e9892c",
   "metadata": {},
   "outputs": [],
   "source": []
  },
  {
   "cell_type": "code",
   "execution_count": null,
   "id": "ada7958e-cfd1-46fd-85e8-f582b8ec1c7c",
   "metadata": {},
   "outputs": [],
   "source": [
    "# "
   ]
  },
  {
   "cell_type": "code",
   "execution_count": 30,
   "id": "6b772488-8e60-4f78-ae0a-1dda12882b4b",
   "metadata": {
    "tags": []
   },
   "outputs": [],
   "source": [
    "orders = [\"biryani\",\"icecream\",\"dosa\"]"
   ]
  },
  {
   "cell_type": "code",
   "execution_count": 31,
   "id": "d8254d14-5741-4293-a394-33c2f4872dc2",
   "metadata": {
    "tags": []
   },
   "outputs": [
    {
     "data": {
      "text/plain": [
       "True"
      ]
     },
     "execution_count": 31,
     "metadata": {},
     "output_type": "execute_result"
    }
   ],
   "source": [
    "\"biryani\" in orders"
   ]
  },
  {
   "cell_type": "code",
   "execution_count": 32,
   "id": "10fe9d2f-a95e-406f-86d2-415d1e95f966",
   "metadata": {
    "tags": []
   },
   "outputs": [
    {
     "data": {
      "text/plain": [
       "True"
      ]
     },
     "execution_count": 32,
     "metadata": {},
     "output_type": "execute_result"
    }
   ],
   "source": [
    "\"ay\" in \"mayank\""
   ]
  },
  {
   "cell_type": "code",
   "execution_count": 34,
   "id": "bd762901-08b6-4366-8dc7-efbb998a0262",
   "metadata": {
    "tags": []
   },
   "outputs": [
    {
     "data": {
      "text/plain": [
       "True"
      ]
     },
     "execution_count": 34,
     "metadata": {},
     "output_type": "execute_result"
    }
   ],
   "source": [
    "\"a\" in \"mayank\""
   ]
  },
  {
   "cell_type": "code",
   "execution_count": null,
   "id": "902e8fd5-8853-4354-9ee5-a5094cc27f64",
   "metadata": {},
   "outputs": [],
   "source": [
    "orders = [\"biryani\",\"icecream\",\"dosa\"]"
   ]
  },
  {
   "cell_type": "code",
   "execution_count": 35,
   "id": "898a07e8-3863-4be3-99c3-d7cdb124ef49",
   "metadata": {
    "tags": []
   },
   "outputs": [
    {
     "data": {
      "text/plain": [
       "True"
      ]
     },
     "execution_count": 35,
     "metadata": {},
     "output_type": "execute_result"
    }
   ],
   "source": [
    "\"biryani\" in orders and \"icecream\" in orders"
   ]
  },
  {
   "cell_type": "code",
   "execution_count": null,
   "id": "8f0bbe71-3e1a-4aef-9d10-bf2a376237a5",
   "metadata": {},
   "outputs": [],
   "source": []
  },
  {
   "cell_type": "code",
   "execution_count": 36,
   "id": "8ccc54e4-dc6f-4591-beb5-89a66670126b",
   "metadata": {
    "tags": []
   },
   "outputs": [
    {
     "data": {
      "text/plain": [
       "False"
      ]
     },
     "execution_count": 36,
     "metadata": {},
     "output_type": "execute_result"
    }
   ],
   "source": [
    "[\"biryani\",\"icecream\"] in orders"
   ]
  },
  {
   "cell_type": "code",
   "execution_count": 50,
   "id": "ca5c1d48-bc23-476c-9aa6-29ddb3bfd4c4",
   "metadata": {
    "tags": []
   },
   "outputs": [],
   "source": [
    "orders = [\"biryani\",\"icecream\",\"dosa\",[\"biryani\",\"icecream\"]]"
   ]
  },
  {
   "cell_type": "code",
   "execution_count": 38,
   "id": "c202390e-dc85-4fb7-aed9-ecbeae35212a",
   "metadata": {
    "tags": []
   },
   "outputs": [
    {
     "data": {
      "text/plain": [
       "['biryani', 'icecream', 'dosa', ['biryani', 'icecream']]"
      ]
     },
     "execution_count": 38,
     "metadata": {},
     "output_type": "execute_result"
    }
   ],
   "source": [
    "orders"
   ]
  },
  {
   "cell_type": "code",
   "execution_count": 49,
   "id": "1cca277d-9544-4027-ba42-796548821290",
   "metadata": {
    "tags": []
   },
   "outputs": [
    {
     "data": {
      "text/plain": [
       "False"
      ]
     },
     "execution_count": 49,
     "metadata": {},
     "output_type": "execute_result"
    }
   ],
   "source": [
    "[\"biryani\",\"dosa\"] in orders"
   ]
  },
  {
   "cell_type": "code",
   "execution_count": 51,
   "id": "a06d3620-8dda-4ab6-a91b-b727695f13de",
   "metadata": {
    "tags": []
   },
   "outputs": [],
   "source": [
    "orders = [\"biryani\",\"icecream\",\"dosa\",[\"biryani\",\"icecream\",\"dosa\"]]"
   ]
  },
  {
   "cell_type": "code",
   "execution_count": null,
   "id": "db89db12-b793-411d-bf38-da533ec4e2ec",
   "metadata": {},
   "outputs": [],
   "source": []
  },
  {
   "cell_type": "code",
   "execution_count": null,
   "id": "246d676a-19b1-4450-b30b-fac77f7c4a9a",
   "metadata": {},
   "outputs": [],
   "source": []
  },
  {
   "cell_type": "code",
   "execution_count": 46,
   "id": "25773b85-29a1-47c5-8796-08b44ab5acc8",
   "metadata": {
    "tags": []
   },
   "outputs": [
    {
     "data": {
      "text/plain": [
       "True"
      ]
     },
     "execution_count": 46,
     "metadata": {},
     "output_type": "execute_result"
    }
   ],
   "source": [
    "[\"biryani\",\"icecream\",\"dosa\"] in orders"
   ]
  },
  {
   "cell_type": "code",
   "execution_count": 47,
   "id": "1a4a09e9-2c3e-4845-a003-1dd695e867ed",
   "metadata": {
    "tags": []
   },
   "outputs": [
    {
     "data": {
      "text/plain": [
       "False"
      ]
     },
     "execution_count": 47,
     "metadata": {},
     "output_type": "execute_result"
    }
   ],
   "source": [
    "[\"biryani\",\"dosa\",\"icecream\"] in orders"
   ]
  },
  {
   "cell_type": "code",
   "execution_count": null,
   "id": "239f9701-bd62-4691-936f-1b18b9edd338",
   "metadata": {},
   "outputs": [],
   "source": []
  },
  {
   "cell_type": "code",
   "execution_count": null,
   "id": "62a5124c-f2d5-4175-9995-e936d500f3c5",
   "metadata": {},
   "outputs": [],
   "source": []
  },
  {
   "cell_type": "code",
   "execution_count": 52,
   "id": "9db8c7f0-638a-4714-b328-9e106d46db91",
   "metadata": {
    "tags": []
   },
   "outputs": [
    {
     "data": {
      "text/plain": [
       "'biryani'"
      ]
     },
     "execution_count": 52,
     "metadata": {},
     "output_type": "execute_result"
    }
   ],
   "source": [
    "\"biryani\" or \"icecream\" in orders"
   ]
  },
  {
   "cell_type": "markdown",
   "id": "e234c772-c59a-4d0e-9c49-e7c9eadb4c93",
   "metadata": {},
   "source": [
    "# Precedence"
   ]
  },
  {
   "cell_type": "code",
   "execution_count": null,
   "id": "1b70d5a1-9d11-41a5-aabf-37cde206c779",
   "metadata": {},
   "outputs": [],
   "source": []
  },
  {
   "cell_type": "code",
   "execution_count": null,
   "id": "85e6405e-cc0c-46eb-ad49-421cc35fd68e",
   "metadata": {},
   "outputs": [],
   "source": []
  },
  {
   "cell_type": "code",
   "execution_count": null,
   "id": "56d9c71f-7b3f-40fe-896a-af6f6261afcf",
   "metadata": {},
   "outputs": [],
   "source": []
  },
  {
   "cell_type": "code",
   "execution_count": null,
   "id": "e4868a4a-925f-40d1-b493-f3e9d1945c3f",
   "metadata": {},
   "outputs": [],
   "source": []
  },
  {
   "cell_type": "code",
   "execution_count": null,
   "id": "662710b9-f42e-49fd-95c6-fa0c592be6b4",
   "metadata": {},
   "outputs": [],
   "source": []
  },
  {
   "cell_type": "markdown",
   "id": "42339634-ffe8-4a9b-8af2-3596e795f1fb",
   "metadata": {},
   "source": [
    "# Associativity"
   ]
  },
  {
   "cell_type": "code",
   "execution_count": null,
   "id": "56df337b-43e2-4e38-ba48-99c5832f539c",
   "metadata": {},
   "outputs": [],
   "source": []
  },
  {
   "cell_type": "code",
   "execution_count": null,
   "id": "ec38340d-8647-42bb-9fd6-7872179e868f",
   "metadata": {},
   "outputs": [],
   "source": []
  },
  {
   "cell_type": "code",
   "execution_count": null,
   "id": "d03a5ae2-cf78-4e23-b1df-ce3b4ccace05",
   "metadata": {},
   "outputs": [],
   "source": [
    "\"mayank\" and \"a\" and \"b\" or \"c\" and \"d\" or \"a\" and \"s\""
   ]
  },
  {
   "cell_type": "code",
   "execution_count": null,
   "id": "18201ca3-d9f5-45b9-a0e9-8cd1364fb771",
   "metadata": {},
   "outputs": [],
   "source": []
  },
  {
   "cell_type": "code",
   "execution_count": 54,
   "id": "bf1bf959-f66f-4770-9042-9df1b207c41b",
   "metadata": {
    "tags": []
   },
   "outputs": [
    {
     "data": {
      "text/plain": [
       "5.0"
      ]
     },
     "execution_count": 54,
     "metadata": {},
     "output_type": "execute_result"
    }
   ],
   "source": [
    "250 / 10 /5"
   ]
  },
  {
   "cell_type": "code",
   "execution_count": null,
   "id": "65fac12c-3b17-4f8b-886b-1e209e2b0098",
   "metadata": {},
   "outputs": [],
   "source": []
  },
  {
   "cell_type": "code",
   "execution_count": 53,
   "id": "a90fe280-1498-4b57-aa87-a2ceec870171",
   "metadata": {
    "tags": []
   },
   "outputs": [
    {
     "data": {
      "text/plain": [
       "512"
      ]
     },
     "execution_count": 53,
     "metadata": {},
     "output_type": "execute_result"
    }
   ],
   "source": [
    "2 ** 3 ** 2"
   ]
  },
  {
   "cell_type": "code",
   "execution_count": null,
   "id": "08223588-9fe7-4e19-919c-0e09194aedcf",
   "metadata": {},
   "outputs": [],
   "source": []
  },
  {
   "cell_type": "code",
   "execution_count": null,
   "id": "7b7a85e1-8181-4852-88ac-87cb7da5e9c8",
   "metadata": {},
   "outputs": [],
   "source": []
  },
  {
   "cell_type": "code",
   "execution_count": 55,
   "id": "2c56587e-4062-4812-b76a-16f124c8d9c1",
   "metadata": {},
   "outputs": [
    {
     "data": {
      "text/plain": [
       "'b'"
      ]
     },
     "execution_count": 55,
     "metadata": {},
     "output_type": "execute_result"
    }
   ],
   "source": [
    "\"mayank\" and \"a\" and \"b\" or  \"c\" and  \"d\" "
   ]
  }
 ],
 "metadata": {
  "kernelspec": {
   "display_name": "Python 3 (ipykernel)",
   "language": "python",
   "name": "python3"
  },
  "language_info": {
   "codemirror_mode": {
    "name": "ipython",
    "version": 3
   },
   "file_extension": ".py",
   "mimetype": "text/x-python",
   "name": "python",
   "nbconvert_exporter": "python",
   "pygments_lexer": "ipython3",
   "version": "3.11.5"
  }
 },
 "nbformat": 4,
 "nbformat_minor": 5
}
