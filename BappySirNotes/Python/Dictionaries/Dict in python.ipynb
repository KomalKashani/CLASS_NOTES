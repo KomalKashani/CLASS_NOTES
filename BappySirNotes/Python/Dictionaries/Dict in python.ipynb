{
 "cells": [
  {
   "cell_type": "code",
   "execution_count": 1,
   "id": "4b69c275",
   "metadata": {},
   "outputs": [],
   "source": [
    "info = {\"name\":\"Bappy\", \"age\":22, \"email\":\"boktiar@ineuron.ai\"}"
   ]
  },
  {
   "cell_type": "code",
   "execution_count": 2,
   "id": "fa128f1b",
   "metadata": {},
   "outputs": [
    {
     "data": {
      "text/plain": [
       "'Bappy'"
      ]
     },
     "execution_count": 2,
     "metadata": {},
     "output_type": "execute_result"
    }
   ],
   "source": [
    "info[\"name\"]"
   ]
  },
  {
   "cell_type": "code",
   "execution_count": 3,
   "id": "4df147c7",
   "metadata": {},
   "outputs": [
    {
     "data": {
      "text/plain": [
       "22"
      ]
     },
     "execution_count": 3,
     "metadata": {},
     "output_type": "execute_result"
    }
   ],
   "source": [
    "info[\"age\"]"
   ]
  },
  {
   "cell_type": "code",
   "execution_count": 4,
   "id": "0614b5ad",
   "metadata": {},
   "outputs": [
    {
     "data": {
      "text/plain": [
       "'boktiar@ineuron.ai'"
      ]
     },
     "execution_count": 4,
     "metadata": {},
     "output_type": "execute_result"
    }
   ],
   "source": [
    "info[\"email\"]"
   ]
  },
  {
   "cell_type": "code",
   "execution_count": 5,
   "id": "2d0a0f45",
   "metadata": {},
   "outputs": [
    {
     "ename": "KeyError",
     "evalue": "'phone'",
     "output_type": "error",
     "traceback": [
      "\u001b[1;31m---------------------------------------------------------------------------\u001b[0m",
      "\u001b[1;31mKeyError\u001b[0m                                  Traceback (most recent call last)",
      "Input \u001b[1;32mIn [5]\u001b[0m, in \u001b[0;36m<cell line: 1>\u001b[1;34m()\u001b[0m\n\u001b[1;32m----> 1\u001b[0m \u001b[43minfo\u001b[49m\u001b[43m[\u001b[49m\u001b[38;5;124;43m'\u001b[39;49m\u001b[38;5;124;43mphone\u001b[39;49m\u001b[38;5;124;43m'\u001b[39;49m\u001b[43m]\u001b[49m\n",
      "\u001b[1;31mKeyError\u001b[0m: 'phone'"
     ]
    }
   ],
   "source": [
    "info['phone']"
   ]
  },
  {
   "cell_type": "code",
   "execution_count": 9,
   "id": "29bf14ab",
   "metadata": {},
   "outputs": [
    {
     "name": "stdout",
     "output_type": "stream",
     "text": [
      "None\n"
     ]
    }
   ],
   "source": [
    "print(info.get(\"phone\"))"
   ]
  },
  {
   "cell_type": "code",
   "execution_count": 10,
   "id": "fd3075bc",
   "metadata": {},
   "outputs": [],
   "source": [
    "info1 = {\"ineuron\": {\"name\":\"Bappy\", \"Age\":22},\n",
    "         \"dswithbappy\": {\"name\":\"dswith\",\"age\":45}\n",
    "        }"
   ]
  },
  {
   "cell_type": "code",
   "execution_count": 11,
   "id": "9cc28f6e",
   "metadata": {},
   "outputs": [
    {
     "data": {
      "text/plain": [
       "dict"
      ]
     },
     "execution_count": 11,
     "metadata": {},
     "output_type": "execute_result"
    }
   ],
   "source": [
    "type(info1)"
   ]
  },
  {
   "cell_type": "code",
   "execution_count": 12,
   "id": "c0a7870b",
   "metadata": {},
   "outputs": [
    {
     "data": {
      "text/plain": [
       "{'name': 'Bappy', 'Age': 22}"
      ]
     },
     "execution_count": 12,
     "metadata": {},
     "output_type": "execute_result"
    }
   ],
   "source": [
    "info1['ineuron']"
   ]
  },
  {
   "cell_type": "code",
   "execution_count": 13,
   "id": "5f83fcc3",
   "metadata": {},
   "outputs": [
    {
     "data": {
      "text/plain": [
       "dict"
      ]
     },
     "execution_count": 13,
     "metadata": {},
     "output_type": "execute_result"
    }
   ],
   "source": [
    "type(info1['ineuron'])"
   ]
  },
  {
   "cell_type": "code",
   "execution_count": 14,
   "id": "4ca90b96",
   "metadata": {},
   "outputs": [
    {
     "data": {
      "text/plain": [
       "'Bappy'"
      ]
     },
     "execution_count": 14,
     "metadata": {},
     "output_type": "execute_result"
    }
   ],
   "source": [
    "info1['ineuron']['name']"
   ]
  },
  {
   "cell_type": "code",
   "execution_count": 15,
   "id": "bf0c1967",
   "metadata": {},
   "outputs": [],
   "source": [
    "info1 = {\"ineuron\": {\"name1\":\"Bappy\",\"name2\":\"karan\", \"Age\":22},\n",
    "         \"dswithbappy\": {\"name\":\"dswith\",\"age\":45}\n",
    "        }"
   ]
  },
  {
   "cell_type": "code",
   "execution_count": 16,
   "id": "da023bd0",
   "metadata": {},
   "outputs": [
    {
     "data": {
      "text/plain": [
       "'Bappy'"
      ]
     },
     "execution_count": 16,
     "metadata": {},
     "output_type": "execute_result"
    }
   ],
   "source": [
    "info1['ineuron']['name1']"
   ]
  },
  {
   "cell_type": "code",
   "execution_count": 17,
   "id": "3ffea208",
   "metadata": {},
   "outputs": [
    {
     "data": {
      "text/plain": [
       "'karan'"
      ]
     },
     "execution_count": 17,
     "metadata": {},
     "output_type": "execute_result"
    }
   ],
   "source": [
    "info1['ineuron']['name2']"
   ]
  },
  {
   "cell_type": "code",
   "execution_count": 19,
   "id": "285b8995",
   "metadata": {},
   "outputs": [
    {
     "data": {
      "text/plain": [
       "'Bappy'"
      ]
     },
     "execution_count": 19,
     "metadata": {},
     "output_type": "execute_result"
    }
   ],
   "source": [
    "info1.get(\"ineuron\").get(\"name1\")"
   ]
  },
  {
   "cell_type": "code",
   "execution_count": 20,
   "id": "af750dbf",
   "metadata": {},
   "outputs": [],
   "source": [
    "info = {\"name\":\"Bappy\", \"age\":22, \"email\":\"boktiar@ineuron.ai\"}"
   ]
  },
  {
   "cell_type": "code",
   "execution_count": 21,
   "id": "c4d99f5a",
   "metadata": {},
   "outputs": [
    {
     "data": {
      "text/plain": [
       "dict_values(['Bappy', 22, 'boktiar@ineuron.ai'])"
      ]
     },
     "execution_count": 21,
     "metadata": {},
     "output_type": "execute_result"
    }
   ],
   "source": [
    "info.values()"
   ]
  },
  {
   "cell_type": "code",
   "execution_count": 22,
   "id": "0e18e238",
   "metadata": {},
   "outputs": [
    {
     "data": {
      "text/plain": [
       "dict_keys(['name', 'age', 'email'])"
      ]
     },
     "execution_count": 22,
     "metadata": {},
     "output_type": "execute_result"
    }
   ],
   "source": [
    "info.keys()"
   ]
  },
  {
   "cell_type": "code",
   "execution_count": 23,
   "id": "56f6ca3f",
   "metadata": {},
   "outputs": [
    {
     "data": {
      "text/plain": [
       "dict_items([('name', 'Bappy'), ('age', 22), ('email', 'boktiar@ineuron.ai')])"
      ]
     },
     "execution_count": 23,
     "metadata": {},
     "output_type": "execute_result"
    }
   ],
   "source": [
    "info.items()"
   ]
  },
  {
   "cell_type": "code",
   "execution_count": 26,
   "id": "3ed34f7e",
   "metadata": {},
   "outputs": [],
   "source": [
    "tem = info.items()"
   ]
  },
  {
   "cell_type": "code",
   "execution_count": 29,
   "id": "8985464e",
   "metadata": {},
   "outputs": [
    {
     "name": "stdout",
     "output_type": "stream",
     "text": [
      "('name', 'Bappy')\n",
      "('age', 22)\n",
      "('email', 'boktiar@ineuron.ai')\n"
     ]
    }
   ],
   "source": [
    "for i in tem:\n",
    "    print(i)"
   ]
  },
  {
   "cell_type": "code",
   "execution_count": 28,
   "id": "957ab20e",
   "metadata": {},
   "outputs": [
    {
     "name": "stdout",
     "output_type": "stream",
     "text": [
      "<class 'tuple'>\n",
      "<class 'tuple'>\n",
      "<class 'tuple'>\n"
     ]
    }
   ],
   "source": [
    "for i in tem:\n",
    "    print(type(i))"
   ]
  },
  {
   "cell_type": "code",
   "execution_count": 30,
   "id": "bf9f59a8",
   "metadata": {},
   "outputs": [],
   "source": [
    "student_marks = {\n",
    "    \"class1\":[2,3,4,5,6,7],\n",
    "    \"class2\":[4,5,6,7,8,9]\n",
    "}"
   ]
  },
  {
   "cell_type": "code",
   "execution_count": 31,
   "id": "9e5d11e0",
   "metadata": {},
   "outputs": [
    {
     "data": {
      "text/plain": [
       "[2, 3, 4, 5, 6, 7]"
      ]
     },
     "execution_count": 31,
     "metadata": {},
     "output_type": "execute_result"
    }
   ],
   "source": [
    "student_marks['class1']"
   ]
  },
  {
   "cell_type": "code",
   "execution_count": 32,
   "id": "a8d65810",
   "metadata": {},
   "outputs": [
    {
     "data": {
      "text/plain": [
       "list"
      ]
     },
     "execution_count": 32,
     "metadata": {},
     "output_type": "execute_result"
    }
   ],
   "source": [
    "type(student_marks['class1'])"
   ]
  },
  {
   "cell_type": "code",
   "execution_count": 33,
   "id": "14efd97e",
   "metadata": {},
   "outputs": [],
   "source": [
    "student_marks = {\n",
    "    \"class1\":(2,3,4,5,6,7),\n",
    "    \"class2\":(4,5,6,7,8,9)\n",
    "}"
   ]
  },
  {
   "cell_type": "code",
   "execution_count": 34,
   "id": "d9e30101",
   "metadata": {},
   "outputs": [
    {
     "data": {
      "text/plain": [
       "(2, 3, 4, 5, 6, 7)"
      ]
     },
     "execution_count": 34,
     "metadata": {},
     "output_type": "execute_result"
    }
   ],
   "source": [
    "student_marks['class1']"
   ]
  },
  {
   "cell_type": "code",
   "execution_count": 35,
   "id": "a8086117",
   "metadata": {},
   "outputs": [
    {
     "data": {
      "text/plain": [
       "tuple"
      ]
     },
     "execution_count": 35,
     "metadata": {},
     "output_type": "execute_result"
    }
   ],
   "source": [
    "type(student_marks['class1'])"
   ]
  },
  {
   "cell_type": "code",
   "execution_count": 36,
   "id": "1c18c79c",
   "metadata": {},
   "outputs": [
    {
     "ename": "NameError",
     "evalue": "name 'class1' is not defined",
     "output_type": "error",
     "traceback": [
      "\u001b[1;31m---------------------------------------------------------------------------\u001b[0m",
      "\u001b[1;31mNameError\u001b[0m                                 Traceback (most recent call last)",
      "Input \u001b[1;32mIn [36]\u001b[0m, in \u001b[0;36m<cell line: 1>\u001b[1;34m()\u001b[0m\n\u001b[1;32m----> 1\u001b[0m student_marks[\u001b[43mclass1\u001b[49m]\n",
      "\u001b[1;31mNameError\u001b[0m: name 'class1' is not defined"
     ]
    }
   ],
   "source": [
    "student_marks[class1]"
   ]
  },
  {
   "cell_type": "code",
   "execution_count": 37,
   "id": "0d729348",
   "metadata": {},
   "outputs": [],
   "source": [
    "dic = {\n",
    "    123:\"Bappy\",\n",
    "    234:\"karan\"\n",
    "}"
   ]
  },
  {
   "cell_type": "code",
   "execution_count": 38,
   "id": "6be87d0d",
   "metadata": {},
   "outputs": [
    {
     "data": {
      "text/plain": [
       "'Bappy'"
      ]
     },
     "execution_count": 38,
     "metadata": {},
     "output_type": "execute_result"
    }
   ],
   "source": [
    "dic[123]"
   ]
  },
  {
   "cell_type": "code",
   "execution_count": 39,
   "id": "51e9dc03",
   "metadata": {},
   "outputs": [
    {
     "ename": "KeyError",
     "evalue": "'123'",
     "output_type": "error",
     "traceback": [
      "\u001b[1;31m---------------------------------------------------------------------------\u001b[0m",
      "\u001b[1;31mKeyError\u001b[0m                                  Traceback (most recent call last)",
      "Input \u001b[1;32mIn [39]\u001b[0m, in \u001b[0;36m<cell line: 1>\u001b[1;34m()\u001b[0m\n\u001b[1;32m----> 1\u001b[0m \u001b[43mdic\u001b[49m\u001b[43m[\u001b[49m\u001b[38;5;124;43m\"\u001b[39;49m\u001b[38;5;124;43m123\u001b[39;49m\u001b[38;5;124;43m\"\u001b[39;49m\u001b[43m]\u001b[49m\n",
      "\u001b[1;31mKeyError\u001b[0m: '123'"
     ]
    }
   ],
   "source": [
    "dic[\"123\"]"
   ]
  },
  {
   "cell_type": "code",
   "execution_count": 40,
   "id": "3ebce8ad",
   "metadata": {},
   "outputs": [],
   "source": [
    "info = {\"name\":\"Bappy\", \"age\":22, \"email\":\"boktiar@ineuron.ai\"}"
   ]
  },
  {
   "cell_type": "code",
   "execution_count": null,
   "id": "4ddf6125",
   "metadata": {},
   "outputs": [],
   "source": [
    "info.values()"
   ]
  },
  {
   "cell_type": "code",
   "execution_count": 43,
   "id": "0e9ce7da",
   "metadata": {},
   "outputs": [
    {
     "name": "stdout",
     "output_type": "stream",
     "text": [
      "Bappy\n",
      "22\n",
      "boktiar@ineuron.ai\n"
     ]
    }
   ],
   "source": [
    "for val in info.values():\n",
    "    print(val)"
   ]
  },
  {
   "cell_type": "code",
   "execution_count": 45,
   "id": "784b9e57",
   "metadata": {},
   "outputs": [
    {
     "name": "stdout",
     "output_type": "stream",
     "text": [
      "name Bappy\n",
      "age 22\n",
      "email boktiar@ineuron.ai\n"
     ]
    }
   ],
   "source": [
    "for key,val in info.items():\n",
    "    print(key,val)"
   ]
  },
  {
   "cell_type": "code",
   "execution_count": 46,
   "id": "bc94db2d",
   "metadata": {},
   "outputs": [
    {
     "name": "stdout",
     "output_type": "stream",
     "text": [
      "name: Bappy\n",
      "age: 22\n",
      "email: boktiar@ineuron.ai\n"
     ]
    }
   ],
   "source": [
    "for key,val in info.items():\n",
    "    print(key,val,sep=\": \")\n"
   ]
  },
  {
   "cell_type": "markdown",
   "id": "8ec762b5",
   "metadata": {},
   "source": [
    "## practice"
   ]
  },
  {
   "cell_type": "code",
   "execution_count": 50,
   "id": "81df825f",
   "metadata": {},
   "outputs": [],
   "source": [
    "nested_dict = {\n",
    "    'user1': {\n",
    "        'name': 'Alice',\n",
    "        'age': 30,\n",
    "        'address': {\n",
    "            'street': '123 Main St',\n",
    "            'city': 'New York',\n",
    "            'zip': '10001'\n",
    "        },\n",
    "        'contacts': {\n",
    "            'email': 'alice@example.com',\n",
    "            'phone': '555-1234'\n",
    "        }\n",
    "    },\n",
    "    'user2': {\n",
    "        'name': 'Bob',\n",
    "        'age': 25,\n",
    "        'address': {\n",
    "            'street': '456 Elm St',\n",
    "            'city': 'Los Angeles',\n",
    "            'zip': '90001'\n",
    "        },\n",
    "        'contacts': {\n",
    "            'email': 'bob@example.com',\n",
    "            'phone': '555-5678'\n",
    "        }\n",
    "    }\n",
    "}\n"
   ]
  },
  {
   "cell_type": "code",
   "execution_count": 55,
   "id": "e13f192c",
   "metadata": {},
   "outputs": [
    {
     "data": {
      "text/plain": [
       "{'user1': {'name': 'Alice',\n",
       "  'age': 30,\n",
       "  'address': {'street': '123 Main St', 'city': 'New York', 'zip': '10001'},\n",
       "  'contacts': {'email': 'alice@example.com', 'phone': '555-1234'}},\n",
       " 'user2': {'name': 'Bob',\n",
       "  'age': 25,\n",
       "  'address': {'street': '456 Elm St', 'city': 'Los Angeles', 'zip': '90001'},\n",
       "  'contacts': {'email': 'bob@example.com', 'phone': '555-5678'}}}"
      ]
     },
     "execution_count": 55,
     "metadata": {},
     "output_type": "execute_result"
    }
   ],
   "source": [
    "nested_dict"
   ]
  },
  {
   "cell_type": "code",
   "execution_count": 58,
   "id": "61aa3336",
   "metadata": {},
   "outputs": [
    {
     "data": {
      "text/plain": [
       "'10001'"
      ]
     },
     "execution_count": 58,
     "metadata": {},
     "output_type": "execute_result"
    }
   ],
   "source": [
    "nested_dict['user1']['address']['zip']"
   ]
  },
  {
   "cell_type": "code",
   "execution_count": 52,
   "id": "747ff201",
   "metadata": {},
   "outputs": [
    {
     "data": {
      "text/plain": [
       "'10001'"
      ]
     },
     "execution_count": 52,
     "metadata": {},
     "output_type": "execute_result"
    }
   ],
   "source": [
    "nested_dict[\"user1\"][\"address\"][\"zip\"]\n"
   ]
  },
  {
   "cell_type": "code",
   "execution_count": 54,
   "id": "8f56af81",
   "metadata": {},
   "outputs": [
    {
     "data": {
      "text/plain": [
       "'555-5678'"
      ]
     },
     "execution_count": 54,
     "metadata": {},
     "output_type": "execute_result"
    }
   ],
   "source": [
    "nested_dict['user2']['contacts']['phone']"
   ]
  },
  {
   "cell_type": "code",
   "execution_count": 59,
   "id": "b706cfc4",
   "metadata": {},
   "outputs": [],
   "source": [
    "complex_dict = {\n",
    "    'company': 'TechCorp',\n",
    "    'employees': {\n",
    "        'John': {\n",
    "            'age': 35,\n",
    "            'position': 'Software Engineer',\n",
    "            'projects': ['Project A', 'Project B'],\n",
    "            'salary': 85000.00,\n",
    "            'performance': {\n",
    "                '2019': 'Excellent',\n",
    "                '2020': 'Satisfactory',\n",
    "                '2021': 'Outstanding'\n",
    "            }\n",
    "        },\n",
    "        'Emily': {\n",
    "            'age': 28,\n",
    "            'position': 'Data Scientist',\n",
    "            'projects': ['Project B', 'Project C'],\n",
    "            'salary': 90000.00,\n",
    "            'performance': {\n",
    "                '2019': 'Satisfactory',\n",
    "                '2020': 'Outstanding',\n",
    "                '2021': 'Excellent'\n",
    "            }\n",
    "        }\n",
    "    },\n",
    "    'departments': {\n",
    "        'engineering': ['John'],\n",
    "        'data_science': ['Emily']\n",
    "    },\n",
    "    'locations': {\n",
    "        'headquarters': {\n",
    "            'city': 'San Francisco',\n",
    "            'country': 'USA'\n",
    "        },\n",
    "        'branch_offices': [\n",
    "            {\n",
    "                'city': 'New York',\n",
    "                'country': 'USA'\n",
    "            },\n",
    "            {\n",
    "                'city': 'London',\n",
    "                'country': 'UK'\n",
    "            }\n",
    "        ]\n",
    "    }\n",
    "}\n"
   ]
  },
  {
   "cell_type": "code",
   "execution_count": 64,
   "id": "66aeef4e",
   "metadata": {},
   "outputs": [
    {
     "data": {
      "text/plain": [
       "dict_keys(['company', 'employees', 'departments', 'locations'])"
      ]
     },
     "execution_count": 64,
     "metadata": {},
     "output_type": "execute_result"
    }
   ],
   "source": [
    "complex_dict.keys()"
   ]
  },
  {
   "cell_type": "code",
   "execution_count": 66,
   "id": "d3e0f434",
   "metadata": {},
   "outputs": [
    {
     "data": {
      "text/plain": [
       "'USA'"
      ]
     },
     "execution_count": 66,
     "metadata": {},
     "output_type": "execute_result"
    }
   ],
   "source": [
    "complex_dict['locations']['branch_offices'][0]['country']\n",
    "\n"
   ]
  },
  {
   "cell_type": "code",
   "execution_count": 67,
   "id": "c1a67406",
   "metadata": {},
   "outputs": [
    {
     "data": {
      "text/plain": [
       "[{'city': 'New York', 'country': 'USA'}, {'city': 'London', 'country': 'UK'}]"
      ]
     },
     "execution_count": 67,
     "metadata": {},
     "output_type": "execute_result"
    }
   ],
   "source": [
    "complex_dict['locations']['branch_offices']"
   ]
  },
  {
   "cell_type": "markdown",
   "id": "42512f3c",
   "metadata": {},
   "source": [
    "## Dictionary Methods"
   ]
  },
  {
   "cell_type": "markdown",
   "id": "ac0401aa",
   "metadata": {},
   "source": [
    "## update()"
   ]
  },
  {
   "cell_type": "code",
   "execution_count": 68,
   "id": "0e7aab1f",
   "metadata": {},
   "outputs": [],
   "source": [
    "info = {\"name\":\"Bappy\", \"age\":22, \"email\":\"boktiar@ineuron.ai\"}"
   ]
  },
  {
   "cell_type": "code",
   "execution_count": 69,
   "id": "1de5bdf6",
   "metadata": {},
   "outputs": [],
   "source": [
    "info.update({\"phone\":454654654})"
   ]
  },
  {
   "cell_type": "code",
   "execution_count": 70,
   "id": "e2adbcfc",
   "metadata": {},
   "outputs": [
    {
     "data": {
      "text/plain": [
       "{'name': 'Bappy', 'age': 22, 'email': 'boktiar@ineuron.ai', 'phone': 454654654}"
      ]
     },
     "execution_count": 70,
     "metadata": {},
     "output_type": "execute_result"
    }
   ],
   "source": [
    "info"
   ]
  },
  {
   "cell_type": "code",
   "execution_count": 71,
   "id": "cbaf1457",
   "metadata": {},
   "outputs": [],
   "source": [
    "extra_info = {\"Gender\":\"male\", \"city\":\"Bengaluru\", \"Country\":\"india\"}"
   ]
  },
  {
   "cell_type": "code",
   "execution_count": 72,
   "id": "367a010d",
   "metadata": {},
   "outputs": [],
   "source": [
    "info.update(extra_info)"
   ]
  },
  {
   "cell_type": "code",
   "execution_count": 73,
   "id": "703febcc",
   "metadata": {},
   "outputs": [
    {
     "data": {
      "text/plain": [
       "{'name': 'Bappy',\n",
       " 'age': 22,\n",
       " 'email': 'boktiar@ineuron.ai',\n",
       " 'phone': 454654654,\n",
       " 'Gender': 'male',\n",
       " 'city': 'Bengaluru',\n",
       " 'Country': 'india'}"
      ]
     },
     "execution_count": 73,
     "metadata": {},
     "output_type": "execute_result"
    }
   ],
   "source": [
    "info"
   ]
  },
  {
   "cell_type": "markdown",
   "id": "1bbf6699",
   "metadata": {},
   "source": [
    "## clear()"
   ]
  },
  {
   "cell_type": "code",
   "execution_count": 74,
   "id": "58d72f83",
   "metadata": {},
   "outputs": [],
   "source": [
    "info = {\"name\":\"Bappy\", \"age\":22, \"email\":\"boktiar@ineuron.ai\"}"
   ]
  },
  {
   "cell_type": "code",
   "execution_count": 75,
   "id": "8da7c23a",
   "metadata": {},
   "outputs": [
    {
     "data": {
      "text/plain": [
       "{'name': 'Bappy', 'age': 22, 'email': 'boktiar@ineuron.ai'}"
      ]
     },
     "execution_count": 75,
     "metadata": {},
     "output_type": "execute_result"
    }
   ],
   "source": [
    "info"
   ]
  },
  {
   "cell_type": "code",
   "execution_count": 76,
   "id": "030aeace",
   "metadata": {},
   "outputs": [],
   "source": [
    "info.clear()"
   ]
  },
  {
   "cell_type": "code",
   "execution_count": 77,
   "id": "f265ebc6",
   "metadata": {},
   "outputs": [
    {
     "data": {
      "text/plain": [
       "{}"
      ]
     },
     "execution_count": 77,
     "metadata": {},
     "output_type": "execute_result"
    }
   ],
   "source": [
    "info"
   ]
  },
  {
   "cell_type": "markdown",
   "id": "5bb524eb",
   "metadata": {},
   "source": [
    "## pop()"
   ]
  },
  {
   "cell_type": "code",
   "execution_count": 91,
   "id": "1ec2e412",
   "metadata": {},
   "outputs": [],
   "source": [
    "info = {\"name\":\"Bappy\", \"age\":22, \"email\":\"boktiar@ineuron.ai\"}"
   ]
  },
  {
   "cell_type": "code",
   "execution_count": 92,
   "id": "fddab664",
   "metadata": {},
   "outputs": [
    {
     "data": {
      "text/plain": [
       "{'name': 'Bappy', 'age': 22, 'email': 'boktiar@ineuron.ai'}"
      ]
     },
     "execution_count": 92,
     "metadata": {},
     "output_type": "execute_result"
    }
   ],
   "source": [
    "info"
   ]
  },
  {
   "cell_type": "code",
   "execution_count": 93,
   "id": "612ad153",
   "metadata": {},
   "outputs": [
    {
     "data": {
      "text/plain": [
       "'Bappy'"
      ]
     },
     "execution_count": 93,
     "metadata": {},
     "output_type": "execute_result"
    }
   ],
   "source": [
    "info.pop(\"name\")"
   ]
  },
  {
   "cell_type": "code",
   "execution_count": 94,
   "id": "e678a86e",
   "metadata": {},
   "outputs": [
    {
     "data": {
      "text/plain": [
       "{'age': 22, 'email': 'boktiar@ineuron.ai'}"
      ]
     },
     "execution_count": 94,
     "metadata": {},
     "output_type": "execute_result"
    }
   ],
   "source": [
    "info"
   ]
  },
  {
   "cell_type": "markdown",
   "id": "95c72f0d",
   "metadata": {},
   "source": [
    "## popitem()"
   ]
  },
  {
   "cell_type": "code",
   "execution_count": 82,
   "id": "162bf684",
   "metadata": {},
   "outputs": [
    {
     "data": {
      "text/plain": [
       "{'name': 'Bappy', 'age': 22, 'email': 'boktiar@ineuron.ai'}"
      ]
     },
     "execution_count": 82,
     "metadata": {},
     "output_type": "execute_result"
    }
   ],
   "source": [
    "info = {\"name\":\"Bappy\", \"age\":22, \"email\":\"boktiar@ineuron.ai\"}\n",
    "info"
   ]
  },
  {
   "cell_type": "code",
   "execution_count": 83,
   "id": "050cd14c",
   "metadata": {},
   "outputs": [
    {
     "data": {
      "text/plain": [
       "('email', 'boktiar@ineuron.ai')"
      ]
     },
     "execution_count": 83,
     "metadata": {},
     "output_type": "execute_result"
    }
   ],
   "source": [
    "info.popitem()"
   ]
  },
  {
   "cell_type": "code",
   "execution_count": 84,
   "id": "573a303e",
   "metadata": {},
   "outputs": [
    {
     "data": {
      "text/plain": [
       "{'name': 'Bappy', 'age': 22}"
      ]
     },
     "execution_count": 84,
     "metadata": {},
     "output_type": "execute_result"
    }
   ],
   "source": [
    "info"
   ]
  },
  {
   "cell_type": "code",
   "execution_count": 85,
   "id": "4080ee66",
   "metadata": {},
   "outputs": [
    {
     "ename": "SyntaxError",
     "evalue": "invalid syntax (3741458434.py, line 1)",
     "output_type": "error",
     "traceback": [
      "\u001b[1;36m  Input \u001b[1;32mIn [85]\u001b[1;36m\u001b[0m\n\u001b[1;33m    info = {\"name\":, \"age\":22, \"email\":\"boktiar@ineuron.ai\"}\u001b[0m\n\u001b[1;37m                   ^\u001b[0m\n\u001b[1;31mSyntaxError\u001b[0m\u001b[1;31m:\u001b[0m invalid syntax\n"
     ]
    }
   ],
   "source": [
    "info = {\"name\":, \"age\":22, \"email\":\"boktiar@ineuron.ai\"}\n",
    "info"
   ]
  },
  {
   "cell_type": "code",
   "execution_count": 86,
   "id": "9a6e2901",
   "metadata": {},
   "outputs": [
    {
     "data": {
      "text/plain": [
       "{'name': 'Bappy', 'age': 22, 'email': 'boktiar@ineuron.ai'}"
      ]
     },
     "execution_count": 86,
     "metadata": {},
     "output_type": "execute_result"
    }
   ],
   "source": [
    "info = {\"name\":\"Bappy\", \"age\":22, \"email\":\"boktiar@ineuron.ai\"}\n",
    "info"
   ]
  },
  {
   "cell_type": "code",
   "execution_count": 87,
   "id": "ff436f2f",
   "metadata": {},
   "outputs": [
    {
     "ename": "KeyError",
     "evalue": "0",
     "output_type": "error",
     "traceback": [
      "\u001b[1;31m---------------------------------------------------------------------------\u001b[0m",
      "\u001b[1;31mKeyError\u001b[0m                                  Traceback (most recent call last)",
      "Input \u001b[1;32mIn [87]\u001b[0m, in \u001b[0;36m<cell line: 1>\u001b[1;34m()\u001b[0m\n\u001b[1;32m----> 1\u001b[0m \u001b[43minfo\u001b[49m\u001b[43m[\u001b[49m\u001b[38;5;241;43m0\u001b[39;49m\u001b[43m]\u001b[49m\n",
      "\u001b[1;31mKeyError\u001b[0m: 0"
     ]
    }
   ],
   "source": [
    "info[0]"
   ]
  },
  {
   "cell_type": "code",
   "execution_count": 88,
   "id": "3015dcdb",
   "metadata": {},
   "outputs": [
    {
     "data": {
      "text/plain": [
       "{'name': 'Bappy', 'age': 22, 'email': 'boktiar@ineuron.ai'}"
      ]
     },
     "execution_count": 88,
     "metadata": {},
     "output_type": "execute_result"
    }
   ],
   "source": [
    "info = {\"name\":\"Bappy\", \"age\":22, \"email\":\"boktiar@ineuron.ai\"}\n",
    "info"
   ]
  },
  {
   "cell_type": "code",
   "execution_count": 89,
   "id": "409baf20",
   "metadata": {},
   "outputs": [],
   "source": [
    "info['name'] = \"karan\""
   ]
  },
  {
   "cell_type": "code",
   "execution_count": 90,
   "id": "570ab3dc",
   "metadata": {},
   "outputs": [
    {
     "data": {
      "text/plain": [
       "{'name': 'karan', 'age': 22, 'email': 'boktiar@ineuron.ai'}"
      ]
     },
     "execution_count": 90,
     "metadata": {},
     "output_type": "execute_result"
    }
   ],
   "source": [
    "info\n"
   ]
  },
  {
   "cell_type": "code",
   "execution_count": 96,
   "id": "1e0108ed",
   "metadata": {},
   "outputs": [],
   "source": [
    "info = {\"name\":\"Bappy\", \"age\":22, \"email\":\"boktiar@ineuron.ai\"}\n",
    "temp = info.copy()"
   ]
  },
  {
   "cell_type": "code",
   "execution_count": 97,
   "id": "0b85aceb",
   "metadata": {},
   "outputs": [
    {
     "data": {
      "text/plain": [
       "{'name': 'Bappy', 'age': 22, 'email': 'boktiar@ineuron.ai'}"
      ]
     },
     "execution_count": 97,
     "metadata": {},
     "output_type": "execute_result"
    }
   ],
   "source": [
    "temp"
   ]
  },
  {
   "cell_type": "code",
   "execution_count": 98,
   "id": "2a339974",
   "metadata": {},
   "outputs": [],
   "source": [
    "newKey = 77"
   ]
  },
  {
   "cell_type": "code",
   "execution_count": 102,
   "id": "2037e3a5",
   "metadata": {},
   "outputs": [],
   "source": [
    "d = {1:2,3:4}\n",
    "\n",
    "d[newKey] = d[1]\n",
    "del d[1]"
   ]
  },
  {
   "cell_type": "code",
   "execution_count": 103,
   "id": "bf02a93d",
   "metadata": {},
   "outputs": [
    {
     "data": {
      "text/plain": [
       "{3: 4, 77: 2}"
      ]
     },
     "execution_count": 103,
     "metadata": {},
     "output_type": "execute_result"
    }
   ],
   "source": [
    "d"
   ]
  },
  {
   "cell_type": "markdown",
   "id": "d1d0422d",
   "metadata": {},
   "source": [
    "## practice"
   ]
  },
  {
   "cell_type": "code",
   "execution_count": 113,
   "id": "6155386a",
   "metadata": {},
   "outputs": [],
   "source": [
    "# Write a  Python script to concatenate the following dictionaries to create a new one.\n",
    "\n",
    "dic1={1:10, 2:20}\n",
    "dic2={3:30, 4:40}\n",
    "dic3={5:50,6:60}\n",
    "\n",
    "#Expected Result : {1: 10, 2: 20, 3: 30, 4: 40, 5: 50, 6: 60}"
   ]
  },
  {
   "cell_type": "code",
   "execution_count": null,
   "id": "feae16f1",
   "metadata": {},
   "outputs": [],
   "source": []
  },
  {
   "cell_type": "code",
   "execution_count": 114,
   "id": "ed1ad2c9",
   "metadata": {},
   "outputs": [
    {
     "name": "stdout",
     "output_type": "stream",
     "text": [
      "Concatenated dictionary: {1: 10, 2: 20, 3: 30, 4: 40, 5: 50, 6: 60}\n"
     ]
    }
   ],
   "source": [
    "dic1 = {1: 10, 2: 20}\n",
    "dic2 = {3: 30, 4: 40}\n",
    "dic3 = {5: 50, 6: 60}\n",
    "\n",
    "result = {}\n",
    "\n",
    "for d in [dic1, dic2, dic3]:\n",
    "    result.update(d)\n",
    "\n",
    "print(\"Concatenated dictionary:\", result)\n"
   ]
  },
  {
   "cell_type": "code",
   "execution_count": null,
   "id": "af7f7736",
   "metadata": {},
   "outputs": [],
   "source": [
    "# Write a Python script to check whether a given key already exists in a dictionary.\n",
    "d = {1: 10, 2: 20, 3: 30, 4: 40, 5: 50, 6: 60}\n",
    "\n",
    "user input = 1\n",
    "print(\"yes\")\n",
    "\n",
    "print(\"no\")"
   ]
  },
  {
   "cell_type": "code",
   "execution_count": 1,
   "id": "7f58047b",
   "metadata": {},
   "outputs": [
    {
     "name": "stdout",
     "output_type": "stream",
     "text": [
      "2\n",
      "yes\n"
     ]
    }
   ],
   "source": [
    "dic={1:20,2:20,3:30}\n",
    "\n",
    "num=int(input())\n",
    "\n",
    "if num in dic:\n",
    "    print(\"yes\")\n",
    "else:\n",
    "    print(\"no\")\n",
    "\n"
   ]
  },
  {
   "cell_type": "code",
   "execution_count": null,
   "id": "dca5e572",
   "metadata": {},
   "outputs": [],
   "source": [
    "## Write a Python program to sum all the items in a dictionary.\n",
    "\n",
    "my_dict = {'data1': 100, 'data2': 54, 'data3': 247}"
   ]
  },
  {
   "cell_type": "code",
   "execution_count": 2,
   "id": "e76cfb76",
   "metadata": {},
   "outputs": [
    {
     "data": {
      "text/plain": [
       "401"
      ]
     },
     "execution_count": 2,
     "metadata": {},
     "output_type": "execute_result"
    }
   ],
   "source": [
    "100 + 54 + 247"
   ]
  },
  {
   "cell_type": "code",
   "execution_count": 3,
   "id": "fe006474",
   "metadata": {},
   "outputs": [
    {
     "name": "stdout",
     "output_type": "stream",
     "text": [
      "401\n"
     ]
    }
   ],
   "source": [
    "d={'data1':100,'data2':54,'data3':247}\n",
    "sum=0\n",
    "for i in d.values():\n",
    "    sum=sum+i\n",
    "print(sum)\n"
   ]
  },
  {
   "cell_type": "code",
   "execution_count": 4,
   "id": "b25954f6",
   "metadata": {},
   "outputs": [],
   "source": [
    "d={'data1':100,'data2':54,'data3':247}"
   ]
  },
  {
   "cell_type": "code",
   "execution_count": 7,
   "id": "cd76bfb3",
   "metadata": {},
   "outputs": [
    {
     "name": "stdout",
     "output_type": "stream",
     "text": [
      "401\n"
     ]
    }
   ],
   "source": [
    "out = 0\n",
    "for i in d.values():\n",
    "    out = out + i\n",
    "\n",
    "print(out)"
   ]
  },
  {
   "cell_type": "code",
   "execution_count": 8,
   "id": "043c1484",
   "metadata": {},
   "outputs": [
    {
     "name": "stdout",
     "output_type": "stream",
     "text": [
      "{'a': 1, 'b': 2, 'c': 3, 'd': 4, 'e': 5}\n"
     ]
    }
   ],
   "source": [
    "\n",
    "\n",
    "keys = ['a','b','c','d','e']\n",
    "values = [1,2,3,4,5]  \n",
    " \n",
    " \n",
    "myDict = { k:v for (k,v) in zip(keys, values)}  \n",
    " \n",
    "\n",
    "print (myDict)"
   ]
  },
  {
   "cell_type": "code",
   "execution_count": 12,
   "id": "a52f3809",
   "metadata": {},
   "outputs": [
    {
     "data": {
      "text/plain": [
       "[('a', 1), ('b', 2), ('c', 3), ('d', 4), ('e', 5)]"
      ]
     },
     "execution_count": 12,
     "metadata": {},
     "output_type": "execute_result"
    }
   ],
   "source": [
    "a = list(zip(keys, values))\n",
    "a\n"
   ]
  },
  {
   "cell_type": "code",
   "execution_count": 14,
   "id": "8f546760",
   "metadata": {},
   "outputs": [
    {
     "name": "stdout",
     "output_type": "stream",
     "text": [
      "a 1\n",
      "b 2\n",
      "c 3\n",
      "d 4\n",
      "e 5\n"
     ]
    }
   ],
   "source": [
    "for i,j in a:\n",
    "    print(i,j)"
   ]
  },
  {
   "cell_type": "markdown",
   "id": "c2b91327",
   "metadata": {},
   "source": [
    "## Assignment"
   ]
  },
  {
   "cell_type": "code",
   "execution_count": null,
   "id": "9d7973a8",
   "metadata": {},
   "outputs": [],
   "source": [
    "Write a Python program to count the number of items in a dictionary value that is a list.\n",
    "\n",
    "dict =  {'Alex': ['subj1', 'subj2', 'subj3'], 'David': ['subj1', 'subj2']}"
   ]
  },
  {
   "cell_type": "code",
   "execution_count": null,
   "id": "76dcff63",
   "metadata": {},
   "outputs": [],
   "source": [
    "Write a  Python program to sort Counter by value.\n",
    "Sample data : {'Math':81, 'Physics':83, 'Chemistry':87}\n",
    "Expected data: [('Chemistry', 87), ('Physics', 83), ('Math', 81)]"
   ]
  },
  {
   "cell_type": "code",
   "execution_count": null,
   "id": "a9ea3c62",
   "metadata": {},
   "outputs": [],
   "source": [
    "Write a Python program to match key values in two dictionaries.\n",
    "Sample dictionary: {'key1': 1, 'key2': 3, 'key3': 2}, {'key1': 1, 'key2': 2}\n",
    "Expected output: key1: 1 is present in both x and y"
   ]
  },
  {
   "cell_type": "code",
   "execution_count": null,
   "id": "e9bfa571",
   "metadata": {},
   "outputs": [],
   "source": [
    "Write a  Python program to drop empty items from a given dictionary.\n",
    "Original Dictionary:\n",
    "{'c1': 'Red', 'c2': 'Green', 'c3': None}\n",
    "New Dictionary after dropping empty items:\n",
    "{'c1': 'Red', 'c2': 'Green'}"
   ]
  }
 ],
 "metadata": {
  "kernelspec": {
   "display_name": "Python 3 (ipykernel)",
   "language": "python",
   "name": "python3"
  },
  "language_info": {
   "codemirror_mode": {
    "name": "ipython",
    "version": 3
   },
   "file_extension": ".py",
   "mimetype": "text/x-python",
   "name": "python",
   "nbconvert_exporter": "python",
   "pygments_lexer": "ipython3",
   "version": "3.9.12"
  }
 },
 "nbformat": 4,
 "nbformat_minor": 5
}
