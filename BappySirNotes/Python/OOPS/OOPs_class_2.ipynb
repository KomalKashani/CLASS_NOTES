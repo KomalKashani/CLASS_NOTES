{
  "cells": [
    {
      "cell_type": "code",
      "execution_count": null,
      "metadata": {
        "id": "AvhmPbtpnyNC"
      },
      "outputs": [],
      "source": [
        "class Person:\n",
        "\n",
        "  def __init__(self, name, country):\n",
        "    self.name = name\n",
        "    self.country = country\n",
        "\n",
        "  def greeting(self):\n",
        "    if self.country == \"India\":\n",
        "      print(f\"Namaste {self.name}\")\n",
        "\n",
        "    else:\n",
        "      print(f\"Hello {self.name}\")"
      ]
    },
    {
      "cell_type": "code",
      "execution_count": null,
      "metadata": {
        "id": "XPJXHWSIo6_A"
      },
      "outputs": [],
      "source": [
        "P = Person(\"Bappy\", \"India\")"
      ]
    },
    {
      "cell_type": "code",
      "execution_count": null,
      "metadata": {
        "colab": {
          "base_uri": "https://localhost:8080/"
        },
        "id": "-jjzd5MTo-fB",
        "outputId": "17d16d0b-c6d6-4ca5-9e0f-8e972d698764"
      },
      "outputs": [
        {
          "name": "stdout",
          "output_type": "stream",
          "text": [
            "Namaste Bappy\n"
          ]
        }
      ],
      "source": [
        "P.greeting()"
      ]
    },
    {
      "cell_type": "code",
      "execution_count": null,
      "metadata": {
        "colab": {
          "base_uri": "https://localhost:8080/",
          "height": 35
        },
        "id": "0Bj8HxFNpB2B",
        "outputId": "16a439a4-a214-4ed7-a658-7730d043a5f0"
      },
      "outputs": [
        {
          "data": {
            "application/vnd.google.colaboratory.intrinsic+json": {
              "type": "string"
            },
            "text/plain": [
              "'Bappy'"
            ]
          },
          "execution_count": 11,
          "metadata": {},
          "output_type": "execute_result"
        }
      ],
      "source": [
        "P.name"
      ]
    },
    {
      "cell_type": "code",
      "execution_count": null,
      "metadata": {
        "colab": {
          "base_uri": "https://localhost:8080/",
          "height": 35
        },
        "id": "gjFGaY0Xp_Yx",
        "outputId": "cdf8b83b-b26c-44d4-cd15-4a321986c95d"
      },
      "outputs": [
        {
          "data": {
            "application/vnd.google.colaboratory.intrinsic+json": {
              "type": "string"
            },
            "text/plain": [
              "'India'"
            ]
          },
          "execution_count": 12,
          "metadata": {},
          "output_type": "execute_result"
        }
      ],
      "source": [
        "P.country"
      ]
    },
    {
      "cell_type": "code",
      "execution_count": null,
      "metadata": {
        "colab": {
          "base_uri": "https://localhost:8080/",
          "height": 141
        },
        "id": "E1k3ydUZqCOW",
        "outputId": "92e7b181-fbad-42d8-835b-2aede75d2916"
      },
      "outputs": [
        {
          "ename": "AttributeError",
          "evalue": "'Person' object has no attribute 'gender'",
          "output_type": "error",
          "traceback": [
            "\u001b[0;31m---------------------------------------------------------------------------\u001b[0m",
            "\u001b[0;31mAttributeError\u001b[0m                            Traceback (most recent call last)",
            "\u001b[0;32m<ipython-input-13-527cdf47c3ad>\u001b[0m in \u001b[0;36m<cell line: 1>\u001b[0;34m()\u001b[0m\n\u001b[0;32m----> 1\u001b[0;31m \u001b[0mP\u001b[0m\u001b[0;34m.\u001b[0m\u001b[0mgender\u001b[0m\u001b[0;34m\u001b[0m\u001b[0;34m\u001b[0m\u001b[0m\n\u001b[0m",
            "\u001b[0;31mAttributeError\u001b[0m: 'Person' object has no attribute 'gender'"
          ]
        }
      ],
      "source": [
        "P.gender"
      ]
    },
    {
      "cell_type": "markdown",
      "metadata": {
        "id": "-8DdRuMRqPcI"
      },
      "source": [
        "### Attribute creation from outside of the class"
      ]
    },
    {
      "cell_type": "code",
      "execution_count": null,
      "metadata": {
        "id": "Nr3L468YqGb5"
      },
      "outputs": [],
      "source": [
        "P.gender = \"Male\""
      ]
    },
    {
      "cell_type": "code",
      "execution_count": null,
      "metadata": {
        "colab": {
          "base_uri": "https://localhost:8080/",
          "height": 35
        },
        "id": "iaus8lkcqWlI",
        "outputId": "1196f192-c8e1-4b3a-9b55-48c00452419d"
      },
      "outputs": [
        {
          "data": {
            "application/vnd.google.colaboratory.intrinsic+json": {
              "type": "string"
            },
            "text/plain": [
              "'Male'"
            ]
          },
          "execution_count": 15,
          "metadata": {},
          "output_type": "execute_result"
        }
      ],
      "source": [
        "P.gender"
      ]
    },
    {
      "cell_type": "markdown",
      "metadata": {
        "id": "ZqoZ_UaWqmMm"
      },
      "source": [
        "## Reference Variable"
      ]
    },
    {
      "cell_type": "code",
      "execution_count": null,
      "metadata": {
        "id": "oGTx7BZKqZAW"
      },
      "outputs": [],
      "source": [
        "class Person:\n",
        "\n",
        "  def __init__(self):\n",
        "    self.name = \"Bappy\"\n",
        "    self.country = \"India\"\n"
      ]
    },
    {
      "cell_type": "code",
      "execution_count": null,
      "metadata": {
        "id": "Dx0AjdQ5qwde"
      },
      "outputs": [],
      "source": [
        "P = Person()\n",
        "q = P"
      ]
    },
    {
      "cell_type": "code",
      "execution_count": null,
      "metadata": {
        "colab": {
          "base_uri": "https://localhost:8080/"
        },
        "id": "Mz8wkwaGq2E2",
        "outputId": "8777a4ad-946d-40e4-812a-a8bfd4f58b24"
      },
      "outputs": [
        {
          "name": "stdout",
          "output_type": "stream",
          "text": [
            "136158796749968\n",
            "136158796749968\n"
          ]
        }
      ],
      "source": [
        "print(id(P))\n",
        "print(id(q))"
      ]
    },
    {
      "cell_type": "code",
      "execution_count": null,
      "metadata": {
        "colab": {
          "base_uri": "https://localhost:8080/"
        },
        "id": "jiVWREKnrFOV",
        "outputId": "11f1cb32-54c7-42d0-aa8e-3fabe0a9d9b6"
      },
      "outputs": [
        {
          "name": "stdout",
          "output_type": "stream",
          "text": [
            "Bappy\n",
            "Bappy\n",
            "Sunny\n",
            "Sunny\n"
          ]
        }
      ],
      "source": [
        "print(P.name)\n",
        "print(q.name)\n",
        "q.name = \"Sunny\"\n",
        "print(P.name)\n",
        "print(q.name)"
      ]
    },
    {
      "cell_type": "markdown",
      "metadata": {
        "id": "UDBDMkrmsIh5"
      },
      "source": [
        "## Encapsulation"
      ]
    },
    {
      "cell_type": "code",
      "execution_count": null,
      "metadata": {
        "id": "DkVN-E-arsnm"
      },
      "outputs": [],
      "source": [
        "#Instance variable\n",
        "class Person:\n",
        "\n",
        "  def __init__(self, name, country):\n",
        "    self.name = name\n",
        "    self.country = country\n",
        "\n",
        "\n",
        "p1 = Person(\"Bappy\", \"UK\")\n",
        "p2 = Person(\"Sunny\", \"India\")\n",
        "p3 = Person(\"Alex\", \"Canda\")\n",
        "p4 = Person(\"Krish\", \"US\")"
      ]
    },
    {
      "cell_type": "code",
      "execution_count": null,
      "metadata": {
        "colab": {
          "base_uri": "https://localhost:8080/",
          "height": 35
        },
        "id": "_DhaJngascU1",
        "outputId": "db969cbb-a635-4797-a3ea-eaded900dbfd"
      },
      "outputs": [
        {
          "data": {
            "application/vnd.google.colaboratory.intrinsic+json": {
              "type": "string"
            },
            "text/plain": [
              "'Bappy'"
            ]
          },
          "execution_count": 22,
          "metadata": {},
          "output_type": "execute_result"
        }
      ],
      "source": [
        "p1.name"
      ]
    },
    {
      "cell_type": "code",
      "execution_count": null,
      "metadata": {
        "colab": {
          "base_uri": "https://localhost:8080/",
          "height": 35
        },
        "id": "54Q2blL2sfku",
        "outputId": "c3ee70cd-ff2d-499e-e132-61208b199117"
      },
      "outputs": [
        {
          "data": {
            "application/vnd.google.colaboratory.intrinsic+json": {
              "type": "string"
            },
            "text/plain": [
              "'Sunny'"
            ]
          },
          "execution_count": 23,
          "metadata": {},
          "output_type": "execute_result"
        }
      ],
      "source": [
        "p2.name"
      ]
    },
    {
      "cell_type": "code",
      "execution_count": null,
      "metadata": {
        "colab": {
          "base_uri": "https://localhost:8080/",
          "height": 35
        },
        "id": "IWP2zXFcshm9",
        "outputId": "516b8343-e1fa-43e4-d832-e5181c303502"
      },
      "outputs": [
        {
          "data": {
            "application/vnd.google.colaboratory.intrinsic+json": {
              "type": "string"
            },
            "text/plain": [
              "'Alex'"
            ]
          },
          "execution_count": 26,
          "metadata": {},
          "output_type": "execute_result"
        }
      ],
      "source": [
        "p3.name"
      ]
    },
    {
      "cell_type": "code",
      "execution_count": null,
      "metadata": {
        "colab": {
          "base_uri": "https://localhost:8080/",
          "height": 35
        },
        "id": "YUhe83DStFX5",
        "outputId": "11059529-3dab-4696-a86e-d283a18737d2"
      },
      "outputs": [
        {
          "data": {
            "application/vnd.google.colaboratory.intrinsic+json": {
              "type": "string"
            },
            "text/plain": [
              "'Krish'"
            ]
          },
          "execution_count": 27,
          "metadata": {},
          "output_type": "execute_result"
        }
      ],
      "source": [
        "p4.name"
      ]
    },
    {
      "cell_type": "code",
      "execution_count": null,
      "metadata": {
        "id": "Dw7qpw7atHEA"
      },
      "outputs": [],
      "source": [
        "class Atm:\n",
        "\n",
        "  #constructor(special function) - superpower\n",
        "  def __init__(self):\n",
        "    self.pin = \"\"\n",
        "    self.balance = 0\n",
        "    # self.menu()\n",
        "\n",
        "\n",
        "  def menu(self):\n",
        "    user_input = input(\n",
        "        \"\"\"\n",
        "        Hi how can i help you?\n",
        "\n",
        "        1. Press 1 to create pin\n",
        "        2. Press 2 to change pin\n",
        "        3. Press 3 to check balence\n",
        "        4. Press 4 to withdraw\n",
        "        5. Anything to exit\n",
        "        \"\"\"\n",
        "    )\n",
        "\n",
        "    if user_input == '1':\n",
        "      #create a pin\n",
        "      self.create_pin()\n",
        "\n",
        "    elif user_input == '2':\n",
        "      #change pin\n",
        "      self.change_pin()\n",
        "\n",
        "    elif user_input == '3':\n",
        "      #check balnce\n",
        "      self.check_balance()\n",
        "\n",
        "    elif user_input == '4':\n",
        "      #withdraw\n",
        "      self.withdraw()\n",
        "\n",
        "    else:\n",
        "      exit()\n",
        "\n",
        "\n",
        "  def create_pin(self):\n",
        "    user_pin = input(\"Enter your pin: \")\n",
        "    self.pin = user_pin\n",
        "\n",
        "    user_balance = int(input(\"Enter Balance: \"))\n",
        "    self.balance = user_balance\n",
        "\n",
        "    print(\"Pin Created Successfully!\")\n",
        "    # self.menu()\n",
        "\n",
        "\n",
        "  def change_pin(self):\n",
        "    old_pin = input(\"Enter old pin: \")\n",
        "\n",
        "    if old_pin == self.pin:\n",
        "      #Let change the pin\n",
        "      new_pin = input(\"Enter new pin: \")\n",
        "      self.pin = new_pin\n",
        "      print(\"Pin changed Successfully!\")\n",
        "      # self.menu()\n",
        "\n",
        "    else:\n",
        "      print(\"Sorry you entered wrong pin.\")\n",
        "      # self.menu()\n",
        "\n",
        "\n",
        "\n",
        "\n",
        "  def check_balance(self):\n",
        "    user_pin = input(\"Enter your pin: \")\n",
        "    if user_pin == self.pin:\n",
        "      print(f\"Your balance is {self.balance}\")\n",
        "    else:\n",
        "      print(\"Your pin is correct, please try again\")\n",
        "    # self.menu()\n",
        "\n",
        "\n",
        "\n",
        "  def withdraw(self):\n",
        "    user_pin = input(\"Enter your pin: \")\n",
        "    if user_pin == self.pin:\n",
        "      # Allow to withdraw\n",
        "      amount = int(input(\"Enter the amount: \"))\n",
        "      if amount <= self.balance:\n",
        "        self.balance = self.balance - amount\n",
        "        print(f\"withdraw successfull and the current balance is {self.balance}\")\n",
        "\n",
        "      else:\n",
        "        print(\"You have insufficient balance\")\n",
        "\n",
        "\n",
        "    else:\n",
        "      print(\"Your pin is wrong!\")\n",
        "    # self.menu()\n"
      ]
    },
    {
      "cell_type": "code",
      "execution_count": null,
      "metadata": {
        "id": "5TLlyHR3tnc8"
      },
      "outputs": [],
      "source": [
        "obj = Atm()"
      ]
    },
    {
      "cell_type": "code",
      "execution_count": null,
      "metadata": {
        "colab": {
          "base_uri": "https://localhost:8080/"
        },
        "id": "8vh9YUQjtnbj",
        "outputId": "32c4f975-3b28-4919-ac11-3ae6802e0d25"
      },
      "outputs": [
        {
          "name": "stdout",
          "output_type": "stream",
          "text": [
            "Enter your pin: 123\n",
            "Enter Balance: 10000\n",
            "Pin Created Successfully!\n"
          ]
        }
      ],
      "source": [
        "obj.create_pin()\n",
        "obj.balance = \"pagla hai kia\""
      ]
    },
    {
      "cell_type": "code",
      "execution_count": null,
      "metadata": {
        "colab": {
          "base_uri": "https://localhost:8080/",
          "height": 297
        },
        "id": "wi-3ofmwtnZK",
        "outputId": "ac55688e-db34-4c11-89aa-fbc4a1c69533"
      },
      "outputs": [
        {
          "name": "stdout",
          "output_type": "stream",
          "text": [
            "Enter your pin: 123\n",
            "Enter the amount: 2000\n"
          ]
        },
        {
          "ename": "TypeError",
          "evalue": "'<=' not supported between instances of 'int' and 'str'",
          "output_type": "error",
          "traceback": [
            "\u001b[0;31m---------------------------------------------------------------------------\u001b[0m",
            "\u001b[0;31mTypeError\u001b[0m                                 Traceback (most recent call last)",
            "\u001b[0;32m<ipython-input-32-826ea677aa70>\u001b[0m in \u001b[0;36m<cell line: 1>\u001b[0;34m()\u001b[0m\n\u001b[0;32m----> 1\u001b[0;31m \u001b[0mobj\u001b[0m\u001b[0;34m.\u001b[0m\u001b[0mwithdraw\u001b[0m\u001b[0;34m(\u001b[0m\u001b[0;34m)\u001b[0m\u001b[0;34m\u001b[0m\u001b[0;34m\u001b[0m\u001b[0m\n\u001b[0m",
            "\u001b[0;32m<ipython-input-28-8be1b202abc6>\u001b[0m in \u001b[0;36mwithdraw\u001b[0;34m(self)\u001b[0m\n\u001b[1;32m     84\u001b[0m       \u001b[0;31m# Allow to withdraw\u001b[0m\u001b[0;34m\u001b[0m\u001b[0;34m\u001b[0m\u001b[0m\n\u001b[1;32m     85\u001b[0m       \u001b[0mamount\u001b[0m \u001b[0;34m=\u001b[0m \u001b[0mint\u001b[0m\u001b[0;34m(\u001b[0m\u001b[0minput\u001b[0m\u001b[0;34m(\u001b[0m\u001b[0;34m\"Enter the amount: \"\u001b[0m\u001b[0;34m)\u001b[0m\u001b[0;34m)\u001b[0m\u001b[0;34m\u001b[0m\u001b[0;34m\u001b[0m\u001b[0m\n\u001b[0;32m---> 86\u001b[0;31m       \u001b[0;32mif\u001b[0m \u001b[0mamount\u001b[0m \u001b[0;34m<=\u001b[0m \u001b[0mself\u001b[0m\u001b[0;34m.\u001b[0m\u001b[0mbalance\u001b[0m\u001b[0;34m:\u001b[0m\u001b[0;34m\u001b[0m\u001b[0;34m\u001b[0m\u001b[0m\n\u001b[0m\u001b[1;32m     87\u001b[0m         \u001b[0mself\u001b[0m\u001b[0;34m.\u001b[0m\u001b[0mbalance\u001b[0m \u001b[0;34m=\u001b[0m \u001b[0mself\u001b[0m\u001b[0;34m.\u001b[0m\u001b[0mbalance\u001b[0m \u001b[0;34m-\u001b[0m \u001b[0mamount\u001b[0m\u001b[0;34m\u001b[0m\u001b[0;34m\u001b[0m\u001b[0m\n\u001b[1;32m     88\u001b[0m         \u001b[0mprint\u001b[0m\u001b[0;34m(\u001b[0m\u001b[0;34mf\"withdraw successfull and the current balance is {self.balance}\"\u001b[0m\u001b[0;34m)\u001b[0m\u001b[0;34m\u001b[0m\u001b[0;34m\u001b[0m\u001b[0m\n",
            "\u001b[0;31mTypeError\u001b[0m: '<=' not supported between instances of 'int' and 'str'"
          ]
        }
      ],
      "source": [
        "obj.withdraw()"
      ]
    },
    {
      "cell_type": "code",
      "execution_count": null,
      "metadata": {
        "id": "Mgru5Ns9tnW4"
      },
      "outputs": [],
      "source": [
        "class Atm:\n",
        "\n",
        "  #constructor(special function) - superpower\n",
        "  def __init__(self):\n",
        "    self.pin = \"\"\n",
        "    self.__balance = 0 #private variable\n",
        "    # self.menu()\n",
        "\n",
        "\n",
        "  def __menu(self):\n",
        "    user_input = input(\n",
        "        \"\"\"\n",
        "        Hi how can i help you?\n",
        "\n",
        "        1. Press 1 to create pin\n",
        "        2. Press 2 to change pin\n",
        "        3. Press 3 to check balence\n",
        "        4. Press 4 to withdraw\n",
        "        5. Anything to exit\n",
        "        \"\"\"\n",
        "    )\n",
        "\n",
        "    if user_input == '1':\n",
        "      #create a pin\n",
        "      self.create_pin()\n",
        "\n",
        "    elif user_input == '2':\n",
        "      #change pin\n",
        "      self.change_pin()\n",
        "\n",
        "    elif user_input == '3':\n",
        "      #check balnce\n",
        "      self.check_balance()\n",
        "\n",
        "    elif user_input == '4':\n",
        "      #withdraw\n",
        "      self.withdraw()\n",
        "\n",
        "    else:\n",
        "      exit()\n",
        "\n",
        "\n",
        "  def create_pin(self):\n",
        "    user_pin = input(\"Enter your pin: \")\n",
        "    self.pin = user_pin\n",
        "\n",
        "    user_balance = int(input(\"Enter Balance: \"))\n",
        "    self.__balance = user_balance\n",
        "\n",
        "    print(\"Pin Created Successfully!\")\n",
        "    # self.menu()\n",
        "\n",
        "\n",
        "  def change_pin(self):\n",
        "    old_pin = input(\"Enter old pin: \")\n",
        "\n",
        "    if old_pin == self.pin:\n",
        "      #Let change the pin\n",
        "      new_pin = input(\"Enter new pin: \")\n",
        "      self.pin = new_pin\n",
        "      print(\"Pin changed Successfully!\")\n",
        "      # self.menu()\n",
        "\n",
        "    else:\n",
        "      print(\"Sorry you entered wrong pin.\")\n",
        "      # self.menu()\n",
        "\n",
        "\n",
        "\n",
        "\n",
        "  def check_balance(self):\n",
        "    user_pin = input(\"Enter your pin: \")\n",
        "    if user_pin == self.pin:\n",
        "      print(f\"Your balance is {self.__balance}\")\n",
        "    else:\n",
        "      print(\"Your pin is correct, please try again\")\n",
        "    # self.menu()\n",
        "\n",
        "\n",
        "\n",
        "  def withdraw(self):\n",
        "    user_pin = input(\"Enter your pin: \")\n",
        "    if user_pin == self.pin:\n",
        "      # Allow to withdraw\n",
        "      amount = int(input(\"Enter the amount: \"))\n",
        "      if amount <= self.__balance:\n",
        "        self.__balance = self.__balance - amount\n",
        "        print(f\"withdraw successfull and the current balance is {self.__balance}\")\n",
        "\n",
        "      else:\n",
        "        print(\"You have insufficient balance\")\n",
        "\n",
        "\n",
        "    else:\n",
        "      print(\"Your pin is wrong!\")\n",
        "    # self.menu()\n"
      ]
    },
    {
      "cell_type": "code",
      "execution_count": null,
      "metadata": {
        "id": "dJpzt6yAtnUZ"
      },
      "outputs": [],
      "source": [
        "obj = Atm()"
      ]
    },
    {
      "cell_type": "code",
      "execution_count": null,
      "metadata": {
        "colab": {
          "base_uri": "https://localhost:8080/"
        },
        "id": "dFVvov49vlQO",
        "outputId": "455e7d84-d1d7-477e-ff2b-1c2279c532b0"
      },
      "outputs": [
        {
          "name": "stdout",
          "output_type": "stream",
          "text": [
            "Enter your pin: 123\n",
            "Enter Balance: 10000\n",
            "Pin Created Successfully!\n"
          ]
        }
      ],
      "source": [
        "obj.create_pin()\n",
        "obj.__balance = \"pagla hai kia\""
      ]
    },
    {
      "cell_type": "code",
      "execution_count": null,
      "metadata": {
        "colab": {
          "base_uri": "https://localhost:8080/"
        },
        "id": "r4-Um6t8wHTe",
        "outputId": "0fb532d6-20b7-4cb0-8f03-5e5f56f80ef1"
      },
      "outputs": [
        {
          "name": "stdout",
          "output_type": "stream",
          "text": [
            "Enter your pin: 123\n",
            "Enter the amount: 2000\n",
            "withdraw successfull and the current balance is 8000\n"
          ]
        }
      ],
      "source": [
        "obj.withdraw()"
      ]
    },
    {
      "cell_type": "code",
      "execution_count": null,
      "metadata": {
        "colab": {
          "base_uri": "https://localhost:8080/",
          "height": 35
        },
        "id": "QFpZBhokwTRN",
        "outputId": "75027548-2041-49d6-d15c-261b76876e7e"
      },
      "outputs": [
        {
          "data": {
            "application/vnd.google.colaboratory.intrinsic+json": {
              "type": "string"
            },
            "text/plain": [
              "'pagla hai kia'"
            ]
          },
          "execution_count": 39,
          "metadata": {},
          "output_type": "execute_result"
        }
      ],
      "source": [
        "obj.__balance"
      ]
    },
    {
      "cell_type": "code",
      "execution_count": null,
      "metadata": {
        "colab": {
          "base_uri": "https://localhost:8080/"
        },
        "id": "Kct69wNqxUpP",
        "outputId": "539465b9-ab52-48e9-cd10-73c86c5e46b9"
      },
      "outputs": [
        {
          "data": {
            "text/plain": [
              "8000"
            ]
          },
          "execution_count": 40,
          "metadata": {},
          "output_type": "execute_result"
        }
      ],
      "source": [
        "obj._Atm__balance"
      ]
    },
    {
      "cell_type": "code",
      "execution_count": null,
      "metadata": {
        "colab": {
          "base_uri": "https://localhost:8080/"
        },
        "id": "k6x7NDdQxb-B",
        "outputId": "676b8063-f167-4ecd-ffe7-4c28c582c111"
      },
      "outputs": [
        {
          "name": "stdout",
          "output_type": "stream",
          "text": [
            "Enter your pin: 123\n",
            "Enter Balance: 10000\n",
            "Pin Created Successfully!\n"
          ]
        }
      ],
      "source": [
        "obj = Atm()\n",
        "obj.create_pin()\n",
        "obj._Atm__balance = \"pagla hai kia\""
      ]
    },
    {
      "cell_type": "code",
      "execution_count": null,
      "metadata": {
        "colab": {
          "base_uri": "https://localhost:8080/",
          "height": 297
        },
        "id": "yHvTvFOeyYjQ",
        "outputId": "e9c82128-8ad3-495a-face-7b510b0baa82"
      },
      "outputs": [
        {
          "name": "stdout",
          "output_type": "stream",
          "text": [
            "Enter your pin: 123\n",
            "Enter the amount: 2000\n"
          ]
        },
        {
          "ename": "TypeError",
          "evalue": "'<=' not supported between instances of 'int' and 'str'",
          "output_type": "error",
          "traceback": [
            "\u001b[0;31m---------------------------------------------------------------------------\u001b[0m",
            "\u001b[0;31mTypeError\u001b[0m                                 Traceback (most recent call last)",
            "\u001b[0;32m<ipython-input-43-826ea677aa70>\u001b[0m in \u001b[0;36m<cell line: 1>\u001b[0;34m()\u001b[0m\n\u001b[0;32m----> 1\u001b[0;31m \u001b[0mobj\u001b[0m\u001b[0;34m.\u001b[0m\u001b[0mwithdraw\u001b[0m\u001b[0;34m(\u001b[0m\u001b[0;34m)\u001b[0m\u001b[0;34m\u001b[0m\u001b[0;34m\u001b[0m\u001b[0m\n\u001b[0m",
            "\u001b[0;32m<ipython-input-35-61ad775476c4>\u001b[0m in \u001b[0;36mwithdraw\u001b[0;34m(self)\u001b[0m\n\u001b[1;32m     84\u001b[0m       \u001b[0;31m# Allow to withdraw\u001b[0m\u001b[0;34m\u001b[0m\u001b[0;34m\u001b[0m\u001b[0m\n\u001b[1;32m     85\u001b[0m       \u001b[0mamount\u001b[0m \u001b[0;34m=\u001b[0m \u001b[0mint\u001b[0m\u001b[0;34m(\u001b[0m\u001b[0minput\u001b[0m\u001b[0;34m(\u001b[0m\u001b[0;34m\"Enter the amount: \"\u001b[0m\u001b[0;34m)\u001b[0m\u001b[0;34m)\u001b[0m\u001b[0;34m\u001b[0m\u001b[0;34m\u001b[0m\u001b[0m\n\u001b[0;32m---> 86\u001b[0;31m       \u001b[0;32mif\u001b[0m \u001b[0mamount\u001b[0m \u001b[0;34m<=\u001b[0m \u001b[0mself\u001b[0m\u001b[0;34m.\u001b[0m\u001b[0m__balance\u001b[0m\u001b[0;34m:\u001b[0m\u001b[0;34m\u001b[0m\u001b[0;34m\u001b[0m\u001b[0m\n\u001b[0m\u001b[1;32m     87\u001b[0m         \u001b[0mself\u001b[0m\u001b[0;34m.\u001b[0m\u001b[0m__balance\u001b[0m \u001b[0;34m=\u001b[0m \u001b[0mself\u001b[0m\u001b[0;34m.\u001b[0m\u001b[0m__balance\u001b[0m \u001b[0;34m-\u001b[0m \u001b[0mamount\u001b[0m\u001b[0;34m\u001b[0m\u001b[0;34m\u001b[0m\u001b[0m\n\u001b[1;32m     88\u001b[0m         \u001b[0mprint\u001b[0m\u001b[0;34m(\u001b[0m\u001b[0;34mf\"withdraw successfull and the current balance is {self.__balance}\"\u001b[0m\u001b[0;34m)\u001b[0m\u001b[0;34m\u001b[0m\u001b[0;34m\u001b[0m\u001b[0m\n",
            "\u001b[0;31mTypeError\u001b[0m: '<=' not supported between instances of 'int' and 'str'"
          ]
        }
      ],
      "source": [
        "obj.withdraw()"
      ]
    },
    {
      "cell_type": "code",
      "execution_count": null,
      "metadata": {
        "id": "5c6thgkWyhDl"
      },
      "outputs": [],
      "source": [
        "## In Python nothing is too private\n",
        "# it is made for adults"
      ]
    },
    {
      "cell_type": "code",
      "execution_count": null,
      "metadata": {
        "id": "eqT3yyHA25zR"
      },
      "outputs": [],
      "source": [
        "class Atm:\n",
        "\n",
        "  #constructor(special function) - superpower\n",
        "  def __init__(self):\n",
        "    self.pin = \"\"\n",
        "    self.__balance = 0 #private variable\n",
        "    # self.menu()\n",
        "\n",
        "\n",
        "  # getter method\n",
        "  def get_balance(self):\n",
        "    return self.__balance\n",
        "\n",
        "\n",
        "  #setter method\n",
        "  def set_balance(self, new_balance):\n",
        "    if type(new_balance) == int:\n",
        "      self.__balance = new_balance\n",
        "    else:\n",
        "      print(\"Beta bohat maarenge\")\n",
        "\n",
        "\n",
        "  def __menu(self):\n",
        "    user_input = input(\n",
        "        \"\"\"\n",
        "        Hi how can i help you?\n",
        "\n",
        "        1. Press 1 to create pin\n",
        "        2. Press 2 to change pin\n",
        "        3. Press 3 to check balence\n",
        "        4. Press 4 to withdraw\n",
        "        5. Anything to exit\n",
        "        \"\"\"\n",
        "    )\n",
        "\n",
        "    if user_input == '1':\n",
        "      #create a pin\n",
        "      self.create_pin()\n",
        "\n",
        "    elif user_input == '2':\n",
        "      #change pin\n",
        "      self.change_pin()\n",
        "\n",
        "    elif user_input == '3':\n",
        "      #check balnce\n",
        "      self.check_balance()\n",
        "\n",
        "    elif user_input == '4':\n",
        "      #withdraw\n",
        "      self.withdraw()\n",
        "\n",
        "    else:\n",
        "      exit()\n",
        "\n",
        "\n",
        "  def create_pin(self):\n",
        "    user_pin = input(\"Enter your pin: \")\n",
        "    self.pin = user_pin\n",
        "\n",
        "    user_balance = int(input(\"Enter Balance: \"))\n",
        "    self.__balance = user_balance\n",
        "\n",
        "    print(\"Pin Created Successfully!\")\n",
        "    # self.menu()\n",
        "\n",
        "\n",
        "  def change_pin(self):\n",
        "    old_pin = input(\"Enter old pin: \")\n",
        "\n",
        "    if old_pin == self.pin:\n",
        "      #Let change the pin\n",
        "      new_pin = input(\"Enter new pin: \")\n",
        "      self.pin = new_pin\n",
        "      print(\"Pin changed Successfully!\")\n",
        "      # self.menu()\n",
        "\n",
        "    else:\n",
        "      print(\"Sorry you entered wrong pin.\")\n",
        "      # self.menu()\n",
        "\n",
        "\n",
        "\n",
        "\n",
        "  def check_balance(self):\n",
        "    user_pin = input(\"Enter your pin: \")\n",
        "    if user_pin == self.pin:\n",
        "      print(f\"Your balance is {self.__balance}\")\n",
        "    else:\n",
        "      print(\"Your pin is correct, please try again\")\n",
        "    # self.menu()\n",
        "\n",
        "\n",
        "\n",
        "  def withdraw(self):\n",
        "    user_pin = input(\"Enter your pin: \")\n",
        "    if user_pin == self.pin:\n",
        "      # Allow to withdraw\n",
        "      amount = int(input(\"Enter the amount: \"))\n",
        "      if amount <= self.__balance:\n",
        "        self.__balance = self.__balance - amount\n",
        "        print(f\"withdraw successfull and the current balance is {self.__balance}\")\n",
        "\n",
        "      else:\n",
        "        print(\"You have insufficient balance\")\n",
        "\n",
        "\n",
        "    else:\n",
        "      print(\"Your pin is wrong!\")\n",
        "    # self.menu()\n"
      ]
    },
    {
      "cell_type": "code",
      "execution_count": null,
      "metadata": {
        "id": "bfs-RhYN25w8"
      },
      "outputs": [],
      "source": [
        "obj = Atm()"
      ]
    },
    {
      "cell_type": "code",
      "execution_count": null,
      "metadata": {
        "colab": {
          "base_uri": "https://localhost:8080/"
        },
        "id": "XKaQtGur25uM",
        "outputId": "3c2d3f4d-b3a3-403e-e5dd-0dd1b01e0f4c"
      },
      "outputs": [
        {
          "data": {
            "text/plain": [
              "10000"
            ]
          },
          "execution_count": 61,
          "metadata": {},
          "output_type": "execute_result"
        }
      ],
      "source": [
        "obj.get_balance()"
      ]
    },
    {
      "cell_type": "code",
      "execution_count": null,
      "metadata": {
        "colab": {
          "base_uri": "https://localhost:8080/"
        },
        "id": "rqSKAWAO4Jlr",
        "outputId": "c421cd6d-d0e5-4e06-9342-f0dd93caa926"
      },
      "outputs": [
        {
          "name": "stdout",
          "output_type": "stream",
          "text": [
            "Beta bohat maarenge\n"
          ]
        }
      ],
      "source": [
        "obj.set_balance(\"pagla hai kia\")"
      ]
    },
    {
      "cell_type": "code",
      "execution_count": null,
      "metadata": {
        "colab": {
          "base_uri": "https://localhost:8080/",
          "height": 35
        },
        "id": "GDOk4UFd4OYl",
        "outputId": "80b7c055-e680-4583-fbcb-f6909d4e1f9c"
      },
      "outputs": [
        {
          "data": {
            "application/vnd.google.colaboratory.intrinsic+json": {
              "type": "string"
            },
            "text/plain": [
              "'Pagla hai kia'"
            ]
          },
          "execution_count": 52,
          "metadata": {},
          "output_type": "execute_result"
        }
      ],
      "source": [
        "obj.get_balance()"
      ]
    },
    {
      "cell_type": "code",
      "execution_count": null,
      "metadata": {
        "colab": {
          "base_uri": "https://localhost:8080/"
        },
        "id": "KxvkcuMv4i_X",
        "outputId": "c6f25d84-b67e-4202-f2f1-d9f487efe98f"
      },
      "outputs": [
        {
          "name": "stdout",
          "output_type": "stream",
          "text": [
            "Enter your pin: 123\n",
            "Enter Balance: 10000\n",
            "Pin Created Successfully!\n"
          ]
        }
      ],
      "source": [
        "obj.create_pin()\n",
        "obj.set_balance(\"Pagla hai kia\")"
      ]
    },
    {
      "cell_type": "code",
      "execution_count": null,
      "metadata": {
        "colab": {
          "base_uri": "https://localhost:8080/",
          "height": 297
        },
        "id": "rwidpThM4Pae",
        "outputId": "04b0da00-0df5-4a72-a247-3194b459eeb1"
      },
      "outputs": [
        {
          "name": "stdout",
          "output_type": "stream",
          "text": [
            "Enter your pin: 123\n",
            "Enter the amount: 2000\n"
          ]
        },
        {
          "ename": "TypeError",
          "evalue": "'<=' not supported between instances of 'int' and 'str'",
          "output_type": "error",
          "traceback": [
            "\u001b[0;31m---------------------------------------------------------------------------\u001b[0m",
            "\u001b[0;31mTypeError\u001b[0m                                 Traceback (most recent call last)",
            "\u001b[0;32m<ipython-input-55-826ea677aa70>\u001b[0m in \u001b[0;36m<cell line: 1>\u001b[0;34m()\u001b[0m\n\u001b[0;32m----> 1\u001b[0;31m \u001b[0mobj\u001b[0m\u001b[0;34m.\u001b[0m\u001b[0mwithdraw\u001b[0m\u001b[0;34m(\u001b[0m\u001b[0;34m)\u001b[0m\u001b[0;34m\u001b[0m\u001b[0;34m\u001b[0m\u001b[0m\n\u001b[0m",
            "\u001b[0;32m<ipython-input-44-e4436fe927ff>\u001b[0m in \u001b[0;36mwithdraw\u001b[0;34m(self)\u001b[0m\n\u001b[1;32m     94\u001b[0m       \u001b[0;31m# Allow to withdraw\u001b[0m\u001b[0;34m\u001b[0m\u001b[0;34m\u001b[0m\u001b[0m\n\u001b[1;32m     95\u001b[0m       \u001b[0mamount\u001b[0m \u001b[0;34m=\u001b[0m \u001b[0mint\u001b[0m\u001b[0;34m(\u001b[0m\u001b[0minput\u001b[0m\u001b[0;34m(\u001b[0m\u001b[0;34m\"Enter the amount: \"\u001b[0m\u001b[0;34m)\u001b[0m\u001b[0;34m)\u001b[0m\u001b[0;34m\u001b[0m\u001b[0;34m\u001b[0m\u001b[0m\n\u001b[0;32m---> 96\u001b[0;31m       \u001b[0;32mif\u001b[0m \u001b[0mamount\u001b[0m \u001b[0;34m<=\u001b[0m \u001b[0mself\u001b[0m\u001b[0;34m.\u001b[0m\u001b[0m__balance\u001b[0m\u001b[0;34m:\u001b[0m\u001b[0;34m\u001b[0m\u001b[0;34m\u001b[0m\u001b[0m\n\u001b[0m\u001b[1;32m     97\u001b[0m         \u001b[0mself\u001b[0m\u001b[0;34m.\u001b[0m\u001b[0m__balance\u001b[0m \u001b[0;34m=\u001b[0m \u001b[0mself\u001b[0m\u001b[0;34m.\u001b[0m\u001b[0m__balance\u001b[0m \u001b[0;34m-\u001b[0m \u001b[0mamount\u001b[0m\u001b[0;34m\u001b[0m\u001b[0;34m\u001b[0m\u001b[0m\n\u001b[1;32m     98\u001b[0m         \u001b[0mprint\u001b[0m\u001b[0;34m(\u001b[0m\u001b[0;34mf\"withdraw successfull and the current balance is {self.__balance}\"\u001b[0m\u001b[0;34m)\u001b[0m\u001b[0;34m\u001b[0m\u001b[0;34m\u001b[0m\u001b[0m\n",
            "\u001b[0;31mTypeError\u001b[0m: '<=' not supported between instances of 'int' and 'str'"
          ]
        }
      ],
      "source": [
        "obj.withdraw()"
      ]
    },
    {
      "cell_type": "code",
      "execution_count": null,
      "metadata": {
        "id": "62o7A2ss6mh9"
      },
      "outputs": [],
      "source": [
        "# __private\n",
        "# _protected\n",
        "# public"
      ]
    },
    {
      "cell_type": "code",
      "execution_count": null,
      "metadata": {
        "id": "thzyatD44dlV"
      },
      "outputs": [],
      "source": [
        "# protected\n",
        "class Person:\n",
        "\n",
        "  def __init__(self):\n",
        "    self._name = \"Bappy\"\n",
        "    self.country = \"UK\"\n",
        "\n",
        "\n",
        "class Person1:\n",
        "  pass"
      ]
    },
    {
      "cell_type": "markdown",
      "metadata": {
        "id": "ey-jLeM37Mnj"
      },
      "source": [
        "## static keyword"
      ]
    },
    {
      "cell_type": "code",
      "execution_count": null,
      "metadata": {
        "id": "s81oDE7G7B0O"
      },
      "outputs": [],
      "source": [
        "class Atm:\n",
        "\n",
        "  counter = 0\n",
        "\n",
        "  #constructor(special function) - superpower\n",
        "  def __init__(self):\n",
        "    self.pin = \"\"\n",
        "    self.__balance = 0 #private variable\n",
        "    self.count = Atm.counter\n",
        "    # self.menu()\n",
        "\n",
        "\n",
        "  # getter method\n",
        "  def get_balance(self):\n",
        "    return self.__balance\n",
        "\n",
        "\n",
        "  #setter method\n",
        "  def set_balance(self, new_balance):\n",
        "    if type(new_balance) == int:\n",
        "      self.__balance = new_balance\n",
        "    else:\n",
        "      print(\"Beta bohat maarenge\")\n",
        "\n",
        "  @staticmethod\n",
        "  def print_me():\n",
        "    print(\"Hello guys!\")\n",
        "\n",
        "\n",
        "  def __menu(self):\n",
        "    user_input = input(\n",
        "        \"\"\"\n",
        "        Hi how can i help you?\n",
        "\n",
        "        1. Press 1 to create pin\n",
        "        2. Press 2 to change pin\n",
        "        3. Press 3 to check balence\n",
        "        4. Press 4 to withdraw\n",
        "        5. Anything to exit\n",
        "        \"\"\"\n",
        "    )\n",
        "\n",
        "    if user_input == '1':\n",
        "      #create a pin\n",
        "      self.create_pin()\n",
        "\n",
        "    elif user_input == '2':\n",
        "      #change pin\n",
        "      self.change_pin()\n",
        "\n",
        "    elif user_input == '3':\n",
        "      #check balnce\n",
        "      self.check_balance()\n",
        "\n",
        "    elif user_input == '4':\n",
        "      #withdraw\n",
        "      self.withdraw()\n",
        "\n",
        "    else:\n",
        "      exit()\n",
        "\n",
        "\n",
        "  def create_pin(self):\n",
        "    user_pin = input(\"Enter your pin: \")\n",
        "    self.pin = user_pin\n",
        "\n",
        "    user_balance = int(input(\"Enter Balance: \"))\n",
        "    self.__balance = user_balance\n",
        "\n",
        "    print(\"Pin Created Successfully!\")\n",
        "    # self.menu()\n",
        "\n",
        "\n",
        "  def change_pin(self):\n",
        "    old_pin = input(\"Enter old pin: \")\n",
        "\n",
        "    if old_pin == self.pin:\n",
        "      #Let change the pin\n",
        "      new_pin = input(\"Enter new pin: \")\n",
        "      self.pin = new_pin\n",
        "      print(\"Pin changed Successfully!\")\n",
        "      # self.menu()\n",
        "\n",
        "    else:\n",
        "      print(\"Sorry you entered wrong pin.\")\n",
        "      # self.menu()\n",
        "\n",
        "\n",
        "\n",
        "\n",
        "  def check_balance(self):\n",
        "    user_pin = input(\"Enter your pin: \")\n",
        "    if user_pin == self.pin:\n",
        "      print(f\"Your balance is {self.__balance}\")\n",
        "    else:\n",
        "      print(\"Your pin is correct, please try again\")\n",
        "    # self.menu()\n",
        "\n",
        "\n",
        "\n",
        "  def withdraw(self):\n",
        "    user_pin = input(\"Enter your pin: \")\n",
        "    if user_pin == self.pin:\n",
        "      # Allow to withdraw\n",
        "      amount = int(input(\"Enter the amount: \"))\n",
        "      if amount <= self.__balance:\n",
        "        self.__balance = self.__balance - amount\n",
        "        print(f\"withdraw successfull and the current balance is {self.__balance}\")\n",
        "\n",
        "      else:\n",
        "        print(\"You have insufficient balance\")\n",
        "\n",
        "\n",
        "    else:\n",
        "      print(\"Your pin is wrong!\")\n",
        "    # self.menu()\n"
      ]
    },
    {
      "cell_type": "code",
      "execution_count": null,
      "metadata": {
        "colab": {
          "background_save": true
        },
        "id": "OcbZkwO27v0u"
      },
      "outputs": [],
      "source": [
        "obj = Atm()"
      ]
    },
    {
      "cell_type": "code",
      "execution_count": null,
      "metadata": {
        "id": "WQVBILwo_Kgy"
      },
      "outputs": [],
      "source": [
        "obj.count"
      ]
    },
    {
      "cell_type": "code",
      "execution_count": null,
      "metadata": {
        "colab": {
          "base_uri": "https://localhost:8080/"
        },
        "id": "XvbXKAqD7Bxe",
        "outputId": "19743dda-97f9-44d7-b805-ee04b3825568"
      },
      "outputs": [
        {
          "name": "stdout",
          "output_type": "stream",
          "text": [
            "Hello guys!\n"
          ]
        }
      ],
      "source": [
        "obj.print_me()"
      ]
    },
    {
      "cell_type": "code",
      "execution_count": null,
      "metadata": {
        "id": "YZ7mJZQl7Bcz"
      },
      "outputs": [],
      "source": []
    },
    {
      "cell_type": "code",
      "execution_count": null,
      "metadata": {
        "id": "j_FQkSXF7BZ7"
      },
      "outputs": [],
      "source": []
    }
  ],
  "metadata": {
    "colab": {
      "provenance": []
    },
    "kernelspec": {
      "display_name": "Python 3",
      "name": "python3"
    },
    "language_info": {
      "name": "python"
    }
  },
  "nbformat": 4,
  "nbformat_minor": 0
}