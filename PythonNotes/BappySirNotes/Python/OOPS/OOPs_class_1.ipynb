{
  "nbformat": 4,
  "nbformat_minor": 0,
  "metadata": {
    "colab": {
      "provenance": []
    },
    "kernelspec": {
      "name": "python3",
      "display_name": "Python 3"
    },
    "language_info": {
      "name": "python"
    }
  },
  "cells": [
    {
      "cell_type": "code",
      "execution_count": null,
      "metadata": {
        "id": "eD-_AjINRd0e",
        "colab": {
          "base_uri": "https://localhost:8080/"
        },
        "outputId": "158bf59c-eff9-46d3-8d4e-57d98d301fcc"
      },
      "outputs": [
        {
          "output_type": "stream",
          "name": "stdout",
          "text": [
            "Ok\n"
          ]
        }
      ],
      "source": [
        "print(\"Ok\")"
      ]
    },
    {
      "cell_type": "code",
      "source": [
        "print(\"Bappy\")"
      ],
      "metadata": {
        "colab": {
          "base_uri": "https://localhost:8080/"
        },
        "id": "7DtA6ikUR05w",
        "outputId": "5ae32b39-d3e3-41df-c892-ca36dd572279"
      },
      "execution_count": null,
      "outputs": [
        {
          "output_type": "stream",
          "name": "stdout",
          "text": [
            "Bappy\n"
          ]
        }
      ]
    },
    {
      "cell_type": "code",
      "source": [
        "L = [1,2,3]\n",
        "\n",
        "L.upper()"
      ],
      "metadata": {
        "colab": {
          "base_uri": "https://localhost:8080/",
          "height": 176
        },
        "id": "HC6uQjCySMid",
        "outputId": "de4e5c8f-6fc9-4f91-f4cf-e7f058ae10cd"
      },
      "execution_count": null,
      "outputs": [
        {
          "output_type": "error",
          "ename": "AttributeError",
          "evalue": "'list' object has no attribute 'upper'",
          "traceback": [
            "\u001b[0;31m---------------------------------------------------------------------------\u001b[0m",
            "\u001b[0;31mAttributeError\u001b[0m                            Traceback (most recent call last)",
            "\u001b[0;32m<ipython-input-3-af1f83522ab7>\u001b[0m in \u001b[0;36m<cell line: 3>\u001b[0;34m()\u001b[0m\n\u001b[1;32m      1\u001b[0m \u001b[0mL\u001b[0m \u001b[0;34m=\u001b[0m \u001b[0;34m[\u001b[0m\u001b[0;36m1\u001b[0m\u001b[0;34m,\u001b[0m\u001b[0;36m2\u001b[0m\u001b[0;34m,\u001b[0m\u001b[0;36m3\u001b[0m\u001b[0;34m]\u001b[0m\u001b[0;34m\u001b[0m\u001b[0;34m\u001b[0m\u001b[0m\n\u001b[1;32m      2\u001b[0m \u001b[0;34m\u001b[0m\u001b[0m\n\u001b[0;32m----> 3\u001b[0;31m \u001b[0mL\u001b[0m\u001b[0;34m.\u001b[0m\u001b[0mupper\u001b[0m\u001b[0;34m(\u001b[0m\u001b[0;34m)\u001b[0m\u001b[0;34m\u001b[0m\u001b[0;34m\u001b[0m\u001b[0m\n\u001b[0m",
            "\u001b[0;31mAttributeError\u001b[0m: 'list' object has no attribute 'upper'"
          ]
        }
      ]
    },
    {
      "cell_type": "code",
      "source": [
        "S = \"Bappy\"\n",
        "\n",
        "S.append()"
      ],
      "metadata": {
        "colab": {
          "base_uri": "https://localhost:8080/",
          "height": 176
        },
        "id": "VDi__kRzTPD-",
        "outputId": "0572826f-b61b-4b93-afb4-23b09e60d762"
      },
      "execution_count": null,
      "outputs": [
        {
          "output_type": "error",
          "ename": "AttributeError",
          "evalue": "'str' object has no attribute 'append'",
          "traceback": [
            "\u001b[0;31m---------------------------------------------------------------------------\u001b[0m",
            "\u001b[0;31mAttributeError\u001b[0m                            Traceback (most recent call last)",
            "\u001b[0;32m<ipython-input-4-46a829ed2e16>\u001b[0m in \u001b[0;36m<cell line: 3>\u001b[0;34m()\u001b[0m\n\u001b[1;32m      1\u001b[0m \u001b[0mS\u001b[0m \u001b[0;34m=\u001b[0m \u001b[0;34m\"Bappy\"\u001b[0m\u001b[0;34m\u001b[0m\u001b[0;34m\u001b[0m\u001b[0m\n\u001b[1;32m      2\u001b[0m \u001b[0;34m\u001b[0m\u001b[0m\n\u001b[0;32m----> 3\u001b[0;31m \u001b[0mS\u001b[0m\u001b[0;34m.\u001b[0m\u001b[0mappend\u001b[0m\u001b[0;34m(\u001b[0m\u001b[0;34m)\u001b[0m\u001b[0;34m\u001b[0m\u001b[0;34m\u001b[0m\u001b[0m\n\u001b[0m",
            "\u001b[0;31mAttributeError\u001b[0m: 'str' object has no attribute 'append'"
          ]
        }
      ]
    },
    {
      "cell_type": "code",
      "source": [
        "L = [1,2,3]\n",
        "\n",
        "print(type(L))"
      ],
      "metadata": {
        "colab": {
          "base_uri": "https://localhost:8080/"
        },
        "id": "tm4_6XR-TX_O",
        "outputId": "0253a4f7-b7fe-4102-a7c9-a1d5cbf64a3c"
      },
      "execution_count": null,
      "outputs": [
        {
          "output_type": "stream",
          "name": "stdout",
          "text": [
            "<class 'list'>\n"
          ]
        }
      ]
    },
    {
      "cell_type": "code",
      "source": [
        "L = list()"
      ],
      "metadata": {
        "id": "nTORg7l1TyH9"
      },
      "execution_count": null,
      "outputs": []
    },
    {
      "cell_type": "code",
      "source": [
        "# objectname = classname()"
      ],
      "metadata": {
        "id": "Vx7NNCg_Uzbt"
      },
      "execution_count": null,
      "outputs": []
    },
    {
      "cell_type": "code",
      "source": [
        "S = str()\n",
        "S."
      ],
      "metadata": {
        "id": "nIcZZmE5VCFN"
      },
      "execution_count": null,
      "outputs": []
    },
    {
      "cell_type": "markdown",
      "source": [
        "## ATM Machine"
      ],
      "metadata": {
        "id": "boqYt4sQXScB"
      }
    },
    {
      "cell_type": "code",
      "source": [
        "# Pascel case\n",
        "\n",
        "# HelloWorld"
      ],
      "metadata": {
        "id": "yB4bb-d3XiGG"
      },
      "execution_count": null,
      "outputs": []
    },
    {
      "cell_type": "code",
      "source": [
        "class AtmICICI:\n",
        "\n",
        "  #constructor(special function) - superpower\n",
        "  def __init__(self):\n",
        "    self.pin = \"\"\n",
        "    self.balance = 0\n",
        "    self.menu()\n",
        "\n",
        "\n",
        "  def menu(self):\n",
        "    user_input = input(\n",
        "        \"\"\"\n",
        "        Hi how can i help you?\n",
        "\n",
        "        1. Press 1 to create pin\n",
        "        2. Press 2 to change pin\n",
        "        3. Press 3 to check balence\n",
        "        4. Press 4 to withdraw\n",
        "        5. Anything to exit\n",
        "        \"\"\"\n",
        "    )\n",
        "\n",
        "    if user_input == '1':\n",
        "      #create a pin\n",
        "      self.create_pin()\n",
        "\n",
        "    elif user_input == '2':\n",
        "      #change pin\n",
        "      self.change_pin()\n",
        "\n",
        "    elif user_input == '3':\n",
        "      #check balnce\n",
        "      self.check_balance()\n",
        "\n",
        "    elif user_input == '4':\n",
        "      #withdraw\n",
        "      self.withdraw()\n",
        "\n",
        "    else:\n",
        "      exit()\n",
        "\n",
        "\n",
        "  def create_pin(self):\n",
        "    user_pin = input(\"Enter your pin: \")\n",
        "    self.pin = user_pin\n",
        "\n",
        "    user_balance = int(input(\"Enter Balance: \"))\n",
        "    self.balance = user_balance\n",
        "\n",
        "    print(\"Pin Created Successfully!\")\n",
        "    self.menu()\n",
        "\n",
        "\n",
        "  def change_pin(self):\n",
        "    old_pin = input(\"Enter old pin: \")\n",
        "\n",
        "    if old_pin == self.pin:\n",
        "      #Let change the pin\n",
        "      new_pin = input(\"Enter new pin: \")\n",
        "      self.pin = new_pin\n",
        "      print(\"Pin changed Successfully!\")\n",
        "      self.menu()\n",
        "\n",
        "    else:\n",
        "      print(\"Sorry you entered wrong pin.\")\n",
        "      self.menu()\n",
        "\n",
        "\n",
        "\n",
        "\n",
        "  def check_balance(self):\n",
        "    user_pin = input(\"Enter your pin: \")\n",
        "    if user_pin == self.pin:\n",
        "      print(f\"Your balance is {self.balance}\")\n",
        "    else:\n",
        "      print(\"Your pin is correct, please try again\")\n",
        "    self.menu()\n",
        "\n",
        "\n",
        "\n",
        "  def withdraw(self):\n",
        "    user_pin = input(\"Enter your pin: \")\n",
        "    if user_pin == self.pin:\n",
        "      # Allow to withdraw\n",
        "      amount = int(input(\"Enter the amount: \"))\n",
        "      if amount <= self.balance:\n",
        "        self.balance = self.balance - amount\n",
        "        print(f\"withdraw successfull and the current balance is {self.balance}\")\n",
        "\n",
        "      else:\n",
        "        print(\"You have insufficient balance\")\n",
        "\n",
        "\n",
        "    else:\n",
        "      print(\"Your pin is wrong!\")\n",
        "    self.menu()\n",
        "\n",
        "\n",
        "\n",
        "\n",
        "\n",
        "\n",
        "\n",
        "class AtmSBI:\n",
        "\n",
        "  #constructor(special function) - superpower\n",
        "  def __init__(self):\n",
        "    self.pin = \"\"\n",
        "    self.balance = 0\n",
        "    self.menu()\n",
        "\n",
        "\n",
        "  def menu(self):\n",
        "    user_input = input(\n",
        "        \"\"\"\n",
        "        Hi how can i help you?\n",
        "\n",
        "        1. Press 1 to create pin\n",
        "        2. Press 2 to change pin\n",
        "        3. Press 3 to check balence\n",
        "        4. Press 4 to withdraw\n",
        "        5. Anything to exit\n",
        "        \"\"\"\n",
        "    )\n",
        "\n",
        "    if user_input == '1':\n",
        "      #create a pin\n",
        "      self.create_pin()\n",
        "\n",
        "    elif user_input == '2':\n",
        "      #change pin\n",
        "      self.change_pin()\n",
        "\n",
        "    elif user_input == '3':\n",
        "      #check balnce\n",
        "      self.check_balance()\n",
        "\n",
        "    elif user_input == '4':\n",
        "      #withdraw\n",
        "      self.withdraw()\n",
        "\n",
        "    else:\n",
        "      exit()\n",
        "\n",
        "\n",
        "  def create_pin(self):\n",
        "    user_pin = input(\"Enter your pin: \")\n",
        "    self.pin = user_pin\n",
        "\n",
        "    user_balance = int(input(\"Enter Balance: \"))\n",
        "    self.balance = user_balance\n",
        "\n",
        "    print(\"Pin Created Successfully!\")\n",
        "    self.menu()\n",
        "\n",
        "\n",
        "  def change_pin(self):\n",
        "    old_pin = input(\"Enter old pin: \")\n",
        "\n",
        "    if old_pin == self.pin:\n",
        "      #Let change the pin\n",
        "      new_pin = input(\"Enter new pin: \")\n",
        "      self.pin = new_pin\n",
        "      print(\"Pin changed Successfully!\")\n",
        "      self.menu()\n",
        "\n",
        "    else:\n",
        "      print(\"Sorry you entered wrong pin.\")\n",
        "      self.menu()\n",
        "\n",
        "\n",
        "\n",
        "\n",
        "  def check_balance(self):\n",
        "    user_pin = input(\"Enter your pin: \")\n",
        "    if user_pin == self.pin:\n",
        "      print(f\"Your balance is {self.balance}\")\n",
        "    else:\n",
        "      print(\"Your pin is correct, please try again\")\n",
        "    self.menu()\n",
        "\n",
        "\n",
        "\n",
        "  def withdraw(self):\n",
        "    user_pin = input(\"Enter your pin: \")\n",
        "    if user_pin == self.pin:\n",
        "      # Allow to withdraw\n",
        "      amount = int(input(\"Enter the amount: \"))\n",
        "      if amount <= self.balance:\n",
        "        self.balance = self.balance - amount\n",
        "        print(f\"withdraw successfull and the current balance is {self.balance}\")\n",
        "\n",
        "      else:\n",
        "        print(\"You have insufficient balance\")\n",
        "\n",
        "\n",
        "    else:\n",
        "      print(\"Your pin is wrong!\")\n",
        "    self.menu()\n",
        "\n",
        "\n",
        "\n"
      ],
      "metadata": {
        "id": "On3w_DnyXRYn"
      },
      "execution_count": null,
      "outputs": []
    },
    {
      "cell_type": "code",
      "source": [
        "obj = AtmICICI()"
      ],
      "metadata": {
        "colab": {
          "base_uri": "https://localhost:8080/"
        },
        "id": "A-cCq-aIXRWX",
        "outputId": "4df76e65-d927-471b-9a50-c65272a0dd5b"
      },
      "execution_count": null,
      "outputs": [
        {
          "name": "stdout",
          "output_type": "stream",
          "text": [
            "\n",
            "        Hi how can i help you?\n",
            "\n",
            "        1. Press 1 to create pin\n",
            "        2. Press 2 to change pin\n",
            "        3. Press 3 to check balence\n",
            "        4. Press 4 to withdraw\n",
            "        5. Anything to exit\n",
            "        9\n"
          ]
        }
      ]
    },
    {
      "cell_type": "code",
      "source": [
        "obj2 = AtmSBI()"
      ],
      "metadata": {
        "colab": {
          "base_uri": "https://localhost:8080/"
        },
        "id": "75qbUQFMYoDm",
        "outputId": "44c40829-01fd-4baf-e977-f328c301820c"
      },
      "execution_count": null,
      "outputs": [
        {
          "name": "stdout",
          "output_type": "stream",
          "text": [
            "\n",
            "        Hi how can i help you?\n",
            "\n",
            "        1. Press 1 to create pin\n",
            "        2. Press 2 to change pin\n",
            "        3. Press 3 to check balence\n",
            "        4. Press 4 to withdraw\n",
            "        5. Anything to exit\n",
            "        9\n"
          ]
        }
      ]
    },
    {
      "cell_type": "code",
      "source": [
        "L = [1,2,3]\n",
        "\n",
        "len(L) - > Function - it is outside of class\n",
        "\n",
        "L.append() -> Method - it is inside if a class"
      ],
      "metadata": {
        "id": "NxYLZ-f2ldNE"
      },
      "execution_count": null,
      "outputs": []
    },
    {
      "cell_type": "code",
      "source": [],
      "metadata": {
        "id": "iibZNO_fpSNZ"
      },
      "execution_count": null,
      "outputs": []
    },
    {
      "cell_type": "code",
      "source": [
        "class Temp:\n",
        "  def __init__(self):\n",
        "    print(\"hello\")\n",
        "\n",
        "  def __str__(self):\n",
        "    print(\"My name is Bappy\")"
      ],
      "metadata": {
        "id": "zN7GPLDTpSLL"
      },
      "execution_count": null,
      "outputs": []
    },
    {
      "cell_type": "code",
      "source": [
        "obj = Temp()\n",
        "obj.__str__()"
      ],
      "metadata": {
        "colab": {
          "base_uri": "https://localhost:8080/"
        },
        "id": "_X-RtUQCpSIz",
        "outputId": "a2d229ba-baf8-433e-c2bd-86b8bab50ba4"
      },
      "execution_count": null,
      "outputs": [
        {
          "output_type": "stream",
          "name": "stdout",
          "text": [
            "My name is Bappy\n"
          ]
        }
      ]
    },
    {
      "cell_type": "code",
      "source": [],
      "metadata": {
        "id": "Z5InbQiWpZsc"
      },
      "execution_count": null,
      "outputs": []
    }
  ]
}