{
  "nbformat": 4,
  "nbformat_minor": 0,
  "metadata": {
    "colab": {
      "provenance": []
    },
    "kernelspec": {
      "name": "python3",
      "display_name": "Python 3"
    },
    "language_info": {
      "name": "python"
    }
  },
  "cells": [
    {
      "cell_type": "markdown",
      "source": [
        "## Aggregation ( Has a relationship )\n",
        "\n",
        "one class owns other class"
      ],
      "metadata": {
        "id": "ePRMOT0dF3ZP"
      }
    },
    {
      "cell_type": "code",
      "execution_count": null,
      "metadata": {
        "colab": {
          "base_uri": "https://localhost:8080/"
        },
        "id": "QhqmkKc4Fpz1",
        "outputId": "5386c109-fdae-4753-c837-1bdb313ae765"
      },
      "outputs": [
        {
          "output_type": "stream",
          "name": "stdout",
          "text": [
            "Karnataka 454545 bengaluru\n"
          ]
        }
      ],
      "source": [
        "class Customer:\n",
        "  def __init__(self, name, gender, address):\n",
        "    self.name = name\n",
        "    self.gender = gender\n",
        "    self.address = address\n",
        "\n",
        "\n",
        "  def print_address(self):\n",
        "    print(self.address.city, self.address.pin, self.address.state)\n",
        "\n",
        "\n",
        "class Address:\n",
        "  def __init__(self, city, pin, state):\n",
        "    self.city = city\n",
        "    self.pin = pin\n",
        "    self.state = state\n",
        "\n",
        "\n",
        "adds = Address(\"Karnataka\", 454545, \"bengaluru\")\n",
        "cus = Customer(\"Bappy\", \"Male\", adds)\n",
        "cus.print_address()"
      ]
    },
    {
      "cell_type": "markdown",
      "source": [
        "- non private attribute\n",
        " - non private methods"
      ],
      "metadata": {
        "id": "90pef3LNL97c"
      }
    },
    {
      "cell_type": "code",
      "source": [
        "class Customer:\n",
        "  def __init__(self, name, gender, address):\n",
        "    self.name = name\n",
        "    self.gender = gender\n",
        "    self.address = address\n",
        "\n",
        "\n",
        "  def print_address(self):\n",
        "    print(self.address.__city, self.address.pin, self.address.state)\n",
        "\n",
        "\n",
        "class Address:\n",
        "  def __init__(self, city, pin, state):\n",
        "    self.__city = city\n",
        "    self.pin = pin\n",
        "    self.state = state\n",
        "\n",
        "\n",
        "adds = Address(\"Karnataka\", 454545, \"bengaluru\")\n",
        "cus = Customer(\"Bappy\", \"Male\", adds)\n",
        "cus.print_address()"
      ],
      "metadata": {
        "colab": {
          "base_uri": "https://localhost:8080/",
          "height": 297
        },
        "id": "d-5k13Z_HBfC",
        "outputId": "091a19f3-f1d8-4f8d-d3d6-902530574ab9"
      },
      "execution_count": null,
      "outputs": [
        {
          "output_type": "error",
          "ename": "AttributeError",
          "evalue": "'Address' object has no attribute '_Customer__city'",
          "traceback": [
            "\u001b[0;31m---------------------------------------------------------------------------\u001b[0m",
            "\u001b[0;31mAttributeError\u001b[0m                            Traceback (most recent call last)",
            "\u001b[0;32m<ipython-input-3-eedac4a6a321>\u001b[0m in \u001b[0;36m<cell line: 21>\u001b[0;34m()\u001b[0m\n\u001b[1;32m     19\u001b[0m \u001b[0madds\u001b[0m \u001b[0;34m=\u001b[0m \u001b[0mAddress\u001b[0m\u001b[0;34m(\u001b[0m\u001b[0;34m\"Karnataka\"\u001b[0m\u001b[0;34m,\u001b[0m \u001b[0;36m454545\u001b[0m\u001b[0;34m,\u001b[0m \u001b[0;34m\"bengaluru\"\u001b[0m\u001b[0;34m)\u001b[0m\u001b[0;34m\u001b[0m\u001b[0;34m\u001b[0m\u001b[0m\n\u001b[1;32m     20\u001b[0m \u001b[0mcus\u001b[0m \u001b[0;34m=\u001b[0m \u001b[0mCustomer\u001b[0m\u001b[0;34m(\u001b[0m\u001b[0;34m\"Bappy\"\u001b[0m\u001b[0;34m,\u001b[0m \u001b[0;34m\"Male\"\u001b[0m\u001b[0;34m,\u001b[0m \u001b[0madds\u001b[0m\u001b[0;34m)\u001b[0m\u001b[0;34m\u001b[0m\u001b[0;34m\u001b[0m\u001b[0m\n\u001b[0;32m---> 21\u001b[0;31m \u001b[0mcus\u001b[0m\u001b[0;34m.\u001b[0m\u001b[0mprint_address\u001b[0m\u001b[0;34m(\u001b[0m\u001b[0;34m)\u001b[0m\u001b[0;34m\u001b[0m\u001b[0;34m\u001b[0m\u001b[0m\n\u001b[0m",
            "\u001b[0;32m<ipython-input-3-eedac4a6a321>\u001b[0m in \u001b[0;36mprint_address\u001b[0;34m(self)\u001b[0m\n\u001b[1;32m      7\u001b[0m \u001b[0;34m\u001b[0m\u001b[0m\n\u001b[1;32m      8\u001b[0m   \u001b[0;32mdef\u001b[0m \u001b[0mprint_address\u001b[0m\u001b[0;34m(\u001b[0m\u001b[0mself\u001b[0m\u001b[0;34m)\u001b[0m\u001b[0;34m:\u001b[0m\u001b[0;34m\u001b[0m\u001b[0;34m\u001b[0m\u001b[0m\n\u001b[0;32m----> 9\u001b[0;31m     \u001b[0mprint\u001b[0m\u001b[0;34m(\u001b[0m\u001b[0mself\u001b[0m\u001b[0;34m.\u001b[0m\u001b[0maddress\u001b[0m\u001b[0;34m.\u001b[0m\u001b[0m__city\u001b[0m\u001b[0;34m,\u001b[0m \u001b[0mself\u001b[0m\u001b[0;34m.\u001b[0m\u001b[0maddress\u001b[0m\u001b[0;34m.\u001b[0m\u001b[0mpin\u001b[0m\u001b[0;34m,\u001b[0m \u001b[0mself\u001b[0m\u001b[0;34m.\u001b[0m\u001b[0maddress\u001b[0m\u001b[0;34m.\u001b[0m\u001b[0mstate\u001b[0m\u001b[0;34m)\u001b[0m\u001b[0;34m\u001b[0m\u001b[0;34m\u001b[0m\u001b[0m\n\u001b[0m\u001b[1;32m     10\u001b[0m \u001b[0;34m\u001b[0m\u001b[0m\n\u001b[1;32m     11\u001b[0m \u001b[0;34m\u001b[0m\u001b[0m\n",
            "\u001b[0;31mAttributeError\u001b[0m: 'Address' object has no attribute '_Customer__city'"
          ]
        }
      ]
    },
    {
      "cell_type": "code",
      "source": [
        "class Customer:\n",
        "  def __init__(self, name, gender, address):\n",
        "    self.name = name\n",
        "    self.gender = gender\n",
        "    self.address = address\n",
        "\n",
        "\n",
        "  def print_address(self):\n",
        "    print(self.address.get_city(), self.address.pin, self.address.state)\n",
        "\n",
        "\n",
        "class Address:\n",
        "  def __init__(self, city, pin, state):\n",
        "    self.__city = city\n",
        "    self.pin = pin\n",
        "    self.state = state\n",
        "\n",
        "\n",
        "  def get_city(self):\n",
        "    return self.__city\n",
        "\n",
        "\n",
        "adds = Address(\"Karnataka\", 454545, \"bengaluru\")\n",
        "cus = Customer(\"Bappy\", \"Male\", adds)\n",
        "cus.print_address()"
      ],
      "metadata": {
        "colab": {
          "base_uri": "https://localhost:8080/"
        },
        "id": "9c3wKhjrL4pS",
        "outputId": "96389c89-7447-4809-b752-13772960cfe5"
      },
      "execution_count": null,
      "outputs": [
        {
          "output_type": "stream",
          "name": "stdout",
          "text": [
            "Karnataka 454545 bengaluru\n"
          ]
        }
      ]
    },
    {
      "cell_type": "code",
      "source": [
        "class Customer:\n",
        "  def __init__(self, name, gender, address):\n",
        "    self.name = name\n",
        "    self.gender = gender\n",
        "    self.address = address\n",
        "\n",
        "\n",
        "  def print_address(self):\n",
        "    print(self.address._Address__city, self.address.pin, self.address.state)\n",
        "\n",
        "\n",
        "class Address:\n",
        "  def __init__(self, city, pin, state):\n",
        "    self.__city = city\n",
        "    self.pin = pin\n",
        "    self.state = state\n",
        "\n",
        "\n",
        "  def get_city(self):\n",
        "    return self.__city\n",
        "\n",
        "\n",
        "adds = Address(\"Karnataka\", 454545, \"bengaluru\")\n",
        "cus = Customer(\"Bappy\", \"Male\", adds)\n",
        "cus.print_address()"
      ],
      "metadata": {
        "colab": {
          "base_uri": "https://localhost:8080/"
        },
        "id": "okycTJ3QMW9N",
        "outputId": "584d53ef-ae50-4b46-ba52-9ec5a43a3a32"
      },
      "execution_count": null,
      "outputs": [
        {
          "output_type": "stream",
          "name": "stdout",
          "text": [
            "Karnataka 454545 bengaluru\n"
          ]
        }
      ]
    },
    {
      "cell_type": "markdown",
      "source": [
        "## Inheritance\n",
        "\n",
        "- non private attribute\n",
        "- non private methods"
      ],
      "metadata": {
        "id": "bx9LLJ2eO35X"
      }
    },
    {
      "cell_type": "code",
      "source": [
        "\n",
        "# Parent\n",
        "class User:\n",
        "  def __init__(self):\n",
        "    self.name = \"Bappy\"\n",
        "    self.gender = \"Male\"\n",
        "\n",
        "  def login(self):\n",
        "    print(\"Login Done!\")\n",
        "\n",
        "\n",
        "#child\n",
        "class Student(User):\n",
        "  def __init__(self):\n",
        "    self.rollno = 100\n",
        "\n",
        "\n",
        "  def enroll(self):\n",
        "    print(\"Enrolled into the course\")\n",
        "\n",
        "\n",
        "\n",
        "S = Student()\n",
        "S.login()\n",
        "S.enroll()\n",
        "# S.name\n",
        "S.rollno"
      ],
      "metadata": {
        "colab": {
          "base_uri": "https://localhost:8080/"
        },
        "id": "O_2_fAvhMkjd",
        "outputId": "5d1086f0-8e02-40d6-a8db-ac2c6d28ab79"
      },
      "execution_count": null,
      "outputs": [
        {
          "output_type": "stream",
          "name": "stdout",
          "text": [
            "Login Done!\n",
            "Enrolled into the course\n"
          ]
        },
        {
          "output_type": "execute_result",
          "data": {
            "text/plain": [
              "100"
            ]
          },
          "metadata": {},
          "execution_count": 11
        }
      ]
    },
    {
      "cell_type": "code",
      "source": [
        "\n",
        "# Parent\n",
        "class User:\n",
        "  def __init__(self):\n",
        "    self.name = \"Bappy\"\n",
        "    self.gender = \"Male\"\n",
        "\n",
        "  def login(self):\n",
        "    print(\"Login Done!\")\n",
        "\n",
        "\n",
        "#child\n",
        "class Student(User):\n",
        "  # def __init__(self):\n",
        "  #   self.name = \"Sunny\"\n",
        "\n",
        "\n",
        "  def enroll(self):\n",
        "    print(\"Enrolled into the course\")\n",
        "\n",
        "\n",
        "\n",
        "S = Student()\n",
        "S.login()\n",
        "S.enroll()\n",
        "S.name"
      ],
      "metadata": {
        "colab": {
          "base_uri": "https://localhost:8080/",
          "height": 70
        },
        "id": "uKov08JnRMJg",
        "outputId": "81218023-39ab-4072-f2ae-c74e5c367e73"
      },
      "execution_count": null,
      "outputs": [
        {
          "output_type": "stream",
          "name": "stdout",
          "text": [
            "Login Done!\n",
            "Enrolled into the course\n"
          ]
        },
        {
          "output_type": "execute_result",
          "data": {
            "text/plain": [
              "'Bappy'"
            ],
            "application/vnd.google.colaboratory.intrinsic+json": {
              "type": "string"
            }
          },
          "metadata": {},
          "execution_count": 13
        }
      ]
    },
    {
      "cell_type": "code",
      "source": [
        "class Phone:\n",
        "  def __init__(self, price, brand, camera):\n",
        "    self.price = price\n",
        "    self.brand = brand\n",
        "    self.camera = camera\n",
        "\n",
        "\n",
        "  def buy(self):\n",
        "    print(\"Buying a Phone\")\n",
        "\n",
        "\n",
        "class SmartPhone(Phone):\n",
        "  pass\n",
        "\n",
        "S  = SmartPhone(200000, \"apple\", 3)\n",
        "S.buy()"
      ],
      "metadata": {
        "colab": {
          "base_uri": "https://localhost:8080/"
        },
        "id": "jxRuyAXBTSAI",
        "outputId": "a4585412-9c40-4090-ff6c-1bb5a4c10fd8"
      },
      "execution_count": null,
      "outputs": [
        {
          "output_type": "stream",
          "name": "stdout",
          "text": [
            "Buying a Phone\n"
          ]
        }
      ]
    },
    {
      "cell_type": "code",
      "source": [
        "class Phone:\n",
        "  def __init__(self, price, brand, camera):\n",
        "    print(\"Inside Phone constructor\")\n",
        "    self.price = price\n",
        "    self.brand = brand\n",
        "    self.camera = camera\n",
        "\n",
        "\n",
        "  def buy(self):\n",
        "    print(\"Buying a Phone\")\n",
        "\n",
        "\n",
        "class SmartPhone(Phone):\n",
        "  def __init__(self, os, ram):\n",
        "    self.os = os\n",
        "    self.ram = ram\n",
        "    print(\"Inside SmartPhone constructor\")\n",
        "\n",
        "\n",
        "S  = SmartPhone(\"Android\", 8)\n",
        "S.brand"
      ],
      "metadata": {
        "colab": {
          "base_uri": "https://localhost:8080/",
          "height": 193
        },
        "id": "7gFh8yrgUyFZ",
        "outputId": "3e8c8bbe-35b2-4ffd-e850-6411536bdf26"
      },
      "execution_count": null,
      "outputs": [
        {
          "output_type": "stream",
          "name": "stdout",
          "text": [
            "Inside SmartPhone constructor\n"
          ]
        },
        {
          "output_type": "error",
          "ename": "AttributeError",
          "evalue": "'SmartPhone' object has no attribute 'brand'",
          "traceback": [
            "\u001b[0;31m---------------------------------------------------------------------------\u001b[0m",
            "\u001b[0;31mAttributeError\u001b[0m                            Traceback (most recent call last)",
            "\u001b[0;32m<ipython-input-20-ddc4e984b4ed>\u001b[0m in \u001b[0;36m<cell line: 21>\u001b[0;34m()\u001b[0m\n\u001b[1;32m     19\u001b[0m \u001b[0;34m\u001b[0m\u001b[0m\n\u001b[1;32m     20\u001b[0m \u001b[0mS\u001b[0m  \u001b[0;34m=\u001b[0m \u001b[0mSmartPhone\u001b[0m\u001b[0;34m(\u001b[0m\u001b[0;34m\"Android\"\u001b[0m\u001b[0;34m,\u001b[0m \u001b[0;36m8\u001b[0m\u001b[0;34m)\u001b[0m\u001b[0;34m\u001b[0m\u001b[0;34m\u001b[0m\u001b[0m\n\u001b[0;32m---> 21\u001b[0;31m \u001b[0mS\u001b[0m\u001b[0;34m.\u001b[0m\u001b[0mbrand\u001b[0m\u001b[0;34m\u001b[0m\u001b[0;34m\u001b[0m\u001b[0m\n\u001b[0m",
            "\u001b[0;31mAttributeError\u001b[0m: 'SmartPhone' object has no attribute 'brand'"
          ]
        }
      ]
    },
    {
      "cell_type": "code",
      "source": [
        "class Phone:\n",
        "  def __init__(self, price, brand, camera):\n",
        "    print(\"Inside Phone constructor\")\n",
        "    self.__price = price\n",
        "    self.brand = brand\n",
        "    self.camera = camera\n",
        "\n",
        "\n",
        "  def buy(self):\n",
        "    print(\"Buying a Phone\")\n",
        "\n",
        "\n",
        "  def get_price(self):\n",
        "    return self.__price\n",
        "\n",
        "\n",
        "class SmartPhone(Phone):\n",
        "  def check(self):\n",
        "    print(self.get_price())\n",
        "\n",
        "\n",
        "S  = SmartPhone(200000, \"apple\", 3)\n",
        "S.check()"
      ],
      "metadata": {
        "colab": {
          "base_uri": "https://localhost:8080/"
        },
        "id": "vDHEq4ahVmR_",
        "outputId": "a4c014b1-60fe-4a98-cbd3-2566959b12b3"
      },
      "execution_count": null,
      "outputs": [
        {
          "output_type": "stream",
          "name": "stdout",
          "text": [
            "Inside Phone constructor\n",
            "200000\n"
          ]
        }
      ]
    },
    {
      "cell_type": "code",
      "source": [
        "class Parent:\n",
        "\n",
        "    def __init__(self,num):\n",
        "        self.__num=num\n",
        "\n",
        "    def get_num(self):\n",
        "        return self.__num\n",
        "\n",
        "class Child(Parent):\n",
        "\n",
        "    def show(self):\n",
        "        print(\"This is in child class\")\n",
        "\n",
        "son=Child(100)\n",
        "print(son.get_num())\n",
        "son.show()"
      ],
      "metadata": {
        "colab": {
          "base_uri": "https://localhost:8080/"
        },
        "id": "8tHODUn-ZNOq",
        "outputId": "51d7518b-59fb-474f-9d8c-330a0d7c5c5f"
      },
      "execution_count": null,
      "outputs": [
        {
          "output_type": "stream",
          "name": "stdout",
          "text": [
            "100\n",
            "This is in child class\n"
          ]
        }
      ]
    },
    {
      "cell_type": "code",
      "source": [
        "class Parent:\n",
        "\n",
        "    def __init__(self,num):\n",
        "        self.__num=num\n",
        "\n",
        "    def get_num(self):\n",
        "        return self.__num\n",
        "\n",
        "class Child(Parent):\n",
        "\n",
        "    def __init__(self,val,num):\n",
        "        self.__val=val\n",
        "\n",
        "    def get_val(self):\n",
        "        return self.__val\n",
        "\n",
        "son=Child(100,10)\n",
        "print(\"Parent: Num:\",son.get_num())\n",
        "print(\"Child: Val:\",son.get_val())"
      ],
      "metadata": {
        "colab": {
          "base_uri": "https://localhost:8080/",
          "height": 315
        },
        "id": "fry8aVKgbOIg",
        "outputId": "007a3a70-1874-496d-db62-e1a399eef821"
      },
      "execution_count": null,
      "outputs": [
        {
          "output_type": "error",
          "ename": "AttributeError",
          "evalue": "'Child' object has no attribute '_Parent__num'",
          "traceback": [
            "\u001b[0;31m---------------------------------------------------------------------------\u001b[0m",
            "\u001b[0;31mAttributeError\u001b[0m                            Traceback (most recent call last)",
            "\u001b[0;32m<ipython-input-24-0df4da45adb0>\u001b[0m in \u001b[0;36m<cell line: 18>\u001b[0;34m()\u001b[0m\n\u001b[1;32m     16\u001b[0m \u001b[0;34m\u001b[0m\u001b[0m\n\u001b[1;32m     17\u001b[0m \u001b[0mson\u001b[0m\u001b[0;34m=\u001b[0m\u001b[0mChild\u001b[0m\u001b[0;34m(\u001b[0m\u001b[0;36m100\u001b[0m\u001b[0;34m,\u001b[0m\u001b[0;36m10\u001b[0m\u001b[0;34m)\u001b[0m\u001b[0;34m\u001b[0m\u001b[0;34m\u001b[0m\u001b[0m\n\u001b[0;32m---> 18\u001b[0;31m \u001b[0mprint\u001b[0m\u001b[0;34m(\u001b[0m\u001b[0;34m\"Parent: Num:\"\u001b[0m\u001b[0;34m,\u001b[0m\u001b[0mson\u001b[0m\u001b[0;34m.\u001b[0m\u001b[0mget_num\u001b[0m\u001b[0;34m(\u001b[0m\u001b[0;34m)\u001b[0m\u001b[0;34m)\u001b[0m\u001b[0;34m\u001b[0m\u001b[0;34m\u001b[0m\u001b[0m\n\u001b[0m\u001b[1;32m     19\u001b[0m \u001b[0mprint\u001b[0m\u001b[0;34m(\u001b[0m\u001b[0;34m\"Child: Val:\"\u001b[0m\u001b[0;34m,\u001b[0m\u001b[0mson\u001b[0m\u001b[0;34m.\u001b[0m\u001b[0mget_val\u001b[0m\u001b[0;34m(\u001b[0m\u001b[0;34m)\u001b[0m\u001b[0;34m)\u001b[0m\u001b[0;34m\u001b[0m\u001b[0;34m\u001b[0m\u001b[0m\n",
            "\u001b[0;32m<ipython-input-24-0df4da45adb0>\u001b[0m in \u001b[0;36mget_num\u001b[0;34m(self)\u001b[0m\n\u001b[1;32m      5\u001b[0m \u001b[0;34m\u001b[0m\u001b[0m\n\u001b[1;32m      6\u001b[0m     \u001b[0;32mdef\u001b[0m \u001b[0mget_num\u001b[0m\u001b[0;34m(\u001b[0m\u001b[0mself\u001b[0m\u001b[0;34m)\u001b[0m\u001b[0;34m:\u001b[0m\u001b[0;34m\u001b[0m\u001b[0;34m\u001b[0m\u001b[0m\n\u001b[0;32m----> 7\u001b[0;31m         \u001b[0;32mreturn\u001b[0m \u001b[0mself\u001b[0m\u001b[0;34m.\u001b[0m\u001b[0m__num\u001b[0m\u001b[0;34m\u001b[0m\u001b[0;34m\u001b[0m\u001b[0m\n\u001b[0m\u001b[1;32m      8\u001b[0m \u001b[0;34m\u001b[0m\u001b[0m\n\u001b[1;32m      9\u001b[0m \u001b[0;32mclass\u001b[0m \u001b[0mChild\u001b[0m\u001b[0;34m(\u001b[0m\u001b[0mParent\u001b[0m\u001b[0;34m)\u001b[0m\u001b[0;34m:\u001b[0m\u001b[0;34m\u001b[0m\u001b[0;34m\u001b[0m\u001b[0m\n",
            "\u001b[0;31mAttributeError\u001b[0m: 'Child' object has no attribute '_Parent__num'"
          ]
        }
      ]
    },
    {
      "cell_type": "code",
      "source": [
        "# Method Overriding\n",
        "\n",
        "class Phone:\n",
        "  def __init__(self, price, brand, camera):\n",
        "    print(\"Inside Phone constructor\")\n",
        "    self.__price = price\n",
        "    self.brand = brand\n",
        "    self.camera = camera\n",
        "\n",
        "\n",
        "  def buy(self):\n",
        "    print(\"Buying a Phone\")\n",
        "\n",
        "\n",
        "class SmartPhone(Phone):\n",
        "\n",
        "  def buy(self):\n",
        "    print(\"Buying a Smart Phone\")\n",
        "\n",
        "\n",
        "S  = SmartPhone(200000, \"apple\", 3)\n",
        "S.buy()\n",
        "S.camera"
      ],
      "metadata": {
        "colab": {
          "base_uri": "https://localhost:8080/"
        },
        "id": "PG-quNWEsHbe",
        "outputId": "08772520-43ff-4666-ed9e-38e63163d446"
      },
      "execution_count": null,
      "outputs": [
        {
          "output_type": "stream",
          "name": "stdout",
          "text": [
            "Inside Phone constructor\n",
            "Buying a Smart Phone\n"
          ]
        },
        {
          "output_type": "execute_result",
          "data": {
            "text/plain": [
              "3"
            ]
          },
          "metadata": {},
          "execution_count": 6
        }
      ]
    },
    {
      "cell_type": "markdown",
      "source": [
        "## Super Keyword"
      ],
      "metadata": {
        "id": "DV_s9DFkPokm"
      }
    },
    {
      "cell_type": "code",
      "source": [
        "# Method Overriding\n",
        "\n",
        "class Phone:\n",
        "  def __init__(self, price, brand, camera):\n",
        "    print(\"Inside Phone constructor\")\n",
        "    self.__price = price\n",
        "    self.brand = brand\n",
        "    self.camera = camera\n",
        "\n",
        "\n",
        "  def buy(self):\n",
        "    print(\"Buying a Phone\")\n",
        "\n",
        "\n",
        "class SmartPhone(Phone):\n",
        "\n",
        "  def buy(self):\n",
        "    print(\"Buying a Smart Phone\")\n",
        "\n",
        "    super().buy()\n",
        "\n",
        "\n",
        "S  = SmartPhone(200000, \"apple\", 3)\n",
        "S.buy()"
      ],
      "metadata": {
        "colab": {
          "base_uri": "https://localhost:8080/"
        },
        "id": "ExXJD6yssHZP",
        "outputId": "e1a78b10-8677-4bfd-8338-f5cfefb9284d"
      },
      "execution_count": null,
      "outputs": [
        {
          "output_type": "stream",
          "name": "stdout",
          "text": [
            "Inside Phone constructor\n",
            "Buying a Smart Phone\n",
            "Buying a Phone\n"
          ]
        }
      ]
    },
    {
      "cell_type": "code",
      "source": [
        "class Phone:\n",
        "  def __init__(self, price, brand, camera):\n",
        "    print(\"Inside Phone constructor\")\n",
        "    self.__price = price\n",
        "    self.brand = brand\n",
        "    self.camera = camera\n",
        "\n",
        "\n",
        "class SmartPhone(Phone):\n",
        "\n",
        "  def __init__(self, price, brand, camera, os, ram):\n",
        "    print(\"Inside SmartPhone constructor\")\n",
        "    super().__init__(price, brand, camera)\n",
        "    self.os = os\n",
        "    self.ram = ram\n",
        "\n",
        "\n",
        "\n",
        "\n",
        "S  = SmartPhone(200000, \"Samsung\", 3, \"android\", 16)\n",
        "print(S.brand)\n",
        "print(S.os)\n",
        "print(S.__price)"
      ],
      "metadata": {
        "colab": {
          "base_uri": "https://localhost:8080/"
        },
        "id": "ohZyfmqtsHW0",
        "outputId": "cba2e9bb-58cf-437e-9440-e6c1535d0ae3"
      },
      "execution_count": null,
      "outputs": [
        {
          "output_type": "stream",
          "name": "stdout",
          "text": [
            "Inside SmartPhone constructor\n",
            "Inside Phone constructor\n",
            "Samsung\n",
            "android\n"
          ]
        }
      ]
    },
    {
      "cell_type": "markdown",
      "source": [
        "## Types of Inheritance\n",
        "\n",
        "- Single Inheritance\n",
        "- Multilevel Inheritance\n",
        "- Hierachical Inheritance\n",
        "- Multiple Inheritance"
      ],
      "metadata": {
        "id": "o7zW1045TuH0"
      }
    },
    {
      "cell_type": "code",
      "source": [
        "# Multilevel Inheritance\n",
        "\n",
        "\n",
        "#Gradfather\n",
        "class Product:\n",
        "  def review(self):\n",
        "    print(\"Product customer review\")\n",
        "\n",
        "\n",
        "#Father\n",
        "class Phone(Product):\n",
        "  def __init__(self, price, brand, camera):\n",
        "    print(\"Inside Phone constructor\")\n",
        "    self.__price = price\n",
        "    self.brand = brand\n",
        "    self.camera = camera\n",
        "\n",
        "\n",
        "  def buy(self):\n",
        "    print(\"Buying a phone\")\n",
        "\n",
        "\n",
        "#child\n",
        "class SmartPhone(Phone):\n",
        "  pass\n",
        "\n",
        "\n",
        "\n",
        "S  = SmartPhone(200000, \"Samsung\", 3)\n",
        "S.buy()\n",
        "S.review()"
      ],
      "metadata": {
        "colab": {
          "base_uri": "https://localhost:8080/"
        },
        "id": "xLnWNlJMsHUP",
        "outputId": "b757ebe3-f488-4e0d-ab6f-fe4d502b91ea"
      },
      "execution_count": null,
      "outputs": [
        {
          "output_type": "stream",
          "name": "stdout",
          "text": [
            "Inside Phone constructor\n",
            "Buying a phone\n",
            "Product customer review\n"
          ]
        }
      ]
    },
    {
      "cell_type": "code",
      "source": [
        "# Hierarchical\n",
        "\n",
        "#parent\n",
        "class Phone:\n",
        "  def __init__(self, price, brand, camera):\n",
        "    print(\"Inside Phone constructor\")\n",
        "    self.__price = price\n",
        "    self.brand = brand\n",
        "    self.camera = camera\n",
        "\n",
        "\n",
        "  def buy(self):\n",
        "    print(\"Buying a phone\")\n",
        "\n",
        "\n",
        "#child\n",
        "class SmartPhone(Phone):\n",
        "  pass\n",
        "\n",
        "#child\n",
        "class FeaturePhone(Phone):\n",
        "  pass\n",
        "\n",
        "\n",
        "\n",
        "S = SmartPhone(100000, \"apple\", \"3\")\n",
        "S.buy()"
      ],
      "metadata": {
        "colab": {
          "base_uri": "https://localhost:8080/"
        },
        "id": "UIBoQ15msHSh",
        "outputId": "d8d3c7eb-99a9-47ad-ec7c-743c62a0773a"
      },
      "execution_count": null,
      "outputs": [
        {
          "output_type": "stream",
          "name": "stdout",
          "text": [
            "Inside Phone constructor\n",
            "Buying a phone\n"
          ]
        }
      ]
    },
    {
      "cell_type": "code",
      "source": [
        "F = FeaturePhone(100000, \"apple\", \"3\")\n",
        "F.buy()"
      ],
      "metadata": {
        "colab": {
          "base_uri": "https://localhost:8080/"
        },
        "id": "iJCDGHkqsHPX",
        "outputId": "da69ff80-b397-4947-bafb-4927262c1064"
      },
      "execution_count": null,
      "outputs": [
        {
          "output_type": "stream",
          "name": "stdout",
          "text": [
            "Inside Phone constructor\n",
            "Buying a phone\n"
          ]
        }
      ]
    },
    {
      "cell_type": "code",
      "source": [
        "# Mutiple\n",
        "# parent\n",
        "class Phone:\n",
        "  def __init__(self, price, brand, camera):\n",
        "    print(\"Inside Phone constructor\")\n",
        "    self.__price = price\n",
        "    self.brand = brand\n",
        "    self.camera = camera\n",
        "\n",
        "\n",
        "  def buy(self):\n",
        "    print(\"Buying a phone\")\n",
        "\n",
        "#parent\n",
        "class Product:\n",
        "\n",
        "  def __init__(self):\n",
        "    pass\n",
        "\n",
        "  def review(self):\n",
        "    print(\"Product customer review\")\n",
        "\n",
        "#child\n",
        "class SmartPhone(Phone, Product):\n",
        "  pass\n",
        "\n",
        "\n",
        "\n",
        "\n",
        "S = SmartPhone(100000, \"apple\", \"3\")\n",
        "S.buy()\n",
        "S.review()"
      ],
      "metadata": {
        "colab": {
          "base_uri": "https://localhost:8080/"
        },
        "id": "fFN8TGRkZaJD",
        "outputId": "075d29b3-fd22-4d46-e9ae-8353e886e5dd"
      },
      "execution_count": null,
      "outputs": [
        {
          "output_type": "stream",
          "name": "stdout",
          "text": [
            "Inside Phone constructor\n",
            "Buying a phone\n",
            "Product customer review\n"
          ]
        }
      ]
    },
    {
      "cell_type": "markdown",
      "source": [
        "## Polymorphism\n",
        "\n",
        "- Method Overriding\n",
        "- Method Overloading\n",
        "- Operator Overloading"
      ],
      "metadata": {
        "id": "PtDU_zjabOwY"
      }
    },
    {
      "cell_type": "code",
      "source": [
        "class Shape:\n",
        "\n",
        "  def area(self,redius):\n",
        "    return 3.14*redius**2\n",
        "\n",
        "  def area(self, l,b):\n",
        "    return l*b\n",
        "\n",
        "\n",
        "s = Shape()"
      ],
      "metadata": {
        "id": "X4aectDjaeqb"
      },
      "execution_count": null,
      "outputs": []
    },
    {
      "cell_type": "code",
      "source": [
        "s.area(2,4)"
      ],
      "metadata": {
        "colab": {
          "base_uri": "https://localhost:8080/"
        },
        "id": "sWk0Hyp2clpH",
        "outputId": "e7fbffe8-d685-4069-cd35-53d9deced1af"
      },
      "execution_count": null,
      "outputs": [
        {
          "output_type": "execute_result",
          "data": {
            "text/plain": [
              "8"
            ]
          },
          "metadata": {},
          "execution_count": 26
        }
      ]
    },
    {
      "cell_type": "code",
      "source": [
        "class Shape:\n",
        "\n",
        "  def area(self,redius,l,b):\n",
        "    if b == None:\n",
        "      return 3.14*redius**2\n",
        "    else:\n",
        "      return l*b\n",
        "\n",
        "\n",
        "\n",
        "\n",
        "s = Shape()\n",
        "s.area(2,2,0)"
      ],
      "metadata": {
        "colab": {
          "base_uri": "https://localhost:8080/"
        },
        "id": "k_hAGgV7crEt",
        "outputId": "7ece499d-9558-42eb-a8d8-02d4fb619075"
      },
      "execution_count": null,
      "outputs": [
        {
          "output_type": "execute_result",
          "data": {
            "text/plain": [
              "0"
            ]
          },
          "metadata": {},
          "execution_count": 30
        }
      ]
    },
    {
      "cell_type": "code",
      "source": [
        "s.area(2,2,None)"
      ],
      "metadata": {
        "colab": {
          "base_uri": "https://localhost:8080/"
        },
        "id": "Gvm75ylXdpaV",
        "outputId": "ac5d3a3f-b07c-44ff-b53f-671e5af3d76e"
      },
      "execution_count": null,
      "outputs": [
        {
          "output_type": "execute_result",
          "data": {
            "text/plain": [
              "12.56"
            ]
          },
          "metadata": {},
          "execution_count": 31
        }
      ]
    },
    {
      "cell_type": "code",
      "source": [
        "\"hello\" + \"hello\""
      ],
      "metadata": {
        "colab": {
          "base_uri": "https://localhost:8080/",
          "height": 36
        },
        "id": "U64etdPDdyJu",
        "outputId": "b58e0217-54b2-47f5-f37f-b90c862180fb"
      },
      "execution_count": null,
      "outputs": [
        {
          "output_type": "execute_result",
          "data": {
            "text/plain": [
              "'hellohello'"
            ],
            "application/vnd.google.colaboratory.intrinsic+json": {
              "type": "string"
            }
          },
          "metadata": {},
          "execution_count": 32
        }
      ]
    },
    {
      "cell_type": "code",
      "source": [
        "4+5"
      ],
      "metadata": {
        "colab": {
          "base_uri": "https://localhost:8080/"
        },
        "id": "uKqx-WRPeV9E",
        "outputId": "53f0512c-7573-4bb4-f439-be7208c05fcb"
      },
      "execution_count": null,
      "outputs": [
        {
          "output_type": "execute_result",
          "data": {
            "text/plain": [
              "9"
            ]
          },
          "metadata": {},
          "execution_count": 33
        }
      ]
    },
    {
      "cell_type": "code",
      "source": [
        "[1,2,3] + [4,5]"
      ],
      "metadata": {
        "colab": {
          "base_uri": "https://localhost:8080/"
        },
        "id": "6ORwcwCleYUN",
        "outputId": "0f1d3da0-771e-4d44-dcdf-95447af35c25"
      },
      "execution_count": null,
      "outputs": [
        {
          "output_type": "execute_result",
          "data": {
            "text/plain": [
              "[1, 2, 3, 4, 5]"
            ]
          },
          "metadata": {},
          "execution_count": 34
        }
      ]
    },
    {
      "cell_type": "code",
      "source": [
        "- MySQL\n",
        "- MongoDb\n",
        "- API\n",
        "- Pandas\n",
        "- Numpy\n",
        "- Graphs\n",
        "\n",
        "\n",
        "############\n",
        "\n",
        "- Stats\n",
        "- EDA\n",
        "- FE\n",
        "- MAchine learnign - Project\n",
        "- Deep Learning - ANN, CNN, RNN - Projects\n",
        "- CV\n",
        "- NLP\n",
        "- GenAI"
      ],
      "metadata": {
        "id": "Ez8Dz30Ved2U"
      },
      "execution_count": null,
      "outputs": []
    },
    {
      "cell_type": "markdown",
      "source": [
        "# Abstraction\n",
        "\n",
        "Abstract Base Class (ABC)"
      ],
      "metadata": {
        "id": "xg4aL9nIi_Li"
      }
    },
    {
      "cell_type": "code",
      "source": [
        "from abc import ABC, abstractmethod\n",
        "\n",
        "#senior\n",
        "class BankServer(ABC):\n",
        "  def database(self):\n",
        "    print(\"Connected to database\")\n",
        "\n",
        "\n",
        "  @abstractmethod\n",
        "  def security(self):\n",
        "    print(\"Security Passed\")\n",
        "\n",
        "\n",
        "  @abstractmethod\n",
        "  def display(self):\n",
        "    pass\n",
        "\n",
        "\n",
        "\n",
        "\n",
        "#junior\n",
        "class MobileApp(BankServer):\n",
        "  def mobile_login(self):\n",
        "    print(\"Logged in Mobile\")\n",
        "\n",
        "\n",
        "\n",
        "  def security(self):\n",
        "    print(\"Mobile Security Passed\")\n",
        "\n",
        "\n",
        "  def display(self):\n",
        "    print(\"Display\")\n",
        "\n",
        "\n",
        "mob = MobileApp()"
      ],
      "metadata": {
        "id": "jvnsJZdEkNGE"
      },
      "execution_count": null,
      "outputs": []
    },
    {
      "cell_type": "code",
      "source": [
        "mob.mobile_login()"
      ],
      "metadata": {
        "colab": {
          "base_uri": "https://localhost:8080/"
        },
        "id": "dojra0GwlzHR",
        "outputId": "d8c691a9-3408-414c-bcd2-f56f13529d5a"
      },
      "execution_count": null,
      "outputs": [
        {
          "output_type": "stream",
          "name": "stdout",
          "text": [
            "Logged in Mobile\n"
          ]
        }
      ]
    },
    {
      "cell_type": "code",
      "source": [
        "mob.database()"
      ],
      "metadata": {
        "colab": {
          "base_uri": "https://localhost:8080/"
        },
        "id": "558ILBUhl1bG",
        "outputId": "9754d88c-5586-4218-a099-2ccc6f5c7f7b"
      },
      "execution_count": null,
      "outputs": [
        {
          "output_type": "stream",
          "name": "stdout",
          "text": [
            "Connected to database\n"
          ]
        }
      ]
    },
    {
      "cell_type": "code",
      "source": [
        "obj = BankServer()"
      ],
      "metadata": {
        "colab": {
          "base_uri": "https://localhost:8080/",
          "height": 141
        },
        "id": "q48Qha1el5KC",
        "outputId": "1404300e-9365-416a-ac5d-722f428846be"
      },
      "execution_count": null,
      "outputs": [
        {
          "output_type": "error",
          "ename": "TypeError",
          "evalue": "Can't instantiate abstract class BankServer with abstract method security",
          "traceback": [
            "\u001b[0;31m---------------------------------------------------------------------------\u001b[0m",
            "\u001b[0;31mTypeError\u001b[0m                                 Traceback (most recent call last)",
            "\u001b[0;32m<ipython-input-44-f8c8d106de5f>\u001b[0m in \u001b[0;36m<cell line: 1>\u001b[0;34m()\u001b[0m\n\u001b[0;32m----> 1\u001b[0;31m \u001b[0mobj\u001b[0m \u001b[0;34m=\u001b[0m \u001b[0mBankServer\u001b[0m\u001b[0;34m(\u001b[0m\u001b[0;34m)\u001b[0m\u001b[0;34m\u001b[0m\u001b[0;34m\u001b[0m\u001b[0m\n\u001b[0m",
            "\u001b[0;31mTypeError\u001b[0m: Can't instantiate abstract class BankServer with abstract method security"
          ]
        }
      ]
    },
    {
      "cell_type": "code",
      "source": [],
      "metadata": {
        "id": "TpjqnzZZnVa3"
      },
      "execution_count": null,
      "outputs": []
    }
  ]
}