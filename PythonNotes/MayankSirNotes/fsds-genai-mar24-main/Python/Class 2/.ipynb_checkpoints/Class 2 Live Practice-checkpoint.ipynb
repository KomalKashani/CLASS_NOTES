{
 "cells": [
  {
   "cell_type": "code",
   "execution_count": 1,
   "id": "8faa57a4-49ae-47a8-9d2d-f8821e325a67",
   "metadata": {
    "tags": []
   },
   "outputs": [
    {
     "ename": "NameError",
     "evalue": "name 'p' is not defined",
     "output_type": "error",
     "traceback": [
      "\u001b[0;31m---------------------------------------------------------------------------\u001b[0m",
      "\u001b[0;31mNameError\u001b[0m                                 Traceback (most recent call last)",
      "Cell \u001b[0;32mIn[1], line 1\u001b[0m\n\u001b[0;32m----> 1\u001b[0m p\n",
      "\u001b[0;31mNameError\u001b[0m: name 'p' is not defined"
     ]
    }
   ],
   "source": []
  },
  {
   "cell_type": "code",
   "execution_count": 6,
   "id": "9106fb07-68f1-4b4f-928f-a4ba247ec75e",
   "metadata": {
    "tags": []
   },
   "outputs": [],
   "source": [
    "\n",
    "def sum(a,b):\n",
    "    print(a+b)\n"
   ]
  },
  {
   "cell_type": "code",
   "execution_count": 7,
   "id": "8bb4f63f-57a4-4d26-89f3-eaee3848433a",
   "metadata": {
    "tags": []
   },
   "outputs": [
    {
     "name": "stdout",
     "output_type": "stream",
     "text": [
      "15\n",
      "15\n"
     ]
    }
   ],
   "source": [
    "a = 5 \n",
    "b= 10\n",
    "\n",
    "print(a+b)\n",
    "sum(a,b)"
   ]
  },
  {
   "cell_type": "code",
   "execution_count": 8,
   "id": "46a12bf2-b081-4e14-92e5-eb2af19e6835",
   "metadata": {
    "tags": []
   },
   "outputs": [
    {
     "name": "stdout",
     "output_type": "stream",
     "text": [
      "35\n",
      "35\n"
     ]
    }
   ],
   "source": [
    "a= 15\n",
    "b = 20\n",
    "print(a+b)\n",
    "sum(a,b)"
   ]
  },
  {
   "cell_type": "code",
   "execution_count": 10,
   "id": "9e7f31e5-cb2a-4757-9c45-6085b11daaa3",
   "metadata": {
    "tags": []
   },
   "outputs": [
    {
     "name": "stdout",
     "output_type": "stream",
     "text": [
      "4\n",
      "74\n"
     ]
    }
   ],
   "source": [
    "a = 39\n",
    "b= 35\n",
    "print(a-b)\n",
    "sum(a,b)"
   ]
  },
  {
   "cell_type": "code",
   "execution_count": null,
   "id": "0257e6d0-db63-43c7-9a5e-02c81b991fb4",
   "metadata": {},
   "outputs": [],
   "source": []
  },
  {
   "cell_type": "code",
   "execution_count": 11,
   "id": "c56927ee-e260-42b2-aaf1-f1f3de728769",
   "metadata": {
    "tags": []
   },
   "outputs": [
    {
     "data": {
      "text/plain": [
       "8"
      ]
     },
     "execution_count": 11,
     "metadata": {},
     "output_type": "execute_result"
    }
   ],
   "source": [
    "pow(2,3)"
   ]
  },
  {
   "cell_type": "code",
   "execution_count": null,
   "id": "569ec3d8-fa13-4730-b5de-94980b8278db",
   "metadata": {},
   "outputs": [],
   "source": []
  },
  {
   "cell_type": "code",
   "execution_count": null,
   "id": "c413e3c0-281d-4495-bf0d-0f1363de2428",
   "metadata": {},
   "outputs": [],
   "source": []
  },
  {
   "cell_type": "code",
   "execution_count": 14,
   "id": "eb6ca590-3fa0-4591-a2bc-8faac13ac824",
   "metadata": {
    "tags": []
   },
   "outputs": [],
   "source": [
    "\n",
    "def sum(a,b):\n",
    "    print(\"this is user defined function\")\n",
    "    print(a+b)\n"
   ]
  },
  {
   "cell_type": "code",
   "execution_count": 13,
   "id": "88b1e89c-216b-4feb-89bb-60a1d44bcfff",
   "metadata": {
    "tags": []
   },
   "outputs": [
    {
     "name": "stdout",
     "output_type": "stream",
     "text": [
      "15\n"
     ]
    }
   ],
   "source": [
    "sum_numbers(5,10)"
   ]
  },
  {
   "cell_type": "code",
   "execution_count": 15,
   "id": "3e31ac8b-1f94-43c4-8fb5-8ad9f207232b",
   "metadata": {
    "tags": []
   },
   "outputs": [
    {
     "name": "stdout",
     "output_type": "stream",
     "text": [
      "this is user defined function\n",
      "15\n"
     ]
    }
   ],
   "source": [
    "sum(5,10)"
   ]
  },
  {
   "cell_type": "code",
   "execution_count": null,
   "id": "713b0e70-c0a5-48a3-9dd2-834ca2e7a7bf",
   "metadata": {},
   "outputs": [],
   "source": []
  },
  {
   "cell_type": "code",
   "execution_count": 24,
   "id": "32306054-6db2-4fcf-b753-63d7b33cb6a9",
   "metadata": {
    "tags": []
   },
   "outputs": [
    {
     "data": {
      "text/plain": [
       "5"
      ]
     },
     "execution_count": 24,
     "metadata": {},
     "output_type": "execute_result"
    }
   ],
   "source": [
    "\"hello world\"\n",
    "e =5\n",
    "e"
   ]
  },
  {
   "cell_type": "code",
   "execution_count": 25,
   "id": "d6cdc1ca-6a13-4a06-8e8d-8e023223736c",
   "metadata": {
    "tags": []
   },
   "outputs": [
    {
     "name": "stdout",
     "output_type": "stream",
     "text": [
      "5\n"
     ]
    }
   ],
   "source": [
    "print(e)"
   ]
  },
  {
   "cell_type": "code",
   "execution_count": 28,
   "id": "e41e9ae0-dc53-4d5d-b486-160602580739",
   "metadata": {
    "tags": []
   },
   "outputs": [
    {
     "name": "stdout",
     "output_type": "stream",
     "text": [
      "15\n",
      "25\n"
     ]
    },
    {
     "data": {
      "text/plain": [
       "5"
      ]
     },
     "execution_count": 28,
     "metadata": {},
     "output_type": "execute_result"
    }
   ],
   "source": [
    "a = 5\n",
    "c=10\n",
    "print(a+c)\n",
    "print(a+d)\n",
    "d =20\n",
    "e"
   ]
  },
  {
   "cell_type": "code",
   "execution_count": 29,
   "id": "2c54b53d-cbc4-4402-a01a-1c2c897fb8a7",
   "metadata": {
    "tags": []
   },
   "outputs": [
    {
     "name": "stdout",
     "output_type": "stream",
     "text": [
      "10\n"
     ]
    }
   ],
   "source": [
    "b= 10\n",
    "print(b)"
   ]
  },
  {
   "cell_type": "code",
   "execution_count": null,
   "id": "7c01752c-71a8-4965-90c8-701277e4f649",
   "metadata": {},
   "outputs": [],
   "source": []
  },
  {
   "cell_type": "code",
   "execution_count": null,
   "id": "a63994fc-f7a9-4384-8c8d-cd1e4f3167b1",
   "metadata": {},
   "outputs": [],
   "source": []
  },
  {
   "cell_type": "code",
   "execution_count": null,
   "id": "6ffc3aa9-ce22-4bf1-85d0-ac1df957e303",
   "metadata": {},
   "outputs": [],
   "source": []
  },
  {
   "cell_type": "code",
   "execution_count": null,
   "id": "e60c4ec8-b998-45aa-8d61-9ce2c5e2e455",
   "metadata": {},
   "outputs": [],
   "source": []
  },
  {
   "cell_type": "code",
   "execution_count": null,
   "id": "5f761531-07c1-4373-b002-44bd416662bc",
   "metadata": {},
   "outputs": [],
   "source": []
  },
  {
   "cell_type": "code",
   "execution_count": null,
   "id": "5e86ac72-e742-4465-bb3d-bf1d36fcf837",
   "metadata": {},
   "outputs": [],
   "source": []
  },
  {
   "cell_type": "code",
   "execution_count": 30,
   "id": "91b6b7d5-b362-46bb-90be-b3a98aa4dbd9",
   "metadata": {
    "tags": []
   },
   "outputs": [
    {
     "name": "stdout",
     "output_type": "stream",
     "text": [
      "Hello\n",
      "world\n"
     ]
    }
   ],
   "source": [
    "print(\"Hello\")\n",
    "print(\"world\")"
   ]
  },
  {
   "cell_type": "code",
   "execution_count": 32,
   "id": "630e411d-1de9-4c05-b7df-3e8085d75a9e",
   "metadata": {
    "tags": []
   },
   "outputs": [
    {
     "name": "stdout",
     "output_type": "stream",
     "text": [
      "hello world\n"
     ]
    }
   ],
   "source": [
    "print(\"hello world\")"
   ]
  },
  {
   "cell_type": "code",
   "execution_count": 33,
   "id": "0bde2807-2ce0-4bdc-b6b6-7bba57e07ec3",
   "metadata": {
    "tags": []
   },
   "outputs": [],
   "source": [
    "def mySumFunct(a,b=10):\n",
    "    print (a+b)"
   ]
  },
  {
   "cell_type": "code",
   "execution_count": 40,
   "id": "806c5676-a35e-4ce3-a101-ac5167352beb",
   "metadata": {
    "tags": []
   },
   "outputs": [
    {
     "name": "stdout",
     "output_type": "stream",
     "text": [
      "20\n"
     ]
    }
   ],
   "source": [
    "mySumFunct(10)"
   ]
  },
  {
   "cell_type": "code",
   "execution_count": 41,
   "id": "6b911e4a-4acb-488f-934d-103b4e877b06",
   "metadata": {
    "tags": []
   },
   "outputs": [
    {
     "name": "stdout",
     "output_type": "stream",
     "text": [
      "600\n"
     ]
    }
   ],
   "source": [
    "mySumFunct(100,500)"
   ]
  },
  {
   "cell_type": "code",
   "execution_count": null,
   "id": "c9567b8c-41fd-499f-872a-6703ca196da0",
   "metadata": {},
   "outputs": [],
   "source": [
    "mySumFunct(100)"
   ]
  },
  {
   "cell_type": "code",
   "execution_count": 73,
   "id": "746f93bf-0e1e-49f8-a9eb-63a171181fb9",
   "metadata": {
    "tags": []
   },
   "outputs": [],
   "source": [
    "def mySumFunction2(a,b=10):\n",
    "    print(a+b)"
   ]
  },
  {
   "cell_type": "code",
   "execution_count": 76,
   "id": "64fd73f7-fc5a-4e76-86a2-24ecedeefb89",
   "metadata": {
    "tags": []
   },
   "outputs": [
    {
     "name": "stdout",
     "output_type": "stream",
     "text": [
      "55\n"
     ]
    }
   ],
   "source": [
    "mySumFunction2(b = 10,a=45)"
   ]
  },
  {
   "cell_type": "code",
   "execution_count": null,
   "id": "f1783bcc-6b1f-4741-8571-58baebe63c0b",
   "metadata": {},
   "outputs": [],
   "source": []
  },
  {
   "cell_type": "code",
   "execution_count": 39,
   "id": "70fc3766-b65b-43b0-8286-9e5ffd0ae0ba",
   "metadata": {
    "tags": []
   },
   "outputs": [
    {
     "name": "stdout",
     "output_type": "stream",
     "text": [
      "helloworld<--------"
     ]
    }
   ],
   "source": [
    "print(\"hello\",end=\"\")\n",
    "print(\"world\", end=\"<--------\")"
   ]
  },
  {
   "cell_type": "code",
   "execution_count": null,
   "id": "64702024-8c59-4517-9a0d-07620f234770",
   "metadata": {},
   "outputs": [],
   "source": []
  },
  {
   "cell_type": "code",
   "execution_count": null,
   "id": "56dfddae-91d1-4292-9e54-513534dfa633",
   "metadata": {},
   "outputs": [],
   "source": []
  },
  {
   "cell_type": "code",
   "execution_count": null,
   "id": "c2e239e7-944c-44f6-9498-7c8a83608ee8",
   "metadata": {},
   "outputs": [],
   "source": []
  },
  {
   "cell_type": "code",
   "execution_count": null,
   "id": "ced4c26b-a54b-487f-82ee-ca81568577d5",
   "metadata": {},
   "outputs": [],
   "source": []
  },
  {
   "cell_type": "code",
   "execution_count": null,
   "id": "242ff48f-474d-4bdd-a2b8-6ee770a73e81",
   "metadata": {},
   "outputs": [],
   "source": []
  },
  {
   "cell_type": "code",
   "execution_count": 42,
   "id": "47371565-956e-4f2b-bab3-f08629f2fb49",
   "metadata": {
    "tags": []
   },
   "outputs": [],
   "source": [
    "def mySumFunct(a,b=10):\n",
    "    print (a+b)"
   ]
  },
  {
   "cell_type": "code",
   "execution_count": null,
   "id": "7c3a7bd6-8103-447d-b852-13e5e7b49144",
   "metadata": {},
   "outputs": [],
   "source": [
    "mySumFunct(100)"
   ]
  },
  {
   "cell_type": "code",
   "execution_count": null,
   "id": "2d4222b8-1a6a-4e0c-93d2-4b07c40ef1dd",
   "metadata": {},
   "outputs": [],
   "source": []
  },
  {
   "cell_type": "code",
   "execution_count": null,
   "id": "b8a54377-2c89-46ed-8830-3ee651ab16af",
   "metadata": {},
   "outputs": [],
   "source": []
  },
  {
   "cell_type": "code",
   "execution_count": null,
   "id": "c92e97b5-2349-4ba4-aa50-bd3ed5f2be9d",
   "metadata": {},
   "outputs": [],
   "source": []
  },
  {
   "cell_type": "code",
   "execution_count": null,
   "id": "fc368ec2-4d9e-4c00-b0e0-e3041d085343",
   "metadata": {},
   "outputs": [],
   "source": []
  },
  {
   "cell_type": "code",
   "execution_count": null,
   "id": "baf54e75-aaf2-43a6-b562-3e446ffb220b",
   "metadata": {},
   "outputs": [],
   "source": []
  },
  {
   "cell_type": "code",
   "execution_count": 43,
   "id": "b6ab996b-2014-4f97-8d8f-ed8dfca728eb",
   "metadata": {
    "tags": []
   },
   "outputs": [
    {
     "name": "stdout",
     "output_type": "stream",
     "text": [
      "600\n"
     ]
    }
   ],
   "source": [
    "mySumFunct(100,500)"
   ]
  },
  {
   "cell_type": "code",
   "execution_count": null,
   "id": "9834fc73-2569-4177-bef5-6e3d7f511e92",
   "metadata": {},
   "outputs": [],
   "source": []
  },
  {
   "cell_type": "code",
   "execution_count": 45,
   "id": "e4502dfd-ddcf-4fa6-afd6-faf699cbabe6",
   "metadata": {
    "tags": []
   },
   "outputs": [
    {
     "name": "stdout",
     "output_type": "stream",
     "text": [
      "900\n"
     ]
    }
   ],
   "source": [
    "mySumFunct(400,500)"
   ]
  },
  {
   "cell_type": "code",
   "execution_count": null,
   "id": "5949af9d-1e23-4497-affc-928b1b779ad1",
   "metadata": {},
   "outputs": [],
   "source": []
  },
  {
   "cell_type": "code",
   "execution_count": null,
   "id": "adfc9e74-ee35-4001-9e48-fbfc6c6ee8e5",
   "metadata": {},
   "outputs": [],
   "source": []
  },
  {
   "cell_type": "code",
   "execution_count": null,
   "id": "2f1dcf58-b534-41d3-a39b-c15ad6c679ee",
   "metadata": {},
   "outputs": [],
   "source": [
    "print( str1,str2 , end = \"\\n\")"
   ]
  },
  {
   "cell_type": "code",
   "execution_count": null,
   "id": "fb6dfa5a-9c59-42fc-aee7-60a779923649",
   "metadata": {},
   "outputs": [],
   "source": []
  },
  {
   "cell_type": "code",
   "execution_count": 46,
   "id": "c0780a6f-7341-4b99-878d-3d5d604e38d5",
   "metadata": {
    "tags": []
   },
   "outputs": [
    {
     "name": "stdout",
     "output_type": "stream",
     "text": [
      "Line 1\n",
      "Line 2\n"
     ]
    }
   ],
   "source": [
    "print(\"Line 1\")\n",
    "print(\"Line 2\")"
   ]
  },
  {
   "cell_type": "code",
   "execution_count": null,
   "id": "a511dd5a-9a69-4a10-89f2-71e3eaf38eae",
   "metadata": {},
   "outputs": [],
   "source": []
  },
  {
   "cell_type": "code",
   "execution_count": null,
   "id": "874345bf-8eb2-4d89-a771-2fe453cb07bc",
   "metadata": {},
   "outputs": [],
   "source": []
  },
  {
   "cell_type": "code",
   "execution_count": null,
   "id": "c1d92eb1-f94d-4eb3-b0a7-bc80fefd2ce6",
   "metadata": {},
   "outputs": [],
   "source": []
  },
  {
   "cell_type": "code",
   "execution_count": 47,
   "id": "bbfc5856-273f-4a5d-ba50-31fd31498103",
   "metadata": {
    "tags": []
   },
   "outputs": [
    {
     "name": "stdout",
     "output_type": "stream",
     "text": [
      "Line 1     Line 2\n"
     ]
    }
   ],
   "source": [
    "print(\"Line 1\",end = \"     \")\n",
    "print(\"Line 2\")"
   ]
  },
  {
   "cell_type": "code",
   "execution_count": null,
   "id": "bb622945-7dad-4459-8657-39e8bb742337",
   "metadata": {},
   "outputs": [],
   "source": []
  },
  {
   "cell_type": "code",
   "execution_count": 49,
   "id": "6abcc9d4-a63a-48ba-8b82-a3a2cbc2c8fb",
   "metadata": {
    "tags": []
   },
   "outputs": [
    {
     "name": "stdout",
     "output_type": "stream",
     "text": [
      "Hello World yo\n"
     ]
    }
   ],
   "source": [
    "print(\"Hello\" , end = \" \")\n",
    "print(\"World\", end = \" \")\n",
    "print(\"yo\")"
   ]
  },
  {
   "cell_type": "code",
   "execution_count": null,
   "id": "0ea479eb-5467-48f5-b133-27a8cd39db5f",
   "metadata": {},
   "outputs": [],
   "source": []
  },
  {
   "cell_type": "code",
   "execution_count": null,
   "id": "7eb72efe-81e9-4980-a296-ab8a1a99cdde",
   "metadata": {},
   "outputs": [],
   "source": []
  },
  {
   "cell_type": "code",
   "execution_count": null,
   "id": "8bdf7ada-c0c1-4818-95c9-4bbfe835e697",
   "metadata": {},
   "outputs": [],
   "source": []
  },
  {
   "cell_type": "code",
   "execution_count": null,
   "id": "71fba951-fef2-4ab3-8996-264b47891183",
   "metadata": {},
   "outputs": [],
   "source": []
  },
  {
   "cell_type": "code",
   "execution_count": null,
   "id": "ae64832d-7655-4428-8867-7a2e58b40c67",
   "metadata": {},
   "outputs": [],
   "source": [
    "print ( "
   ]
  },
  {
   "cell_type": "code",
   "execution_count": 51,
   "id": "9c802ac8-e5fd-4e20-abee-14b6ea48dd56",
   "metadata": {
    "tags": []
   },
   "outputs": [],
   "source": [
    "# Just a curious question, why do we want to write hello\n",
    "# and world n separate line and join them with end?"
   ]
  },
  {
   "cell_type": "code",
   "execution_count": 52,
   "id": "f531d439-571e-4f3c-b361-5f11cc5e2115",
   "metadata": {
    "tags": []
   },
   "outputs": [
    {
     "name": "stdout",
     "output_type": "stream",
     "text": [
      "The mean is\n",
      "5.55\n"
     ]
    }
   ],
   "source": [
    "print(\"The mean is\")\n",
    "print(\"5.55\")"
   ]
  },
  {
   "cell_type": "code",
   "execution_count": 53,
   "id": "e67c44ca-bc5e-47ff-a796-4aab1b27f1e6",
   "metadata": {
    "tags": []
   },
   "outputs": [
    {
     "name": "stdout",
     "output_type": "stream",
     "text": [
      "The mean is 5.55\n"
     ]
    }
   ],
   "source": [
    "print(\"The mean is\",end=\" \")\n",
    "print(\"5.55\")"
   ]
  },
  {
   "cell_type": "code",
   "execution_count": null,
   "id": "8d22c8bd-50fb-412e-8327-d9919797052a",
   "metadata": {},
   "outputs": [],
   "source": []
  },
  {
   "cell_type": "code",
   "execution_count": 57,
   "id": "59714e70-5827-45b5-9db7-bf8aea6ccb28",
   "metadata": {
    "tags": []
   },
   "outputs": [
    {
     "name": "stdout",
     "output_type": "stream",
     "text": [
      "+91-99999999999"
     ]
    }
   ],
   "source": [
    "print( \"+91-9999999999912\",end='\\b\\b')"
   ]
  },
  {
   "cell_type": "code",
   "execution_count": 59,
   "id": "10b85646-5261-40e2-a1e1-6edb5b53ce5b",
   "metadata": {
    "tags": []
   },
   "outputs": [
    {
     "name": "stdout",
     "output_type": "stream",
     "text": [
      "No HellPython\n"
     ]
    }
   ],
   "source": [
    "print(\"No Hello\",end='\\b')\n",
    "print(\"Python\")"
   ]
  },
  {
   "cell_type": "code",
   "execution_count": 61,
   "id": "ffd8c11e-b694-4ea4-b291-c1c7a57267e8",
   "metadata": {
    "tags": []
   },
   "outputs": [
    {
     "name": "stdout",
     "output_type": "stream",
     "text": [
      "ABC"
     ]
    }
   ],
   "source": [
    "# \\n \n",
    "# \\t \n",
    "# \\b\n",
    "\n",
    "# pan card or aadhar number\n",
    "\n",
    "print (\"ABCDE\",end='\\b\\b')\n"
   ]
  },
  {
   "cell_type": "code",
   "execution_count": null,
   "id": "4b4ab389-0e3c-435e-9e08-a94005d70f3a",
   "metadata": {},
   "outputs": [],
   "source": []
  },
  {
   "cell_type": "code",
   "execution_count": null,
   "id": "17562b33-a9b6-4324-ba53-e7f6fbd69735",
   "metadata": {},
   "outputs": [],
   "source": []
  },
  {
   "cell_type": "code",
   "execution_count": null,
   "id": "3d793c05-665e-4261-840b-b348da0322f4",
   "metadata": {},
   "outputs": [],
   "source": []
  },
  {
   "cell_type": "code",
   "execution_count": 69,
   "id": "a3412867-ba8d-4e8e-9fc1-5764ef313819",
   "metadata": {
    "tags": []
   },
   "outputs": [
    {
     "name": "stdout",
     "output_type": "stream",
     "text": [
      "Hello<>>>World<>>>Python\n"
     ]
    }
   ],
   "source": [
    "print(\"Hello\",\"World\",\"Python\",end='\\n',sep='<>>>')"
   ]
  },
  {
   "cell_type": "code",
   "execution_count": null,
   "id": "81eefbc3-bb82-4668-bc08-1cb3ea8f01dd",
   "metadata": {},
   "outputs": [],
   "source": []
  },
  {
   "cell_type": "code",
   "execution_count": 77,
   "id": "e29e66d6-f2f4-47c7-ad81-72edd72de9e5",
   "metadata": {
    "tags": []
   },
   "outputs": [
    {
     "name": "stdout",
     "output_type": "stream",
     "text": [
      "889992223"
     ]
    }
   ],
   "source": [
    "print(\"8899922231\", end = \"\\b\")"
   ]
  },
  {
   "cell_type": "code",
   "execution_count": 78,
   "id": "ec986f8f-b9d5-44f6-8ddc-b3ff32b0bb47",
   "metadata": {
    "tags": []
   },
   "outputs": [
    {
     "name": "stdout",
     "output_type": "stream",
     "text": [
      "Hello<>GenAI batchYo"
     ]
    }
   ],
   "source": [
    "print(\"Hello\",\"GenAI batch\",sep = '<>',end=\"Yo\")"
   ]
  },
  {
   "cell_type": "markdown",
   "id": "6723e995-4b14-46f9-b279-5189d6b51061",
   "metadata": {},
   "source": [
    "# Input Function"
   ]
  },
  {
   "cell_type": "code",
   "execution_count": 79,
   "id": "096957b9-74ba-4ca3-a1af-4c523cdfe52a",
   "metadata": {
    "tags": []
   },
   "outputs": [
    {
     "name": "stdin",
     "output_type": "stream",
     "text": [
      " 5\n"
     ]
    },
    {
     "data": {
      "text/plain": [
       "'5'"
      ]
     },
     "execution_count": 79,
     "metadata": {},
     "output_type": "execute_result"
    }
   ],
   "source": [
    "input()"
   ]
  },
  {
   "cell_type": "code",
   "execution_count": 82,
   "id": "cb076103-0912-407d-8e22-eb0f092bab35",
   "metadata": {
    "tags": []
   },
   "outputs": [
    {
     "name": "stdin",
     "output_type": "stream",
     "text": [
      " 500\n"
     ]
    },
    {
     "name": "stdout",
     "output_type": "stream",
     "text": [
      "500\n"
     ]
    }
   ],
   "source": [
    "firstNumber = input()\n",
    "# firstNumber = 100\n",
    "print(firstNumber)"
   ]
  },
  {
   "cell_type": "code",
   "execution_count": null,
   "id": "e3f3d51d-96a1-4c5a-ba5d-af88e17eafe7",
   "metadata": {},
   "outputs": [],
   "source": []
  },
  {
   "cell_type": "code",
   "execution_count": 83,
   "id": "d679c020-0d7b-4a4f-b5b4-c0e72713626d",
   "metadata": {
    "tags": []
   },
   "outputs": [
    {
     "name": "stdin",
     "output_type": "stream",
     "text": [
      " 4\n",
      " 5\n",
      " 6\n"
     ]
    }
   ],
   "source": [
    "first = input()\n",
    "second = input()\n",
    "third = input()\n",
    "\n"
   ]
  },
  {
   "cell_type": "code",
   "execution_count": 84,
   "id": "06b5bc0f-9460-4e43-85a6-559b9778cfd9",
   "metadata": {
    "tags": []
   },
   "outputs": [
    {
     "name": "stdin",
     "output_type": "stream",
     "text": [
      "enter first Number 5\n",
      "enter second Number 10\n",
      "enter third Number 15\n"
     ]
    }
   ],
   "source": [
    "first = input(\"enter first Number\")\n",
    "second = input(\"enter second Number\")\n",
    "third = input(\"enter third Number\")\n"
   ]
  },
  {
   "cell_type": "code",
   "execution_count": 90,
   "id": "5d8c4020-e4f4-4e0a-9167-2f4a668e072c",
   "metadata": {
    "tags": []
   },
   "outputs": [
    {
     "data": {
      "text/plain": [
       "'51015'"
      ]
     },
     "execution_count": 90,
     "metadata": {},
     "output_type": "execute_result"
    }
   ],
   "source": [
    "first + second + third"
   ]
  },
  {
   "cell_type": "code",
   "execution_count": 86,
   "id": "95ec47a4-8d96-4a2c-ab1d-9a90b77b561d",
   "metadata": {
    "tags": []
   },
   "outputs": [
    {
     "name": "stdin",
     "output_type": "stream",
     "text": [
      " 500\n"
     ]
    },
    {
     "data": {
      "text/plain": [
       "'500'"
      ]
     },
     "execution_count": 86,
     "metadata": {},
     "output_type": "execute_result"
    }
   ],
   "source": [
    "input()"
   ]
  },
  {
   "cell_type": "code",
   "execution_count": 85,
   "id": "43af662a-70c5-4689-bc3d-13431dfd54aa",
   "metadata": {
    "tags": []
   },
   "outputs": [
    {
     "name": "stdout",
     "output_type": "stream",
     "text": [
      "5 10 15\n"
     ]
    }
   ],
   "source": [
    "print(first,second,third)"
   ]
  },
  {
   "cell_type": "code",
   "execution_count": 87,
   "id": "3d641547-6ecf-4627-aa59-974d6ca551fe",
   "metadata": {
    "tags": []
   },
   "outputs": [
    {
     "name": "stdin",
     "output_type": "stream",
     "text": [
      " cricket\n"
     ]
    }
   ],
   "source": [
    "searchQuery = input(\"\")"
   ]
  },
  {
   "cell_type": "code",
   "execution_count": 88,
   "id": "f5aedaf7-1669-444d-ba3f-0a3f14a2bd86",
   "metadata": {
    "tags": []
   },
   "outputs": [
    {
     "name": "stdin",
     "output_type": "stream",
     "text": [
      "What do you want me to search cricket\n"
     ]
    }
   ],
   "source": [
    "searchQuery = input(\"What do you want me to search\")"
   ]
  },
  {
   "cell_type": "code",
   "execution_count": 89,
   "id": "3e4f8962-a594-4223-bd5b-8d238641a3ae",
   "metadata": {
    "tags": []
   },
   "outputs": [
    {
     "data": {
      "text/plain": [
       "str"
      ]
     },
     "execution_count": 89,
     "metadata": {},
     "output_type": "execute_result"
    }
   ],
   "source": [
    "type(searchQuery)"
   ]
  },
  {
   "cell_type": "code",
   "execution_count": null,
   "id": "afe95919-0b6e-4c01-90db-b98fbc0b278d",
   "metadata": {},
   "outputs": [],
   "source": []
  },
  {
   "cell_type": "code",
   "execution_count": null,
   "id": "9540dcc4-2f65-4ed1-97aa-f069c9399cf0",
   "metadata": {},
   "outputs": [],
   "source": []
  }
 ],
 "metadata": {
  "kernelspec": {
   "display_name": "Python 3 (ipykernel)",
   "language": "python",
   "name": "python3"
  },
  "language_info": {
   "codemirror_mode": {
    "name": "ipython",
    "version": 3
   },
   "file_extension": ".py",
   "mimetype": "text/x-python",
   "name": "python",
   "nbconvert_exporter": "python",
   "pygments_lexer": "ipython3",
   "version": "3.11.5"
  }
 },
 "nbformat": 4,
 "nbformat_minor": 5
}
