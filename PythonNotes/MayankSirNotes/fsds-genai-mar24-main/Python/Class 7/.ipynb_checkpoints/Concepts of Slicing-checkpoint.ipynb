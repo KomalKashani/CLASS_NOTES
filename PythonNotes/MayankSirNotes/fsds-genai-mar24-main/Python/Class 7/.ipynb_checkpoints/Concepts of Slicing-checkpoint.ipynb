{
 "cells": [
  {
   "cell_type": "code",
   "execution_count": 1,
   "id": "ea18407f-f108-4af2-aa7d-47bfe347f819",
   "metadata": {
    "tags": []
   },
   "outputs": [],
   "source": [
    "# Using +ve and -ve value inside slicing\n"
   ]
  },
  {
   "cell_type": "code",
   "execution_count": 2,
   "id": "bcefbcb6-381d-4a7a-8d4c-eb64ef0c14ff",
   "metadata": {
    "tags": []
   },
   "outputs": [],
   "source": [
    "s =\"PYTHON\""
   ]
  },
  {
   "cell_type": "code",
   "execution_count": 3,
   "id": "6ecf3be3-1c60-46f6-8fa3-a8b3eb24a581",
   "metadata": {
    "tags": []
   },
   "outputs": [
    {
     "data": {
      "text/plain": [
       "'N'"
      ]
     },
     "execution_count": 3,
     "metadata": {},
     "output_type": "execute_result"
    }
   ],
   "source": [
    "s[-1]"
   ]
  },
  {
   "cell_type": "code",
   "execution_count": null,
   "id": "0d7f221e-2d72-40d3-b680-8676fcc06508",
   "metadata": {},
   "outputs": [],
   "source": []
  },
  {
   "cell_type": "code",
   "execution_count": null,
   "id": "5049f654-a375-49ca-bf68-918d5e9614cb",
   "metadata": {},
   "outputs": [],
   "source": []
  },
  {
   "cell_type": "code",
   "execution_count": 4,
   "id": "f888dd1b-bbc7-4bf9-89d2-ec13bde5e62a",
   "metadata": {
    "tags": []
   },
   "outputs": [
    {
     "data": {
      "text/plain": [
       "'TH'"
      ]
     },
     "execution_count": 4,
     "metadata": {},
     "output_type": "execute_result"
    }
   ],
   "source": [
    "s[-4:4]"
   ]
  },
  {
   "cell_type": "code",
   "execution_count": 5,
   "id": "f3a1b55e-1420-442a-8c7d-17cbfd1c38ad",
   "metadata": {
    "tags": []
   },
   "outputs": [
    {
     "data": {
      "text/plain": [
       "'TH'"
      ]
     },
     "execution_count": 5,
     "metadata": {},
     "output_type": "execute_result"
    }
   ],
   "source": [
    "s[2:4]"
   ]
  },
  {
   "cell_type": "code",
   "execution_count": 6,
   "id": "d7ee920e-0d57-4f40-a4ed-4325b0a6d4d8",
   "metadata": {
    "tags": []
   },
   "outputs": [
    {
     "data": {
      "text/plain": [
       "'TH'"
      ]
     },
     "execution_count": 6,
     "metadata": {},
     "output_type": "execute_result"
    }
   ],
   "source": [
    "s[-4:-2]"
   ]
  },
  {
   "cell_type": "code",
   "execution_count": null,
   "id": "dc779ec0-cee1-4876-b2cb-d105712e6b77",
   "metadata": {},
   "outputs": [],
   "source": []
  },
  {
   "cell_type": "code",
   "execution_count": null,
   "id": "f761d697-8fdd-4ab5-af0e-cfb7bfe797ef",
   "metadata": {},
   "outputs": [],
   "source": []
  },
  {
   "cell_type": "code",
   "execution_count": 7,
   "id": "cd9a6c57-4b56-44d3-aed0-43311048a24e",
   "metadata": {
    "tags": []
   },
   "outputs": [
    {
     "data": {
      "text/plain": [
       "''"
      ]
     },
     "execution_count": 7,
     "metadata": {},
     "output_type": "execute_result"
    }
   ],
   "source": [
    "s[-4:0:1]"
   ]
  },
  {
   "cell_type": "code",
   "execution_count": 8,
   "id": "631b5d2c-becf-49cb-b8b4-6f00c100d8dd",
   "metadata": {
    "tags": []
   },
   "outputs": [
    {
     "data": {
      "text/plain": [
       "''"
      ]
     },
     "execution_count": 8,
     "metadata": {},
     "output_type": "execute_result"
    }
   ],
   "source": [
    "s[2:0]"
   ]
  },
  {
   "cell_type": "code",
   "execution_count": 9,
   "id": "03131775-4026-4742-9481-3ad744d69711",
   "metadata": {
    "tags": []
   },
   "outputs": [
    {
     "data": {
      "text/plain": [
       "''"
      ]
     },
     "execution_count": 9,
     "metadata": {},
     "output_type": "execute_result"
    }
   ],
   "source": [
    "s[-4:-6]"
   ]
  },
  {
   "cell_type": "code",
   "execution_count": null,
   "id": "1ea7e399-ae82-4bf2-9c69-ce72c23205f6",
   "metadata": {},
   "outputs": [],
   "source": []
  },
  {
   "cell_type": "code",
   "execution_count": null,
   "id": "e6bc1a78-1c22-429f-b59a-42fb7ca295ba",
   "metadata": {},
   "outputs": [],
   "source": [
    "a[-4,0] = ' '\n",
    "a[-4,6] = 'THON'\n",
    "why first case result is not THON ?"
   ]
  },
  {
   "cell_type": "markdown",
   "id": "6b1e80f0-7947-4c70-9f3f-f972fe6dea3b",
   "metadata": {
    "tags": []
   },
   "source": [
    "# Default Value for -ve stride"
   ]
  },
  {
   "cell_type": "code",
   "execution_count": 11,
   "id": "44ebb475-f06d-456c-9dec-3494cb7b07ca",
   "metadata": {
    "tags": []
   },
   "outputs": [
    {
     "data": {
      "text/plain": [
       "'NOHTYP'"
      ]
     },
     "execution_count": 11,
     "metadata": {},
     "output_type": "execute_result"
    }
   ],
   "source": [
    "s[::-1]"
   ]
  },
  {
   "cell_type": "code",
   "execution_count": 12,
   "id": "1bde81fd-edbf-4db0-9cf1-440e481e1171",
   "metadata": {
    "tags": []
   },
   "outputs": [
    {
     "data": {
      "text/plain": [
       "'NO'"
      ]
     },
     "execution_count": 12,
     "metadata": {},
     "output_type": "execute_result"
    }
   ],
   "source": [
    "s[:3:-1]"
   ]
  },
  {
   "cell_type": "code",
   "execution_count": 13,
   "id": "9ec5510a-2dbf-415e-baa6-6e07fc35798b",
   "metadata": {
    "tags": []
   },
   "outputs": [
    {
     "data": {
      "text/plain": [
       "'N'"
      ]
     },
     "execution_count": 13,
     "metadata": {},
     "output_type": "execute_result"
    }
   ],
   "source": [
    "s[:4:-1]"
   ]
  },
  {
   "cell_type": "code",
   "execution_count": 14,
   "id": "cf7c7e7b-110f-4a3d-a185-c660a402744f",
   "metadata": {
    "tags": []
   },
   "outputs": [
    {
     "data": {
      "text/plain": [
       "'TYP'"
      ]
     },
     "execution_count": 14,
     "metadata": {},
     "output_type": "execute_result"
    }
   ],
   "source": [
    "s[2::-1]"
   ]
  },
  {
   "cell_type": "code",
   "execution_count": 15,
   "id": "3db2d228-ff89-400f-bbe9-770c14c4be74",
   "metadata": {
    "tags": []
   },
   "outputs": [],
   "source": [
    "str1= \"abc\""
   ]
  },
  {
   "cell_type": "code",
   "execution_count": 16,
   "id": "d7aca43f-05a4-4f9e-8950-a0129fd94351",
   "metadata": {
    "tags": []
   },
   "outputs": [
    {
     "data": {
      "text/plain": [
       "'cba'"
      ]
     },
     "execution_count": 16,
     "metadata": {},
     "output_type": "execute_result"
    }
   ],
   "source": [
    "str1[::-1]"
   ]
  },
  {
   "cell_type": "code",
   "execution_count": 17,
   "id": "59c51cb0-2dbb-44bc-8214-c996fe7dee68",
   "metadata": {
    "tags": []
   },
   "outputs": [
    {
     "data": {
      "text/plain": [
       "'ba'"
      ]
     },
     "execution_count": 17,
     "metadata": {},
     "output_type": "execute_result"
    }
   ],
   "source": [
    "str1[1::-1]"
   ]
  },
  {
   "cell_type": "code",
   "execution_count": null,
   "id": "fafedb7f-8801-4dc7-a928-2c35ce0dfaec",
   "metadata": {},
   "outputs": [],
   "source": []
  },
  {
   "cell_type": "markdown",
   "id": "3eccf01d-4239-4130-80e9-5d8b3ecb01ab",
   "metadata": {},
   "source": [
    "# NESTED SLICING"
   ]
  },
  {
   "cell_type": "code",
   "execution_count": 18,
   "id": "754e8e41-f0fe-4b8a-9028-344e722cd02f",
   "metadata": {
    "tags": []
   },
   "outputs": [],
   "source": [
    "s = \"PYTHON IS GREAT\""
   ]
  },
  {
   "cell_type": "code",
   "execution_count": 21,
   "id": "a54ac1a0-0a21-47cc-a2ac-fbe4737e6d4d",
   "metadata": {
    "tags": []
   },
   "outputs": [],
   "source": [
    "s2 = s[0:6]"
   ]
  },
  {
   "cell_type": "code",
   "execution_count": 22,
   "id": "c97dfd3d-9749-4486-81cc-63fb77024f42",
   "metadata": {
    "tags": []
   },
   "outputs": [
    {
     "data": {
      "text/plain": [
       "'PYT'"
      ]
     },
     "execution_count": 22,
     "metadata": {},
     "output_type": "execute_result"
    }
   ],
   "source": [
    "s2[0:3]"
   ]
  },
  {
   "cell_type": "code",
   "execution_count": null,
   "id": "e392d1f7-a040-49ac-84d4-0f9919d4a097",
   "metadata": {},
   "outputs": [],
   "source": []
  },
  {
   "cell_type": "code",
   "execution_count": 24,
   "id": "553cae89-431e-465e-a1ab-53d8e94c07f5",
   "metadata": {
    "tags": []
   },
   "outputs": [
    {
     "data": {
      "text/plain": [
       "'P'"
      ]
     },
     "execution_count": 24,
     "metadata": {},
     "output_type": "execute_result"
    }
   ],
   "source": [
    "s[0:6][0:3]"
   ]
  },
  {
   "cell_type": "code",
   "execution_count": null,
   "id": "5d0c9c05-b07e-4610-badd-38faa625cb3b",
   "metadata": {},
   "outputs": [],
   "source": []
  },
  {
   "cell_type": "code",
   "execution_count": 25,
   "id": "ca0e1cb4-b9fe-4cf2-9327-c308fa72a437",
   "metadata": {
    "tags": []
   },
   "outputs": [],
   "source": [
    "mystring = \"abcdefghi\""
   ]
  },
  {
   "cell_type": "code",
   "execution_count": 26,
   "id": "264d7447-8077-4fac-b70a-3b7975b6f01f",
   "metadata": {
    "tags": []
   },
   "outputs": [],
   "source": [
    "myStringSliced = mystring[0:3]"
   ]
  },
  {
   "cell_type": "code",
   "execution_count": 27,
   "id": "38d0c34e-e2ce-48d8-b1f2-33ca4c0c15fa",
   "metadata": {
    "tags": []
   },
   "outputs": [
    {
     "data": {
      "text/plain": [
       "'abc'"
      ]
     },
     "execution_count": 27,
     "metadata": {},
     "output_type": "execute_result"
    }
   ],
   "source": [
    "mystring[0:3]"
   ]
  },
  {
   "cell_type": "code",
   "execution_count": 28,
   "id": "e7217017-871f-4e6d-8482-ce6b797c4a0c",
   "metadata": {
    "tags": []
   },
   "outputs": [
    {
     "data": {
      "text/plain": [
       "'abc'"
      ]
     },
     "execution_count": 28,
     "metadata": {},
     "output_type": "execute_result"
    }
   ],
   "source": [
    "myStringSliced"
   ]
  },
  {
   "cell_type": "code",
   "execution_count": 29,
   "id": "f353918e-79b2-4dc0-b155-0d9dd21deeac",
   "metadata": {
    "tags": []
   },
   "outputs": [
    {
     "data": {
      "text/plain": [
       "'ab'"
      ]
     },
     "execution_count": 29,
     "metadata": {},
     "output_type": "execute_result"
    }
   ],
   "source": [
    "myStringSliced[0:2]"
   ]
  },
  {
   "cell_type": "code",
   "execution_count": 30,
   "id": "a0053851-e8b0-491c-9632-be846bac1e95",
   "metadata": {
    "tags": []
   },
   "outputs": [
    {
     "data": {
      "text/plain": [
       "'ab'"
      ]
     },
     "execution_count": 30,
     "metadata": {},
     "output_type": "execute_result"
    }
   ],
   "source": [
    "mystring[0:3][0:2]"
   ]
  }
 ],
 "metadata": {
  "kernelspec": {
   "display_name": "Python 3 (ipykernel)",
   "language": "python",
   "name": "python3"
  },
  "language_info": {
   "codemirror_mode": {
    "name": "ipython",
    "version": 3
   },
   "file_extension": ".py",
   "mimetype": "text/x-python",
   "name": "python",
   "nbconvert_exporter": "python",
   "pygments_lexer": "ipython3",
   "version": "3.11.5"
  }
 },
 "nbformat": 4,
 "nbformat_minor": 5
}
