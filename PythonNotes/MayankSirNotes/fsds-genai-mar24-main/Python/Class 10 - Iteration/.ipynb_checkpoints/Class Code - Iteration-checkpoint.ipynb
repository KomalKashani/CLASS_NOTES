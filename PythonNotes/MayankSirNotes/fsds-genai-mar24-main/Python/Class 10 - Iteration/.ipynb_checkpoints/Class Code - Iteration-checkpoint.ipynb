{
 "cells": [
  {
   "cell_type": "markdown",
   "id": "7c691abc-c548-4cb1-a89d-0665de06d580",
   "metadata": {},
   "source": [
    "# Iteration"
   ]
  },
  {
   "cell_type": "code",
   "execution_count": null,
   "id": "f2b14142-069c-4c34-bb4f-28f2f94f71a6",
   "metadata": {},
   "outputs": [],
   "source": []
  },
  {
   "cell_type": "code",
   "execution_count": 3,
   "id": "a3ddc3fc-c9fb-416e-8124-7e9d566f938a",
   "metadata": {
    "tags": []
   },
   "outputs": [
    {
     "name": "stdout",
     "output_type": "stream",
     "text": [
      "hello\n",
      "hello\n",
      "hello\n",
      "hello\n",
      "hello\n"
     ]
    }
   ],
   "source": [
    "print(\"hello\")\n",
    "print(\"hello\")\n",
    "print(\"hello\")\n",
    "print(\"hello\")\n",
    "print(\"hello\")"
   ]
  },
  {
   "cell_type": "code",
   "execution_count": 7,
   "id": "cdef0a81-e161-44e2-9499-2e1a7f89d8e5",
   "metadata": {
    "tags": []
   },
   "outputs": [
    {
     "name": "stdin",
     "output_type": "stream",
     "text": [
      "Enter first Student Name 1\n",
      "Enter 2 Student Name 1\n",
      "Enter 3 Student Name 1\n",
      "Enter first Student Name 1\n",
      "Enter 2 Student Name 1\n",
      "Enter 3 Student Name 1\n",
      "Enter first Student Name 1\n",
      "Enter 2 Student Name 1\n",
      "Enter 3 Student Name 1\n",
      "Enter first Student Name 1\n",
      "Enter 2 Student Name 1\n",
      "Enter 3 Student Name 1\n"
     ]
    }
   ],
   "source": [
    "name1 = input(\"Enter first Student Name\")\n",
    "name2 = input(\"Enter 2 Student Name\")\n",
    "name3 = input(\"Enter 3 Student Name\")\n",
    "name1 = input(\"Enter first Student Name\")\n",
    "name2 = input(\"Enter 2 Student Name\")\n",
    "name3 = input(\"Enter 3 Student Name\")\n",
    "name1 = input(\"Enter first Student Name\")\n",
    "name2 = input(\"Enter 2 Student Name\")\n",
    "name3 = input(\"Enter 3 Student Name\")\n",
    "name1 = input(\"Enter first Student Name\")\n",
    "name2 = input(\"Enter 2 Student Name\")\n",
    "name3 = input(\"Enter 3 Student Name\")\n",
    "name1 = input(\"Enter first Student Name\")\n",
    "name2 = input(\"Enter 2 Student Name\")\n",
    "name3 = input(\"Enter 3 Student Name\")"
   ]
  },
  {
   "cell_type": "code",
   "execution_count": 4,
   "id": "1162afda-2a2d-45f8-b71a-bed87b49db16",
   "metadata": {
    "tags": []
   },
   "outputs": [],
   "source": [
    "customerInformation = list(('name','email',953,13))"
   ]
  },
  {
   "cell_type": "code",
   "execution_count": 5,
   "id": "a5382d70-75c8-40d8-b589-808fd68eab14",
   "metadata": {
    "tags": []
   },
   "outputs": [
    {
     "data": {
      "text/plain": [
       "['name', 'email', 953, 13]"
      ]
     },
     "execution_count": 5,
     "metadata": {},
     "output_type": "execute_result"
    }
   ],
   "source": [
    "customerInformation"
   ]
  },
  {
   "cell_type": "code",
   "execution_count": 6,
   "id": "1bdcd0c0-fb86-4bbe-b0a8-627231353e63",
   "metadata": {
    "tags": []
   },
   "outputs": [
    {
     "data": {
      "text/plain": [
       "953"
      ]
     },
     "execution_count": 6,
     "metadata": {},
     "output_type": "execute_result"
    }
   ],
   "source": [
    "customerInformation[2]"
   ]
  },
  {
   "cell_type": "code",
   "execution_count": null,
   "id": "b6dada19-3a97-409c-b946-a01e160c397b",
   "metadata": {},
   "outputs": [],
   "source": [
    "studentScores  // 100 students\n",
    "\n",
    "let us find the percentage of each student."
   ]
  },
  {
   "cell_type": "code",
   "execution_count": null,
   "id": "f561d640-8444-43c8-ace5-8ec510e689b5",
   "metadata": {},
   "outputs": [],
   "source": []
  },
  {
   "cell_type": "markdown",
   "id": "23584c77-95d3-459d-bfbb-455c9215061a",
   "metadata": {},
   "source": [
    "# Above is a problem which can be solved by Looping in python"
   ]
  },
  {
   "cell_type": "code",
   "execution_count": 10,
   "id": "bc0e27da-45b3-48d9-8749-d91da6b5d591",
   "metadata": {
    "tags": []
   },
   "outputs": [
    {
     "name": "stdout",
     "output_type": "stream",
     "text": [
      "hello\n",
      "hello\n",
      "hello\n"
     ]
    }
   ],
   "source": [
    "print(\"hello\")\n",
    "print(\"hello\")\n",
    "print(\"hello\")"
   ]
  },
  {
   "cell_type": "code",
   "execution_count": 13,
   "id": "d821248c-61f9-45bc-85ca-a33cad863ba5",
   "metadata": {
    "tags": []
   },
   "outputs": [
    {
     "data": {
      "text/plain": [
       "False"
      ]
     },
     "execution_count": 13,
     "metadata": {},
     "output_type": "execute_result"
    }
   ],
   "source": [
    "3<3"
   ]
  },
  {
   "cell_type": "code",
   "execution_count": 14,
   "id": "8b181f01-6db0-43d0-aef7-00a1ce578e93",
   "metadata": {},
   "outputs": [
    {
     "name": "stdout",
     "output_type": "stream",
     "text": [
      "0\n",
      " i am inside loop\n",
      "1\n",
      " i am inside loop\n",
      "2\n",
      " i am inside loop\n",
      "I am out of loop\n"
     ]
    }
   ],
   "source": [
    "start =0\n",
    "end =3\n",
    "\n",
    "while ( start < end ) :\n",
    "    print(start)\n",
    "    print(\" i am inside loop\")\n",
    "    start = start + 1   # start +=1\n",
    "    \n",
    "\n",
    "print(\"I am out of loop\")\n",
    "\n",
    "\n",
    "\n"
   ]
  },
  {
   "cell_type": "code",
   "execution_count": null,
   "id": "391f0e43-2e1e-4e3f-a7fa-3ada84e5cb43",
   "metadata": {},
   "outputs": [],
   "source": []
  },
  {
   "cell_type": "code",
   "execution_count": 26,
   "id": "5917d848-1515-484c-93ce-c20cd17ce159",
   "metadata": {
    "tags": []
   },
   "outputs": [],
   "source": [
    "start = 4\n",
    "end = 5"
   ]
  },
  {
   "cell_type": "code",
   "execution_count": 20,
   "id": "806327cb-65c9-47d8-8a92-a3be29b881b5",
   "metadata": {
    "tags": []
   },
   "outputs": [
    {
     "name": "stdout",
     "output_type": "stream",
     "text": [
      "4\n"
     ]
    }
   ],
   "source": [
    "while start < end:\n",
    "    print (start)\n",
    "    start = start +1"
   ]
  },
  {
   "cell_type": "code",
   "execution_count": 21,
   "id": "28180403-1a21-4586-91eb-67685bdd6592",
   "metadata": {
    "tags": []
   },
   "outputs": [],
   "source": [
    "while (start < end):   # always make sure to check the values\n",
    "    print(start)\n"
   ]
  },
  {
   "cell_type": "code",
   "execution_count": 27,
   "id": "bb4fc892-9fff-449c-b8fe-f6667c6494be",
   "metadata": {
    "tags": []
   },
   "outputs": [
    {
     "name": "stdout",
     "output_type": "stream",
     "text": [
      "5\n"
     ]
    }
   ],
   "source": [
    "while start < end:\n",
    "    start = start +1\n",
    "    print (start)"
   ]
  },
  {
   "cell_type": "code",
   "execution_count": 28,
   "id": "2bded5d7-89b7-42d2-8ba5-25109ac008d3",
   "metadata": {
    "tags": []
   },
   "outputs": [
    {
     "name": "stdout",
     "output_type": "stream",
     "text": [
      "490\n"
     ]
    }
   ],
   "source": [
    "s = 2\n",
    "e = 5\n",
    "while s<e:\n",
    "    s = 490\n",
    "    print(s)"
   ]
  },
  {
   "cell_type": "code",
   "execution_count": 30,
   "id": "0fcec3eb-284a-4170-8819-a3327a0f2f4b",
   "metadata": {
    "tags": []
   },
   "outputs": [
    {
     "ename": "ZeroDivisionError",
     "evalue": "division by zero",
     "output_type": "error",
     "traceback": [
      "\u001b[0;31m---------------------------------------------------------------------------\u001b[0m",
      "\u001b[0;31mZeroDivisionError\u001b[0m                         Traceback (most recent call last)",
      "Cell \u001b[0;32mIn[30], line 1\u001b[0m\n\u001b[0;32m----> 1\u001b[0m \u001b[38;5;28mprint\u001b[39m (\u001b[38;5;241m100\u001b[39m\u001b[38;5;241m/\u001b[39m\u001b[38;5;241m0\u001b[39m)\n\u001b[1;32m      2\u001b[0m \u001b[38;5;28mprint\u001b[39m(\u001b[38;5;124m\"\u001b[39m\u001b[38;5;124mhello\u001b[39m\u001b[38;5;124m\"\u001b[39m)\n",
      "\u001b[0;31mZeroDivisionError\u001b[0m: division by zero"
     ]
    }
   ],
   "source": [
    "print (100/0)\n",
    "print(\"hello\")"
   ]
  },
  {
   "cell_type": "code",
   "execution_count": 31,
   "id": "1b7c037f-c4dc-46f1-85be-c3e9263950b9",
   "metadata": {
    "tags": []
   },
   "outputs": [
    {
     "name": "stdout",
     "output_type": "stream",
     "text": [
      "-50.0\n",
      "-100.0\n"
     ]
    },
    {
     "ename": "ZeroDivisionError",
     "evalue": "division by zero",
     "output_type": "error",
     "traceback": [
      "\u001b[0;31m---------------------------------------------------------------------------\u001b[0m",
      "\u001b[0;31mZeroDivisionError\u001b[0m                         Traceback (most recent call last)",
      "Cell \u001b[0;32mIn[31], line 6\u001b[0m\n\u001b[1;32m      2\u001b[0m end\u001b[38;5;241m=\u001b[39m\u001b[38;5;241m2\u001b[39m\n\u001b[1;32m      5\u001b[0m \u001b[38;5;28;01mwhile\u001b[39;00m(start\u001b[38;5;241m<\u001b[39mend):\n\u001b[0;32m----> 6\u001b[0m     \u001b[38;5;28mprint\u001b[39m(\u001b[38;5;241m100\u001b[39m\u001b[38;5;241m/\u001b[39mstart)\n\u001b[1;32m      7\u001b[0m     start \u001b[38;5;241m+\u001b[39m\u001b[38;5;241m=\u001b[39m\u001b[38;5;241m1\u001b[39m\n",
      "\u001b[0;31mZeroDivisionError\u001b[0m: division by zero"
     ]
    }
   ],
   "source": [
    "start =-2\n",
    "end=2\n",
    "\n",
    "\n",
    "while(start<end):\n",
    "    print(100/start)\n",
    "    start +=1 # start = start +1"
   ]
  },
  {
   "cell_type": "code",
   "execution_count": null,
   "id": "cc15dd9a-cbee-4a90-832f-f13f34a27897",
   "metadata": {},
   "outputs": [],
   "source": [
    "continue\n",
    "break\n"
   ]
  },
  {
   "cell_type": "markdown",
   "id": "88476e01-7712-427c-ae6c-15d76901231b",
   "metadata": {},
   "source": [
    "# continue"
   ]
  },
  {
   "cell_type": "code",
   "execution_count": 32,
   "id": "205e49c5-b8c7-4464-a86c-bbac26e9dea6",
   "metadata": {
    "tags": []
   },
   "outputs": [
    {
     "name": "stdout",
     "output_type": "stream",
     "text": [
      "-50.0\n",
      "-100.0\n"
     ]
    },
    {
     "ename": "KeyboardInterrupt",
     "evalue": "",
     "output_type": "error",
     "traceback": [
      "\u001b[0;31m---------------------------------------------------------------------------\u001b[0m",
      "\u001b[0;31mKeyboardInterrupt\u001b[0m                         Traceback (most recent call last)",
      "Cell \u001b[0;32mIn[32], line 7\u001b[0m\n\u001b[1;32m      5\u001b[0m \u001b[38;5;28;01mwhile\u001b[39;00m(start\u001b[38;5;241m<\u001b[39mend):\n\u001b[1;32m      6\u001b[0m     \u001b[38;5;28;01mif\u001b[39;00m(start \u001b[38;5;241m==\u001b[39m\u001b[38;5;241m0\u001b[39m):\n\u001b[0;32m----> 7\u001b[0m         \u001b[38;5;28;01mcontinue\u001b[39;00m\n\u001b[1;32m      9\u001b[0m     \u001b[38;5;28mprint\u001b[39m(\u001b[38;5;241m100\u001b[39m\u001b[38;5;241m/\u001b[39mstart)\n\u001b[1;32m     10\u001b[0m     start \u001b[38;5;241m+\u001b[39m\u001b[38;5;241m=\u001b[39m\u001b[38;5;241m1\u001b[39m\n",
      "\u001b[0;31mKeyboardInterrupt\u001b[0m: "
     ]
    }
   ],
   "source": [
    "start =-2\n",
    "end=2\n",
    "\n",
    "\n",
    "while(start<end):\n",
    "    if(start ==0):\n",
    "        continue\n",
    "    \n",
    "    print(100/start)\n",
    "    start +=1 # start = start +1"
   ]
  },
  {
   "cell_type": "code",
   "execution_count": 33,
   "id": "f288b442-a90e-4c25-a1c3-f9b0b15d61cb",
   "metadata": {
    "tags": []
   },
   "outputs": [
    {
     "name": "stdout",
     "output_type": "stream",
     "text": [
      "-50.0\n",
      "-100.0\n",
      "100.0\n"
     ]
    }
   ],
   "source": [
    "start =-2\n",
    "end=2\n",
    "\n",
    "\n",
    "while(start<end):\n",
    "    if(start ==0):\n",
    "        start +=1\n",
    "        continue\n",
    "    \n",
    "    print(100/start)\n",
    "    start +=1 # start = start +1"
   ]
  },
  {
   "cell_type": "code",
   "execution_count": null,
   "id": "3b307c16-c7a6-402a-8d8e-4f23e1eacba3",
   "metadata": {},
   "outputs": [],
   "source": []
  },
  {
   "cell_type": "code",
   "execution_count": 36,
   "id": "5e074429-ea2e-4027-8563-5289963407b9",
   "metadata": {
    "tags": []
   },
   "outputs": [
    {
     "name": "stdout",
     "output_type": "stream",
     "text": [
      "0\n",
      "1\n",
      "0\n"
     ]
    }
   ],
   "source": [
    "i = 0\n",
    "print(i)\n",
    "print(i+1)\n",
    "print(i)"
   ]
  },
  {
   "cell_type": "code",
   "execution_count": 37,
   "id": "6e039cab-8636-44e0-a34c-8d01f07b20dd",
   "metadata": {
    "tags": []
   },
   "outputs": [
    {
     "name": "stdout",
     "output_type": "stream",
     "text": [
      "0\n",
      "1\n"
     ]
    }
   ],
   "source": [
    "i = 0\n",
    "print(i)\n",
    "i= i+1  # i+=1\n",
    "print(i)"
   ]
  },
  {
   "cell_type": "code",
   "execution_count": 35,
   "id": "6ba66b11-e7bb-4bf2-b8b3-a9aa42099ed4",
   "metadata": {
    "tags": []
   },
   "outputs": [
    {
     "name": "stdout",
     "output_type": "stream",
     "text": [
      "1\n",
      "2\n",
      "3\n",
      "4\n"
     ]
    }
   ],
   "source": [
    "start = 0\n",
    "end = 4\n",
    "\n",
    "while (start<end):\n",
    "    print(start +1)\n",
    "    start = start + 1\n",
    "    if(start%2==0):\n",
    "        continue"
   ]
  },
  {
   "cell_type": "code",
   "execution_count": 34,
   "id": "0eb462bf-e211-48d6-8088-c814fbbe261f",
   "metadata": {
    "tags": []
   },
   "outputs": [
    {
     "name": "stdout",
     "output_type": "stream",
     "text": [
      "1\n",
      "2\n",
      "3\n",
      "4\n"
     ]
    }
   ],
   "source": [
    "start = 0\n",
    "end = 4\n",
    "\n",
    "while (start<end):\n",
    "    print(start +1)\n",
    "    start = start + 1"
   ]
  },
  {
   "cell_type": "code",
   "execution_count": 40,
   "id": "32ed9e58-0cdb-47d2-a27e-abd75333a293",
   "metadata": {
    "tags": []
   },
   "outputs": [
    {
     "name": "stdout",
     "output_type": "stream",
     "text": [
      "2\n",
      "4\n"
     ]
    }
   ],
   "source": [
    "start = 0\n",
    "end = 4\n",
    "\n",
    "while (start<end):\n",
    "    start = start + 1\n",
    "    if(start%2==0):\n",
    "        continue\n",
    "    print(start +1)\n"
   ]
  },
  {
   "cell_type": "code",
   "execution_count": null,
   "id": "d832887f-bd56-4efd-a6fc-e24c69599e8c",
   "metadata": {},
   "outputs": [],
   "source": []
  },
  {
   "cell_type": "markdown",
   "id": "6de923d5-e7e1-4de0-853d-4ac6efb3cbb2",
   "metadata": {
    "tags": []
   },
   "source": [
    "# Break Statement"
   ]
  },
  {
   "cell_type": "code",
   "execution_count": null,
   "id": "b1f65f60-d458-4075-bbcf-4ba08bae662c",
   "metadata": {},
   "outputs": [],
   "source": []
  },
  {
   "cell_type": "code",
   "execution_count": 42,
   "id": "41b14286-abdd-4bdb-bd1f-deb7947978fa",
   "metadata": {
    "tags": []
   },
   "outputs": [
    {
     "name": "stdout",
     "output_type": "stream",
     "text": [
      "1\n",
      "I am outside of loop\n"
     ]
    }
   ],
   "source": [
    "start =1\n",
    "end = 4\n",
    "\n",
    "while (start < end):\n",
    "    if(start %2==0):\n",
    "        break\n",
    "    print(start)\n",
    "    start = start + 1\n",
    "    \n",
    "print(\"I am outside of loop\")"
   ]
  },
  {
   "cell_type": "code",
   "execution_count": 43,
   "id": "1137a19f-52a7-40b0-be25-d13a7bd978fc",
   "metadata": {
    "tags": []
   },
   "outputs": [
    {
     "name": "stdout",
     "output_type": "stream",
     "text": [
      "-50.0\n",
      "-100.0\n",
      "I am outside of loop\n"
     ]
    }
   ],
   "source": [
    "start =-2\n",
    "end=2\n",
    "\n",
    "\n",
    "while(start<end):\n",
    "    if(start ==0):\n",
    "        start +=1\n",
    "        break\n",
    "    \n",
    "    print(100/start)\n",
    "    start +=1 # start = start +1\n",
    "    \n",
    "print(\"I am outside of loop\")"
   ]
  },
  {
   "cell_type": "code",
   "execution_count": 45,
   "id": "bc2d0c78-7a72-45c4-ab19-3ad38bd3dccf",
   "metadata": {
    "tags": []
   },
   "outputs": [
    {
     "name": "stdout",
     "output_type": "stream",
     "text": [
      "-50.0\n",
      "-100.0\n",
      "100.0\n",
      "I am outside of loop\n"
     ]
    }
   ],
   "source": [
    "start =-2\n",
    "end=2\n",
    "\n",
    "\n",
    "while(start<end):\n",
    "    if(start ==0):\n",
    "        start +=1\n",
    "        continue\n",
    "    \n",
    "    print(100/start)\n",
    "    start +=1 # start = start +1\n",
    "\n",
    "    \n",
    "print(\"I am outside of loop\")\n",
    "\n"
   ]
  },
  {
   "cell_type": "code",
   "execution_count": null,
   "id": "d070014d-f313-45a1-8593-4639bb1e138e",
   "metadata": {},
   "outputs": [],
   "source": []
  },
  {
   "cell_type": "code",
   "execution_count": null,
   "id": "37cea454-a263-46d3-a3f9-ec140ad1e35d",
   "metadata": {},
   "outputs": [],
   "source": []
  },
  {
   "cell_type": "markdown",
   "id": "1d481e4d-a010-44a4-8c45-5c254b36af30",
   "metadata": {},
   "source": [
    "# For Loop"
   ]
  },
  {
   "cell_type": "code",
   "execution_count": null,
   "id": "6580497e-8930-4dc2-8c93-40101d9d1f58",
   "metadata": {},
   "outputs": [],
   "source": []
  },
  {
   "cell_type": "code",
   "execution_count": 48,
   "id": "6c30d715-0d60-4813-abc2-31a51d17d2ec",
   "metadata": {
    "tags": []
   },
   "outputs": [],
   "source": [
    "s = \"abc\""
   ]
  },
  {
   "cell_type": "code",
   "execution_count": 49,
   "id": "41791eb8-6930-445d-bf73-f14948f4f1ca",
   "metadata": {
    "tags": []
   },
   "outputs": [
    {
     "name": "stdout",
     "output_type": "stream",
     "text": [
      "a\n",
      "b\n",
      "c\n"
     ]
    }
   ],
   "source": [
    "start = 0\n",
    "\n",
    "while start<len(s):\n",
    "    print(s[start])\n",
    "    start = start + 1"
   ]
  },
  {
   "cell_type": "code",
   "execution_count": 50,
   "id": "dde1c895-d8c8-4b25-af8b-a6362098f03c",
   "metadata": {
    "tags": []
   },
   "outputs": [
    {
     "name": "stdout",
     "output_type": "stream",
     "text": [
      "a\n",
      "b\n",
      "c\n"
     ]
    }
   ],
   "source": [
    "for elem in s:\n",
    "    print(elem)"
   ]
  },
  {
   "cell_type": "code",
   "execution_count": 53,
   "id": "3fc048d5-7dcd-4bf8-a80e-12b6cd40d26f",
   "metadata": {
    "tags": []
   },
   "outputs": [
    {
     "name": "stdout",
     "output_type": "stream",
     "text": [
      "m\n"
     ]
    }
   ],
   "source": [
    "for a in \"m\":\n",
    "    print(a)\n",
    "    "
   ]
  },
  {
   "cell_type": "code",
   "execution_count": null,
   "id": "f11004d5-f199-43da-976f-2d9dc6d774dd",
   "metadata": {},
   "outputs": [],
   "source": []
  },
  {
   "cell_type": "code",
   "execution_count": null,
   "id": "2869bc82-67e7-4526-b67e-df92e9668d99",
   "metadata": {},
   "outputs": [],
   "source": []
  },
  {
   "cell_type": "code",
   "execution_count": 54,
   "id": "9d98ec16-0243-4072-9d1b-4d2476cd0396",
   "metadata": {
    "tags": []
   },
   "outputs": [
    {
     "name": "stdout",
     "output_type": "stream",
     "text": [
      "-50.0\n",
      "-100.0\n",
      "100.0\n",
      "I am outside of loop\n"
     ]
    }
   ],
   "source": [
    "start =-2\n",
    "end=2\n",
    "\n",
    "\n",
    "while(start<end):\n",
    "    if(start ==0):\n",
    "        start +=1\n",
    "        continue\n",
    "    \n",
    "    print(100/start)\n",
    "    start +=1 # start = start +1\n",
    "    \n",
    "print(\"I am outside of loop\")"
   ]
  },
  {
   "cell_type": "code",
   "execution_count": 55,
   "id": "c7d74902-6ef3-4f38-b001-49f75e66b007",
   "metadata": {
    "tags": []
   },
   "outputs": [
    {
     "name": "stdout",
     "output_type": "stream",
     "text": [
      "-50.0\n",
      "-100.0\n",
      "100.0\n",
      "I am outside of loop\n"
     ]
    }
   ],
   "source": [
    "start = [-2,-1,0,1]\n",
    "\n",
    "for number in start:\n",
    "    if(number ==0):\n",
    "        number +=1\n",
    "        continue\n",
    "    \n",
    "    print(100/number)\n",
    "    number +=1 # start = start +1\n",
    "    \n",
    "print(\"I am outside of loop\")"
   ]
  },
  {
   "cell_type": "code",
   "execution_count": 65,
   "id": "72b12252-c7fa-425b-8773-6a7e625f23f1",
   "metadata": {
    "tags": []
   },
   "outputs": [
    {
     "name": "stdout",
     "output_type": "stream",
     "text": [
      "num0\n",
      "now num has became5\n",
      "num1\n",
      "now num has became6\n",
      "num2\n",
      "now num has became7\n"
     ]
    }
   ],
   "source": [
    "start = [0,1,2]\n",
    "\n",
    "\n",
    "\n",
    "for num in start:\n",
    "    print(\"num\" + str(num))\n",
    "    num = num+5\n",
    "    print(\"now num has became\" + str(num))\n",
    "\n",
    "    \n"
   ]
  },
  {
   "cell_type": "code",
   "execution_count": null,
   "id": "a92765f7-0e8a-400b-9e88-ac93a817acc7",
   "metadata": {},
   "outputs": [],
   "source": []
  },
  {
   "cell_type": "code",
   "execution_count": 68,
   "id": "13552955-3511-4afa-aacf-d597daff7bf2",
   "metadata": {
    "tags": []
   },
   "outputs": [
    {
     "name": "stdout",
     "output_type": "stream",
     "text": [
      "alp = p\n",
      "alp = y\n",
      "alp = t\n",
      "alp = h\n",
      "alp = o\n",
      "alp = n\n"
     ]
    }
   ],
   "source": [
    "name = \"python\"\n",
    "alt = True\n",
    "\n",
    "for num in name:\n",
    "    print(\"alp = \" + str(num))\n",
    "\n",
    "\n",
    "    \n"
   ]
  },
  {
   "cell_type": "code",
   "execution_count": 69,
   "id": "6328c84d-8585-4f1b-91a2-823df571cc8d",
   "metadata": {
    "tags": []
   },
   "outputs": [
    {
     "name": "stdout",
     "output_type": "stream",
     "text": [
      "alp = p\n",
      "alp = t\n",
      "alp = o\n"
     ]
    }
   ],
   "source": [
    "name = \"python\"\n",
    "alt = True\n",
    "\n",
    "for num in name[::2]:\n",
    "    print(\"alp = \" + str(num))\n"
   ]
  },
  {
   "cell_type": "code",
   "execution_count": 77,
   "id": "20c2882d-fc03-4f25-a2db-079af5536424",
   "metadata": {
    "tags": []
   },
   "outputs": [
    {
     "name": "stdout",
     "output_type": "stream",
     "text": [
      "p\n",
      "t\n",
      "o\n"
     ]
    }
   ],
   "source": [
    "name = \"python\"\n",
    "alt = 1\n",
    "\n",
    "for num in name:\n",
    "    alt = alt+1\n",
    "    if(alt%2!=0):\n",
    "        continue\n",
    "    print(num)\n",
    "\n",
    "\n",
    "    \n"
   ]
  },
  {
   "cell_type": "code",
   "execution_count": 80,
   "id": "5b5755fc-78ac-4cc5-beb0-4e46270e8696",
   "metadata": {
    "tags": []
   },
   "outputs": [
    {
     "name": "stdout",
     "output_type": "stream",
     "text": [
      "1\n",
      "3\n",
      "5\n"
     ]
    }
   ],
   "source": [
    "for i in [1,2,3,4,5]:\n",
    "    if(i%2==0):\n",
    "        continue\n",
    "    print(i)"
   ]
  },
  {
   "cell_type": "code",
   "execution_count": 81,
   "id": "cd8b6ce2-49c2-4a08-a28b-16a38c678c01",
   "metadata": {
    "tags": []
   },
   "outputs": [
    {
     "name": "stdout",
     "output_type": "stream",
     "text": [
      "1\n"
     ]
    }
   ],
   "source": [
    "for i in [1,2,3,4,5]:\n",
    "    if(i%2==0):\n",
    "        break\n",
    "    print(i)"
   ]
  },
  {
   "cell_type": "code",
   "execution_count": null,
   "id": "4fde64cc-5606-4a89-bdd1-b1f722fe7507",
   "metadata": {},
   "outputs": [],
   "source": []
  },
  {
   "cell_type": "code",
   "execution_count": null,
   "id": "7716117a-7b09-4b5b-b861-943335d383c0",
   "metadata": {},
   "outputs": [],
   "source": []
  },
  {
   "cell_type": "code",
   "execution_count": 83,
   "id": "07da90c5-5866-4581-9734-1b324829ddaf",
   "metadata": {
    "tags": []
   },
   "outputs": [],
   "source": [
    "emailList = [\"abc@gmail.com\",\"def@gmail.com\",\"mno@gmail.com\"]"
   ]
  },
  {
   "cell_type": "code",
   "execution_count": 86,
   "id": "1a0e5d97-eba7-42eb-8f0f-f2c9f763bd3e",
   "metadata": {
    "tags": []
   },
   "outputs": [
    {
     "name": "stdout",
     "output_type": "stream",
     "text": [
      "abc\n",
      "def\n",
      "mno\n"
     ]
    }
   ],
   "source": [
    "for email in emailList:\n",
    "    emailWithoutDomain = email[0:3]\n",
    "    print(emailWithoutDomain)"
   ]
  },
  {
   "cell_type": "code",
   "execution_count": null,
   "id": "3da8871d-f459-41d0-87fe-a40c366c690b",
   "metadata": {},
   "outputs": [],
   "source": []
  }
 ],
 "metadata": {
  "kernelspec": {
   "display_name": "Python 3 (ipykernel)",
   "language": "python",
   "name": "python3"
  },
  "language_info": {
   "codemirror_mode": {
    "name": "ipython",
    "version": 3
   },
   "file_extension": ".py",
   "mimetype": "text/x-python",
   "name": "python",
   "nbconvert_exporter": "python",
   "pygments_lexer": "ipython3",
   "version": "3.11.5"
  }
 },
 "nbformat": 4,
 "nbformat_minor": 5
}
