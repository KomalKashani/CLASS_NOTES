{
 "cells": [
  {
   "cell_type": "markdown",
   "id": "085dbb33-9850-4547-be40-6050e1f87ce3",
   "metadata": {},
   "source": [
    "# Slicing"
   ]
  },
  {
   "cell_type": "code",
   "execution_count": 1,
   "id": "cc026d23-1f1b-4426-b27b-26e54a4ef1df",
   "metadata": {
    "tags": []
   },
   "outputs": [],
   "source": [
    "# indexing\n",
    "\n",
    "s1 = \"PYTHON\""
   ]
  },
  {
   "cell_type": "code",
   "execution_count": 2,
   "id": "fc5bf0de-0cdd-4227-ac66-f82c37531d58",
   "metadata": {
    "tags": []
   },
   "outputs": [
    {
     "data": {
      "text/plain": [
       "'P'"
      ]
     },
     "execution_count": 2,
     "metadata": {},
     "output_type": "execute_result"
    }
   ],
   "source": [
    "s1[0]"
   ]
  },
  {
   "cell_type": "code",
   "execution_count": 3,
   "id": "e6822671-02a7-4345-8078-f558c251e309",
   "metadata": {
    "tags": []
   },
   "outputs": [
    {
     "data": {
      "text/plain": [
       "'Y'"
      ]
     },
     "execution_count": 3,
     "metadata": {},
     "output_type": "execute_result"
    }
   ],
   "source": [
    "s1[1]"
   ]
  },
  {
   "cell_type": "code",
   "execution_count": 8,
   "id": "8fc0c921-f6de-4678-bb6a-8cc45b41ac3c",
   "metadata": {
    "tags": []
   },
   "outputs": [],
   "source": [
    "s = \"PYTHON\""
   ]
  },
  {
   "cell_type": "code",
   "execution_count": 5,
   "id": "1ca19ad0-ade7-4f3c-bcec-37c6c698015b",
   "metadata": {
    "tags": []
   },
   "outputs": [
    {
     "name": "stdout",
     "output_type": "stream",
     "text": [
      "P\n",
      "Y\n",
      "T\n",
      "H\n",
      "O\n",
      "N\n"
     ]
    }
   ],
   "source": [
    "print(s[0])\n",
    "print(s[1])\n",
    "print(s[2])\n",
    "print(s[3])\n",
    "print(s[4])\n",
    "print(s[5])"
   ]
  },
  {
   "cell_type": "code",
   "execution_count": 6,
   "id": "c84d40b7-0839-46c7-8d11-4c5467fcc201",
   "metadata": {
    "tags": []
   },
   "outputs": [
    {
     "name": "stdout",
     "output_type": "stream",
     "text": [
      "N\n",
      "O\n",
      "H\n",
      "T\n",
      "Y\n",
      "P\n"
     ]
    }
   ],
   "source": [
    "print(s[-1]) # -1 + 6 = 5\n",
    "print(s[-2])\n",
    "print(s[-3])\n",
    "print(s[-4])\n",
    "print(s[-5])\n",
    "print(s[-6])"
   ]
  },
  {
   "cell_type": "code",
   "execution_count": 7,
   "id": "8b586c5c-d41b-48ba-a978-cdccee9f5929",
   "metadata": {
    "tags": []
   },
   "outputs": [
    {
     "ename": "IndexError",
     "evalue": "string index out of range",
     "output_type": "error",
     "traceback": [
      "\u001b[0;31m---------------------------------------------------------------------------\u001b[0m",
      "\u001b[0;31mIndexError\u001b[0m                                Traceback (most recent call last)",
      "Cell \u001b[0;32mIn[7], line 1\u001b[0m\n\u001b[0;32m----> 1\u001b[0m s[\u001b[38;5;241m7\u001b[39m]\n",
      "\u001b[0;31mIndexError\u001b[0m: string index out of range"
     ]
    }
   ],
   "source": [
    "s[7]"
   ]
  },
  {
   "cell_type": "code",
   "execution_count": null,
   "id": "10da7c43-348e-4d9e-8d01-56a900708457",
   "metadata": {
    "tags": []
   },
   "outputs": [],
   "source": [
    "s[-7]"
   ]
  },
  {
   "cell_type": "code",
   "execution_count": null,
   "id": "959101f1-0dfd-43f1-9a82-86e254bb17a7",
   "metadata": {
    "tags": []
   },
   "outputs": [],
   "source": [
    "s"
   ]
  },
  {
   "cell_type": "code",
   "execution_count": null,
   "id": "74bfc916-3f26-4ce0-863e-050ae106ac72",
   "metadata": {
    "tags": []
   },
   "outputs": [],
   "source": [
    "s[0:4]"
   ]
  },
  {
   "cell_type": "code",
   "execution_count": null,
   "id": "6594f3eb-af45-4a64-ba5a-736e2c476efa",
   "metadata": {
    "tags": []
   },
   "outputs": [],
   "source": [
    "s[0:len(s)]"
   ]
  },
  {
   "cell_type": "code",
   "execution_count": null,
   "id": "2dc80c2a-b54f-4d13-a748-176b2cab4624",
   "metadata": {
    "tags": []
   },
   "outputs": [],
   "source": [
    "s[0:99999]"
   ]
  },
  {
   "cell_type": "code",
   "execution_count": null,
   "id": "f8bb1cbc-98d9-4118-baac-e210cbb4a81b",
   "metadata": {
    "tags": []
   },
   "outputs": [],
   "source": [
    "s[0:3]"
   ]
  },
  {
   "cell_type": "code",
   "execution_count": null,
   "id": "dd854593-68d8-45f4-94b6-f64d53a66024",
   "metadata": {
    "tags": []
   },
   "outputs": [],
   "source": [
    "s[1:4]"
   ]
  },
  {
   "cell_type": "code",
   "execution_count": null,
   "id": "5dd46190-a720-497b-87c1-ab47784bd018",
   "metadata": {
    "tags": []
   },
   "outputs": [],
   "source": [
    "s[3:5]"
   ]
  },
  {
   "cell_type": "code",
   "execution_count": null,
   "id": "88f2b7f1-3c62-4a4c-9e3f-0f332f2c8e7d",
   "metadata": {
    "tags": []
   },
   "outputs": [],
   "source": [
    "s[3:]"
   ]
  },
  {
   "cell_type": "code",
   "execution_count": null,
   "id": "25dcd8c5-ebcb-4672-bd39-4faaad18473f",
   "metadata": {
    "tags": []
   },
   "outputs": [],
   "source": [
    "s[:5]"
   ]
  },
  {
   "cell_type": "code",
   "execution_count": null,
   "id": "12084f28-046b-4fe9-a517-29679d6f2376",
   "metadata": {
    "tags": []
   },
   "outputs": [],
   "source": [
    "s[:]"
   ]
  },
  {
   "cell_type": "code",
   "execution_count": null,
   "id": "f26eb847-8c92-4199-9639-ba1c9bbb3ba9",
   "metadata": {
    "tags": []
   },
   "outputs": [],
   "source": [
    "s[0:1]"
   ]
  },
  {
   "cell_type": "code",
   "execution_count": 22,
   "id": "81931b73-26bb-4772-bedb-90c532d3db5e",
   "metadata": {
    "tags": []
   },
   "outputs": [
    {
     "data": {
      "text/plain": [
       "''"
      ]
     },
     "execution_count": 22,
     "metadata": {},
     "output_type": "execute_result"
    }
   ],
   "source": [
    "s[0:0]"
   ]
  },
  {
   "cell_type": "code",
   "execution_count": null,
   "id": "a1d7d033-3859-4a83-b087-7645cc9d1fe9",
   "metadata": {
    "tags": []
   },
   "outputs": [],
   "source": [
    "s[]"
   ]
  },
  {
   "cell_type": "code",
   "execution_count": null,
   "id": "6b53921c-7ec2-40c3-91ef-73f745301433",
   "metadata": {},
   "outputs": [],
   "source": []
  },
  {
   "cell_type": "code",
   "execution_count": null,
   "id": "b59d6d69-7d6e-4050-b036-4e6eb78ba7d0",
   "metadata": {
    "tags": []
   },
   "outputs": [],
   "source": [
    "s[1:1]"
   ]
  },
  {
   "cell_type": "code",
   "execution_count": null,
   "id": "c5a0e651-a800-4818-a6ca-ec9305fa2626",
   "metadata": {
    "tags": []
   },
   "outputs": [],
   "source": [
    "s[2:2]"
   ]
  },
  {
   "cell_type": "code",
   "execution_count": null,
   "id": "be2e638c-a0ed-4759-925d-958b659b3b83",
   "metadata": {
    "tags": []
   },
   "outputs": [],
   "source": [
    "s[2:9]"
   ]
  },
  {
   "cell_type": "code",
   "execution_count": null,
   "id": "4a6ca0b5-c0e9-405a-8b52-278d30556bf2",
   "metadata": {
    "tags": []
   },
   "outputs": [],
   "source": [
    "s[6:9]"
   ]
  },
  {
   "cell_type": "code",
   "execution_count": null,
   "id": "062cfcb9-25d6-43a1-85c0-f12e5f2da962",
   "metadata": {
    "tags": []
   },
   "outputs": [],
   "source": [
    "s[5:3]"
   ]
  },
  {
   "cell_type": "code",
   "execution_count": null,
   "id": "acbf7130-8ec2-475e-8e99-ba9ef926c4f7",
   "metadata": {},
   "outputs": [],
   "source": [
    "# s[a:b] a<b then its always empty\n",
    "no, if a>=b , its always empty, for positive step"
   ]
  },
  {
   "cell_type": "code",
   "execution_count": null,
   "id": "2db9f4f5-6d4a-4663-80d0-165c01df5ff2",
   "metadata": {
    "tags": []
   },
   "outputs": [],
   "source": [
    "s[2:5]"
   ]
  },
  {
   "cell_type": "code",
   "execution_count": null,
   "id": "ddf93cab-871f-4bf4-a559-ed34fe1da9e0",
   "metadata": {
    "tags": []
   },
   "outputs": [],
   "source": [
    "s[:]"
   ]
  },
  {
   "cell_type": "code",
   "execution_count": null,
   "id": "43af53e9-3e72-4913-a3ad-8c21a841e927",
   "metadata": {
    "tags": []
   },
   "outputs": [],
   "source": [
    "s[10000]"
   ]
  },
  {
   "cell_type": "code",
   "execution_count": null,
   "id": "809e8379-3359-4304-bc3c-8536005c9ca7",
   "metadata": {},
   "outputs": [],
   "source": [
    "a < b you can or you cannot, get a empty string"
   ]
  },
  {
   "cell_type": "code",
   "execution_count": null,
   "id": "f7234ad0-d792-4638-ba98-65e06389ac1e",
   "metadata": {},
   "outputs": [],
   "source": []
  },
  {
   "cell_type": "code",
   "execution_count": null,
   "id": "81f872f2-e828-464e-b81a-5eba90b7ff20",
   "metadata": {
    "tags": []
   },
   "outputs": [],
   "source": [
    "'''\n",
    "print(c)\n",
    "print(b)\n",
    "'''\n",
    "\n",
    "a=4\n",
    "b=5\n",
    "c=8\n",
    "print(a)\n"
   ]
  },
  {
   "cell_type": "code",
   "execution_count": null,
   "id": "690e5598-a2dd-4cf4-9023-afa25c38b367",
   "metadata": {
    "tags": []
   },
   "outputs": [],
   "source": [
    "# hello"
   ]
  },
  {
   "cell_type": "code",
   "execution_count": null,
   "id": "1440cd04-26ba-41e5-93fb-e2762bd85e8b",
   "metadata": {
    "tags": []
   },
   "outputs": [],
   "source": [
    "''' hello '''"
   ]
  },
  {
   "cell_type": "code",
   "execution_count": null,
   "id": "70760cae-824b-4921-9166-2edecd93b360",
   "metadata": {},
   "outputs": [],
   "source": []
  },
  {
   "cell_type": "code",
   "execution_count": null,
   "id": "f0016166-657d-4e0c-9530-6ad1fa002318",
   "metadata": {
    "tags": []
   },
   "outputs": [],
   "source": [
    "'''\n",
    "print(c)\n",
    "print(b)\n",
    "'''\n",
    "\"hello\""
   ]
  },
  {
   "cell_type": "code",
   "execution_count": 9,
   "id": "b49cf133-d7eb-46a2-9a3f-318e04095e19",
   "metadata": {
    "tags": []
   },
   "outputs": [
    {
     "data": {
      "text/plain": [
       "'PYTH'"
      ]
     },
     "execution_count": 9,
     "metadata": {},
     "output_type": "execute_result"
    }
   ],
   "source": [
    "s[0:4]"
   ]
  },
  {
   "cell_type": "markdown",
   "id": "8dad99a8-908e-4263-9ad0-243508381518",
   "metadata": {},
   "source": [
    "# STEP"
   ]
  },
  {
   "cell_type": "code",
   "execution_count": 10,
   "id": "2563ad12-16c8-47fd-8387-970a2ca1e438",
   "metadata": {
    "tags": []
   },
   "outputs": [
    {
     "data": {
      "text/plain": [
       "'YTH'"
      ]
     },
     "execution_count": 10,
     "metadata": {},
     "output_type": "execute_result"
    }
   ],
   "source": [
    "s[1:4:1]"
   ]
  },
  {
   "cell_type": "code",
   "execution_count": 11,
   "id": "03f1630f-4d19-457e-ad0f-61e660c35553",
   "metadata": {
    "tags": []
   },
   "outputs": [
    {
     "data": {
      "text/plain": [
       "'PT'"
      ]
     },
     "execution_count": 11,
     "metadata": {},
     "output_type": "execute_result"
    }
   ],
   "source": [
    "s[0:4:2]"
   ]
  },
  {
   "cell_type": "code",
   "execution_count": 12,
   "id": "8194070b-d5bb-43cf-849c-76494c246444",
   "metadata": {
    "tags": []
   },
   "outputs": [
    {
     "data": {
      "text/plain": [
       "'YH'"
      ]
     },
     "execution_count": 12,
     "metadata": {},
     "output_type": "execute_result"
    }
   ],
   "source": [
    "s[1:4:2]"
   ]
  },
  {
   "cell_type": "code",
   "execution_count": 13,
   "id": "b38e2ab6-9642-474d-849b-f54d31fb2554",
   "metadata": {
    "tags": []
   },
   "outputs": [],
   "source": [
    "s1 = s*4"
   ]
  },
  {
   "cell_type": "code",
   "execution_count": 17,
   "id": "149fc330-1959-4798-bcdc-9fac98ad7a1e",
   "metadata": {
    "tags": []
   },
   "outputs": [
    {
     "data": {
      "text/plain": [
       "'PTO'"
      ]
     },
     "execution_count": 17,
     "metadata": {},
     "output_type": "execute_result"
    }
   ],
   "source": [
    "s[0:len(s):2]"
   ]
  },
  {
   "cell_type": "code",
   "execution_count": null,
   "id": "4c074fed-2eb6-414d-b5a5-7c3fd0187c7b",
   "metadata": {},
   "outputs": [],
   "source": []
  },
  {
   "cell_type": "code",
   "execution_count": null,
   "id": "7198c868-061c-4e4a-9a76-cdf064cc842e",
   "metadata": {},
   "outputs": [],
   "source": []
  },
  {
   "cell_type": "code",
   "execution_count": 18,
   "id": "60056ed1-9472-4624-8aed-ebc4b40be53d",
   "metadata": {
    "tags": []
   },
   "outputs": [],
   "source": [
    "l = \"IndianPremierLeague\""
   ]
  },
  {
   "cell_type": "code",
   "execution_count": 19,
   "id": "6d280227-f667-44ab-847f-88e60be354d2",
   "metadata": {
    "tags": []
   },
   "outputs": [
    {
     "data": {
      "text/plain": [
       "'IiPmr'"
      ]
     },
     "execution_count": 19,
     "metadata": {},
     "output_type": "execute_result"
    }
   ],
   "source": [
    "l[0:14:3]"
   ]
  },
  {
   "cell_type": "code",
   "execution_count": null,
   "id": "473013e7-9a45-4c10-b02a-f0a424013201",
   "metadata": {},
   "outputs": [],
   "source": []
  },
  {
   "cell_type": "code",
   "execution_count": null,
   "id": "405e933c-0425-42e6-8ec5-6d7bc4ad5ebf",
   "metadata": {},
   "outputs": [],
   "source": []
  },
  {
   "cell_type": "code",
   "execution_count": 20,
   "id": "8fe9bfba-541e-4527-8eea-cbc3aef08e40",
   "metadata": {
    "tags": []
   },
   "outputs": [
    {
     "data": {
      "text/plain": [
       "'PH'"
      ]
     },
     "execution_count": 20,
     "metadata": {},
     "output_type": "execute_result"
    }
   ],
   "source": [
    "s[0:6:3]"
   ]
  },
  {
   "cell_type": "code",
   "execution_count": 21,
   "id": "581c0800-2438-45d2-b0ee-d619b611e3e2",
   "metadata": {
    "tags": []
   },
   "outputs": [
    {
     "data": {
      "text/plain": [
       "'PH'"
      ]
     },
     "execution_count": 21,
     "metadata": {},
     "output_type": "execute_result"
    }
   ],
   "source": [
    "s[0:100:3]"
   ]
  },
  {
   "cell_type": "code",
   "execution_count": 23,
   "id": "7016c6f3-45e9-4f10-aa85-687dc73ad33b",
   "metadata": {
    "tags": []
   },
   "outputs": [
    {
     "data": {
      "text/plain": [
       "''"
      ]
     },
     "execution_count": 23,
     "metadata": {},
     "output_type": "execute_result"
    }
   ],
   "source": [
    "s[2:2]"
   ]
  },
  {
   "cell_type": "code",
   "execution_count": null,
   "id": "0c990435-d6b7-4c95-bb97-1c17e10c2c3d",
   "metadata": {},
   "outputs": [],
   "source": []
  },
  {
   "cell_type": "code",
   "execution_count": 25,
   "id": "021e6c1c-b0b2-43e2-b93c-f6a57a47c275",
   "metadata": {
    "tags": []
   },
   "outputs": [
    {
     "data": {
      "text/plain": [
       "''"
      ]
     },
     "execution_count": 25,
     "metadata": {},
     "output_type": "execute_result"
    }
   ],
   "source": [
    "s[4:4]"
   ]
  },
  {
   "cell_type": "code",
   "execution_count": 26,
   "id": "f2cbd7ff-3b39-4008-8697-c718dabd919e",
   "metadata": {
    "tags": []
   },
   "outputs": [
    {
     "data": {
      "text/plain": [
       "'P'"
      ]
     },
     "execution_count": 26,
     "metadata": {},
     "output_type": "execute_result"
    }
   ],
   "source": [
    "s[0:6:100]"
   ]
  },
  {
   "cell_type": "code",
   "execution_count": 27,
   "id": "2a94e651-fa9b-45b2-9cae-ac353748d8da",
   "metadata": {
    "tags": []
   },
   "outputs": [
    {
     "data": {
      "text/plain": [
       "'P'"
      ]
     },
     "execution_count": 27,
     "metadata": {},
     "output_type": "execute_result"
    }
   ],
   "source": [
    "s[0:6:100]"
   ]
  },
  {
   "cell_type": "code",
   "execution_count": null,
   "id": "015f5c99-f3ff-4b00-b93c-5805e1a72ed0",
   "metadata": {},
   "outputs": [],
   "source": []
  },
  {
   "cell_type": "code",
   "execution_count": null,
   "id": "d16584af-e680-408b-a032-d65bebb1d781",
   "metadata": {},
   "outputs": [],
   "source": []
  },
  {
   "cell_type": "code",
   "execution_count": 28,
   "id": "f773edc6-71a0-4481-98e5-0ff01eb0953b",
   "metadata": {
    "tags": []
   },
   "outputs": [
    {
     "data": {
      "text/plain": [
       "'THO'"
      ]
     },
     "execution_count": 28,
     "metadata": {},
     "output_type": "execute_result"
    }
   ],
   "source": [
    "s[-4:-1]"
   ]
  },
  {
   "cell_type": "code",
   "execution_count": 29,
   "id": "96f15891-25d2-4f15-8275-cf2e393ff8d9",
   "metadata": {
    "tags": []
   },
   "outputs": [
    {
     "data": {
      "text/plain": [
       "''"
      ]
     },
     "execution_count": 29,
     "metadata": {},
     "output_type": "execute_result"
    }
   ],
   "source": [
    "s[-1:-4]"
   ]
  },
  {
   "cell_type": "code",
   "execution_count": 30,
   "id": "b0a3c698-8200-4211-acd2-9ef7501d1165",
   "metadata": {
    "tags": []
   },
   "outputs": [
    {
     "data": {
      "text/plain": [
       "'NOH'"
      ]
     },
     "execution_count": 30,
     "metadata": {},
     "output_type": "execute_result"
    }
   ],
   "source": [
    "s[-1:-4:-1]"
   ]
  },
  {
   "cell_type": "code",
   "execution_count": 31,
   "id": "90fbd3f4-5ce1-44b4-8525-8e9384338b19",
   "metadata": {
    "tags": []
   },
   "outputs": [
    {
     "data": {
      "text/plain": [
       "'NH'"
      ]
     },
     "execution_count": 31,
     "metadata": {},
     "output_type": "execute_result"
    }
   ],
   "source": [
    "s[-1:-4:-2]"
   ]
  },
  {
   "cell_type": "code",
   "execution_count": 32,
   "id": "b9812275-1fee-4f7b-8a8d-cc3872277637",
   "metadata": {
    "tags": []
   },
   "outputs": [
    {
     "data": {
      "text/plain": [
       "''"
      ]
     },
     "execution_count": 32,
     "metadata": {},
     "output_type": "execute_result"
    }
   ],
   "source": [
    "s[0:5:-1]"
   ]
  },
  {
   "cell_type": "code",
   "execution_count": 33,
   "id": "957e8b7e-39d2-4583-a17e-44bc2c9ee50c",
   "metadata": {
    "tags": []
   },
   "outputs": [
    {
     "data": {
      "text/plain": [
       "''"
      ]
     },
     "execution_count": 33,
     "metadata": {},
     "output_type": "execute_result"
    }
   ],
   "source": [
    "s[2:2:-1]"
   ]
  },
  {
   "cell_type": "code",
   "execution_count": null,
   "id": "1282179c-7933-44d9-a40d-515cf50db684",
   "metadata": {},
   "outputs": [],
   "source": []
  },
  {
   "cell_type": "code",
   "execution_count": null,
   "id": "eacfaa1a-e649-42b8-a035-77ab3f25887c",
   "metadata": {},
   "outputs": [],
   "source": []
  },
  {
   "cell_type": "code",
   "execution_count": 34,
   "id": "eb8de137-7f89-4200-b6ce-5653c46d1f91",
   "metadata": {
    "tags": []
   },
   "outputs": [
    {
     "data": {
      "text/plain": [
       "'THO'"
      ]
     },
     "execution_count": 34,
     "metadata": {},
     "output_type": "execute_result"
    }
   ],
   "source": [
    "s[-4:-1]"
   ]
  },
  {
   "cell_type": "code",
   "execution_count": 35,
   "id": "84ca9ffa-445c-4230-a52d-efe60b98dddd",
   "metadata": {
    "tags": []
   },
   "outputs": [
    {
     "data": {
      "text/plain": [
       "'NH'"
      ]
     },
     "execution_count": 35,
     "metadata": {},
     "output_type": "execute_result"
    }
   ],
   "source": [
    "s[-1:-4:-2]"
   ]
  },
  {
   "cell_type": "code",
   "execution_count": null,
   "id": "ab632696-ed74-419e-9807-5cbc1c2d753e",
   "metadata": {},
   "outputs": [],
   "source": []
  },
  {
   "cell_type": "code",
   "execution_count": null,
   "id": "3b73fdca-c4bf-4dae-a3d0-eb75794a44ce",
   "metadata": {},
   "outputs": [],
   "source": []
  },
  {
   "cell_type": "code",
   "execution_count": 41,
   "id": "35bbca9e-24ff-4885-8db1-b19adb6e161c",
   "metadata": {
    "tags": []
   },
   "outputs": [
    {
     "data": {
      "text/plain": [
       "'NHY'"
      ]
     },
     "execution_count": 41,
     "metadata": {},
     "output_type": "execute_result"
    }
   ],
   "source": [
    "s[-1:-6:-2]"
   ]
  },
  {
   "cell_type": "code",
   "execution_count": 36,
   "id": "fa1947ea-7eac-4db9-8dae-008d23080f82",
   "metadata": {
    "tags": []
   },
   "outputs": [
    {
     "data": {
      "text/plain": [
       "'NOHTYP'"
      ]
     },
     "execution_count": 36,
     "metadata": {},
     "output_type": "execute_result"
    }
   ],
   "source": []
  },
  {
   "cell_type": "code",
   "execution_count": null,
   "id": "3d01a8d1-8865-4ebc-9a0f-9793e4aa5cab",
   "metadata": {},
   "outputs": [],
   "source": []
  },
  {
   "cell_type": "code",
   "execution_count": null,
   "id": "832b4949-8f34-4c1f-ae96-0db297fcd04b",
   "metadata": {},
   "outputs": [],
   "source": []
  },
  {
   "cell_type": "code",
   "execution_count": null,
   "id": "00a97764-bbe2-4c24-8df9-53888f11eb91",
   "metadata": {},
   "outputs": [],
   "source": []
  },
  {
   "cell_type": "code",
   "execution_count": null,
   "id": "ba817b77-e8d9-4104-8829-bf2e8aed0e08",
   "metadata": {},
   "outputs": [],
   "source": []
  },
  {
   "cell_type": "code",
   "execution_count": 37,
   "id": "b8a79dea-0de6-414a-804b-cb1ae7e4c85c",
   "metadata": {
    "tags": []
   },
   "outputs": [
    {
     "data": {
      "text/plain": [
       "'N'"
      ]
     },
     "execution_count": 37,
     "metadata": {},
     "output_type": "execute_result"
    }
   ],
   "source": [
    "s[-1:-4:-1000]"
   ]
  },
  {
   "cell_type": "code",
   "execution_count": 38,
   "id": "9dfeca14-24cd-4aa8-8503-53bc5be9546f",
   "metadata": {
    "tags": []
   },
   "outputs": [
    {
     "data": {
      "text/plain": [
       "''"
      ]
     },
     "execution_count": 38,
     "metadata": {},
     "output_type": "execute_result"
    }
   ],
   "source": [
    "s[-1:-4:1000]"
   ]
  },
  {
   "cell_type": "code",
   "execution_count": null,
   "id": "0430a046-5bc8-4b38-90c3-5d08ee38bc89",
   "metadata": {},
   "outputs": [],
   "source": []
  },
  {
   "cell_type": "code",
   "execution_count": null,
   "id": "974fd7a4-c723-4692-ace8-8ca500c397ae",
   "metadata": {},
   "outputs": [],
   "source": []
  },
  {
   "cell_type": "code",
   "execution_count": 40,
   "id": "47b88252-f6ed-4e78-a68a-8c50219e5010",
   "metadata": {
    "tags": []
   },
   "outputs": [
    {
     "ename": "SyntaxError",
     "evalue": "invalid syntax (1085298815.py, line 1)",
     "output_type": "error",
     "traceback": [
      "\u001b[0;36m  Cell \u001b[0;32mIn[40], line 1\u001b[0;36m\u001b[0m\n\u001b[0;31m    s[]\u001b[0m\n\u001b[0m      ^\u001b[0m\n\u001b[0;31mSyntaxError\u001b[0m\u001b[0;31m:\u001b[0m invalid syntax\n"
     ]
    }
   ],
   "source": [
    "s[]"
   ]
  },
  {
   "cell_type": "code",
   "execution_count": null,
   "id": "be43258f-46ce-45b4-91e0-82d092d380d3",
   "metadata": {},
   "outputs": [],
   "source": []
  },
  {
   "cell_type": "code",
   "execution_count": null,
   "id": "6bd47a77-84ac-408e-b70b-1b0b4dfbcfcb",
   "metadata": {},
   "outputs": [],
   "source": []
  },
  {
   "cell_type": "code",
   "execution_count": 42,
   "id": "aafa0498-6b05-4e6b-b01e-02cd98a76b8f",
   "metadata": {
    "tags": []
   },
   "outputs": [
    {
     "data": {
      "text/plain": [
       "''"
      ]
     },
     "execution_count": 42,
     "metadata": {},
     "output_type": "execute_result"
    }
   ],
   "source": [
    "s[2:2:-1]\n",
    "\n",
    "\n",
    "# start. 2\n",
    "# end 3\n",
    "# direction -ve\n",
    "# you can never reach 3 from 2 if you move left, hence empty"
   ]
  },
  {
   "cell_type": "code",
   "execution_count": 45,
   "id": "853409dc-ebb7-4bd6-8ce3-9dfbfbe44028",
   "metadata": {
    "tags": []
   },
   "outputs": [
    {
     "data": {
      "text/plain": [
       "'NOHTYP'"
      ]
     },
     "execution_count": 45,
     "metadata": {},
     "output_type": "execute_result"
    }
   ],
   "source": [
    "s[-1:-len(s)-1:-1]"
   ]
  },
  {
   "cell_type": "code",
   "execution_count": 46,
   "id": "019eee36-cea7-4395-a219-5fccc085a6c7",
   "metadata": {
    "tags": []
   },
   "outputs": [],
   "source": [
    "ex = 'Industry'"
   ]
  },
  {
   "cell_type": "code",
   "execution_count": 47,
   "id": "05f77706-9955-4704-9938-78cfebc6f8cb",
   "metadata": {
    "tags": []
   },
   "outputs": [
    {
     "data": {
      "text/plain": [
       "'ds'"
      ]
     },
     "execution_count": 47,
     "metadata": {},
     "output_type": "execute_result"
    }
   ],
   "source": [
    "ex[2:6:2]"
   ]
  },
  {
   "cell_type": "code",
   "execution_count": null,
   "id": "4d0da725-7fb0-4555-a568-ed6377eb1dac",
   "metadata": {},
   "outputs": [],
   "source": []
  },
  {
   "cell_type": "code",
   "execution_count": 48,
   "id": "4fca30c4-3d44-4001-92b9-0c90c9810e7c",
   "metadata": {
    "tags": []
   },
   "outputs": [
    {
     "data": {
      "text/plain": [
       "''"
      ]
     },
     "execution_count": 48,
     "metadata": {},
     "output_type": "execute_result"
    }
   ],
   "source": [
    "ex[-5:-8:1]"
   ]
  },
  {
   "cell_type": "code",
   "execution_count": 55,
   "id": "83e4fd74-f838-4c67-99b9-14fa45ede4e6",
   "metadata": {
    "tags": []
   },
   "outputs": [
    {
     "data": {
      "text/plain": [
       "'udn'"
      ]
     },
     "execution_count": 55,
     "metadata": {},
     "output_type": "execute_result"
    }
   ],
   "source": [
    "ex[-5:-8:-1]"
   ]
  },
  {
   "cell_type": "code",
   "execution_count": 49,
   "id": "cd5f32e8-a2af-46d3-96ac-b16b8d5cf907",
   "metadata": {
    "tags": []
   },
   "outputs": [
    {
     "name": "stdout",
     "output_type": "stream",
     "text": [
      "low\n"
     ]
    }
   ],
   "source": [
    "s = 'follow'\n",
    "print(s[3:8])"
   ]
  },
  {
   "cell_type": "code",
   "execution_count": 50,
   "id": "ded2bfc3-8e73-4359-b988-97ba87a6417a",
   "metadata": {
    "tags": []
   },
   "outputs": [
    {
     "data": {
      "text/plain": [
       "'rga'"
      ]
     },
     "execution_count": 50,
     "metadata": {},
     "output_type": "execute_result"
    }
   ],
   "source": [
    "s = 'program'\n",
    "\n",
    "#output :- rga\n",
    "\n",
    "s[1::2]"
   ]
  },
  {
   "cell_type": "code",
   "execution_count": null,
   "id": "a0fce760-f5ca-47c2-af5e-ed0cf20fe4fe",
   "metadata": {},
   "outputs": [],
   "source": []
  },
  {
   "cell_type": "code",
   "execution_count": null,
   "id": "e983f66d-ee4d-4564-9838-5f1d6b8bc551",
   "metadata": {},
   "outputs": [],
   "source": []
  },
  {
   "cell_type": "code",
   "execution_count": 52,
   "id": "b7d8816f-7ec3-49e3-b94e-ba36cb1a2488",
   "metadata": {
    "tags": []
   },
   "outputs": [
    {
     "data": {
      "text/plain": [
       "'rga'"
      ]
     },
     "execution_count": 52,
     "metadata": {},
     "output_type": "execute_result"
    }
   ],
   "source": [
    "s[1:6:2]"
   ]
  },
  {
   "cell_type": "code",
   "execution_count": 53,
   "id": "2dcb0289-0e47-4f2a-88a0-85603cb8df5b",
   "metadata": {
    "tags": []
   },
   "outputs": [
    {
     "data": {
      "text/plain": [
       "'rg'"
      ]
     },
     "execution_count": 53,
     "metadata": {},
     "output_type": "execute_result"
    }
   ],
   "source": [
    "s[1:5:2]"
   ]
  },
  {
   "cell_type": "code",
   "execution_count": 51,
   "id": "c65fe37e-e54a-4a37-80bc-fc57b405cad8",
   "metadata": {
    "tags": []
   },
   "outputs": [
    {
     "data": {
      "text/plain": [
       "'rga'"
      ]
     },
     "execution_count": 51,
     "metadata": {},
     "output_type": "execute_result"
    }
   ],
   "source": [
    "s[1:7:2]"
   ]
  },
  {
   "cell_type": "code",
   "execution_count": 54,
   "id": "41ee2cb4-efd5-4bce-a11a-ff436a66ff8e",
   "metadata": {
    "tags": []
   },
   "outputs": [
    {
     "ename": "ValueError",
     "evalue": "slice step cannot be zero",
     "output_type": "error",
     "traceback": [
      "\u001b[0;31m---------------------------------------------------------------------------\u001b[0m",
      "\u001b[0;31mValueError\u001b[0m                                Traceback (most recent call last)",
      "Cell \u001b[0;32mIn[54], line 1\u001b[0m\n\u001b[0;32m----> 1\u001b[0m s[\u001b[38;5;241m1\u001b[39m:\u001b[38;5;241m5\u001b[39m:\u001b[38;5;241m0\u001b[39m]\n",
      "\u001b[0;31mValueError\u001b[0m: slice step cannot be zero"
     ]
    }
   ],
   "source": [
    "s[1:5:0]"
   ]
  },
  {
   "cell_type": "code",
   "execution_count": null,
   "id": "12ac974a-74b4-4a8c-9558-7e25632d5d90",
   "metadata": {},
   "outputs": [],
   "source": []
  },
  {
   "cell_type": "code",
   "execution_count": null,
   "id": "4fd685a4-c746-433e-971c-d5cc1392ab13",
   "metadata": {},
   "outputs": [],
   "source": []
  },
  {
   "cell_type": "code",
   "execution_count": null,
   "id": "82d95917-28e4-4ecc-b639-d471554f236a",
   "metadata": {},
   "outputs": [],
   "source": []
  },
  {
   "cell_type": "code",
   "execution_count": null,
   "id": "99047c48-203c-48b9-a9c9-b98f6011ef29",
   "metadata": {},
   "outputs": [],
   "source": []
  },
  {
   "cell_type": "code",
   "execution_count": null,
   "id": "4196ad76-9023-41ad-8480-f953e8c51c1c",
   "metadata": {},
   "outputs": [],
   "source": [
    "s = 'program'\n",
    "\n",
    "#output :- rga\n",
    "\n",
    "s[1::2]\n",
    "\n",
    "s [1:6:2]\n",
    "\n"
   ]
  },
  {
   "cell_type": "code",
   "execution_count": null,
   "id": "58c36e69-6ad7-43d4-962e-b5172c80c46b",
   "metadata": {},
   "outputs": [],
   "source": []
  },
  {
   "cell_type": "code",
   "execution_count": 57,
   "id": "b1c33d03-fe8a-48d4-826b-8c2d646e4591",
   "metadata": {
    "tags": []
   },
   "outputs": [
    {
     "data": {
      "text/plain": [
       "'Industr'"
      ]
     },
     "execution_count": 57,
     "metadata": {},
     "output_type": "execute_result"
    }
   ],
   "source": [
    "s = 'Industry'\n",
    "s[-8:-1:1]"
   ]
  },
  {
   "cell_type": "code",
   "execution_count": 58,
   "id": "6f4bf8d3-7c4e-4582-83e1-fdc0a22d691c",
   "metadata": {
    "tags": []
   },
   "outputs": [
    {
     "data": {
      "text/plain": [
       "'industry'"
      ]
     },
     "execution_count": 58,
     "metadata": {},
     "output_type": "execute_result"
    }
   ],
   "source": [
    "#sir can u explain this\n",
    "l=(\"industry\")\n",
    "l[ : :1]"
   ]
  },
  {
   "cell_type": "code",
   "execution_count": null,
   "id": "1c988915-3eb2-4ca1-9176-4b88cf37daac",
   "metadata": {},
   "outputs": [],
   "source": []
  },
  {
   "cell_type": "code",
   "execution_count": null,
   "id": "3f4145c2-3fc7-44cc-9aba-4a0c44c6e994",
   "metadata": {},
   "outputs": [],
   "source": []
  }
 ],
 "metadata": {
  "kernelspec": {
   "display_name": "Python 3 (ipykernel)",
   "language": "python",
   "name": "python3"
  },
  "language_info": {
   "codemirror_mode": {
    "name": "ipython",
    "version": 3
   },
   "file_extension": ".py",
   "mimetype": "text/x-python",
   "name": "python",
   "nbconvert_exporter": "python",
   "pygments_lexer": "ipython3",
   "version": "3.11.5"
  }
 },
 "nbformat": 4,
 "nbformat_minor": 5
}
