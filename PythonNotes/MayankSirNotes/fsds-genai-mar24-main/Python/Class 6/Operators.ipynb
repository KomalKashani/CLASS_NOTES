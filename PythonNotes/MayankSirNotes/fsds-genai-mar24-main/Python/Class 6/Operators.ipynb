{
 "cells": [
  {
   "cell_type": "markdown",
   "id": "2ca93f04-b20e-490d-8838-8649f5682a13",
   "metadata": {},
   "source": [
    "# OPERATORS"
   ]
  },
  {
   "cell_type": "code",
   "execution_count": null,
   "id": "d3ad778b-6c49-43a7-9df6-e9abaf202726",
   "metadata": {},
   "outputs": [],
   "source": []
  },
  {
   "cell_type": "code",
   "execution_count": 46,
   "id": "845b2398-70f2-41c7-8a58-354beae81b15",
   "metadata": {
    "tags": []
   },
   "outputs": [
    {
     "data": {
      "text/plain": [
       "float"
      ]
     },
     "execution_count": 46,
     "metadata": {},
     "output_type": "execute_result"
    }
   ],
   "source": [
    "type(5/2)"
   ]
  },
  {
   "cell_type": "markdown",
   "id": "4cac42dd-82a9-4d7b-ae7b-508c03536319",
   "metadata": {},
   "source": [
    "# Modulus"
   ]
  },
  {
   "cell_type": "code",
   "execution_count": 3,
   "id": "f7a13199-e2a5-4e5f-b933-997a9308a0b1",
   "metadata": {
    "tags": []
   },
   "outputs": [
    {
     "data": {
      "text/plain": [
       "1"
      ]
     },
     "execution_count": 3,
     "metadata": {},
     "output_type": "execute_result"
    }
   ],
   "source": [
    "5%2 "
   ]
  },
  {
   "cell_type": "code",
   "execution_count": 4,
   "id": "83f65d18-0794-4054-af1c-b655c6140025",
   "metadata": {
    "tags": []
   },
   "outputs": [
    {
     "data": {
      "text/plain": [
       "2"
      ]
     },
     "execution_count": 4,
     "metadata": {},
     "output_type": "execute_result"
    }
   ],
   "source": [
    "555%7"
   ]
  },
  {
   "cell_type": "markdown",
   "id": "41facc05-51b7-4825-891d-53e72cd06b2d",
   "metadata": {},
   "source": [
    "# Exponention"
   ]
  },
  {
   "cell_type": "code",
   "execution_count": 5,
   "id": "f20dbcc5-b2dc-4523-879a-7bb69c658229",
   "metadata": {
    "tags": []
   },
   "outputs": [
    {
     "data": {
      "text/plain": [
       "16"
      ]
     },
     "execution_count": 5,
     "metadata": {},
     "output_type": "execute_result"
    }
   ],
   "source": [
    "2 * 2 *2 *2"
   ]
  },
  {
   "cell_type": "code",
   "execution_count": 6,
   "id": "1695f374-0a9d-4392-a7fa-94f9d283eecf",
   "metadata": {
    "tags": []
   },
   "outputs": [
    {
     "data": {
      "text/plain": [
       "16"
      ]
     },
     "execution_count": 6,
     "metadata": {},
     "output_type": "execute_result"
    }
   ],
   "source": [
    "2**4"
   ]
  },
  {
   "cell_type": "markdown",
   "id": "057d7b7b-396a-4984-958b-6e911a113f31",
   "metadata": {},
   "source": [
    "# Floor Division"
   ]
  },
  {
   "cell_type": "code",
   "execution_count": null,
   "id": "922d0331-c206-41c8-ad3f-7863d0a007f4",
   "metadata": {},
   "outputs": [],
   "source": []
  },
  {
   "cell_type": "code",
   "execution_count": 7,
   "id": "98cfe8b0-421c-42a4-8c1a-679cffc5b272",
   "metadata": {
    "tags": []
   },
   "outputs": [
    {
     "data": {
      "text/plain": [
       "2.5"
      ]
     },
     "execution_count": 7,
     "metadata": {},
     "output_type": "execute_result"
    }
   ],
   "source": [
    "5/2"
   ]
  },
  {
   "cell_type": "code",
   "execution_count": 8,
   "id": "2f5517db-ec22-4cd5-87f9-5fbe5d76fc26",
   "metadata": {
    "tags": []
   },
   "outputs": [
    {
     "data": {
      "text/plain": [
       "9.9"
      ]
     },
     "execution_count": 8,
     "metadata": {},
     "output_type": "execute_result"
    }
   ],
   "source": [
    "99/10"
   ]
  },
  {
   "cell_type": "code",
   "execution_count": 9,
   "id": "5b53e4bb-c822-4219-ba25-2a9e701721a9",
   "metadata": {
    "tags": []
   },
   "outputs": [
    {
     "data": {
      "text/plain": [
       "2.5"
      ]
     },
     "execution_count": 9,
     "metadata": {},
     "output_type": "execute_result"
    }
   ],
   "source": [
    "25/10"
   ]
  },
  {
   "cell_type": "code",
   "execution_count": 10,
   "id": "de5e47da-0bba-4617-9862-8903d34c5743",
   "metadata": {
    "tags": []
   },
   "outputs": [
    {
     "data": {
      "text/plain": [
       "2.4"
      ]
     },
     "execution_count": 10,
     "metadata": {},
     "output_type": "execute_result"
    }
   ],
   "source": [
    "24/10"
   ]
  },
  {
   "cell_type": "markdown",
   "id": "3fb594fc-b93a-4de3-a616-bb440359abf3",
   "metadata": {},
   "source": [
    "# Don't confuse with rounding off"
   ]
  },
  {
   "cell_type": "code",
   "execution_count": 11,
   "id": "565b068b-0e4d-43be-99aa-a4a8dcbc7a16",
   "metadata": {
    "tags": []
   },
   "outputs": [
    {
     "data": {
      "text/plain": [
       "2"
      ]
     },
     "execution_count": 11,
     "metadata": {},
     "output_type": "execute_result"
    }
   ],
   "source": [
    "5//2"
   ]
  },
  {
   "cell_type": "code",
   "execution_count": 12,
   "id": "78e6e0cd-cfab-4d30-892e-15232103fe5e",
   "metadata": {
    "tags": []
   },
   "outputs": [
    {
     "data": {
      "text/plain": [
       "9"
      ]
     },
     "execution_count": 12,
     "metadata": {},
     "output_type": "execute_result"
    }
   ],
   "source": [
    "99//10"
   ]
  },
  {
   "cell_type": "code",
   "execution_count": 13,
   "id": "4b080227-74e6-4156-9e3b-967516623fb7",
   "metadata": {
    "tags": []
   },
   "outputs": [
    {
     "data": {
      "text/plain": [
       "11.2"
      ]
     },
     "execution_count": 13,
     "metadata": {},
     "output_type": "execute_result"
    }
   ],
   "source": [
    "56/5"
   ]
  },
  {
   "cell_type": "code",
   "execution_count": 14,
   "id": "fb687ba6-974e-4b29-9d27-62a9615029b4",
   "metadata": {
    "tags": []
   },
   "outputs": [
    {
     "data": {
      "text/plain": [
       "11"
      ]
     },
     "execution_count": 14,
     "metadata": {},
     "output_type": "execute_result"
    }
   ],
   "source": [
    "56//5"
   ]
  },
  {
   "cell_type": "code",
   "execution_count": null,
   "id": "9e4cae61-0c6b-4da5-91c9-79413f4cdc36",
   "metadata": {},
   "outputs": [],
   "source": []
  },
  {
   "cell_type": "markdown",
   "id": "a2a7ddfd-f007-441b-9d9b-92b13d769532",
   "metadata": {},
   "source": [
    "# Boolean"
   ]
  },
  {
   "cell_type": "code",
   "execution_count": 15,
   "id": "c08ff12a-a51d-47f0-b4c7-64fd14ae6cf4",
   "metadata": {
    "tags": []
   },
   "outputs": [
    {
     "data": {
      "text/plain": [
       "False"
      ]
     },
     "execution_count": 15,
     "metadata": {},
     "output_type": "execute_result"
    }
   ],
   "source": [
    "4 > 5"
   ]
  },
  {
   "cell_type": "code",
   "execution_count": 16,
   "id": "9dbe6590-f561-4f7d-b451-60516c9f04e3",
   "metadata": {
    "tags": []
   },
   "outputs": [],
   "source": [
    "a = 10\n"
   ]
  },
  {
   "cell_type": "code",
   "execution_count": 17,
   "id": "0d6495f9-cf83-436d-944c-9b940749e1c3",
   "metadata": {
    "tags": []
   },
   "outputs": [
    {
     "data": {
      "text/plain": [
       "False"
      ]
     },
     "execution_count": 17,
     "metadata": {},
     "output_type": "execute_result"
    }
   ],
   "source": [
    "a == 12"
   ]
  },
  {
   "cell_type": "code",
   "execution_count": 18,
   "id": "364761ff-a5a0-41f6-8083-951d2187aa35",
   "metadata": {
    "tags": []
   },
   "outputs": [
    {
     "data": {
      "text/plain": [
       "True"
      ]
     },
     "execution_count": 18,
     "metadata": {},
     "output_type": "execute_result"
    }
   ],
   "source": [
    "a !=12"
   ]
  },
  {
   "cell_type": "code",
   "execution_count": 19,
   "id": "db6fce7b-739f-4ea3-8553-3cb41f1b2ca6",
   "metadata": {
    "tags": []
   },
   "outputs": [
    {
     "data": {
      "text/plain": [
       "True"
      ]
     },
     "execution_count": 19,
     "metadata": {},
     "output_type": "execute_result"
    }
   ],
   "source": [
    "a>=5"
   ]
  },
  {
   "cell_type": "code",
   "execution_count": 20,
   "id": "c3ecd726-4da4-4ef1-a868-6376f91631b9",
   "metadata": {
    "tags": []
   },
   "outputs": [
    {
     "data": {
      "text/plain": [
       "False"
      ]
     },
     "execution_count": 20,
     "metadata": {},
     "output_type": "execute_result"
    }
   ],
   "source": [
    "a<=5"
   ]
  },
  {
   "cell_type": "code",
   "execution_count": 21,
   "id": "018dd094-2f69-4e93-986a-e2b38c64da77",
   "metadata": {
    "tags": []
   },
   "outputs": [
    {
     "data": {
      "text/plain": [
       "True"
      ]
     },
     "execution_count": 21,
     "metadata": {},
     "output_type": "execute_result"
    }
   ],
   "source": [
    "a<=11"
   ]
  },
  {
   "cell_type": "code",
   "execution_count": 22,
   "id": "78670b55-a9ca-4d4c-8f33-f85708ebaea6",
   "metadata": {
    "tags": []
   },
   "outputs": [
    {
     "data": {
      "text/plain": [
       "False"
      ]
     },
     "execution_count": 22,
     "metadata": {},
     "output_type": "execute_result"
    }
   ],
   "source": [
    "a<=9"
   ]
  },
  {
   "cell_type": "code",
   "execution_count": 23,
   "id": "d7ff6704-715e-4699-b765-5fc638d661ce",
   "metadata": {
    "tags": []
   },
   "outputs": [
    {
     "data": {
      "text/plain": [
       "False"
      ]
     },
     "execution_count": 23,
     "metadata": {},
     "output_type": "execute_result"
    }
   ],
   "source": [
    "a != 10"
   ]
  },
  {
   "cell_type": "code",
   "execution_count": null,
   "id": "b128c7da-eece-42fa-9f80-03af13eeaed4",
   "metadata": {},
   "outputs": [],
   "source": []
  },
  {
   "cell_type": "code",
   "execution_count": 24,
   "id": "26803324-e324-4e82-ae89-7b4ff7652852",
   "metadata": {
    "tags": []
   },
   "outputs": [],
   "source": [
    "pay =200"
   ]
  },
  {
   "cell_type": "code",
   "execution_count": null,
   "id": "63698b9a-2b2b-4bf0-aa7f-093fc69e0add",
   "metadata": {},
   "outputs": [],
   "source": []
  },
  {
   "cell_type": "code",
   "execution_count": 25,
   "id": "479131b6-c7ad-4b98-8614-62c18047919c",
   "metadata": {
    "tags": []
   },
   "outputs": [
    {
     "data": {
      "text/plain": [
       "True"
      ]
     },
     "execution_count": 25,
     "metadata": {},
     "output_type": "execute_result"
    }
   ],
   "source": [
    "pay >=150"
   ]
  },
  {
   "cell_type": "code",
   "execution_count": null,
   "id": "2d21bdb9-3a62-4e15-8fc9-23ccf54658e2",
   "metadata": {},
   "outputs": [],
   "source": []
  },
  {
   "cell_type": "markdown",
   "id": "a93065c5-a583-4fae-9b0a-c2c0dc188c6c",
   "metadata": {
    "tags": []
   },
   "source": [
    "#  address = 24, Vittal Mallya Rd, KG Halli, D' Souza Layout, Ashok Nagar, Bengaluru, 560001,Karnataka\n",
    "\n",
    "\n",
    "def getStartingIndexOfMyPincode(address):\n",
    "\n"
   ]
  },
  {
   "cell_type": "code",
   "execution_count": 28,
   "id": "19f14afe-82a5-475c-a66f-0aa14301c2df",
   "metadata": {
    "tags": []
   },
   "outputs": [],
   "source": [
    "address = '''24, Vittal Mallya Rd, KG Halli, D' Souza Layout, Ashok Nagar, Bengaluru, 560001,Karnataka\"'''"
   ]
  },
  {
   "cell_type": "code",
   "execution_count": null,
   "id": "402e9970-4a0f-42ef-acb0-af1cad29841a",
   "metadata": {},
   "outputs": [],
   "source": [
    "address2 = '''24, Vittal Mallya 110033 Rd, KG Halli, D' Souza Layout, Ashok Nagar, Bengaluru,Karnataka\"'''"
   ]
  },
  {
   "cell_type": "code",
   "execution_count": 38,
   "id": "1a4c9137-c608-4cda-8298-351f6138b564",
   "metadata": {
    "tags": []
   },
   "outputs": [
    {
     "data": {
      "text/plain": [
       "'5'"
      ]
     },
     "execution_count": 38,
     "metadata": {},
     "output_type": "execute_result"
    }
   ],
   "source": [
    "address[73]"
   ]
  },
  {
   "cell_type": "code",
   "execution_count": 42,
   "id": "22b8e0dc-01b1-4267-b684-3e0f7a1959f5",
   "metadata": {
    "tags": []
   },
   "outputs": [
    {
     "data": {
      "text/plain": [
       "'560001'"
      ]
     },
     "execution_count": 42,
     "metadata": {},
     "output_type": "execute_result"
    }
   ],
   "source": [
    "address[73:73+6]"
   ]
  },
  {
   "cell_type": "code",
   "execution_count": 45,
   "id": "0364cad3-2048-4b92-876f-ba693841a117",
   "metadata": {
    "tags": []
   },
   "outputs": [],
   "source": [
    "addressses =[ \"add1\",\"add2\",\"add3\"]"
   ]
  },
  {
   "cell_type": "code",
   "execution_count": null,
   "id": "57289f1f-caf6-4f39-a855-5ae4b855723f",
   "metadata": {},
   "outputs": [],
   "source": [
    "for address in addresses:\n",
    "    startIndex = getStartingIndexOfMyPincode(address)\n",
    "    pincode = address[startIndex:startIndex+6]"
   ]
  }
 ],
 "metadata": {
  "kernelspec": {
   "display_name": "Python 3 (ipykernel)",
   "language": "python",
   "name": "python3"
  },
  "language_info": {
   "codemirror_mode": {
    "name": "ipython",
    "version": 3
   },
   "file_extension": ".py",
   "mimetype": "text/x-python",
   "name": "python",
   "nbconvert_exporter": "python",
   "pygments_lexer": "ipython3",
   "version": "3.11.5"
  }
 },
 "nbformat": 4,
 "nbformat_minor": 5
}
