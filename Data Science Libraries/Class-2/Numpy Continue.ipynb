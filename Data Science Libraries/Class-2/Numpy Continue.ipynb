{
 "cells": [
  {
   "cell_type": "markdown",
   "id": "52466191-d3d1-4d08-9508-520939623477",
   "metadata": {},
   "source": [
    "# Numpy Continue "
   ]
  },
  {
   "cell_type": "code",
   "execution_count": 9,
   "id": "73d0c725-e866-454d-8f18-6222e6cd6229",
   "metadata": {},
   "outputs": [],
   "source": [
    "import numpy as np"
   ]
  },
  {
   "cell_type": "code",
   "execution_count": null,
   "id": "d98eeee6-4147-4924-b0fc-8749c325c894",
   "metadata": {},
   "outputs": [],
   "source": [
    "np.arange(start,stop,step) # also support fraction "
   ]
  },
  {
   "cell_type": "code",
   "execution_count": 11,
   "id": "252d914e-e63f-49c1-8528-cd86768383b2",
   "metadata": {},
   "outputs": [
    {
     "data": {
      "text/plain": [
       "array([1. , 3.5, 6. , 8.5])"
      ]
     },
     "execution_count": 11,
     "metadata": {},
     "output_type": "execute_result"
    }
   ],
   "source": [
    "np.arange(1,10,2.5)"
   ]
  },
  {
   "cell_type": "code",
   "execution_count": 15,
   "id": "976e8219-3e9f-43f7-822c-4e34e08793f1",
   "metadata": {},
   "outputs": [],
   "source": [
    "m1 = np.arange(1,5).reshape(2,2)"
   ]
  },
  {
   "cell_type": "code",
   "execution_count": 17,
   "id": "55a4e86d-0a0b-43ae-9833-87ca111c71a7",
   "metadata": {},
   "outputs": [
    {
     "data": {
      "text/plain": [
       "(2, 2)"
      ]
     },
     "execution_count": 17,
     "metadata": {},
     "output_type": "execute_result"
    }
   ],
   "source": [
    "m1.shape"
   ]
  },
  {
   "cell_type": "code",
   "execution_count": 33,
   "id": "89ec7294-89a1-4dc9-95c0-fc89bdde3e60",
   "metadata": {},
   "outputs": [
    {
     "data": {
      "text/plain": [
       "array([[1, 2, 3],\n",
       "       [4, 5, 6],\n",
       "       [7, 8, 9]])"
      ]
     },
     "execution_count": 33,
     "metadata": {},
     "output_type": "execute_result"
    }
   ],
   "source": [
    "np.arange(1,10).reshape(3,3)"
   ]
  },
  {
   "cell_type": "code",
   "execution_count": 37,
   "id": "3201fb23-0d2b-42d5-b918-de832aa99c4e",
   "metadata": {},
   "outputs": [
    {
     "ename": "ValueError",
     "evalue": "cannot reshape array of size 9 into shape (4,3)",
     "output_type": "error",
     "traceback": [
      "\u001b[0;31m---------------------------------------------------------------------------\u001b[0m",
      "\u001b[0;31mValueError\u001b[0m                                Traceback (most recent call last)",
      "Cell \u001b[0;32mIn[37], line 1\u001b[0m\n\u001b[0;32m----> 1\u001b[0m np\u001b[38;5;241m.\u001b[39marange(\u001b[38;5;241m1\u001b[39m,\u001b[38;5;241m10\u001b[39m)\u001b[38;5;241m.\u001b[39mreshape(\u001b[38;5;241m4\u001b[39m,\u001b[38;5;241m3\u001b[39m)\n",
      "\u001b[0;31mValueError\u001b[0m: cannot reshape array of size 9 into shape (4,3)"
     ]
    }
   ],
   "source": [
    "np.arange(1,10).reshape(4,3)"
   ]
  },
  {
   "cell_type": "code",
   "execution_count": 39,
   "id": "a91838f5-39f9-48d4-833f-a4b24abbe526",
   "metadata": {},
   "outputs": [
    {
     "ename": "ValueError",
     "evalue": "cannot reshape array of size 9 into shape (2,3)",
     "output_type": "error",
     "traceback": [
      "\u001b[0;31m---------------------------------------------------------------------------\u001b[0m",
      "\u001b[0;31mValueError\u001b[0m                                Traceback (most recent call last)",
      "Cell \u001b[0;32mIn[39], line 1\u001b[0m\n\u001b[0;32m----> 1\u001b[0m np\u001b[38;5;241m.\u001b[39marange(\u001b[38;5;241m1\u001b[39m,\u001b[38;5;241m10\u001b[39m)\u001b[38;5;241m.\u001b[39mreshape(\u001b[38;5;241m2\u001b[39m,\u001b[38;5;241m3\u001b[39m)\n",
      "\u001b[0;31mValueError\u001b[0m: cannot reshape array of size 9 into shape (2,3)"
     ]
    }
   ],
   "source": [
    "np.arange(1,10).reshape(2,3)"
   ]
  },
  {
   "cell_type": "code",
   "execution_count": 43,
   "id": "10236a63-72c5-42ab-b67c-c7384aed1bed",
   "metadata": {},
   "outputs": [
    {
     "data": {
      "text/plain": [
       "array([[1, 2],\n",
       "       [3, 4],\n",
       "       [5, 6],\n",
       "       [7, 8]])"
      ]
     },
     "execution_count": 43,
     "metadata": {},
     "output_type": "execute_result"
    }
   ],
   "source": [
    "np.arange(1,9).reshape(4,2)"
   ]
  },
  {
   "cell_type": "code",
   "execution_count": 47,
   "id": "a84824a5-85ef-4ff8-8fc8-5426105cddc1",
   "metadata": {},
   "outputs": [
    {
     "data": {
      "text/plain": [
       "array([[1, 2, 3, 4],\n",
       "       [5, 6, 7, 8]])"
      ]
     },
     "execution_count": 47,
     "metadata": {},
     "output_type": "execute_result"
    }
   ],
   "source": [
    "np.arange(1,9).reshape(2,4)"
   ]
  },
  {
   "cell_type": "code",
   "execution_count": 51,
   "id": "92571b0a-4add-48a2-adcb-0a75d078389c",
   "metadata": {},
   "outputs": [
    {
     "data": {
      "text/plain": [
       "array([1, 2, 3, 4, 5, 6, 7, 8])"
      ]
     },
     "execution_count": 51,
     "metadata": {},
     "output_type": "execute_result"
    }
   ],
   "source": [
    "np.arange(1,9)"
   ]
  },
  {
   "cell_type": "code",
   "execution_count": 53,
   "id": "e424f0fc-7aca-444b-a87a-a8e344eff430",
   "metadata": {},
   "outputs": [
    {
     "data": {
      "text/plain": [
       "array([[[1, 2],\n",
       "        [3, 4]],\n",
       "\n",
       "       [[5, 6],\n",
       "        [7, 8]]])"
      ]
     },
     "execution_count": 53,
     "metadata": {},
     "output_type": "execute_result"
    }
   ],
   "source": [
    "np.arange(1,9).reshape(2,2,2)"
   ]
  },
  {
   "cell_type": "code",
   "execution_count": 59,
   "id": "2c672d73-9601-43a5-b8f3-a6e2461c678c",
   "metadata": {},
   "outputs": [
    {
     "data": {
      "text/plain": [
       "array([[ 1,  2,  3,  4,  5,  6,  7,  8,  9, 10, 11, 12, 13, 14, 15, 16]])"
      ]
     },
     "execution_count": 59,
     "metadata": {},
     "output_type": "execute_result"
    }
   ],
   "source": [
    "np.arange(1,17).reshape(1,16)"
   ]
  },
  {
   "cell_type": "code",
   "execution_count": 75,
   "id": "7bb00009-48b3-4d88-9ed6-97089cebc1d4",
   "metadata": {},
   "outputs": [
    {
     "data": {
      "text/plain": [
       "array([[ 1],\n",
       "       [ 2],\n",
       "       [ 3],\n",
       "       [ 4],\n",
       "       [ 5],\n",
       "       [ 6],\n",
       "       [ 7],\n",
       "       [ 8],\n",
       "       [ 9],\n",
       "       [10],\n",
       "       [11],\n",
       "       [12],\n",
       "       [13],\n",
       "       [14],\n",
       "       [15],\n",
       "       [16]])"
      ]
     },
     "execution_count": 75,
     "metadata": {},
     "output_type": "execute_result"
    }
   ],
   "source": [
    "np.arange(1,17).reshape(16,1)"
   ]
  },
  {
   "cell_type": "code",
   "execution_count": 63,
   "id": "56f23bc3-ab57-4f13-96b2-c249eef92018",
   "metadata": {},
   "outputs": [
    {
     "data": {
      "text/plain": [
       "array([[ 1,  2,  3,  4],\n",
       "       [ 5,  6,  7,  8],\n",
       "       [ 9, 10, 11, 12],\n",
       "       [13, 14, 15, 16]])"
      ]
     },
     "execution_count": 63,
     "metadata": {},
     "output_type": "execute_result"
    }
   ],
   "source": [
    "np.arange(1,17).reshape(4,4)"
   ]
  },
  {
   "cell_type": "code",
   "execution_count": 67,
   "id": "0de1ea9d-883c-44ed-b790-ed2ad0e6ff67",
   "metadata": {},
   "outputs": [
    {
     "data": {
      "text/plain": [
       "array([[ 1,  2,  3,  4,  5,  6,  7,  8],\n",
       "       [ 9, 10, 11, 12, 13, 14, 15, 16]])"
      ]
     },
     "execution_count": 67,
     "metadata": {},
     "output_type": "execute_result"
    }
   ],
   "source": [
    "np.arange(1,17).reshape(2,8)"
   ]
  },
  {
   "cell_type": "code",
   "execution_count": 71,
   "id": "934bf8b2-6df2-4325-a1c8-29beb8074cb1",
   "metadata": {},
   "outputs": [
    {
     "data": {
      "text/plain": [
       "array([[ 1,  2],\n",
       "       [ 3,  4],\n",
       "       [ 5,  6],\n",
       "       [ 7,  8],\n",
       "       [ 9, 10],\n",
       "       [11, 12],\n",
       "       [13, 14],\n",
       "       [15, 16]])"
      ]
     },
     "execution_count": 71,
     "metadata": {},
     "output_type": "execute_result"
    }
   ],
   "source": [
    "np.arange(1,17).reshape(8,2)"
   ]
  },
  {
   "cell_type": "code",
   "execution_count": 73,
   "id": "40ca243d-50c4-48db-a26d-35c4f4a2bccb",
   "metadata": {},
   "outputs": [
    {
     "data": {
      "text/plain": [
       "array([[[ 1,  2],\n",
       "        [ 3,  4],\n",
       "        [ 5,  6],\n",
       "        [ 7,  8]],\n",
       "\n",
       "       [[ 9, 10],\n",
       "        [11, 12],\n",
       "        [13, 14],\n",
       "        [15, 16]]])"
      ]
     },
     "execution_count": 73,
     "metadata": {},
     "output_type": "execute_result"
    }
   ],
   "source": [
    "np.arange(1,17).reshape(2,4,2)"
   ]
  },
  {
   "cell_type": "code",
   "execution_count": 77,
   "id": "251e40de-db8d-4255-964c-bd16b7e41e92",
   "metadata": {},
   "outputs": [
    {
     "data": {
      "text/plain": [
       "array([[[[ 1,  2],\n",
       "         [ 3,  4]],\n",
       "\n",
       "        [[ 5,  6],\n",
       "         [ 7,  8]]],\n",
       "\n",
       "\n",
       "       [[[ 9, 10],\n",
       "         [11, 12]],\n",
       "\n",
       "        [[13, 14],\n",
       "         [15, 16]]]])"
      ]
     },
     "execution_count": 77,
     "metadata": {},
     "output_type": "execute_result"
    }
   ],
   "source": [
    "np.arange(1,17).reshape(2,2,2,2)"
   ]
  },
  {
   "cell_type": "code",
   "execution_count": 91,
   "id": "7d271c19-97f8-435e-a084-262e4478c7ed",
   "metadata": {},
   "outputs": [
    {
     "data": {
      "text/plain": [
       "array([[1, 2],\n",
       "       [3, 4]])"
      ]
     },
     "execution_count": 91,
     "metadata": {},
     "output_type": "execute_result"
    }
   ],
   "source": [
    "np.arange(1,5).reshape(2,2)"
   ]
  },
  {
   "cell_type": "code",
   "execution_count": 98,
   "id": "09150cfe-cf14-43e0-a23e-ed23155fd78f",
   "metadata": {},
   "outputs": [
    {
     "data": {
      "text/plain": [
       "array([[[1, 2],\n",
       "        [3, 4]],\n",
       "\n",
       "       [[5, 6],\n",
       "        [7, 8]]])"
      ]
     },
     "execution_count": 98,
     "metadata": {},
     "output_type": "execute_result"
    }
   ],
   "source": [
    "np.arange(1,9).reshape(2,2,2)"
   ]
  },
  {
   "cell_type": "code",
   "execution_count": 104,
   "id": "3a1aab3e-aa07-425d-9298-fa8954542599",
   "metadata": {},
   "outputs": [
    {
     "data": {
      "text/plain": [
       "array([[[ 0,  1,  2],\n",
       "        [ 3,  4,  5]],\n",
       "\n",
       "       [[ 6,  7,  8],\n",
       "        [ 9, 10, 11]]])"
      ]
     },
     "execution_count": 104,
     "metadata": {},
     "output_type": "execute_result"
    }
   ],
   "source": [
    "np.arange(0,12).reshape(2,2,3)"
   ]
  },
  {
   "cell_type": "code",
   "execution_count": 110,
   "id": "65a4a99d-9fe5-4477-bfb7-67dbae8dd6ac",
   "metadata": {},
   "outputs": [
    {
     "data": {
      "text/plain": [
       "array([[[ 0,  1],\n",
       "        [ 2,  3],\n",
       "        [ 4,  5]],\n",
       "\n",
       "       [[ 6,  7],\n",
       "        [ 8,  9],\n",
       "        [10, 11]]])"
      ]
     },
     "execution_count": 110,
     "metadata": {},
     "output_type": "execute_result"
    }
   ],
   "source": [
    "np.arange(0,12).reshape(2,3,2)"
   ]
  },
  {
   "cell_type": "code",
   "execution_count": 106,
   "id": "84f53ae0-bd2f-4a41-b2ac-9311d701d1be",
   "metadata": {},
   "outputs": [
    {
     "ename": "ValueError",
     "evalue": "cannot reshape array of size 12 into shape (3,3,3)",
     "output_type": "error",
     "traceback": [
      "\u001b[0;31m---------------------------------------------------------------------------\u001b[0m",
      "\u001b[0;31mValueError\u001b[0m                                Traceback (most recent call last)",
      "Cell \u001b[0;32mIn[106], line 1\u001b[0m\n\u001b[0;32m----> 1\u001b[0m np\u001b[38;5;241m.\u001b[39marange(\u001b[38;5;241m0\u001b[39m,\u001b[38;5;241m12\u001b[39m)\u001b[38;5;241m.\u001b[39mreshape(\u001b[38;5;241m3\u001b[39m,\u001b[38;5;241m3\u001b[39m,\u001b[38;5;241m3\u001b[39m)\n",
      "\u001b[0;31mValueError\u001b[0m: cannot reshape array of size 12 into shape (3,3,3)"
     ]
    }
   ],
   "source": [
    "np.arange(0,12).reshape(3,3,3)"
   ]
  },
  {
   "cell_type": "code",
   "execution_count": 112,
   "id": "a5967925-53eb-4f11-9d8f-36628122c536",
   "metadata": {},
   "outputs": [
    {
     "ename": "ValueError",
     "evalue": "cannot reshape array of size 12 into shape (2,3,3)",
     "output_type": "error",
     "traceback": [
      "\u001b[0;31m---------------------------------------------------------------------------\u001b[0m",
      "\u001b[0;31mValueError\u001b[0m                                Traceback (most recent call last)",
      "Cell \u001b[0;32mIn[112], line 1\u001b[0m\n\u001b[0;32m----> 1\u001b[0m np\u001b[38;5;241m.\u001b[39marange(\u001b[38;5;241m0\u001b[39m,\u001b[38;5;241m12\u001b[39m)\u001b[38;5;241m.\u001b[39mreshape(\u001b[38;5;241m2\u001b[39m,\u001b[38;5;241m3\u001b[39m,\u001b[38;5;241m3\u001b[39m)\n",
      "\u001b[0;31mValueError\u001b[0m: cannot reshape array of size 12 into shape (2,3,3)"
     ]
    }
   ],
   "source": [
    "np.arange(0,12).reshape(2,3,3) "
   ]
  },
  {
   "cell_type": "code",
   "execution_count": null,
   "id": "444cfe0a-fc2d-4427-8fcb-05ccdcfe3fed",
   "metadata": {},
   "outputs": [],
   "source": [
    "(1,n) -> n elements\n",
    "\n",
    ".reshape(a1,a2,a3 ..... an)  \n",
    "\n",
    "a1*a2*a3*a4 = n"
   ]
  },
  {
   "cell_type": "code",
   "execution_count": null,
   "id": "6e64bc4b-5d06-4571-9d2e-a7f945257905",
   "metadata": {},
   "outputs": [],
   "source": []
  },
  {
   "cell_type": "code",
   "execution_count": null,
   "id": "1dd3c3e4-e1fe-41bc-9404-a2790b08e5f8",
   "metadata": {},
   "outputs": [],
   "source": []
  },
  {
   "cell_type": "code",
   "execution_count": null,
   "id": "e0f4efdc-081f-4dbf-9644-654a35955297",
   "metadata": {},
   "outputs": [],
   "source": []
  },
  {
   "cell_type": "code",
   "execution_count": 121,
   "id": "f349634d-5778-4e7d-9293-d35d5b590b88",
   "metadata": {},
   "outputs": [
    {
     "data": {
      "text/plain": [
       "(5,)"
      ]
     },
     "execution_count": 121,
     "metadata": {},
     "output_type": "execute_result"
    }
   ],
   "source": [
    "(5,)"
   ]
  },
  {
   "cell_type": "markdown",
   "id": "eeed0145-443e-4517-b544-714a81b4a846",
   "metadata": {},
   "source": [
    "# Np Zeros and NP Ones"
   ]
  },
  {
   "cell_type": "code",
   "execution_count": 133,
   "id": "51d232d9-596d-4435-81c0-d36f411a80a7",
   "metadata": {},
   "outputs": [
    {
     "data": {
      "text/plain": [
       "array([[0, 0, 0, 0, 0],\n",
       "       [0, 0, 0, 0, 0],\n",
       "       [0, 0, 0, 0, 0],\n",
       "       [0, 0, 0, 0, 0],\n",
       "       [0, 0, 0, 0, 0]])"
      ]
     },
     "execution_count": 133,
     "metadata": {},
     "output_type": "execute_result"
    }
   ],
   "source": [
    "\"\"\"shape : int or tuple of ints\n",
    "    Shape of the new array, e.g., ``(2, 3)`` or ``2``.\n",
    "dtype : data-type, optional\n",
    "    The desired data-type for the array, e.g., `numpy.int8`.  Default is\n",
    "    `numpy.float64`.\n",
    "\n",
    "\"\"\"\n",
    "\n",
    "np.zeros((5,5),dtype = int)"
   ]
  },
  {
   "cell_type": "code",
   "execution_count": 139,
   "id": "7440fe34-22ec-4fa7-ad52-20d084a59227",
   "metadata": {},
   "outputs": [
    {
     "data": {
      "text/plain": [
       "array([[1., 1., 1., 1., 1.],\n",
       "       [1., 1., 1., 1., 1.],\n",
       "       [1., 1., 1., 1., 1.],\n",
       "       [1., 1., 1., 1., 1.],\n",
       "       [1., 1., 1., 1., 1.]])"
      ]
     },
     "execution_count": 139,
     "metadata": {},
     "output_type": "execute_result"
    }
   ],
   "source": [
    "np.ones((5,5))"
   ]
  },
  {
   "cell_type": "code",
   "execution_count": 147,
   "id": "a6abf32b-3def-47da-a592-4ba2d0dc6c42",
   "metadata": {},
   "outputs": [
    {
     "data": {
      "text/plain": [
       "array([['1', '1', '1', '1'],\n",
       "       ['1', '1', '1', '1'],\n",
       "       ['1', '1', '1', '1'],\n",
       "       ['1', '1', '1', '1']], dtype='<U1')"
      ]
     },
     "execution_count": 147,
     "metadata": {},
     "output_type": "execute_result"
    }
   ],
   "source": [
    "np.ones((4,4),dtype=str)"
   ]
  },
  {
   "cell_type": "code",
   "execution_count": 153,
   "id": "8244022c-3723-4ac0-9b76-2703a0988dce",
   "metadata": {},
   "outputs": [
    {
     "data": {
      "text/plain": [
       "array([[1., 0., 0.],\n",
       "       [0., 1., 0.],\n",
       "       [0., 0., 1.]])"
      ]
     },
     "execution_count": 153,
     "metadata": {},
     "output_type": "execute_result"
    }
   ],
   "source": [
    "np.identity(3)"
   ]
  },
  {
   "cell_type": "code",
   "execution_count": 179,
   "id": "fd54268e-b089-41c1-98bf-120ed465e2d8",
   "metadata": {},
   "outputs": [
    {
     "data": {
      "text/plain": [
       "array([[1., 0., 0., 0., 0., 0.],\n",
       "       [0., 1., 0., 0., 0., 0.],\n",
       "       [0., 0., 1., 0., 0., 0.],\n",
       "       [0., 0., 0., 1., 0., 0.],\n",
       "       [0., 0., 0., 0., 1., 0.],\n",
       "       [0., 0., 0., 0., 0., 1.],\n",
       "       [0., 0., 0., 0., 0., 0.]])"
      ]
     },
     "execution_count": 179,
     "metadata": {},
     "output_type": "execute_result"
    }
   ],
   "source": [
    "\"\"\"Return a 2-D array with ones on the diagonal and zeros elsewhere.\n",
    "\n",
    "Parameters\n",
    "----------\n",
    "N : int\n",
    "  Number of rows in the output.\n",
    "M : int, optional\n",
    "  Number of columns in the output. If None, defaults to `N`.\n",
    "\"\"\"\n",
    "np.eye(7,M=6)\n",
    "\n",
    "\n",
    "# rows and column different"
   ]
  },
  {
   "cell_type": "code",
   "execution_count": 187,
   "id": "48669ee9-d4c5-4e39-88a4-17b430f360ed",
   "metadata": {},
   "outputs": [],
   "source": [
    "# can we set the random range"
   ]
  },
  {
   "cell_type": "code",
   "execution_count": 191,
   "id": "3afc507b-f2ff-442e-9631-8226a3dfad4f",
   "metadata": {},
   "outputs": [
    {
     "data": {
      "text/plain": [
       "array([[85.00991968, 62.2259987 ,  2.67504299, 37.21144368, 30.19624822],\n",
       "       [98.04168387, 64.0286658 , 28.47504693, 12.96809269, 88.53328421],\n",
       "       [51.88297744, 57.426785  , 78.83492618, 67.90095841, 90.88315478],\n",
       "       [28.60810021, 21.41777414, 32.6872532 , 61.19467507, 77.52582731],\n",
       "       [39.79760841, 25.65922564, 13.22608283, 33.39181538, 57.60771777]])"
      ]
     },
     "execution_count": 191,
     "metadata": {},
     "output_type": "execute_result"
    }
   ],
   "source": [
    "np.random.random((5,5))*100"
   ]
  },
  {
   "cell_type": "code",
   "execution_count": 193,
   "id": "99d7b87d-ebdb-4a0a-8e4b-d4e8c32c4fc2",
   "metadata": {},
   "outputs": [
    {
     "data": {
      "text/plain": [
       "array([[0.46502424, 0.44201258, 0.61934019],\n",
       "       [0.70933675, 0.83772782, 0.89209932]])"
      ]
     },
     "execution_count": 193,
     "metadata": {},
     "output_type": "execute_result"
    }
   ],
   "source": [
    "np.random.random((2,3))"
   ]
  },
  {
   "cell_type": "code",
   "execution_count": 195,
   "id": "9949a401-006a-488d-b238-4faa81e866ca",
   "metadata": {},
   "outputs": [
    {
     "data": {
      "text/plain": [
       "array([[0.87822329, 0.53949908, 0.85155177],\n",
       "       [0.69482746, 0.83142792, 0.35764472],\n",
       "       [0.95493209, 0.18333108, 0.30683263],\n",
       "       [0.73030968, 0.42264589, 0.88683726],\n",
       "       [0.85246035, 0.94003225, 0.29313591],\n",
       "       [0.59407489, 0.67055359, 0.63935038],\n",
       "       [0.35784797, 0.71183672, 0.02177738],\n",
       "       [0.94829979, 0.04480918, 0.7142933 ],\n",
       "       [0.98780605, 0.80188648, 0.04920934],\n",
       "       [0.37511774, 0.23350233, 0.33562168],\n",
       "       [0.18771739, 0.54556936, 0.17409026],\n",
       "       [0.55887195, 0.38038628, 0.62512441],\n",
       "       [0.77464706, 0.53981147, 0.03467227],\n",
       "       [0.31072931, 0.71391716, 0.6621203 ],\n",
       "       [0.66851895, 0.3868852 , 0.70305956],\n",
       "       [0.219152  , 0.23404441, 0.33549632],\n",
       "       [0.87360472, 0.75516579, 0.49338912],\n",
       "       [0.71381737, 0.29816621, 0.81033816],\n",
       "       [0.28320849, 0.52964149, 0.18427158],\n",
       "       [0.67315733, 0.20954758, 0.23619129],\n",
       "       [0.61150873, 0.44515347, 0.61422243],\n",
       "       [0.94551044, 0.85293022, 0.28773392],\n",
       "       [0.83881555, 0.81943496, 0.02294482],\n",
       "       [0.14204526, 0.28557809, 0.05474012],\n",
       "       [0.46497516, 0.12473215, 0.53725116],\n",
       "       [0.06819778, 0.67700263, 0.35120416],\n",
       "       [0.29041686, 0.88490525, 0.89751537],\n",
       "       [0.5213527 , 0.38831996, 0.06428944],\n",
       "       [0.31636768, 0.62249561, 0.56261149],\n",
       "       [0.56607572, 0.33044065, 0.36587636],\n",
       "       [0.85143676, 0.2780159 , 0.77850802],\n",
       "       [0.12025739, 0.97333939, 0.71989124],\n",
       "       [0.54459194, 0.90439838, 0.91573309],\n",
       "       [0.81530154, 0.46676207, 0.01368057],\n",
       "       [0.21835257, 0.95912296, 0.47925064],\n",
       "       [0.79082478, 0.11935382, 0.39784404],\n",
       "       [0.05694465, 0.79748478, 0.60855238],\n",
       "       [0.00922602, 0.13689865, 0.91265893],\n",
       "       [0.13746604, 0.9765501 , 0.71425642],\n",
       "       [0.95077916, 0.17945132, 0.79007566],\n",
       "       [0.12151407, 0.34204338, 0.35734976],\n",
       "       [0.64635793, 0.36350278, 0.37224399],\n",
       "       [0.56697489, 0.67129704, 0.02554152],\n",
       "       [0.60564222, 0.71067638, 0.30746343],\n",
       "       [0.53565269, 0.5453237 , 0.75099021],\n",
       "       [0.93792052, 0.11570762, 0.36926932],\n",
       "       [0.61283051, 0.8467476 , 0.1490963 ],\n",
       "       [0.21620354, 0.68391734, 0.18883803],\n",
       "       [0.76323113, 0.05086822, 0.43326541],\n",
       "       [0.17583681, 0.05544947, 0.33036548],\n",
       "       [0.11601877, 0.17680913, 0.94366061],\n",
       "       [0.75882858, 0.88017695, 0.69479166],\n",
       "       [0.11532248, 0.12668177, 0.6424608 ],\n",
       "       [0.73617583, 0.27779323, 0.00770719],\n",
       "       [0.59881014, 0.97857621, 0.80957771],\n",
       "       [0.2866498 , 0.3083065 , 0.06739116],\n",
       "       [0.76977499, 0.92983429, 0.84400103],\n",
       "       [0.75285556, 0.03768746, 0.41768083],\n",
       "       [0.72821387, 0.7194106 , 0.79797786],\n",
       "       [0.62610859, 0.67688875, 0.97284636],\n",
       "       [0.08322054, 0.95804273, 0.58864716],\n",
       "       [0.51880569, 0.90095509, 0.54404518],\n",
       "       [0.14405393, 0.21639694, 0.50440107],\n",
       "       [0.95095913, 0.14645043, 0.37819886],\n",
       "       [0.11775392, 0.51196996, 0.14702991],\n",
       "       [0.05511991, 0.7413044 , 0.23397294],\n",
       "       [0.62507151, 0.75340158, 0.48842879],\n",
       "       [0.98108366, 0.38112156, 0.72214943],\n",
       "       [0.82383177, 0.28846637, 0.51550997],\n",
       "       [0.49545551, 0.85568582, 0.33871135],\n",
       "       [0.4112113 , 0.14827837, 0.30399603],\n",
       "       [0.74561546, 0.89599395, 0.54922833],\n",
       "       [0.00831352, 0.80385261, 0.69729958],\n",
       "       [0.35358714, 0.79179169, 0.82866764],\n",
       "       [0.19013032, 0.58385145, 0.70220047],\n",
       "       [0.03248857, 0.27903007, 0.95317818],\n",
       "       [0.61086273, 0.34018733, 0.52835271],\n",
       "       [0.60771243, 0.9365221 , 0.90136224],\n",
       "       [0.50008252, 0.20978812, 0.67601172],\n",
       "       [0.97641832, 0.58058569, 0.21306006],\n",
       "       [0.98632124, 0.76114401, 0.57346807],\n",
       "       [0.39229895, 0.83329114, 0.71317532],\n",
       "       [0.87146548, 0.71947864, 0.38437855],\n",
       "       [0.61048025, 0.04503506, 0.48907088],\n",
       "       [0.70141727, 0.77392379, 0.41847218],\n",
       "       [0.7670986 , 0.80915301, 0.11494678],\n",
       "       [0.01972389, 0.15513034, 0.14686532],\n",
       "       [0.3030596 , 0.41896178, 0.94107458],\n",
       "       [0.28484503, 0.13965654, 0.2672129 ],\n",
       "       [0.81567973, 0.04384422, 0.98410582],\n",
       "       [0.91836904, 0.74120646, 0.58017821],\n",
       "       [0.83883086, 0.46578847, 0.67127596],\n",
       "       [0.14293904, 0.97999891, 0.39609003],\n",
       "       [0.39379726, 0.32903596, 0.38932945],\n",
       "       [0.80513527, 0.1303199 , 0.85190238],\n",
       "       [0.73393926, 0.78555583, 0.15544699],\n",
       "       [0.99175199, 0.85953033, 0.73647278],\n",
       "       [0.88411255, 0.84219721, 0.02898087],\n",
       "       [0.97197226, 0.75840932, 0.77577805],\n",
       "       [0.12679649, 0.83039774, 0.53378371]])"
      ]
     },
     "execution_count": 195,
     "metadata": {},
     "output_type": "execute_result"
    }
   ],
   "source": [
    "np.random.random((100,3))"
   ]
  },
  {
   "cell_type": "code",
   "execution_count": 197,
   "id": "34b100c3-5d04-4e23-ac5f-ca9381a8056a",
   "metadata": {},
   "outputs": [],
   "source": [
    "# use of zeros and ones in industry"
   ]
  },
  {
   "cell_type": "code",
   "execution_count": 199,
   "id": "0e41d04c-21ef-462f-bb04-6f80c7a3f4df",
   "metadata": {},
   "outputs": [
    {
     "ename": "SyntaxError",
     "evalue": "invalid syntax (393120376.py, line 1)",
     "output_type": "error",
     "traceback": [
      "\u001b[0;36m  Cell \u001b[0;32mIn[199], line 1\u001b[0;36m\u001b[0m\n\u001b[0;31m    np.random.\u001b[0m\n\u001b[0m              ^\u001b[0m\n\u001b[0;31mSyntaxError\u001b[0m\u001b[0;31m:\u001b[0m invalid syntax\n"
     ]
    }
   ],
   "source": [
    "np.random."
   ]
  },
  {
   "cell_type": "code",
   "execution_count": 217,
   "id": "42b74fdb-108a-4367-bcc7-cc47b973a129",
   "metadata": {},
   "outputs": [
    {
     "data": {
      "text/plain": [
       "array([[86, 44],\n",
       "       [ 3, 78]])"
      ]
     },
     "execution_count": 217,
     "metadata": {},
     "output_type": "execute_result"
    }
   ],
   "source": [
    "np.random.randint(1,100,size=(2,2))"
   ]
  },
  {
   "cell_type": "code",
   "execution_count": 225,
   "id": "1f464dae-39de-4d89-9ffe-67b066be9bd5",
   "metadata": {},
   "outputs": [
    {
     "data": {
      "text/plain": [
       "array([[7, 5],\n",
       "       [6, 6]])"
      ]
     },
     "execution_count": 225,
     "metadata": {},
     "output_type": "execute_result"
    }
   ],
   "source": [
    "np.random.randint(5,10,size=(2,2))"
   ]
  },
  {
   "cell_type": "code",
   "execution_count": null,
   "id": "55693f65-ebe1-4562-9e98-003b1140b5a9",
   "metadata": {},
   "outputs": [],
   "source": []
  },
  {
   "cell_type": "code",
   "execution_count": null,
   "id": "593d3d69-e130-408d-ab4c-6b17c30e8c11",
   "metadata": {},
   "outputs": [],
   "source": []
  },
  {
   "cell_type": "code",
   "execution_count": null,
   "id": "4c5b6509-4077-4f2b-90af-827f1ce5199d",
   "metadata": {},
   "outputs": [],
   "source": []
  },
  {
   "cell_type": "code",
   "execution_count": null,
   "id": "3525ce4f-1681-473e-8f5a-65c065cb3ef0",
   "metadata": {},
   "outputs": [],
   "source": [
    "np.linspace"
   ]
  },
  {
   "cell_type": "code",
   "execution_count": null,
   "id": "961b3674-6d7a-4dd2-91c9-c0a1316a7e0a",
   "metadata": {},
   "outputs": [],
   "source": []
  },
  {
   "cell_type": "code",
   "execution_count": 238,
   "id": "2beb5a21-e66c-48b3-8580-3cb95f4879e2",
   "metadata": {},
   "outputs": [
    {
     "data": {
      "text/plain": [
       "120"
      ]
     },
     "execution_count": 238,
     "metadata": {},
     "output_type": "execute_result"
    }
   ],
   "source": [
    "import math\n",
    "math.factorial(5)"
   ]
  },
  {
   "cell_type": "code",
   "execution_count": 248,
   "id": "ffd58066-eab2-42a6-8efb-a7ca9f635698",
   "metadata": {},
   "outputs": [],
   "source": [
    "ans=1\n",
    "for i in range(1,6):\n",
    "    ans = ans*i"
   ]
  },
  {
   "cell_type": "code",
   "execution_count": 252,
   "id": "6af356a0-26a5-4f78-b9e8-f13302f78e85",
   "metadata": {},
   "outputs": [
    {
     "data": {
      "text/plain": [
       "120"
      ]
     },
     "execution_count": 252,
     "metadata": {},
     "output_type": "execute_result"
    }
   ],
   "source": [
    "ans"
   ]
  },
  {
   "cell_type": "code",
   "execution_count": null,
   "id": "52e778a2-bfac-413d-a102-fd1a15c991a9",
   "metadata": {},
   "outputs": [],
   "source": []
  },
  {
   "cell_type": "code",
   "execution_count": null,
   "id": "7fbee743-ac61-4384-8644-d3eca0db63bb",
   "metadata": {},
   "outputs": [],
   "source": []
  },
  {
   "cell_type": "code",
   "execution_count": null,
   "id": "0627f4cc-204a-41bb-b865-43666be9cc93",
   "metadata": {},
   "outputs": [],
   "source": []
  },
  {
   "cell_type": "markdown",
   "id": "bb1a9dca-893f-4609-8f05-caf7d2244e43",
   "metadata": {},
   "source": [
    "# np.linspace"
   ]
  },
  {
   "cell_type": "code",
   "execution_count": null,
   "id": "98d890ce-5a12-4344-8141-bba743f53daa",
   "metadata": {},
   "outputs": [],
   "source": []
  },
  {
   "cell_type": "code",
   "execution_count": 262,
   "id": "b0ade77b-1c14-4681-b24a-b25ac13841a2",
   "metadata": {},
   "outputs": [
    {
     "data": {
      "text/plain": [
       "'Return evenly spaced numbers over a specified interval.\\n\\nReturns `num` evenly spaced samples, calculated over the\\ninterval [`start`, `stop`].\\n'"
      ]
     },
     "execution_count": 262,
     "metadata": {},
     "output_type": "execute_result"
    }
   ],
   "source": [
    "'''Return evenly spaced numbers over a specified interval.\n",
    "\n",
    "Returns `num` evenly spaced samples, calculated over the\n",
    "interval [`start`, `stop`].\n",
    "'''"
   ]
  },
  {
   "cell_type": "code",
   "execution_count": 260,
   "id": "3fc1fd57-1625-4906-a730-459020e2a049",
   "metadata": {},
   "outputs": [
    {
     "data": {
      "text/plain": [
       "array([ 0.,  2.,  4.,  6.,  8., 10.])"
      ]
     },
     "execution_count": 260,
     "metadata": {},
     "output_type": "execute_result"
    }
   ],
   "source": [
    "np.linspace(0,10,num=6)"
   ]
  },
  {
   "cell_type": "code",
   "execution_count": 272,
   "id": "2c721866-4643-4c7b-90fd-15b8190c470d",
   "metadata": {},
   "outputs": [
    {
     "data": {
      "text/plain": [
       "(4,)"
      ]
     },
     "execution_count": 272,
     "metadata": {},
     "output_type": "execute_result"
    }
   ],
   "source": [
    "np.linspace(0,10,num=4).shape"
   ]
  },
  {
   "cell_type": "code",
   "execution_count": null,
   "id": "ce43f198-6b46-46a1-9799-cf65e699c143",
   "metadata": {},
   "outputs": [],
   "source": []
  },
  {
   "cell_type": "code",
   "execution_count": 277,
   "id": "937c9412-8c36-4931-8554-0648f7f88fcd",
   "metadata": {},
   "outputs": [
    {
     "data": {
      "text/plain": [
       "datetime.datetime(2024, 6, 30, 11, 32, 22, 558352)"
      ]
     },
     "execution_count": 277,
     "metadata": {},
     "output_type": "execute_result"
    }
   ],
   "source": [
    "import datetime\n",
    "datetime.datetime.now()"
   ]
  },
  {
   "cell_type": "code",
   "execution_count": 281,
   "id": "fce339ba-38ae-4df3-bbd0-549e1926b96d",
   "metadata": {},
   "outputs": [],
   "source": [
    "# on break till 11:40"
   ]
  },
  {
   "cell_type": "code",
   "execution_count": null,
   "id": "485f6045-057c-455a-a172-5cd7dc2eb79a",
   "metadata": {},
   "outputs": [],
   "source": []
  },
  {
   "cell_type": "markdown",
   "id": "2146c7b0-d95a-47bf-8e2f-f7621469b907",
   "metadata": {},
   "source": [
    "# Array Attributes"
   ]
  },
  {
   "cell_type": "code",
   "execution_count": 288,
   "id": "67c21393-bc47-408d-93b6-c2a184be1e7c",
   "metadata": {},
   "outputs": [],
   "source": [
    "a1 = np.arange(10,dtype=np.int32)\n",
    "a2 = np.arange(12,dtype=float).reshape(3,4)\n",
    "a3 = np.arange(8).reshape(2,2,2)"
   ]
  },
  {
   "cell_type": "code",
   "execution_count": 292,
   "id": "08e49552-99a5-4ad2-b4be-1dedf611d71b",
   "metadata": {},
   "outputs": [
    {
     "data": {
      "text/plain": [
       "array([0, 1, 2, 3, 4, 5, 6, 7, 8, 9], dtype=int32)"
      ]
     },
     "execution_count": 292,
     "metadata": {},
     "output_type": "execute_result"
    }
   ],
   "source": [
    "a1"
   ]
  },
  {
   "cell_type": "code",
   "execution_count": 296,
   "id": "784ec3ba-d4e9-40ec-ba08-db9479374f40",
   "metadata": {},
   "outputs": [
    {
     "data": {
      "text/plain": [
       "array([[ 0.,  1.,  2.,  3.],\n",
       "       [ 4.,  5.,  6.,  7.],\n",
       "       [ 8.,  9., 10., 11.]])"
      ]
     },
     "execution_count": 296,
     "metadata": {},
     "output_type": "execute_result"
    }
   ],
   "source": [
    "a2"
   ]
  },
  {
   "cell_type": "code",
   "execution_count": 298,
   "id": "02382129-701f-4e9f-b86f-ebe354e20953",
   "metadata": {},
   "outputs": [
    {
     "data": {
      "text/plain": [
       "array([[[0, 1],\n",
       "        [2, 3]],\n",
       "\n",
       "       [[4, 5],\n",
       "        [6, 7]]])"
      ]
     },
     "execution_count": 298,
     "metadata": {},
     "output_type": "execute_result"
    }
   ],
   "source": [
    "a3"
   ]
  },
  {
   "cell_type": "code",
   "execution_count": 306,
   "id": "dd4df645-13ac-43b4-b57d-2d002dba086d",
   "metadata": {},
   "outputs": [
    {
     "data": {
      "text/plain": [
       "((10,), (3, 4), (2, 2, 2))"
      ]
     },
     "execution_count": 306,
     "metadata": {},
     "output_type": "execute_result"
    }
   ],
   "source": [
    "a1.shape,a2.shape,a3.shape"
   ]
  },
  {
   "cell_type": "code",
   "execution_count": 310,
   "id": "bddcd8a9-58ec-4f0c-834d-8b4d5ae6a4c2",
   "metadata": {},
   "outputs": [
    {
     "data": {
      "text/plain": [
       "(1, 2, 3)"
      ]
     },
     "execution_count": 310,
     "metadata": {},
     "output_type": "execute_result"
    }
   ],
   "source": [
    "a1.ndim,a2.ndim,a3.ndim"
   ]
  },
  {
   "cell_type": "code",
   "execution_count": 319,
   "id": "ed6b397c-c491-4853-948b-acff231c19bd",
   "metadata": {},
   "outputs": [
    {
     "data": {
      "text/plain": [
       "(10, 12, 8)"
      ]
     },
     "execution_count": 319,
     "metadata": {},
     "output_type": "execute_result"
    }
   ],
   "source": [
    "a1.size,a2.size,a3.size # No of elements in the array"
   ]
  },
  {
   "cell_type": "code",
   "execution_count": 325,
   "id": "5efe00a4-e78d-44ca-be2d-451641e5930f",
   "metadata": {},
   "outputs": [
    {
     "data": {
      "text/plain": [
       "4"
      ]
     },
     "execution_count": 325,
     "metadata": {},
     "output_type": "execute_result"
    }
   ],
   "source": [
    "a1.itemsize # return capacity of every element in an array in Bytes\n",
    "\n",
    "\n",
    "8 bit = 1 byte \n",
    "int32 means 32 bit = 4 byte"
   ]
  },
  {
   "cell_type": "code",
   "execution_count": 329,
   "id": "096b3fdd-1bce-45fa-90ba-bce07d632b38",
   "metadata": {},
   "outputs": [
    {
     "data": {
      "text/plain": [
       "(dtype('int32'), dtype('float64'), dtype('int64'))"
      ]
     },
     "execution_count": 329,
     "metadata": {},
     "output_type": "execute_result"
    }
   ],
   "source": [
    "a1.dtype,a2.dtype,a3.dtype"
   ]
  },
  {
   "cell_type": "code",
   "execution_count": 338,
   "id": "96b87e3a-f3e6-404d-9d7e-0758e50aa806",
   "metadata": {},
   "outputs": [
    {
     "data": {
      "text/plain": [
       "array([1. , 2.5])"
      ]
     },
     "execution_count": 338,
     "metadata": {},
     "output_type": "execute_result"
    }
   ],
   "source": [
    "a4 = np.array([1,2.5])\n",
    "a4"
   ]
  },
  {
   "cell_type": "code",
   "execution_count": null,
   "id": "59ae1aab-0a89-40d9-abd2-3e0efbd808a2",
   "metadata": {},
   "outputs": [],
   "source": []
  },
  {
   "cell_type": "code",
   "execution_count": 336,
   "id": "011efe23-5173-476a-9f7f-8dfa6e676ca7",
   "metadata": {},
   "outputs": [
    {
     "data": {
      "text/plain": [
       "(dtype('float64'), dtype('float64'))"
      ]
     },
     "execution_count": 336,
     "metadata": {},
     "output_type": "execute_result"
    }
   ],
   "source": [
    "a4[0].dtype,a4[1].dtype"
   ]
  },
  {
   "cell_type": "code",
   "execution_count": null,
   "id": "4b460245-db72-413b-b55b-ee8654ccbef1",
   "metadata": {},
   "outputs": [],
   "source": [
    "int,float\n",
    "\n",
    "str"
   ]
  },
  {
   "cell_type": "code",
   "execution_count": 342,
   "id": "b60973a8-71b3-41f6-a7bc-91a4d8ccf932",
   "metadata": {},
   "outputs": [],
   "source": [
    "a5=np.array([1,'python'])"
   ]
  },
  {
   "cell_type": "code",
   "execution_count": 349,
   "id": "9c3d189f-9ea7-4676-bcc3-3cde9b305422",
   "metadata": {},
   "outputs": [
    {
     "data": {
      "text/plain": [
       "(dtype('<U1'), dtype('<U6'))"
      ]
     },
     "execution_count": 349,
     "metadata": {},
     "output_type": "execute_result"
    }
   ],
   "source": [
    "a5[0].dtype,a5[1].dtype"
   ]
  },
  {
   "cell_type": "code",
   "execution_count": null,
   "id": "0509cf03-e038-4aca-8b37-248895f539ea",
   "metadata": {},
   "outputs": [],
   "source": []
  },
  {
   "cell_type": "code",
   "execution_count": null,
   "id": "7f06a591-4128-4fbd-94f5-f6dbf72a8fa5",
   "metadata": {},
   "outputs": [],
   "source": []
  },
  {
   "cell_type": "code",
   "execution_count": null,
   "id": "964961dc-2719-4e54-8c59-1b130d413703",
   "metadata": {},
   "outputs": [],
   "source": []
  },
  {
   "cell_type": "markdown",
   "id": "c89eaff1-6b87-4833-adb5-ac8503ca0e99",
   "metadata": {},
   "source": [
    "# As type"
   ]
  },
  {
   "cell_type": "code",
   "execution_count": 355,
   "id": "db7a7383-b2d4-4005-8728-b74ad8f71b60",
   "metadata": {},
   "outputs": [
    {
     "data": {
      "text/plain": [
       "array([0, 1, 2, 3, 4, 5, 6, 7, 8, 9], dtype=int32)"
      ]
     },
     "execution_count": 355,
     "metadata": {},
     "output_type": "execute_result"
    }
   ],
   "source": [
    "a1"
   ]
  },
  {
   "cell_type": "code",
   "execution_count": 373,
   "id": "8ef8ecc1-7db4-401a-87ea-345cff7169bf",
   "metadata": {},
   "outputs": [],
   "source": [
    "a1 = a1.astype(str)"
   ]
  },
  {
   "cell_type": "code",
   "execution_count": 359,
   "id": "28a86bf2-d27e-419d-b2a2-f11644e6582e",
   "metadata": {},
   "outputs": [
    {
     "data": {
      "text/plain": [
       "array([0., 1., 2., 3., 4., 5., 6., 7., 8., 9.])"
      ]
     },
     "execution_count": 359,
     "metadata": {},
     "output_type": "execute_result"
    }
   ],
   "source": [
    "a1 = a1.astype(float)"
   ]
  },
  {
   "cell_type": "code",
   "execution_count": 361,
   "id": "c03e2d7c-5976-42ef-97aa-1ccfa3230c5c",
   "metadata": {},
   "outputs": [
    {
     "data": {
      "text/plain": [
       "array([0, 1, 2, 3, 4, 5, 6, 7, 8, 9], dtype=int32)"
      ]
     },
     "execution_count": 361,
     "metadata": {},
     "output_type": "execute_result"
    }
   ],
   "source": [
    "a1"
   ]
  },
  {
   "cell_type": "code",
   "execution_count": 363,
   "id": "680f39ab-b194-4c78-886b-a6f0508ee1ac",
   "metadata": {},
   "outputs": [],
   "source": [
    "s = \"mayank\"\n"
   ]
  },
  {
   "cell_type": "code",
   "execution_count": 367,
   "id": "c9134cf7-cb94-419f-83a1-0c8300f802df",
   "metadata": {},
   "outputs": [
    {
     "data": {
      "text/plain": [
       "['m', 'y', 'nk']"
      ]
     },
     "execution_count": 367,
     "metadata": {},
     "output_type": "execute_result"
    }
   ],
   "source": [
    "s.split('a')"
   ]
  },
  {
   "cell_type": "code",
   "execution_count": 377,
   "id": "94e58e4e-6b56-42c2-9ad0-529868c1710c",
   "metadata": {},
   "outputs": [
    {
     "data": {
      "text/plain": [
       "'mayank'"
      ]
     },
     "execution_count": 377,
     "metadata": {},
     "output_type": "execute_result"
    }
   ],
   "source": [
    "s"
   ]
  },
  {
   "cell_type": "code",
   "execution_count": 382,
   "id": "a625c5b1-48be-4c9f-8979-92e8ca5f19aa",
   "metadata": {},
   "outputs": [
    {
     "data": {
      "text/plain": [
       "array(['0', '1', '2', '3', '4', '5', '6', '7', '8', '9'], dtype='<U11')"
      ]
     },
     "execution_count": 382,
     "metadata": {},
     "output_type": "execute_result"
    }
   ],
   "source": [
    "a1"
   ]
  },
  {
   "cell_type": "code",
   "execution_count": 386,
   "id": "80614e6e-b269-41e9-a07e-0716d34edb6a",
   "metadata": {},
   "outputs": [
    {
     "data": {
      "text/plain": [
       "array([0., 1., 2., 3., 4., 5., 6., 7., 8., 9.])"
      ]
     },
     "execution_count": 386,
     "metadata": {},
     "output_type": "execute_result"
    }
   ],
   "source": [
    "a1.astype(np.float_)"
   ]
  },
  {
   "cell_type": "code",
   "execution_count": null,
   "id": "4f686026-163b-4cbe-a4de-83f133d59549",
   "metadata": {},
   "outputs": [],
   "source": []
  },
  {
   "cell_type": "code",
   "execution_count": null,
   "id": "be3f768e-e0ff-4c3c-af40-100179f6db86",
   "metadata": {},
   "outputs": [],
   "source": []
  },
  {
   "cell_type": "code",
   "execution_count": null,
   "id": "c21e2c6b-475b-4f65-9466-2b5a3a3aa3a4",
   "metadata": {},
   "outputs": [],
   "source": []
  },
  {
   "cell_type": "markdown",
   "id": "7b92ea2b-eeab-4bba-be5a-9418d3ebbc33",
   "metadata": {},
   "source": [
    "# Array Operation"
   ]
  },
  {
   "cell_type": "code",
   "execution_count": 395,
   "id": "79fd87ec-1c70-44c6-aa14-0ceff624c8c2",
   "metadata": {},
   "outputs": [],
   "source": [
    "a1 = np.arange(1,10)"
   ]
  },
  {
   "cell_type": "code",
   "execution_count": 405,
   "id": "6ae0fc5b-a71e-450c-b287-b6e6696d9009",
   "metadata": {},
   "outputs": [
    {
     "data": {
      "text/plain": [
       "array([1, 2, 3, 4, 5, 6, 7, 8, 9])"
      ]
     },
     "execution_count": 405,
     "metadata": {},
     "output_type": "execute_result"
    }
   ],
   "source": [
    "a1"
   ]
  },
  {
   "cell_type": "code",
   "execution_count": 407,
   "id": "33c2a4c5-5e07-40b7-af19-8abe9424a1fd",
   "metadata": {},
   "outputs": [
    {
     "ename": "SyntaxError",
     "evalue": "invalid syntax (447672172.py, line 3)",
     "output_type": "error",
     "traceback": [
      "\u001b[0;36m  Cell \u001b[0;32mIn[407], line 3\u001b[0;36m\u001b[0m\n\u001b[0;31m    0 -> 1\u001b[0m\n\u001b[0m      ^\u001b[0m\n\u001b[0;31mSyntaxError\u001b[0m\u001b[0;31m:\u001b[0m invalid syntax\n"
     ]
    }
   ],
   "source": [
    "a1[0],a1[9] \n",
    "\n",
    "0 -> 1\n",
    "9 -> error"
   ]
  },
  {
   "cell_type": "code",
   "execution_count": 411,
   "id": "f9f17d05-baa1-41d4-a8e7-660083d1b63b",
   "metadata": {},
   "outputs": [
    {
     "data": {
      "text/plain": [
       "array([1, 2, 3, 4])"
      ]
     },
     "execution_count": 411,
     "metadata": {},
     "output_type": "execute_result"
    }
   ],
   "source": [
    "a1[0:4]"
   ]
  },
  {
   "cell_type": "code",
   "execution_count": 413,
   "id": "6ced3c80-48ed-4e7d-9353-5ee76e4829eb",
   "metadata": {},
   "outputs": [
    {
     "data": {
      "text/plain": [
       "array([[ 0.,  1.,  2.,  3.],\n",
       "       [ 4.,  5.,  6.,  7.],\n",
       "       [ 8.,  9., 10., 11.]])"
      ]
     },
     "execution_count": 413,
     "metadata": {},
     "output_type": "execute_result"
    }
   ],
   "source": [
    "a2"
   ]
  },
  {
   "cell_type": "code",
   "execution_count": 455,
   "id": "44ec460b-5104-4ba5-b8f5-41a17ca87b9f",
   "metadata": {},
   "outputs": [
    {
     "data": {
      "text/plain": [
       "array([ 8.,  9., 10., 11.])"
      ]
     },
     "execution_count": 455,
     "metadata": {},
     "output_type": "execute_result"
    }
   ],
   "source": [
    "a2[-1]"
   ]
  },
  {
   "cell_type": "code",
   "execution_count": 417,
   "id": "1231a375-d6fe-4d2a-9440-a42f2b831087",
   "metadata": {},
   "outputs": [
    {
     "data": {
      "text/plain": [
       "(3, 4)"
      ]
     },
     "execution_count": 417,
     "metadata": {},
     "output_type": "execute_result"
    }
   ],
   "source": [
    "a2.shape"
   ]
  },
  {
   "cell_type": "code",
   "execution_count": 419,
   "id": "df061109-bb1b-4997-a75e-ec790bdf6deb",
   "metadata": {},
   "outputs": [
    {
     "data": {
      "text/plain": [
       "array([[0., 1.],\n",
       "       [4., 5.]])"
      ]
     },
     "execution_count": 419,
     "metadata": {},
     "output_type": "execute_result"
    }
   ],
   "source": [
    "a2[0:2,0:2]"
   ]
  },
  {
   "cell_type": "code",
   "execution_count": 427,
   "id": "8f7dcda3-00e0-4bc5-8574-973bad234388",
   "metadata": {},
   "outputs": [
    {
     "data": {
      "text/plain": [
       "2.0"
      ]
     },
     "execution_count": 427,
     "metadata": {},
     "output_type": "execute_result"
    }
   ],
   "source": [
    "a2[0][2]"
   ]
  },
  {
   "cell_type": "code",
   "execution_count": 437,
   "id": "4189dafa-9c70-4e0f-bd4e-c5f17054fab8",
   "metadata": {},
   "outputs": [],
   "source": [
    "l1 = [[1,2,3 ] , 4 ,5]\n",
    "\n"
   ]
  },
  {
   "cell_type": "code",
   "execution_count": 445,
   "id": "63bbd696-0463-4edc-b6ea-7eed03b62caf",
   "metadata": {},
   "outputs": [
    {
     "data": {
      "text/plain": [
       "6.0"
      ]
     },
     "execution_count": 445,
     "metadata": {},
     "output_type": "execute_result"
    }
   ],
   "source": [
    "a2[1][0:3][-1]"
   ]
  },
  {
   "cell_type": "code",
   "execution_count": null,
   "id": "8328e4f8-88b7-4eea-83f9-b6d364faa446",
   "metadata": {},
   "outputs": [],
   "source": []
  },
  {
   "cell_type": "code",
   "execution_count": null,
   "id": "2f47ccef-26bf-4823-8f60-47905196d586",
   "metadata": {},
   "outputs": [],
   "source": []
  },
  {
   "cell_type": "code",
   "execution_count": 449,
   "id": "466c4f92-502b-4e23-ad17-7ebc93016d83",
   "metadata": {},
   "outputs": [
    {
     "data": {
      "text/plain": [
       "array([1, 2, 3])"
      ]
     },
     "execution_count": 449,
     "metadata": {},
     "output_type": "execute_result"
    }
   ],
   "source": [
    "a1[-9:-6]"
   ]
  },
  {
   "cell_type": "code",
   "execution_count": null,
   "id": "82f4be5c-c038-4eba-bf72-7d0e0aa173b4",
   "metadata": {},
   "outputs": [],
   "source": []
  },
  {
   "cell_type": "code",
   "execution_count": null,
   "id": "2936d5b0-08d6-46c9-bed0-b56f0fac1e9b",
   "metadata": {},
   "outputs": [],
   "source": []
  },
  {
   "cell_type": "markdown",
   "id": "0c728289-8e61-44fd-ba9c-7e0f2d73bcab",
   "metadata": {},
   "source": [
    "# Arithematic operation"
   ]
  },
  {
   "cell_type": "code",
   "execution_count": 466,
   "id": "4e099ee7-1a5d-4904-8b83-2cb024571d0d",
   "metadata": {},
   "outputs": [],
   "source": [
    "a1 = np.arange(1,3)"
   ]
  },
  {
   "cell_type": "code",
   "execution_count": 468,
   "id": "61dc3de4-63b6-4de5-aa55-074eb6569160",
   "metadata": {},
   "outputs": [
    {
     "data": {
      "text/plain": [
       "array([0.1, 0.2])"
      ]
     },
     "execution_count": 468,
     "metadata": {},
     "output_type": "execute_result"
    }
   ],
   "source": [
    "a1/10"
   ]
  },
  {
   "cell_type": "code",
   "execution_count": 472,
   "id": "b4dad491-d704-497a-8b33-31d422f6db63",
   "metadata": {},
   "outputs": [
    {
     "data": {
      "text/plain": [
       "array([10, 20])"
      ]
     },
     "execution_count": 472,
     "metadata": {},
     "output_type": "execute_result"
    }
   ],
   "source": [
    "a1*10"
   ]
  },
  {
   "cell_type": "code",
   "execution_count": 474,
   "id": "627e08b1-f829-4fbf-97b1-a5bcbe827d23",
   "metadata": {},
   "outputs": [
    {
     "data": {
      "text/plain": [
       "array([1, 2])"
      ]
     },
     "execution_count": 474,
     "metadata": {},
     "output_type": "execute_result"
    }
   ],
   "source": [
    "a1"
   ]
  },
  {
   "cell_type": "code",
   "execution_count": 476,
   "id": "69f3e63f-bfb9-4fe9-bac2-2389287060b7",
   "metadata": {},
   "outputs": [
    {
     "data": {
      "text/plain": [
       "array([6, 7])"
      ]
     },
     "execution_count": 476,
     "metadata": {},
     "output_type": "execute_result"
    }
   ],
   "source": [
    "a1 + 5"
   ]
  },
  {
   "cell_type": "code",
   "execution_count": 478,
   "id": "78ef282a-6823-4448-a53d-8882ff68108f",
   "metadata": {},
   "outputs": [
    {
     "data": {
      "text/plain": [
       "array([-4, -3])"
      ]
     },
     "execution_count": 478,
     "metadata": {},
     "output_type": "execute_result"
    }
   ],
   "source": [
    "a1-5"
   ]
  },
  {
   "cell_type": "code",
   "execution_count": null,
   "id": "556eaa80-997f-47a0-a5b2-ade0e199d7be",
   "metadata": {},
   "outputs": [],
   "source": [
    "+,-,*,/,//,%\n"
   ]
  },
  {
   "cell_type": "code",
   "execution_count": 480,
   "id": "2b8e7bf0-347f-4f21-9aea-062775af70af",
   "metadata": {},
   "outputs": [
    {
     "data": {
      "text/plain": [
       "array([1, 2])"
      ]
     },
     "execution_count": 480,
     "metadata": {},
     "output_type": "execute_result"
    }
   ],
   "source": [
    "a1"
   ]
  },
  {
   "cell_type": "code",
   "execution_count": 486,
   "id": "b7998420-fb46-495e-9695-9b3e12b2aa1c",
   "metadata": {},
   "outputs": [
    {
     "data": {
      "text/plain": [
       "array([1, 2, 3, 4, 5])"
      ]
     },
     "execution_count": 486,
     "metadata": {},
     "output_type": "execute_result"
    }
   ],
   "source": [
    "a6 = np.arange(1,6)\n",
    "a6"
   ]
  },
  {
   "cell_type": "code",
   "execution_count": 488,
   "id": "592f0487-612d-4b77-9bd4-cb7429f2b694",
   "metadata": {},
   "outputs": [
    {
     "data": {
      "text/plain": [
       "array([False, False, False,  True,  True])"
      ]
     },
     "execution_count": 488,
     "metadata": {},
     "output_type": "execute_result"
    }
   ],
   "source": [
    "a6>3"
   ]
  },
  {
   "cell_type": "code",
   "execution_count": 506,
   "id": "68149602-d368-4ad9-9eec-e184c68d9913",
   "metadata": {},
   "outputs": [
    {
     "data": {
      "text/plain": [
       "array([ True,  True, False,  True,  True])"
      ]
     },
     "execution_count": 506,
     "metadata": {},
     "output_type": "execute_result"
    }
   ],
   "source": [
    "a6!=3"
   ]
  },
  {
   "cell_type": "code",
   "execution_count": 508,
   "id": "6e3e75c7-d978-4322-89eb-9c2dfaa6c29d",
   "metadata": {},
   "outputs": [
    {
     "data": {
      "text/plain": [
       "array([False, False, False,  True,  True])"
      ]
     },
     "execution_count": 508,
     "metadata": {},
     "output_type": "execute_result"
    }
   ],
   "source": [
    "a6>3"
   ]
  },
  {
   "cell_type": "code",
   "execution_count": 504,
   "id": "12ff42fd-314f-407e-957b-26219bcb5f8e",
   "metadata": {},
   "outputs": [
    {
     "data": {
      "text/plain": [
       "array([1, 2, 3, 4, 5])"
      ]
     },
     "execution_count": 504,
     "metadata": {},
     "output_type": "execute_result"
    }
   ],
   "source": [
    "a6"
   ]
  },
  {
   "cell_type": "code",
   "execution_count": 512,
   "id": "487be3fc-16e9-419c-9c4d-02d9ad56a44b",
   "metadata": {},
   "outputs": [
    {
     "data": {
      "text/plain": [
       "array([3, 4, 5])"
      ]
     },
     "execution_count": 512,
     "metadata": {},
     "output_type": "execute_result"
    }
   ],
   "source": [
    "a6[ a6>2 ]"
   ]
  },
  {
   "cell_type": "code",
   "execution_count": 516,
   "id": "736cbdde-db5c-4fa9-88b9-4cf16f955f39",
   "metadata": {},
   "outputs": [
    {
     "data": {
      "text/plain": [
       "array([1, 2, 3, 4, 5])"
      ]
     },
     "execution_count": 516,
     "metadata": {},
     "output_type": "execute_result"
    }
   ],
   "source": [
    "a6"
   ]
  },
  {
   "cell_type": "code",
   "execution_count": 518,
   "id": "f8d88aaa-eba2-41eb-97f9-85647c0ce0be",
   "metadata": {},
   "outputs": [
    {
     "data": {
      "text/plain": [
       "array([5])"
      ]
     },
     "execution_count": 518,
     "metadata": {},
     "output_type": "execute_result"
    }
   ],
   "source": [
    "a6 [ a6  > 4]"
   ]
  },
  {
   "cell_type": "code",
   "execution_count": 522,
   "id": "38edd89d-8ec8-466b-a584-c6b3c1c4b76f",
   "metadata": {},
   "outputs": [
    {
     "data": {
      "text/plain": [
       "array([1])"
      ]
     },
     "execution_count": 522,
     "metadata": {},
     "output_type": "execute_result"
    }
   ],
   "source": [
    "a6 [ [ True,False,False,False,False]   ]"
   ]
  },
  {
   "cell_type": "code",
   "execution_count": 526,
   "id": "1324eb7f-214b-4b35-82c0-4134c29c4cd6",
   "metadata": {},
   "outputs": [
    {
     "data": {
      "text/plain": [
       "array([False, False, False, False,  True])"
      ]
     },
     "execution_count": 526,
     "metadata": {},
     "output_type": "execute_result"
    }
   ],
   "source": [
    "a6>4"
   ]
  },
  {
   "cell_type": "code",
   "execution_count": 560,
   "id": "781b73f4-3864-4b24-934f-09c29aa951bc",
   "metadata": {},
   "outputs": [
    {
     "ename": "ValueError",
     "evalue": "NumPy boolean array indexing assignment cannot assign 5 input values to the 1 output values where the mask is true",
     "output_type": "error",
     "traceback": [
      "\u001b[0;31m---------------------------------------------------------------------------\u001b[0m",
      "\u001b[0;31mValueError\u001b[0m                                Traceback (most recent call last)",
      "Cell \u001b[0;32mIn[560], line 1\u001b[0m\n\u001b[0;32m----> 1\u001b[0m a6[ [\u001b[38;5;28;01mFalse\u001b[39;00m, \u001b[38;5;28;01mFalse\u001b[39;00m, \u001b[38;5;28;01mFalse\u001b[39;00m, \u001b[38;5;28;01mFalse\u001b[39;00m,  \u001b[38;5;28;01mTrue\u001b[39;00m] ] \u001b[38;5;241m=\u001b[39m a6 [a6\u001b[38;5;241m>\u001b[39m\u001b[38;5;241m4\u001b[39m]\n",
      "\u001b[0;31mValueError\u001b[0m: NumPy boolean array indexing assignment cannot assign 5 input values to the 1 output values where the mask is true"
     ]
    }
   ],
   "source": [
    "a6[ [False, False, False, False,  True] ] = a6 [a6>4]"
   ]
  },
  {
   "cell_type": "code",
   "execution_count": null,
   "id": "9b017f2f-2170-4814-acdc-d36d4a7a63fb",
   "metadata": {},
   "outputs": [],
   "source": []
  },
  {
   "cell_type": "code",
   "execution_count": 534,
   "id": "b085c5cc-a165-497f-8b47-ab7de6b0f565",
   "metadata": {},
   "outputs": [
    {
     "data": {
      "text/plain": [
       "array([5])"
      ]
     },
     "execution_count": 534,
     "metadata": {},
     "output_type": "execute_result"
    }
   ],
   "source": [
    "a6[a6>4]"
   ]
  },
  {
   "cell_type": "code",
   "execution_count": 538,
   "id": "3a19022a-5842-462f-a487-1673a0ef55c2",
   "metadata": {},
   "outputs": [
    {
     "data": {
      "text/plain": [
       "array([False, False, False, False, False])"
      ]
     },
     "execution_count": 538,
     "metadata": {},
     "output_type": "execute_result"
    }
   ],
   "source": [
    "a6>5"
   ]
  },
  {
   "cell_type": "code",
   "execution_count": 540,
   "id": "07033582-b850-4794-93ae-b38265b2048a",
   "metadata": {},
   "outputs": [
    {
     "ename": "SyntaxError",
     "evalue": "invalid syntax (1191208096.py, line 1)",
     "output_type": "error",
     "traceback": [
      "\u001b[0;36m  Cell \u001b[0;32mIn[540], line 1\u001b[0;36m\u001b[0m\n\u001b[0;31m    How to return the index of the elements for a6 [a6>3]?\u001b[0m\n\u001b[0m        ^\u001b[0m\n\u001b[0;31mSyntaxError\u001b[0m\u001b[0;31m:\u001b[0m invalid syntax\n"
     ]
    }
   ],
   "source": [
    "How to return the index of the elements for a6 [a6>3]?"
   ]
  },
  {
   "cell_type": "code",
   "execution_count": 546,
   "id": "d0a9b131-4d65-485c-aed3-33c630e45191",
   "metadata": {},
   "outputs": [
    {
     "data": {
      "text/plain": [
       "array([10, 20, 30, 40, 50])"
      ]
     },
     "execution_count": 546,
     "metadata": {},
     "output_type": "execute_result"
    }
   ],
   "source": [
    "a6 = a6*10\n",
    "a6"
   ]
  },
  {
   "cell_type": "code",
   "execution_count": 548,
   "id": "fb8ffa0c-1805-40ca-ac99-7af60a7e8d17",
   "metadata": {},
   "outputs": [
    {
     "data": {
      "text/plain": [
       "(array([3, 4]),)"
      ]
     },
     "execution_count": 548,
     "metadata": {},
     "output_type": "execute_result"
    }
   ],
   "source": [
    "np.where(a6>30)"
   ]
  },
  {
   "cell_type": "code",
   "execution_count": 558,
   "id": "ddf0f501-cd8c-4c9c-8f31-1148874604c5",
   "metadata": {},
   "outputs": [
    {
     "data": {
      "text/plain": [
       "array([ True,  True,  True, False, False])"
      ]
     },
     "execution_count": 558,
     "metadata": {},
     "output_type": "execute_result"
    }
   ],
   "source": [
    "a6<35"
   ]
  },
  {
   "cell_type": "code",
   "execution_count": 562,
   "id": "f7bc4e64-a208-46ed-a9a4-c655a62b470f",
   "metadata": {},
   "outputs": [
    {
     "data": {
      "text/plain": [
       "array([10, 20, 30])"
      ]
     },
     "execution_count": 562,
     "metadata": {},
     "output_type": "execute_result"
    }
   ],
   "source": [
    "a6[ a6 < 35 ] "
   ]
  },
  {
   "cell_type": "code",
   "execution_count": 575,
   "id": "766f2c17-1187-4062-b999-7aebc2bcea52",
   "metadata": {},
   "outputs": [
    {
     "data": {
      "text/plain": [
       "array([ True,  True,  True, False, False])"
      ]
     },
     "execution_count": 575,
     "metadata": {},
     "output_type": "execute_result"
    }
   ],
   "source": [
    "a6 < 35"
   ]
  },
  {
   "cell_type": "code",
   "execution_count": null,
   "id": "e08cca8b-f701-411f-9013-fd25c28a8245",
   "metadata": {},
   "outputs": [],
   "source": []
  },
  {
   "cell_type": "code",
   "execution_count": 577,
   "id": "543ff803-fc5a-4ed9-885c-69d1bfba7230",
   "metadata": {},
   "outputs": [
    {
     "data": {
      "text/plain": [
       "array([1, 2])"
      ]
     },
     "execution_count": 577,
     "metadata": {},
     "output_type": "execute_result"
    }
   ],
   "source": [
    "a1"
   ]
  },
  {
   "cell_type": "code",
   "execution_count": null,
   "id": "7415b7b4-e967-46e5-bda3-3542b4e14309",
   "metadata": {},
   "outputs": [],
   "source": [
    "a6 > 30"
   ]
  },
  {
   "cell_type": "code",
   "execution_count": null,
   "id": "e563357c-c4cf-4ee7-a422-ac9fdfbcfcc4",
   "metadata": {},
   "outputs": [],
   "source": []
  },
  {
   "cell_type": "code",
   "execution_count": null,
   "id": "d35d4992-2851-456f-8aa8-9039788e2244",
   "metadata": {},
   "outputs": [],
   "source": []
  },
  {
   "cell_type": "code",
   "execution_count": null,
   "id": "275cefec-a6be-45b0-ba08-deaec8c8c7a8",
   "metadata": {},
   "outputs": [],
   "source": []
  },
  {
   "cell_type": "code",
   "execution_count": 585,
   "id": "c733a2d0-0b27-4cb3-9a6d-0ad754796b4f",
   "metadata": {},
   "outputs": [
    {
     "data": {
      "text/plain": [
       "array([1, 2])"
      ]
     },
     "execution_count": 585,
     "metadata": {},
     "output_type": "execute_result"
    }
   ],
   "source": [
    "a1 "
   ]
  },
  {
   "cell_type": "code",
   "execution_count": 587,
   "id": "949e8da5-380a-4811-9f7b-68997b4510a5",
   "metadata": {},
   "outputs": [],
   "source": [
    "a1 = np.arange(0,4).reshape(2,2)"
   ]
  },
  {
   "cell_type": "code",
   "execution_count": 589,
   "id": "be77f86a-d541-4283-936c-d2c81422fcf0",
   "metadata": {},
   "outputs": [
    {
     "data": {
      "text/plain": [
       "array([[0, 1],\n",
       "       [2, 3]])"
      ]
     },
     "execution_count": 589,
     "metadata": {},
     "output_type": "execute_result"
    }
   ],
   "source": [
    "a1"
   ]
  },
  {
   "cell_type": "code",
   "execution_count": 597,
   "id": "2f0caf78-770e-4aea-97ee-2dbb5ca30f96",
   "metadata": {},
   "outputs": [
    {
     "data": {
      "text/plain": [
       "3"
      ]
     },
     "execution_count": 597,
     "metadata": {},
     "output_type": "execute_result"
    }
   ],
   "source": [
    "np.max\n",
    "np.min,\n",
    "np.prod\n",
    "np.mean\n",
    "np.median\n",
    "np.sin\n",
    "np.cos\n",
    "np.divide"
   ]
  },
  {
   "cell_type": "code",
   "execution_count": null,
   "id": "f24550a3-1096-4cfd-9063-5b0b468f794d",
   "metadata": {},
   "outputs": [],
   "source": [
    "# 0 for column \n",
    "# 1 for row"
   ]
  },
  {
   "cell_type": "code",
   "execution_count": 601,
   "id": "77415f79-233c-47c2-b088-aa6f45807849",
   "metadata": {},
   "outputs": [
    {
     "data": {
      "text/plain": [
       "array([1, 3])"
      ]
     },
     "execution_count": 601,
     "metadata": {},
     "output_type": "execute_result"
    }
   ],
   "source": [
    "np.max(a1,axis=1)"
   ]
  },
  {
   "cell_type": "code",
   "execution_count": 603,
   "id": "6c748848-b647-4c92-ae7d-fbb84a594693",
   "metadata": {},
   "outputs": [
    {
     "data": {
      "text/plain": [
       "array([2, 3])"
      ]
     },
     "execution_count": 603,
     "metadata": {},
     "output_type": "execute_result"
    }
   ],
   "source": [
    "np.max(a1,axis=0)"
   ]
  },
  {
   "cell_type": "code",
   "execution_count": 605,
   "id": "71440e1a-a3eb-4c94-a985-9af2f4cedc5e",
   "metadata": {},
   "outputs": [
    {
     "data": {
      "text/plain": [
       "array([0, 1])"
      ]
     },
     "execution_count": 605,
     "metadata": {},
     "output_type": "execute_result"
    }
   ],
   "source": [
    "np.min(a1,axis=0)"
   ]
  },
  {
   "cell_type": "code",
   "execution_count": 609,
   "id": "2c37c623-c866-408a-8b64-3671ee0f3a4d",
   "metadata": {},
   "outputs": [
    {
     "data": {
      "text/plain": [
       "0"
      ]
     },
     "execution_count": 609,
     "metadata": {},
     "output_type": "execute_result"
    }
   ],
   "source": [
    "np.prod(a1)"
   ]
  },
  {
   "cell_type": "code",
   "execution_count": 612,
   "id": "eb2ab089-aa8d-4177-92fc-af610ecc4a12",
   "metadata": {},
   "outputs": [
    {
     "data": {
      "text/plain": [
       "array([[0, 1],\n",
       "       [2, 3]])"
      ]
     },
     "execution_count": 612,
     "metadata": {},
     "output_type": "execute_result"
    }
   ],
   "source": [
    "a1"
   ]
  },
  {
   "cell_type": "code",
   "execution_count": 614,
   "id": "977982e2-054f-4c93-9549-f6f5d49ba81e",
   "metadata": {},
   "outputs": [
    {
     "data": {
      "text/plain": [
       "1.5"
      ]
     },
     "execution_count": 614,
     "metadata": {},
     "output_type": "execute_result"
    }
   ],
   "source": [
    "np.mean(a1) # 0 + 1 + 2 + 3  = 6   6 /4 = "
   ]
  },
  {
   "cell_type": "code",
   "execution_count": 618,
   "id": "d247676f-8c65-40b3-9305-71ad6c9924cb",
   "metadata": {},
   "outputs": [
    {
     "data": {
      "text/plain": [
       "array([0.5, 2.5])"
      ]
     },
     "execution_count": 618,
     "metadata": {},
     "output_type": "execute_result"
    }
   ],
   "source": [
    "np.mean(a1,axis=1)"
   ]
  },
  {
   "cell_type": "code",
   "execution_count": 620,
   "id": "fa686ee4-ebfb-4bad-a82f-5d0326c2dea2",
   "metadata": {},
   "outputs": [
    {
     "data": {
      "text/plain": [
       "array([[0.        , 0.84147098],\n",
       "       [0.90929743, 0.14112001]])"
      ]
     },
     "execution_count": 620,
     "metadata": {},
     "output_type": "execute_result"
    }
   ],
   "source": [
    "np.sin(a1)"
   ]
  },
  {
   "cell_type": "code",
   "execution_count": null,
   "id": "d8db985a-ee89-45a0-8763-aa91669e7c0f",
   "metadata": {},
   "outputs": [],
   "source": []
  },
  {
   "cell_type": "code",
   "execution_count": null,
   "id": "3509cb7e-8134-45eb-9ec4-6f3918f6276d",
   "metadata": {},
   "outputs": [],
   "source": []
  },
  {
   "cell_type": "markdown",
   "id": "42904a4f-5304-4443-9299-b2089e278906",
   "metadata": {},
   "source": [
    "# iterate on an array"
   ]
  },
  {
   "cell_type": "code",
   "execution_count": 627,
   "id": "8e2b2ad6-b0aa-4bb1-adae-4c7cd6fbe422",
   "metadata": {},
   "outputs": [],
   "source": [
    "l1 = [1,2,3]\n",
    "l2 = [l1,l1,l1]\n",
    "l3 = [l2,l2,l2]"
   ]
  },
  {
   "cell_type": "code",
   "execution_count": 631,
   "id": "9b42b7e5-feea-4208-841c-11777d7be314",
   "metadata": {},
   "outputs": [
    {
     "data": {
      "text/plain": [
       "[1, 2, 3]"
      ]
     },
     "execution_count": 631,
     "metadata": {},
     "output_type": "execute_result"
    }
   ],
   "source": [
    "l1"
   ]
  },
  {
   "cell_type": "code",
   "execution_count": 635,
   "id": "df5dc758-50c7-460a-a464-7ddfba21d6a6",
   "metadata": {},
   "outputs": [
    {
     "data": {
      "text/plain": [
       "[[1, 2, 3], [1, 2, 3], [1, 2, 3]]"
      ]
     },
     "execution_count": 635,
     "metadata": {},
     "output_type": "execute_result"
    }
   ],
   "source": [
    "l2"
   ]
  },
  {
   "cell_type": "code",
   "execution_count": 647,
   "id": "28f0051f-4bf5-4bdc-add3-e196f8e2879e",
   "metadata": {},
   "outputs": [
    {
     "data": {
      "text/plain": [
       "[1, 2, 3]"
      ]
     },
     "execution_count": 647,
     "metadata": {},
     "output_type": "execute_result"
    }
   ],
   "source": [
    "l2[0]"
   ]
  },
  {
   "cell_type": "code",
   "execution_count": 639,
   "id": "2824c683-2f1f-4fb0-8a6d-628cf577b848",
   "metadata": {},
   "outputs": [
    {
     "data": {
      "text/plain": [
       "[[[1, 2, 3], [1, 2, 3], [1, 2, 3]],\n",
       " [[1, 2, 3], [1, 2, 3], [1, 2, 3]],\n",
       " [[1, 2, 3], [1, 2, 3], [1, 2, 3]]]"
      ]
     },
     "execution_count": 639,
     "metadata": {},
     "output_type": "execute_result"
    }
   ],
   "source": [
    "l3"
   ]
  },
  {
   "cell_type": "code",
   "execution_count": 653,
   "id": "08741d4b-9b2f-47c4-b358-e7511a73dde3",
   "metadata": {},
   "outputs": [
    {
     "name": "stdout",
     "output_type": "stream",
     "text": [
      "1\n",
      "2\n",
      "3\n",
      "1\n",
      "2\n",
      "3\n",
      "1\n",
      "2\n",
      "3\n"
     ]
    }
   ],
   "source": [
    "for elem in l2:\n",
    "    for nestedElem in elem:\n",
    "        print (nestedElem)"
   ]
  },
  {
   "cell_type": "code",
   "execution_count": 657,
   "id": "4b3459d8-fa8e-465e-8022-7a2d4c83f89c",
   "metadata": {},
   "outputs": [
    {
     "name": "stdout",
     "output_type": "stream",
     "text": [
      "[1, 2, 3]\n",
      "[1, 2, 3]\n",
      "[1, 2, 3]\n",
      "[1, 2, 3]\n",
      "[1, 2, 3]\n",
      "[1, 2, 3]\n",
      "[1, 2, 3]\n",
      "[1, 2, 3]\n",
      "[1, 2, 3]\n"
     ]
    }
   ],
   "source": [
    "for elem in l3:\n",
    "    for nestedElem in elem:\n",
    "        print (nestedElem)"
   ]
  },
  {
   "cell_type": "code",
   "execution_count": 659,
   "id": "f9e8dd60-81c8-4009-a595-f2b5e35e038a",
   "metadata": {},
   "outputs": [],
   "source": [
    "a1 = np.arange(10,dtype=np.int32)\n",
    "a2 = np.arange(12,dtype=float).reshape(3,4)\n",
    "a3 = np.arange(8).reshape(2,2,2)"
   ]
  },
  {
   "cell_type": "code",
   "execution_count": 661,
   "id": "d4db897a-2c01-4a55-8a87-5725dfec79a4",
   "metadata": {},
   "outputs": [
    {
     "data": {
      "text/plain": [
       "(array([0, 1, 2, 3, 4, 5, 6, 7, 8, 9], dtype=int32),\n",
       " array([[ 0.,  1.,  2.,  3.],\n",
       "        [ 4.,  5.,  6.,  7.],\n",
       "        [ 8.,  9., 10., 11.]]),\n",
       " array([[[0, 1],\n",
       "         [2, 3]],\n",
       " \n",
       "        [[4, 5],\n",
       "         [6, 7]]]))"
      ]
     },
     "execution_count": 661,
     "metadata": {},
     "output_type": "execute_result"
    }
   ],
   "source": [
    "a1,a2,a3"
   ]
  },
  {
   "cell_type": "code",
   "execution_count": 669,
   "id": "ed2443da-f8b7-487a-920f-02bebd2cde52",
   "metadata": {},
   "outputs": [
    {
     "name": "stdout",
     "output_type": "stream",
     "text": [
      "This line ->  [[0 1]\n",
      " [2 3]]\n",
      "This line ->  [[4 5]\n",
      " [6 7]]\n"
     ]
    }
   ],
   "source": [
    "for i in a3:\n",
    "    print(\"This line -> \" ,i)"
   ]
  },
  {
   "cell_type": "code",
   "execution_count": 678,
   "id": "c6dd35db-9ff5-441e-ba47-7fa7fe0c94d9",
   "metadata": {},
   "outputs": [
    {
     "name": "stdout",
     "output_type": "stream",
     "text": [
      "This line ->  0\n",
      "This line ->  1\n",
      "This line ->  2\n",
      "This line ->  3\n",
      "This line ->  4\n",
      "This line ->  5\n",
      "This line ->  6\n",
      "This line ->  7\n"
     ]
    }
   ],
   "source": [
    "for i in np.ravel(a3): \n",
    "    print(\"This line -> \" ,i)"
   ]
  },
  {
   "cell_type": "code",
   "execution_count": null,
   "id": "62d5e35e-93f6-43df-9060-a50668d89e93",
   "metadata": {},
   "outputs": [],
   "source": []
  },
  {
   "cell_type": "code",
   "execution_count": 680,
   "id": "b2063daa-43cf-4612-903d-839770e15fa4",
   "metadata": {},
   "outputs": [
    {
     "name": "stdout",
     "output_type": "stream",
     "text": [
      "This line ->  0\n",
      "This line ->  1\n",
      "This line ->  2\n",
      "This line ->  3\n",
      "This line ->  4\n",
      "This line ->  5\n",
      "This line ->  6\n",
      "This line ->  7\n"
     ]
    }
   ],
   "source": [
    "for i in np.nditer(a3):\n",
    "    print(\"This line -> \" ,i)"
   ]
  },
  {
   "cell_type": "markdown",
   "id": "5ac4ed86-2c07-45e7-9055-d9f911427292",
   "metadata": {},
   "source": [
    "\n",
    "\n",
    "print(\"Let us push the code to git\")"
   ]
  }
 ],
 "metadata": {
  "kernelspec": {
   "display_name": "Python 3 (ipykernel)",
   "language": "python",
   "name": "python3"
  },
  "language_info": {
   "codemirror_mode": {
    "name": "ipython",
    "version": 3
   },
   "file_extension": ".py",
   "mimetype": "text/x-python",
   "name": "python",
   "nbconvert_exporter": "python",
   "pygments_lexer": "ipython3",
   "version": "3.11.5"
  }
 },
 "nbformat": 4,
 "nbformat_minor": 5
}
